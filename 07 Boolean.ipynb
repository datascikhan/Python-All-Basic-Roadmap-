{
 "cells": [
  {
   "cell_type": "markdown",
   "id": "934530e7-835d-48a0-8c54-cf3f5ba883b0",
   "metadata": {},
   "source": [
    "# Python Boolean Roadmap \n",
    "\n",
    "- Boolean Data Type\n",
    "\n",
    "- Boolean Values (True, False)\n",
    "\n",
    "- Boolean Operators (and, or, not)\n",
    "\n",
    "- Comparison Operators (==, !=, <, >, <=, >=)\n",
    "\n",
    "- Truthy and Falsy Values\n",
    "\n",
    "- Boolean Context (if statements, loops)\n",
    "\n",
    "- Logical Expressions\n",
    "\n",
    "- Short-Circuit Evaluation\n",
    "\n",
    "- Boolean Conversion (bool() function)\n",
    "\n",
    "- Using Boolean in Conditional Statements\n",
    "\n",
    "- Boolean Algebra Basics\n",
    "\n",
    "- Combining Boolean Expressions\n",
    "\n",
    "- Boolean Functions and Return Values\n",
    "\n",
    "- Practical Examples with Booleans\n",
    "\n",
    "- Boolean in Data Structures (lists, sets)\n",
    "\n",
    "- Bitwise Operators vs Boolean Operators\n",
    "\n",
    "- Advanced Boolean Logic (De Morgan’s Laws)"
   ]
  },
  {
   "cell_type": "markdown",
   "id": "4441f50b-e032-45b0-b4b2-1840121bcd10",
   "metadata": {},
   "source": [
    "## Step 1: Boolean Data Type Introduction\n",
    "\n",
    "\n",
    "- Boolean data type sirf do values leta hai: True ya False. Ye programming mein decisions lene ke liye use hota hai, jaise conditions check karna ya comparisons karna. Python mein ye values capital T aur F se likhte hain: True aur False.\n",
    "- Boolean values hum comparisons, logical operations, aur control flow (if-else) mein use karte hain."
   ]
  },
  {
   "cell_type": "code",
   "execution_count": null,
   "id": "d7abe4bc-01de-4c88-ad0b-42134d4cfbeb",
   "metadata": {},
   "outputs": [],
   "source": [
    "# 1️⃣ Social Media: User Active Status\n",
    "# Users and their active status (True = Active, False = Inactive)\n",
    "users_status = {\n",
    "    \"Ali\": True,\n",
    "    \"Sara\": False,\n",
    "    \"Ahmed\": True,\n",
    "    \"Ayesha\": True,\n",
    "    \"Bilal\": False,\n",
    "    \"Zainab\": True,\n",
    "    \"Hassan\": False,\n",
    "    \"Fatima\": True\n",
    "}\n",
    "\n",
    "# Count how many users are active\n",
    "active_users = sum(status == True for status in users_status.values())\n",
    "print(\"Number of active users:\", active_users)\n",
    "\n",
    "\n",
    "# Explanation:\n",
    "# Social media platforms har user ka active/inactive status track karte hain, \n",
    "# jo Boolean (True/False) hota hai. Yeh status batata hai ke user currently online hai ya nahi."
   ]
  },
  {
   "cell_type": "code",
   "execution_count": null,
   "id": "faed600a-38d8-424f-86dd-7db6da27be03",
   "metadata": {},
   "outputs": [],
   "source": [
    "# 2️⃣ E-commerce: Product Availability Status\n",
    "# Product availability (True = in stock, False = out of stock)\n",
    "products_availability = {\n",
    "    \"iPhone 14\": True,\n",
    "    \"Samsung Galaxy S22\": False,\n",
    "    \"OnePlus 11\": True,\n",
    "    \"MacBook Pro\": True,\n",
    "    \"Dell XPS\": False,\n",
    "    \"Sony Headphones\": True\n",
    "}\n",
    "\n",
    "# Print all available products\n",
    "available_products = [product for product, available in products_availability.items() if available]\n",
    "print(\"Available products:\", available_products)\n",
    "\n",
    "\n",
    "# Explanation:\n",
    "# Online stores products ki availability Boolean mein store karte hain — taake pata chale ke item \n",
    "# available hai ya nahi."
   ]
  },
  {
   "cell_type": "code",
   "execution_count": 1,
   "id": "42812755-46b9-4f76-bccc-0b1af9d583fb",
   "metadata": {},
   "outputs": [
    {
     "name": "stdout",
     "output_type": "stream",
     "text": [
      "Failed transactions: ['TXN002', 'TXN005']\n"
     ]
    }
   ],
   "source": [
    "# 3️⃣ Banking: Transaction Success Status\n",
    "# Transaction IDs with their success status\n",
    "transactions = {\n",
    "    \"TXN001\": True,\n",
    "    \"TXN002\": False,\n",
    "    \"TXN003\": True,\n",
    "    \"TXN004\": True,\n",
    "    \"TXN005\": False,\n",
    "    \"TXN006\": True\n",
    "}\n",
    "\n",
    "# List of failed transactions\n",
    "failed_transactions = [txn for txn, status in transactions.items() if not status]\n",
    "print(\"Failed transactions:\", failed_transactions)\n",
    "\n",
    "\n",
    "# Explanation:\n",
    "# Banking apps mein har transaction ka success ya failure Boolean se indicate hota hai, \n",
    "# jisse pata chalta hai ke transaction complete hua ya nahi."
   ]
  },
  {
   "cell_type": "code",
   "execution_count": 2,
   "id": "3109ffab-8f14-4e0e-96e6-57dfcfb24095",
   "metadata": {},
   "outputs": [
    {
     "name": "stdout",
     "output_type": "stream",
     "text": [
      "Number of spam emails: 3\n"
     ]
    }
   ],
   "source": [
    "# 5️⃣ Email Service: Spam Detection Status\n",
    "# Emails and whether they are detected as spam\n",
    "emails_spam_status = {\n",
    "    \"email_1\": False,\n",
    "    \"email_2\": True,\n",
    "    \"email_3\": False,\n",
    "    \"email_4\": True,\n",
    "    \"email_5\": False,\n",
    "    \"email_6\": False,\n",
    "    \"email_7\": True\n",
    "}\n",
    "\n",
    "# Count how many emails are spam\n",
    "spam_count = sum(emails_spam_status.values())\n",
    "print(\"Number of spam emails:\", spam_count)\n",
    "\n",
    "\n",
    "# Explanation:\n",
    "# Email services har mail ko spam ya non-spam Boolean se mark karte hain, \n",
    "# taake users ko unwanted mails se bachaya ja sake."
   ]
  },
  {
   "cell_type": "code",
   "execution_count": 3,
   "id": "bca9afb3-b3ab-4038-8edd-96b0ea1c039b",
   "metadata": {},
   "outputs": [
    {
     "name": "stdout",
     "output_type": "stream",
     "text": [
      "Students who completed the course: ['StudentA', 'StudentC', 'StudentE', 'StudentF']\n"
     ]
    }
   ],
   "source": [
    "# 6️⃣ Online Learning Platform: Course Completion Status\n",
    "# Students and their course completion status\n",
    "course_completion = {\n",
    "    \"StudentA\": True,\n",
    "    \"StudentB\": False,\n",
    "    \"StudentC\": True,\n",
    "    \"StudentD\": False,\n",
    "    \"StudentE\": True,\n",
    "    \"StudentF\": True,\n",
    "    \"StudentG\": False\n",
    "}\n",
    "\n",
    "# List students who completed the course\n",
    "completed_students = [student for student, completed in course_completion.items() if completed]\n",
    "print(\"Students who completed the course:\", completed_students)\n",
    "\n",
    "\n",
    "# Explanation:\n",
    "# Online learning platforms Boolean ka use karte hain ye track karne ke liye ki \n",
    "# student ne course complete kiya ya nahi."
   ]
  },
  {
   "cell_type": "code",
   "execution_count": null,
   "id": "d87b0a87-ade8-4d59-b1d3-4f5b266fcd61",
   "metadata": {},
   "outputs": [],
   "source": []
  },
  {
   "cell_type": "code",
   "execution_count": null,
   "id": "6ea2280d-5ed1-40bd-a975-1a5a0a2e8303",
   "metadata": {},
   "outputs": [],
   "source": []
  },
  {
   "cell_type": "code",
   "execution_count": null,
   "id": "42b3baa7-0537-4f87-bcb0-53a9767b1f7a",
   "metadata": {},
   "outputs": [],
   "source": []
  },
  {
   "cell_type": "code",
   "execution_count": null,
   "id": "6def8ace-60b1-4d64-a80b-8cff0289454c",
   "metadata": {},
   "outputs": [],
   "source": []
  },
  {
   "cell_type": "code",
   "execution_count": 11,
   "id": "d9798939-b742-4bcf-9713-c0bd6fea3c92",
   "metadata": {},
   "outputs": [
    {
     "data": {
      "text/html": [
       "<pre style=\"white-space:pre;overflow-x:auto;line-height:normal;font-family:Menlo,'DejaVu Sans Mono',consolas,'Courier New',monospace\">Example <span style=\"color: #008080; text-decoration-color: #008080; font-weight: bold\">1</span>: <span style=\"color: #00ff00; text-decoration-color: #00ff00; font-style: italic\">True</span> <span style=\"color: #ff0000; text-decoration-color: #ff0000; font-style: italic\">False</span>\n",
       "</pre>\n"
      ],
      "text/plain": [
       "Example \u001b[1;36m1\u001b[0m: \u001b[3;92mTrue\u001b[0m \u001b[3;91mFalse\u001b[0m\n"
      ]
     },
     "metadata": {},
     "output_type": "display_data"
    }
   ],
   "source": [
    "# Example 1: Boolean variables\n",
    "is_raining = True\n",
    "is_sunny = False\n",
    "print(\"Example 1:\", is_raining, is_sunny)"
   ]
  },
  {
   "cell_type": "code",
   "execution_count": 12,
   "id": "f9363a44-2cd2-430e-a02e-a37488fb594b",
   "metadata": {},
   "outputs": [
    {
     "data": {
      "text/html": [
       "<pre style=\"white-space:pre;overflow-x:auto;line-height:normal;font-family:Menlo,'DejaVu Sans Mono',consolas,'Courier New',monospace\">Example <span style=\"color: #008080; text-decoration-color: #008080; font-weight: bold\">2</span>: <span style=\"color: #ff0000; text-decoration-color: #ff0000; font-style: italic\">False</span>\n",
       "</pre>\n"
      ],
      "text/plain": [
       "Example \u001b[1;36m2\u001b[0m: \u001b[3;91mFalse\u001b[0m\n"
      ]
     },
     "metadata": {},
     "output_type": "display_data"
    },
    {
     "data": {
      "text/html": [
       "<pre style=\"white-space:pre;overflow-x:auto;line-height:normal;font-family:Menlo,'DejaVu Sans Mono',consolas,'Courier New',monospace\">Example <span style=\"color: #008080; text-decoration-color: #008080; font-weight: bold\">2</span>: <span style=\"color: #00ff00; text-decoration-color: #00ff00; font-style: italic\">True</span>\n",
       "</pre>\n"
      ],
      "text/plain": [
       "Example \u001b[1;36m2\u001b[0m: \u001b[3;92mTrue\u001b[0m\n"
      ]
     },
     "metadata": {},
     "output_type": "display_data"
    }
   ],
   "source": [
    "# Example 2: Comparison returns boolean\n",
    "a = 10\n",
    "b = 20\n",
    "print(\"Example 2:\", a > b)  # False\n",
    "print(\"Example 2:\", a < b)  # True"
   ]
  },
  {
   "cell_type": "code",
   "execution_count": 13,
   "id": "0465e265-0d78-450a-9b88-98be7ceb40a2",
   "metadata": {},
   "outputs": [
    {
     "data": {
      "text/html": [
       "<pre style=\"white-space:pre;overflow-x:auto;line-height:normal;font-family:Menlo,'DejaVu Sans Mono',consolas,'Courier New',monospace\">Example <span style=\"color: #008080; text-decoration-color: #008080; font-weight: bold\">3</span>: Let's eat!\n",
       "</pre>\n"
      ],
      "text/plain": [
       "Example \u001b[1;36m3\u001b[0m: Let's eat!\n"
      ]
     },
     "metadata": {},
     "output_type": "display_data"
    }
   ],
   "source": [
    "# Example 3: Boolean in if statement\n",
    "is_hungry = True\n",
    "if is_hungry:\n",
    "    print(\"Example 3: Let's eat!\")\n",
    "else:\n",
    "    print(\"Example 3: No need to eat.\")"
   ]
  },
  {
   "cell_type": "code",
   "execution_count": 14,
   "id": "8597ffc5-34f7-431f-9f75-831a33fb512f",
   "metadata": {},
   "outputs": [
    {
     "data": {
      "text/html": [
       "<pre style=\"white-space:pre;overflow-x:auto;line-height:normal;font-family:Menlo,'DejaVu Sans Mono',consolas,'Courier New',monospace\">Example <span style=\"color: #008080; text-decoration-color: #008080; font-weight: bold\">4</span>: x and y = <span style=\"color: #ff0000; text-decoration-color: #ff0000; font-style: italic\">False</span>\n",
       "</pre>\n"
      ],
      "text/plain": [
       "Example \u001b[1;36m4\u001b[0m: x and y = \u001b[3;91mFalse\u001b[0m\n"
      ]
     },
     "metadata": {},
     "output_type": "display_data"
    },
    {
     "data": {
      "text/html": [
       "<pre style=\"white-space:pre;overflow-x:auto;line-height:normal;font-family:Menlo,'DejaVu Sans Mono',consolas,'Courier New',monospace\">Example <span style=\"color: #008080; text-decoration-color: #008080; font-weight: bold\">4</span>: x or y = <span style=\"color: #00ff00; text-decoration-color: #00ff00; font-style: italic\">True</span>\n",
       "</pre>\n"
      ],
      "text/plain": [
       "Example \u001b[1;36m4\u001b[0m: x or y = \u001b[3;92mTrue\u001b[0m\n"
      ]
     },
     "metadata": {},
     "output_type": "display_data"
    },
    {
     "data": {
      "text/html": [
       "<pre style=\"white-space:pre;overflow-x:auto;line-height:normal;font-family:Menlo,'DejaVu Sans Mono',consolas,'Courier New',monospace\">Example <span style=\"color: #008080; text-decoration-color: #008080; font-weight: bold\">4</span>: not x = <span style=\"color: #ff0000; text-decoration-color: #ff0000; font-style: italic\">False</span>\n",
       "</pre>\n"
      ],
      "text/plain": [
       "Example \u001b[1;36m4\u001b[0m: not x = \u001b[3;91mFalse\u001b[0m\n"
      ]
     },
     "metadata": {},
     "output_type": "display_data"
    }
   ],
   "source": [
    "# Example 4: Logical operators with booleans\n",
    "x = True\n",
    "y = False\n",
    "print(\"Example 4: x and y =\", x and y)  # False\n",
    "print(\"Example 4: x or y =\", x or y)    # True\n",
    "print(\"Example 4: not x =\", not x)      # False"
   ]
  },
  {
   "cell_type": "code",
   "execution_count": 15,
   "id": "662f0cf1-abe9-4910-ac01-2026d1ab623c",
   "metadata": {},
   "outputs": [
    {
     "data": {
      "text/html": [
       "<pre style=\"white-space:pre;overflow-x:auto;line-height:normal;font-family:Menlo,'DejaVu Sans Mono',consolas,'Courier New',monospace\">Example <span style=\"color: #008080; text-decoration-color: #008080; font-weight: bold\">5</span>: <span style=\"color: #008080; text-decoration-color: #008080; font-weight: bold\">4</span> is even? <span style=\"color: #00ff00; text-decoration-color: #00ff00; font-style: italic\">True</span>\n",
       "</pre>\n"
      ],
      "text/plain": [
       "Example \u001b[1;36m5\u001b[0m: \u001b[1;36m4\u001b[0m is even? \u001b[3;92mTrue\u001b[0m\n"
      ]
     },
     "metadata": {},
     "output_type": "display_data"
    },
    {
     "data": {
      "text/html": [
       "<pre style=\"white-space:pre;overflow-x:auto;line-height:normal;font-family:Menlo,'DejaVu Sans Mono',consolas,'Courier New',monospace\">Example <span style=\"color: #008080; text-decoration-color: #008080; font-weight: bold\">5</span>: <span style=\"color: #008080; text-decoration-color: #008080; font-weight: bold\">7</span> is even? <span style=\"color: #ff0000; text-decoration-color: #ff0000; font-style: italic\">False</span>\n",
       "</pre>\n"
      ],
      "text/plain": [
       "Example \u001b[1;36m5\u001b[0m: \u001b[1;36m7\u001b[0m is even? \u001b[3;91mFalse\u001b[0m\n"
      ]
     },
     "metadata": {},
     "output_type": "display_data"
    }
   ],
   "source": [
    "# Example 5: Boolean from function return\n",
    "def is_even(num):\n",
    "    return num % 2 == 0\n",
    "\n",
    "print(\"Example 5: 4 is even?\", is_even(4))  # True\n",
    "print(\"Example 5: 7 is even?\", is_even(7))  # False"
   ]
  },
  {
   "cell_type": "markdown",
   "id": "e9980b0b-3467-4e1b-b2af-4785847673f6",
   "metadata": {},
   "source": [
    "## Step 2: Comparison Operators — ==, !=, <, >, <=, >=\n",
    "\n",
    "- Comparison operators do values ko compare karte hain aur result True ya False dete hain."
   ]
  },
  {
   "cell_type": "raw",
   "id": "47da24b4-b52e-433d-9494-076a10e5e576",
   "metadata": {},
   "source": [
    "\n",
    "- == : Equal hai?\n",
    "- != : Equal nahi hai?\n",
    "- < : Chhota hai (Less than)?\n",
    "- > : Bara hai (Greater Than)?\n",
    "\n",
    "- <= : Chhota ya barabar hai?\n",
    "\n",
    "- >= : Bara ya barabar hai?\n",
    "\n",
    "Inka result boolean (True/False) hota hai jo decisions mein use hota hai."
   ]
  },
  {
   "cell_type": "code",
   "execution_count": 18,
   "id": "6566ab5f-d294-4937-b570-8a0455fc5597",
   "metadata": {},
   "outputs": [
    {
     "data": {
      "text/html": [
       "<pre style=\"white-space:pre;overflow-x:auto;line-height:normal;font-family:Menlo,'DejaVu Sans Mono',consolas,'Courier New',monospace\">Example <span style=\"color: #008080; text-decoration-color: #008080; font-weight: bold\">1</span>: <span style=\"color: #00ff00; text-decoration-color: #00ff00; font-style: italic\">True</span>\n",
       "</pre>\n"
      ],
      "text/plain": [
       "Example \u001b[1;36m1\u001b[0m: \u001b[3;92mTrue\u001b[0m\n"
      ]
     },
     "metadata": {},
     "output_type": "display_data"
    }
   ],
   "source": [
    "# Example 1: Equal operator ==\n",
    "a = 10\n",
    "b = 10\n",
    "print(\"Example 1:\", a == b)   # True\n"
   ]
  },
  {
   "cell_type": "code",
   "execution_count": 19,
   "id": "b1697ff2-3b07-43cc-8b6b-67511c8d5d75",
   "metadata": {},
   "outputs": [
    {
     "data": {
      "text/html": [
       "<pre style=\"white-space:pre;overflow-x:auto;line-height:normal;font-family:Menlo,'DejaVu Sans Mono',consolas,'Courier New',monospace\">Example <span style=\"color: #008080; text-decoration-color: #008080; font-weight: bold\">2</span>: <span style=\"color: #00ff00; text-decoration-color: #00ff00; font-style: italic\">True</span>\n",
       "</pre>\n"
      ],
      "text/plain": [
       "Example \u001b[1;36m2\u001b[0m: \u001b[3;92mTrue\u001b[0m\n"
      ]
     },
     "metadata": {},
     "output_type": "display_data"
    }
   ],
   "source": [
    "# Example 2: Not equal operator !=\n",
    "a = 10\n",
    "b = 5\n",
    "print(\"Example 2:\", a != b)   # True\n"
   ]
  },
  {
   "cell_type": "code",
   "execution_count": 20,
   "id": "bc7b9ff5-21cb-43ff-aef3-5270623b2fe3",
   "metadata": {},
   "outputs": [
    {
     "data": {
      "text/html": [
       "<pre style=\"white-space:pre;overflow-x:auto;line-height:normal;font-family:Menlo,'DejaVu Sans Mono',consolas,'Courier New',monospace\">Example <span style=\"color: #008080; text-decoration-color: #008080; font-weight: bold\">3</span>: <span style=\"color: #00ff00; text-decoration-color: #00ff00; font-style: italic\">True</span>\n",
       "</pre>\n"
      ],
      "text/plain": [
       "Example \u001b[1;36m3\u001b[0m: \u001b[3;92mTrue\u001b[0m\n"
      ]
     },
     "metadata": {},
     "output_type": "display_data"
    }
   ],
   "source": [
    "# Example 3: Less than <\n",
    "a = 3\n",
    "b = 7\n",
    "print(\"Example 3:\", a < b)    # True"
   ]
  },
  {
   "cell_type": "code",
   "execution_count": 21,
   "id": "d0ec0b23-da39-4375-9383-a8299703b4d5",
   "metadata": {},
   "outputs": [
    {
     "data": {
      "text/html": [
       "<pre style=\"white-space:pre;overflow-x:auto;line-height:normal;font-family:Menlo,'DejaVu Sans Mono',consolas,'Courier New',monospace\">Example <span style=\"color: #008080; text-decoration-color: #008080; font-weight: bold\">4</span>: <span style=\"color: #00ff00; text-decoration-color: #00ff00; font-style: italic\">True</span>\n",
       "</pre>\n"
      ],
      "text/plain": [
       "Example \u001b[1;36m4\u001b[0m: \u001b[3;92mTrue\u001b[0m\n"
      ]
     },
     "metadata": {},
     "output_type": "display_data"
    }
   ],
   "source": [
    "# Example 4: Greater than >\n",
    "a = 9\n",
    "b = 4\n",
    "print(\"Example 4:\", a > b)    # True\n"
   ]
  },
  {
   "cell_type": "code",
   "execution_count": 22,
   "id": "c36fbdba-f125-415d-b97c-ac68d2fde4d6",
   "metadata": {},
   "outputs": [
    {
     "data": {
      "text/html": [
       "<pre style=\"white-space:pre;overflow-x:auto;line-height:normal;font-family:Menlo,'DejaVu Sans Mono',consolas,'Courier New',monospace\">Example <span style=\"color: #008080; text-decoration-color: #008080; font-weight: bold\">5</span>: <span style=\"color: #00ff00; text-decoration-color: #00ff00; font-style: italic\">True</span>\n",
       "</pre>\n"
      ],
      "text/plain": [
       "Example \u001b[1;36m5\u001b[0m: \u001b[3;92mTrue\u001b[0m\n"
      ]
     },
     "metadata": {},
     "output_type": "display_data"
    }
   ],
   "source": [
    "# Example 5: Less than or equal <=\n",
    "a = 5\n",
    "b = 5\n",
    "print(\"Example 5:\", a <= b)   # True"
   ]
  },
  {
   "cell_type": "code",
   "execution_count": 23,
   "id": "3f82602f-a977-434b-bac3-573ecb93e394",
   "metadata": {},
   "outputs": [
    {
     "data": {
      "text/html": [
       "<pre style=\"white-space:pre;overflow-x:auto;line-height:normal;font-family:Menlo,'DejaVu Sans Mono',consolas,'Courier New',monospace\">Example <span style=\"color: #008080; text-decoration-color: #008080; font-weight: bold\">6</span>: <span style=\"color: #ff0000; text-decoration-color: #ff0000; font-style: italic\">False</span>\n",
       "</pre>\n"
      ],
      "text/plain": [
       "Example \u001b[1;36m6\u001b[0m: \u001b[3;91mFalse\u001b[0m\n"
      ]
     },
     "metadata": {},
     "output_type": "display_data"
    }
   ],
   "source": [
    "# Example 6: Greater than or equal >=\n",
    "a = 6\n",
    "b = 7\n",
    "print(\"Example 6:\", a >= b)   # False\n"
   ]
  },
  {
   "cell_type": "code",
   "execution_count": 24,
   "id": "6fd184dd-9f9e-4018-abce-6e796d8ae8bf",
   "metadata": {},
   "outputs": [
    {
     "data": {
      "text/html": [
       "<pre style=\"white-space:pre;overflow-x:auto;line-height:normal;font-family:Menlo,'DejaVu Sans Mono',consolas,'Courier New',monospace\">Example <span style=\"color: #008080; text-decoration-color: #008080; font-weight: bold\">7</span>: <span style=\"color: #00ff00; text-decoration-color: #00ff00; font-style: italic\">True</span>\n",
       "</pre>\n"
      ],
      "text/plain": [
       "Example \u001b[1;36m7\u001b[0m: \u001b[3;92mTrue\u001b[0m\n"
      ]
     },
     "metadata": {},
     "output_type": "display_data"
    }
   ],
   "source": [
    "# Example 7: Compare strings equal\n",
    "str1 = \"hello\"\n",
    "str2 = \"hello\"\n",
    "print(\"Example 7:\", str1 == str2)  # True"
   ]
  },
  {
   "cell_type": "code",
   "execution_count": 25,
   "id": "4029b352-41c3-43cb-a3ac-f94c98bfdedb",
   "metadata": {},
   "outputs": [
    {
     "data": {
      "text/html": [
       "<pre style=\"white-space:pre;overflow-x:auto;line-height:normal;font-family:Menlo,'DejaVu Sans Mono',consolas,'Courier New',monospace\">Example <span style=\"color: #008080; text-decoration-color: #008080; font-weight: bold\">8</span>: <span style=\"color: #00ff00; text-decoration-color: #00ff00; font-style: italic\">True</span>\n",
       "</pre>\n"
      ],
      "text/plain": [
       "Example \u001b[1;36m8\u001b[0m: \u001b[3;92mTrue\u001b[0m\n"
      ]
     },
     "metadata": {},
     "output_type": "display_data"
    }
   ],
   "source": [
    "# Example 8: Compare strings not equal\n",
    "str1 = \"Hello\"\n",
    "str2 = \"hello\"\n",
    "print(\"Example 8:\", str1 != str2)  # True (case sensitive)"
   ]
  },
  {
   "cell_type": "code",
   "execution_count": 26,
   "id": "5785e46f-13e3-4aa6-9db2-e0cde2626a1b",
   "metadata": {},
   "outputs": [
    {
     "data": {
      "text/html": [
       "<pre style=\"white-space:pre;overflow-x:auto;line-height:normal;font-family:Menlo,'DejaVu Sans Mono',consolas,'Courier New',monospace\">Example <span style=\"color: #008080; text-decoration-color: #008080; font-weight: bold\">9</span>: <span style=\"color: #00ff00; text-decoration-color: #00ff00; font-style: italic\">True</span>\n",
       "</pre>\n"
      ],
      "text/plain": [
       "Example \u001b[1;36m9\u001b[0m: \u001b[3;92mTrue\u001b[0m\n"
      ]
     },
     "metadata": {},
     "output_type": "display_data"
    }
   ],
   "source": [
    "# Example 9: Comparison with variables\n",
    "age = 18\n",
    "print(\"Example 9:\", age >= 18)    # True"
   ]
  },
  {
   "cell_type": "code",
   "execution_count": 27,
   "id": "bd7b2040-9077-4d4a-a4e6-2ed489ae2139",
   "metadata": {},
   "outputs": [
    {
     "data": {
      "text/html": [
       "<pre style=\"white-space:pre;overflow-x:auto;line-height:normal;font-family:Menlo,'DejaVu Sans Mono',consolas,'Courier New',monospace\">Example <span style=\"color: #008080; text-decoration-color: #008080; font-weight: bold\">10</span>: Pass\n",
       "</pre>\n"
      ],
      "text/plain": [
       "Example \u001b[1;36m10\u001b[0m: Pass\n"
      ]
     },
     "metadata": {},
     "output_type": "display_data"
    }
   ],
   "source": [
    "# Example 10: Using comparison in if condition\n",
    "score = 75\n",
    "if score > 50:\n",
    "    print(\"Example 10: Pass\")\n",
    "else:\n",
    "    print(\"Example 10: Fail\")"
   ]
  },
  {
   "cell_type": "markdown",
   "id": "e58b2e70-c9f8-4168-8955-d08f65c3c031",
   "metadata": {},
   "source": [
    "\n",
    "## Step 3: Boolean Operators — and, or, not\n",
    "\n",
    "- Boolean operators programming mein logic banane ke liye use hote hain:\n",
    "\n",
    "- and: Dono conditions true hon to result true hota hai, warna false.\n",
    "(True if both sides are True)\n",
    "\n",
    "- or: Agar kisi ek condition true ho to result true hota hai.\n",
    "(True if at least one side is True)\n",
    "\n",
    "- not: Condition ka opposite return karta hai, agar true hai to false aur vice versa.\n",
    "(Negates the boolean value)"
   ]
  },
  {
   "cell_type": "code",
   "execution_count": 29,
   "id": "5dcd6cf1-75e9-4690-ae6f-9fdbbfcb10f7",
   "metadata": {},
   "outputs": [
    {
     "data": {
      "text/html": [
       "<pre style=\"white-space:pre;overflow-x:auto;line-height:normal;font-family:Menlo,'DejaVu Sans Mono',consolas,'Courier New',monospace\">Example <span style=\"color: #008080; text-decoration-color: #008080; font-weight: bold\">1</span>: <span style=\"color: #00ff00; text-decoration-color: #00ff00; font-style: italic\">True</span>\n",
       "</pre>\n"
      ],
      "text/plain": [
       "Example \u001b[1;36m1\u001b[0m: \u001b[3;92mTrue\u001b[0m\n"
      ]
     },
     "metadata": {},
     "output_type": "display_data"
    }
   ],
   "source": [
    "\n",
    "# Example 1: and operator, dono true hone chahiye\n",
    "a = True\n",
    "b = True\n",
    "print(\"Example 1:\", a and b)  # True"
   ]
  },
  {
   "cell_type": "code",
   "execution_count": 30,
   "id": "e39404cf-c60d-4d6e-8864-3d987a8220b9",
   "metadata": {},
   "outputs": [
    {
     "data": {
      "text/html": [
       "<pre style=\"white-space:pre;overflow-x:auto;line-height:normal;font-family:Menlo,'DejaVu Sans Mono',consolas,'Courier New',monospace\">Example <span style=\"color: #008080; text-decoration-color: #008080; font-weight: bold\">2</span>: <span style=\"color: #ff0000; text-decoration-color: #ff0000; font-style: italic\">False</span>\n",
       "</pre>\n"
      ],
      "text/plain": [
       "Example \u001b[1;36m2\u001b[0m: \u001b[3;91mFalse\u001b[0m\n"
      ]
     },
     "metadata": {},
     "output_type": "display_data"
    }
   ],
   "source": [
    "# Example 2: and operator, ek false hai to false\n",
    "a = True\n",
    "b = False\n",
    "print(\"Example 2:\", a and b)  # False"
   ]
  },
  {
   "cell_type": "code",
   "execution_count": 31,
   "id": "ef1f5471-db6b-49a4-a7ee-a6cd71279cfc",
   "metadata": {},
   "outputs": [
    {
     "data": {
      "text/html": [
       "<pre style=\"white-space:pre;overflow-x:auto;line-height:normal;font-family:Menlo,'DejaVu Sans Mono',consolas,'Courier New',monospace\">Example <span style=\"color: #008080; text-decoration-color: #008080; font-weight: bold\">3</span>: <span style=\"color: #00ff00; text-decoration-color: #00ff00; font-style: italic\">True</span>\n",
       "</pre>\n"
      ],
      "text/plain": [
       "Example \u001b[1;36m3\u001b[0m: \u001b[3;92mTrue\u001b[0m\n"
      ]
     },
     "metadata": {},
     "output_type": "display_data"
    }
   ],
   "source": [
    "# Example 3: or operator, ek true hai to true\n",
    "a = True\n",
    "b = False\n",
    "print(\"Example 3:\", a or b)   # True"
   ]
  },
  {
   "cell_type": "code",
   "execution_count": 32,
   "id": "6511a4c9-0b26-410f-a4f8-7d2d16c7d964",
   "metadata": {},
   "outputs": [
    {
     "data": {
      "text/html": [
       "<pre style=\"white-space:pre;overflow-x:auto;line-height:normal;font-family:Menlo,'DejaVu Sans Mono',consolas,'Courier New',monospace\">Example <span style=\"color: #008080; text-decoration-color: #008080; font-weight: bold\">4</span>: <span style=\"color: #ff0000; text-decoration-color: #ff0000; font-style: italic\">False</span>\n",
       "</pre>\n"
      ],
      "text/plain": [
       "Example \u001b[1;36m4\u001b[0m: \u001b[3;91mFalse\u001b[0m\n"
      ]
     },
     "metadata": {},
     "output_type": "display_data"
    }
   ],
   "source": [
    "# Example 4: or operator, dono false hain to false\n",
    "a = False\n",
    "b = False\n",
    "print(\"Example 4:\", a or b)   # False"
   ]
  },
  {
   "cell_type": "code",
   "execution_count": 33,
   "id": "060bd468-d886-4da3-b5f3-a5599a35c19a",
   "metadata": {},
   "outputs": [
    {
     "data": {
      "text/html": [
       "<pre style=\"white-space:pre;overflow-x:auto;line-height:normal;font-family:Menlo,'DejaVu Sans Mono',consolas,'Courier New',monospace\">Example <span style=\"color: #008080; text-decoration-color: #008080; font-weight: bold\">5</span>: <span style=\"color: #ff0000; text-decoration-color: #ff0000; font-style: italic\">False</span>\n",
       "</pre>\n"
      ],
      "text/plain": [
       "Example \u001b[1;36m5\u001b[0m: \u001b[3;91mFalse\u001b[0m\n"
      ]
     },
     "metadata": {},
     "output_type": "display_data"
    }
   ],
   "source": [
    "# Example 5: not operator, true ko false banata hai\n",
    "a = True\n",
    "print(\"Example 5:\", not a)    # False"
   ]
  },
  {
   "cell_type": "code",
   "execution_count": 34,
   "id": "573271b0-b326-4618-8f99-1b16e9d0999c",
   "metadata": {},
   "outputs": [
    {
     "data": {
      "text/html": [
       "<pre style=\"white-space:pre;overflow-x:auto;line-height:normal;font-family:Menlo,'DejaVu Sans Mono',consolas,'Courier New',monospace\">Example <span style=\"color: #008080; text-decoration-color: #008080; font-weight: bold\">6</span>: <span style=\"color: #00ff00; text-decoration-color: #00ff00; font-style: italic\">True</span>\n",
       "</pre>\n"
      ],
      "text/plain": [
       "Example \u001b[1;36m6\u001b[0m: \u001b[3;92mTrue\u001b[0m\n"
      ]
     },
     "metadata": {},
     "output_type": "display_data"
    }
   ],
   "source": [
    "# Example 6: not operator, false ko true banata hai\n",
    "a = False\n",
    "print(\"Example 6:\", not a)    # True\n"
   ]
  },
  {
   "cell_type": "code",
   "execution_count": 35,
   "id": "7347e991-e3d0-429b-8ef1-5c7e88c7bed8",
   "metadata": {},
   "outputs": [
    {
     "data": {
      "text/html": [
       "<pre style=\"white-space:pre;overflow-x:auto;line-height:normal;font-family:Menlo,'DejaVu Sans Mono',consolas,'Courier New',monospace\">Example <span style=\"color: #008080; text-decoration-color: #008080; font-weight: bold\">7</span>: <span style=\"color: #00ff00; text-decoration-color: #00ff00; font-style: italic\">True</span>\n",
       "</pre>\n"
      ],
      "text/plain": [
       "Example \u001b[1;36m7\u001b[0m: \u001b[3;92mTrue\u001b[0m\n"
      ]
     },
     "metadata": {},
     "output_type": "display_data"
    }
   ],
   "source": [
    "# Example 7: Combined and & or operators\n",
    "a = True\n",
    "b = False\n",
    "c = True\n",
    "print(\"Example 7:\", (a and b) or c)  # True"
   ]
  },
  {
   "cell_type": "code",
   "execution_count": 36,
   "id": "639102ef-68a8-4d3c-8544-5f07fe351d0c",
   "metadata": {},
   "outputs": [
    {
     "data": {
      "text/html": [
       "<pre style=\"white-space:pre;overflow-x:auto;line-height:normal;font-family:Menlo,'DejaVu Sans Mono',consolas,'Courier New',monospace\">Example <span style=\"color: #008080; text-decoration-color: #008080; font-weight: bold\">8</span>: <span style=\"color: #00ff00; text-decoration-color: #00ff00; font-style: italic\">True</span>\n",
       "</pre>\n"
      ],
      "text/plain": [
       "Example \u001b[1;36m8\u001b[0m: \u001b[3;92mTrue\u001b[0m\n"
      ]
     },
     "metadata": {},
     "output_type": "display_data"
    }
   ],
   "source": [
    "# Example 8: Complex expression with not\n",
    "a = True\n",
    "b = False\n",
    "print(\"Example 8:\", not (a and b))   # True\n"
   ]
  },
  {
   "cell_type": "code",
   "execution_count": 37,
   "id": "ad5bfce7-227b-489a-8952-3f89728513bc",
   "metadata": {},
   "outputs": [
    {
     "data": {
      "text/html": [
       "<pre style=\"white-space:pre;overflow-x:auto;line-height:normal;font-family:Menlo,'DejaVu Sans Mono',consolas,'Courier New',monospace\">Example <span style=\"color: #008080; text-decoration-color: #008080; font-weight: bold\">9</span>: Entry allowed\n",
       "</pre>\n"
      ],
      "text/plain": [
       "Example \u001b[1;36m9\u001b[0m: Entry allowed\n"
      ]
     },
     "metadata": {},
     "output_type": "display_data"
    }
   ],
   "source": [
    "# Example 9: Use in if condition\n",
    "age = 25\n",
    "has_id = True\n",
    "if age >= 18 and has_id:\n",
    "    print(\"Example 9: Entry allowed\")\n",
    "else:\n",
    "    print(\"Example 9: Entry denied\")"
   ]
  },
  {
   "cell_type": "code",
   "execution_count": 38,
   "id": "ff646d95-0c86-4bfd-bfac-bebe30f9d876",
   "metadata": {},
   "outputs": [
    {
     "data": {
      "text/html": [
       "<pre style=\"white-space:pre;overflow-x:auto;line-height:normal;font-family:Menlo,'DejaVu Sans Mono',consolas,'Courier New',monospace\">Example <span style=\"color: #008080; text-decoration-color: #008080; font-weight: bold\">10</span>: Stay inside\n",
       "</pre>\n"
      ],
      "text/plain": [
       "Example \u001b[1;36m10\u001b[0m: Stay inside\n"
      ]
     },
     "metadata": {},
     "output_type": "display_data"
    }
   ],
   "source": [
    "\n",
    "# Example 10: Using or with multiple conditions\n",
    "weather = \"rainy\"\n",
    "have_umbrella = False\n",
    "if weather == \"sunny\" or have_umbrella:\n",
    "    print(\"Example 10: Go outside\")\n",
    "else:\n",
    "    print(\"Example 10: Stay inside\")"
   ]
  },
  {
   "cell_type": "markdown",
   "id": "e1ed1583-3ef4-4ee9-b93e-8b892b1d3efb",
   "metadata": {},
   "source": [
    "## Step 4: Truthy and Falsy Values\n",
    "\n",
    "- Python mein har value ko boolean context mein check karte waqt uska truthy (True jaisa) ya falsy (False jaisa) hona samjha jata hai.\n",
    "\n",
    "- Falsy values wo hoti hain jo condition mein False samjhi jati hain, jaise:\n",
    "\n",
    "- False\n",
    "\n",
    "- None\n",
    "\n",
    "- 0 (zero)\n",
    "\n",
    "- 0.0 (zero float)\n",
    "\n",
    "- \"\" (empty string)\n",
    "\n",
    "- [] (empty list)\n",
    "\n",
    "- {} (empty dictionary)\n",
    "\n",
    "- set() (empty set)\n",
    "\n",
    "- Truthy values wo hoti hain jo condition mein True samjhi jati hain, jaise:\n",
    "\n",
    "- Non-zero numbers (1, -5, 0.1)\n",
    "\n",
    "- Non-empty strings (\"hello\")\n",
    "\n",
    "- Non-empty lists, tuples, sets, dictionaries\n",
    "\n",
    "- Yeh samajhna important hai jab hum conditions aur loops likhte hain."
   ]
  },
  {
   "cell_type": "code",
   "execution_count": 40,
   "id": "4633909a-e162-4e72-b081-ab207a7584bd",
   "metadata": {},
   "outputs": [
    {
     "data": {
      "text/html": [
       "<pre style=\"white-space:pre;overflow-x:auto;line-height:normal;font-family:Menlo,'DejaVu Sans Mono',consolas,'Courier New',monospace\">Example <span style=\"color: #008080; text-decoration-color: #008080; font-weight: bold\">1</span>: <span style=\"color: #008080; text-decoration-color: #008080; font-weight: bold\">0</span> is falsy\n",
       "</pre>\n"
      ],
      "text/plain": [
       "Example \u001b[1;36m1\u001b[0m: \u001b[1;36m0\u001b[0m is falsy\n"
      ]
     },
     "metadata": {},
     "output_type": "display_data"
    }
   ],
   "source": [
    "# Example 1: Falsy value - 0\n",
    "if 0:\n",
    "    print(\"Example 1: This won't print\")\n",
    "else:\n",
    "    print(\"Example 1: 0 is falsy\")  # Output"
   ]
  },
  {
   "cell_type": "code",
   "execution_count": 41,
   "id": "9d08db00-cb8a-46d8-af91-f7cdd083f2f2",
   "metadata": {},
   "outputs": [
    {
     "data": {
      "text/html": [
       "<pre style=\"white-space:pre;overflow-x:auto;line-height:normal;font-family:Menlo,'DejaVu Sans Mono',consolas,'Courier New',monospace\">Example <span style=\"color: #008080; text-decoration-color: #008080; font-weight: bold\">2</span>: Empty string is falsy\n",
       "</pre>\n"
      ],
      "text/plain": [
       "Example \u001b[1;36m2\u001b[0m: Empty string is falsy\n"
      ]
     },
     "metadata": {},
     "output_type": "display_data"
    }
   ],
   "source": [
    "# Example 2: Falsy value - empty string\n",
    "if \"\":\n",
    "    print(\"Example 2: This won't print\")\n",
    "else:\n",
    "    print(\"Example 2: Empty string is falsy\")  # Output"
   ]
  },
  {
   "cell_type": "code",
   "execution_count": 42,
   "id": "8598e43a-039b-4378-baa7-5ba906bed1bf",
   "metadata": {},
   "outputs": [
    {
     "data": {
      "text/html": [
       "<pre style=\"white-space:pre;overflow-x:auto;line-height:normal;font-family:Menlo,'DejaVu Sans Mono',consolas,'Courier New',monospace\">Example <span style=\"color: #008080; text-decoration-color: #008080; font-weight: bold\">3</span>: Non-empty string is truthy\n",
       "</pre>\n"
      ],
      "text/plain": [
       "Example \u001b[1;36m3\u001b[0m: Non-empty string is truthy\n"
      ]
     },
     "metadata": {},
     "output_type": "display_data"
    }
   ],
   "source": [
    "# Example 3: Truthy value - non-empty string\n",
    "if \"Hello\":\n",
    "    print(\"Example 3: Non-empty string is truthy\")  # Output\n",
    "else:\n",
    "    print(\"Example 3: This won't print\")"
   ]
  },
  {
   "cell_type": "code",
   "execution_count": 43,
   "id": "dba7bdd0-6a4e-4f6c-b211-c4dd0ce72d00",
   "metadata": {},
   "outputs": [
    {
     "data": {
      "text/html": [
       "<pre style=\"white-space:pre;overflow-x:auto;line-height:normal;font-family:Menlo,'DejaVu Sans Mono',consolas,'Courier New',monospace\">Example <span style=\"color: #008080; text-decoration-color: #008080; font-weight: bold\">4</span>: Empty list is falsy\n",
       "</pre>\n"
      ],
      "text/plain": [
       "Example \u001b[1;36m4\u001b[0m: Empty list is falsy\n"
      ]
     },
     "metadata": {},
     "output_type": "display_data"
    }
   ],
   "source": [
    "# Example 4: Falsy value - empty list\n",
    "if []:\n",
    "    print(\"Example 4: This won't print\")\n",
    "else:\n",
    "    print(\"Example 4: Empty list is falsy\")  # Output\n"
   ]
  },
  {
   "cell_type": "code",
   "execution_count": 44,
   "id": "72cb7b2c-e7d5-4dcb-af75-3bb38e4c12da",
   "metadata": {},
   "outputs": [
    {
     "data": {
      "text/html": [
       "<pre style=\"white-space:pre;overflow-x:auto;line-height:normal;font-family:Menlo,'DejaVu Sans Mono',consolas,'Courier New',monospace\">Example <span style=\"color: #008080; text-decoration-color: #008080; font-weight: bold\">5</span>: Non-empty list is truthy\n",
       "</pre>\n"
      ],
      "text/plain": [
       "Example \u001b[1;36m5\u001b[0m: Non-empty list is truthy\n"
      ]
     },
     "metadata": {},
     "output_type": "display_data"
    }
   ],
   "source": [
    "# Example 5: Truthy value - non-empty list\n",
    "if [1, 2, 3]:\n",
    "    print(\"Example 5: Non-empty list is truthy\")  # Output\n",
    "else:\n",
    "    print(\"Example 5: This won't print\")"
   ]
  },
  {
   "cell_type": "code",
   "execution_count": 45,
   "id": "e6eb8053-21aa-4ae5-9e35-cd3618bbe2f5",
   "metadata": {},
   "outputs": [
    {
     "data": {
      "text/html": [
       "<pre style=\"white-space:pre;overflow-x:auto;line-height:normal;font-family:Menlo,'DejaVu Sans Mono',consolas,'Courier New',monospace\">Example <span style=\"color: #008080; text-decoration-color: #008080; font-weight: bold\">6</span>: <span style=\"color: #800080; text-decoration-color: #800080; font-style: italic\">None</span> is falsy\n",
       "</pre>\n"
      ],
      "text/plain": [
       "Example \u001b[1;36m6\u001b[0m: \u001b[3;35mNone\u001b[0m is falsy\n"
      ]
     },
     "metadata": {},
     "output_type": "display_data"
    }
   ],
   "source": [
    "# Example 6: Falsy value - None\n",
    "value = None\n",
    "if value:\n",
    "    print(\"Example 6: This won't print\")\n",
    "else:\n",
    "    print(\"Example 6: None is falsy\")  # Output\n"
   ]
  },
  {
   "cell_type": "code",
   "execution_count": 46,
   "id": "799bea90-e0d9-45d2-9157-a1cee12d592e",
   "metadata": {},
   "outputs": [
    {
     "data": {
      "text/html": [
       "<pre style=\"white-space:pre;overflow-x:auto;line-height:normal;font-family:Menlo,'DejaVu Sans Mono',consolas,'Courier New',monospace\">Example <span style=\"color: #008080; text-decoration-color: #008080; font-weight: bold\">7</span>: Non-zero numbers are truthy\n",
       "</pre>\n"
      ],
      "text/plain": [
       "Example \u001b[1;36m7\u001b[0m: Non-zero numbers are truthy\n"
      ]
     },
     "metadata": {},
     "output_type": "display_data"
    }
   ],
   "source": [
    "# Example 7: Truthy value - non-zero number\n",
    "num = -10\n",
    "if num:\n",
    "    print(\"Example 7: Non-zero numbers are truthy\")  # Output\n",
    "else:\n",
    "    print(\"Example 7: This won't print\")"
   ]
  },
  {
   "cell_type": "markdown",
   "id": "7779eb4c-9cd5-4ad0-936e-467b6b9254a6",
   "metadata": {},
   "source": [
    "## Step 5: Boolean Conversion\n",
    "\n",
    "\n",
    "- Python mein hum bool() function use karke kisi bhi value ko True ya False mein convert kar sakte hain. Yeh function value ko evaluate karta hai aur uske mutabiq True ya False return karta hai.\n",
    "\n",
    "- Agar value truthy hai (jaise non-empty string, non-zero number), to bool() True dega.\n",
    "\n",
    "- Agar value falsy hai (jaise 0, \"\", None, empty list), to bool() False dega.\n",
    "\n",
    "- Yeh bohat useful hai jab hum kisi variable ki halat check karna chahte hain.\n"
   ]
  },
  {
   "cell_type": "code",
   "execution_count": 48,
   "id": "4bce5c0b-fd04-4b72-91e0-7af3192eaa65",
   "metadata": {},
   "outputs": [
    {
     "data": {
      "text/html": [
       "<pre style=\"white-space:pre;overflow-x:auto;line-height:normal;font-family:Menlo,'DejaVu Sans Mono',consolas,'Courier New',monospace\">Example <span style=\"color: #008080; text-decoration-color: #008080; font-weight: bold\">1</span>: <span style=\"color: #ff0000; text-decoration-color: #ff0000; font-style: italic\">False</span>\n",
       "</pre>\n"
      ],
      "text/plain": [
       "Example \u001b[1;36m1\u001b[0m: \u001b[3;91mFalse\u001b[0m\n"
      ]
     },
     "metadata": {},
     "output_type": "display_data"
    }
   ],
   "source": [
    "# Example 1: bool with zero\n",
    "print(\"Example 1:\", bool(0))           # False\n"
   ]
  },
  {
   "cell_type": "code",
   "execution_count": 49,
   "id": "bb8c8dfd-6381-4233-9351-753aa191676c",
   "metadata": {},
   "outputs": [
    {
     "data": {
      "text/html": [
       "<pre style=\"white-space:pre;overflow-x:auto;line-height:normal;font-family:Menlo,'DejaVu Sans Mono',consolas,'Courier New',monospace\">Example <span style=\"color: #008080; text-decoration-color: #008080; font-weight: bold\">2</span>: <span style=\"color: #00ff00; text-decoration-color: #00ff00; font-style: italic\">True</span>\n",
       "</pre>\n"
      ],
      "text/plain": [
       "Example \u001b[1;36m2\u001b[0m: \u001b[3;92mTrue\u001b[0m\n"
      ]
     },
     "metadata": {},
     "output_type": "display_data"
    }
   ],
   "source": [
    "# Example 2: bool with non-zero number\n",
    "print(\"Example 2:\", bool(42))          # True"
   ]
  },
  {
   "cell_type": "code",
   "execution_count": 50,
   "id": "70a4b4bf-9aff-47d2-9650-69002384e8fa",
   "metadata": {},
   "outputs": [
    {
     "data": {
      "text/html": [
       "<pre style=\"white-space:pre;overflow-x:auto;line-height:normal;font-family:Menlo,'DejaVu Sans Mono',consolas,'Courier New',monospace\">Example <span style=\"color: #008080; text-decoration-color: #008080; font-weight: bold\">3</span>: <span style=\"color: #ff0000; text-decoration-color: #ff0000; font-style: italic\">False</span>\n",
       "</pre>\n"
      ],
      "text/plain": [
       "Example \u001b[1;36m3\u001b[0m: \u001b[3;91mFalse\u001b[0m\n"
      ]
     },
     "metadata": {},
     "output_type": "display_data"
    }
   ],
   "source": [
    "# Example 3: bool with empty string\n",
    "print(\"Example 3:\", bool(\"\"))           # False"
   ]
  },
  {
   "cell_type": "code",
   "execution_count": 51,
   "id": "d5a0b219-629e-4b7b-ac55-a5d8f483531b",
   "metadata": {},
   "outputs": [
    {
     "data": {
      "text/html": [
       "<pre style=\"white-space:pre;overflow-x:auto;line-height:normal;font-family:Menlo,'DejaVu Sans Mono',consolas,'Courier New',monospace\">Example <span style=\"color: #008080; text-decoration-color: #008080; font-weight: bold\">4</span>: <span style=\"color: #00ff00; text-decoration-color: #00ff00; font-style: italic\">True</span>\n",
       "</pre>\n"
      ],
      "text/plain": [
       "Example \u001b[1;36m4\u001b[0m: \u001b[3;92mTrue\u001b[0m\n"
      ]
     },
     "metadata": {},
     "output_type": "display_data"
    }
   ],
   "source": [
    "# Example 4: bool with non-empty string\n",
    "print(\"Example 4:\", bool(\"Hello\"))      # True\n"
   ]
  },
  {
   "cell_type": "code",
   "execution_count": 52,
   "id": "9f0c8075-47f9-4658-aadf-b56bdfb4d601",
   "metadata": {},
   "outputs": [
    {
     "data": {
      "text/html": [
       "<pre style=\"white-space:pre;overflow-x:auto;line-height:normal;font-family:Menlo,'DejaVu Sans Mono',consolas,'Courier New',monospace\">Example <span style=\"color: #008080; text-decoration-color: #008080; font-weight: bold\">5</span>: <span style=\"color: #ff0000; text-decoration-color: #ff0000; font-style: italic\">False</span>\n",
       "</pre>\n"
      ],
      "text/plain": [
       "Example \u001b[1;36m5\u001b[0m: \u001b[3;91mFalse\u001b[0m\n"
      ]
     },
     "metadata": {},
     "output_type": "display_data"
    }
   ],
   "source": [
    "# Example 5: bool with None\n",
    "print(\"Example 5:\", bool(None))         # False"
   ]
  },
  {
   "cell_type": "code",
   "execution_count": 53,
   "id": "c2a56d9a-1be5-4a1a-8769-bade2e5cdc64",
   "metadata": {},
   "outputs": [
    {
     "data": {
      "text/html": [
       "<pre style=\"white-space:pre;overflow-x:auto;line-height:normal;font-family:Menlo,'DejaVu Sans Mono',consolas,'Courier New',monospace\">Example <span style=\"color: #008080; text-decoration-color: #008080; font-weight: bold\">6</span>: <span style=\"color: #ff0000; text-decoration-color: #ff0000; font-style: italic\">False</span>\n",
       "</pre>\n"
      ],
      "text/plain": [
       "Example \u001b[1;36m6\u001b[0m: \u001b[3;91mFalse\u001b[0m\n"
      ]
     },
     "metadata": {},
     "output_type": "display_data"
    }
   ],
   "source": [
    "# Example 6: bool with empty list\n",
    "print(\"Example 6:\", bool([]))           # False"
   ]
  },
  {
   "cell_type": "code",
   "execution_count": 54,
   "id": "4344a25e-4670-49f2-9299-e70c9f0e311e",
   "metadata": {},
   "outputs": [
    {
     "data": {
      "text/html": [
       "<pre style=\"white-space:pre;overflow-x:auto;line-height:normal;font-family:Menlo,'DejaVu Sans Mono',consolas,'Courier New',monospace\">Example <span style=\"color: #008080; text-decoration-color: #008080; font-weight: bold\">7</span>: <span style=\"color: #00ff00; text-decoration-color: #00ff00; font-style: italic\">True</span>\n",
       "</pre>\n"
      ],
      "text/plain": [
       "Example \u001b[1;36m7\u001b[0m: \u001b[3;92mTrue\u001b[0m\n"
      ]
     },
     "metadata": {},
     "output_type": "display_data"
    }
   ],
   "source": [
    "# Example 7: bool with non-empty list\n",
    "print(\"Example 7:\", bool([1, 2, 3]))    # True\n"
   ]
  },
  {
   "cell_type": "code",
   "execution_count": 55,
   "id": "72f89ee2-7a0d-4985-8dac-904eb5352800",
   "metadata": {},
   "outputs": [
    {
     "data": {
      "text/html": [
       "<pre style=\"white-space:pre;overflow-x:auto;line-height:normal;font-family:Menlo,'DejaVu Sans Mono',consolas,'Courier New',monospace\">Example <span style=\"color: #008080; text-decoration-color: #008080; font-weight: bold\">8</span>: <span style=\"color: #00ff00; text-decoration-color: #00ff00; font-style: italic\">True</span>\n",
       "</pre>\n"
      ],
      "text/plain": [
       "Example \u001b[1;36m8\u001b[0m: \u001b[3;92mTrue\u001b[0m\n"
      ]
     },
     "metadata": {},
     "output_type": "display_data"
    }
   ],
   "source": [
    "# Example 8: bool with custom object (non-empty dictionary)\n",
    "print(\"Example 8:\", bool({\"key\": \"value\"}))  # True"
   ]
  },
  {
   "cell_type": "markdown",
   "id": "599edfc1-13bc-4735-b6d7-e502c68990bd",
   "metadata": {},
   "source": [
    "\n",
    "## Step 6: Boolean in Conditional Statements\n",
    "\n",
    "- Using Boolean expressions in if, elif, else\n",
    "- Conditional statements mein hum Boolean expressions use karte hain taake program ko decision lene mein madad mile.\n",
    "- Jab koi Boolean expression True hota hai, to uske corresponding block ko run kiya jata hai, aur agar False ho to doosra block execute hota hai.\n",
    "\n",
    "- Python mein conditional statements hain:\n",
    "\n",
    "- if — jab condition true ho to run kare\n",
    "\n",
    "- elif — agar pehli condition false ho aur yeh true ho to run kare\n",
    "\n",
    "- else — jab sab conditions false ho to run kare\n",
    "\n",
    "- Boolean expressions comparisons, logical operators, ya direct boolean variables ho sakte hain.\n"
   ]
  },
  {
   "cell_type": "code",
   "execution_count": 57,
   "id": "95f428a1-1e29-4def-8450-434ce6dee503",
   "metadata": {},
   "outputs": [
    {
     "data": {
      "text/html": [
       "<pre style=\"white-space:pre;overflow-x:auto;line-height:normal;font-family:Menlo,'DejaVu Sans Mono',consolas,'Courier New',monospace\">Example <span style=\"color: #008080; text-decoration-color: #008080; font-weight: bold\">1</span>: You are an adult.\n",
       "</pre>\n"
      ],
      "text/plain": [
       "Example \u001b[1;36m1\u001b[0m: You are an adult.\n"
      ]
     },
     "metadata": {},
     "output_type": "display_data"
    }
   ],
   "source": [
    "# Example 1: Simple if statement\n",
    "age = 20\n",
    "if age >= 18:\n",
    "    print(\"Example 1: You are an adult.\")"
   ]
  },
  {
   "cell_type": "code",
   "execution_count": 58,
   "id": "19472181-2876-45f1-b83d-c2d355e0e2dd",
   "metadata": {},
   "outputs": [
    {
     "data": {
      "text/html": [
       "<pre style=\"white-space:pre;overflow-x:auto;line-height:normal;font-family:Menlo,'DejaVu Sans Mono',consolas,'Courier New',monospace\">Example <span style=\"color: #008080; text-decoration-color: #008080; font-weight: bold\">2</span>: It's hot outside.\n",
       "</pre>\n"
      ],
      "text/plain": [
       "Example \u001b[1;36m2\u001b[0m: It's hot outside.\n"
      ]
     },
     "metadata": {},
     "output_type": "display_data"
    }
   ],
   "source": [
    "# Example 2: if-else statement\n",
    "temperature = 30\n",
    "if temperature > 25:\n",
    "    print(\"Example 2: It's hot outside.\")\n",
    "else:\n",
    "    print(\"Example 2: It's cool outside.\")"
   ]
  },
  {
   "cell_type": "code",
   "execution_count": 59,
   "id": "5bb552a9-e9ee-43d3-b676-67cefffe4924",
   "metadata": {},
   "outputs": [
    {
     "data": {
      "text/html": [
       "<pre style=\"white-space:pre;overflow-x:auto;line-height:normal;font-family:Menlo,'DejaVu Sans Mono',consolas,'Courier New',monospace\">Example <span style=\"color: #008080; text-decoration-color: #008080; font-weight: bold\">3</span>: Grade B\n",
       "</pre>\n"
      ],
      "text/plain": [
       "Example \u001b[1;36m3\u001b[0m: Grade B\n"
      ]
     },
     "metadata": {},
     "output_type": "display_data"
    }
   ],
   "source": [
    "# Example 3: if-elif-else ladder\n",
    "marks = 75\n",
    "if marks >= 90:\n",
    "    print(\"Example 3: Grade A\")\n",
    "elif marks >= 75:\n",
    "    print(\"Example 3: Grade B\")\n",
    "else:\n",
    "    print(\"Example 3: Grade C\")"
   ]
  },
  {
   "cell_type": "code",
   "execution_count": 60,
   "id": "8ab00fac-004e-44ea-8f61-ff6102d533ba",
   "metadata": {},
   "outputs": [
    {
     "data": {
      "text/html": [
       "<pre style=\"white-space:pre;overflow-x:auto;line-height:normal;font-family:Menlo,'DejaVu Sans Mono',consolas,'Courier New',monospace\">Example <span style=\"color: #008080; text-decoration-color: #008080; font-weight: bold\">4</span>: Take an umbrella.\n",
       "</pre>\n"
      ],
      "text/plain": [
       "Example \u001b[1;36m4\u001b[0m: Take an umbrella.\n"
      ]
     },
     "metadata": {},
     "output_type": "display_data"
    }
   ],
   "source": [
    "# Example 4: Using boolean variable\n",
    "is_raining = True\n",
    "if is_raining:\n",
    "    print(\"Example 4: Take an umbrella.\")\n",
    "else:\n",
    "    print(\"Example 4: No need for umbrella.\")"
   ]
  },
  {
   "cell_type": "code",
   "execution_count": 61,
   "id": "6cb604dd-e0b4-4b3c-bf7a-68ea5d3fa175",
   "metadata": {},
   "outputs": [
    {
     "data": {
      "text/html": [
       "<pre style=\"white-space:pre;overflow-x:auto;line-height:normal;font-family:Menlo,'DejaVu Sans Mono',consolas,'Courier New',monospace\">Example <span style=\"color: #008080; text-decoration-color: #008080; font-weight: bold\">5</span>: Number is even.\n",
       "</pre>\n"
      ],
      "text/plain": [
       "Example \u001b[1;36m5\u001b[0m: Number is even.\n"
      ]
     },
     "metadata": {},
     "output_type": "display_data"
    }
   ],
   "source": [
    "# Example 5: Using comparison in if condition\n",
    "num = 10\n",
    "if num % 2 == 0:\n",
    "    print(\"Example 5: Number is even.\")\n",
    "else:\n",
    "    print(\"Example 5: Number is odd.\")"
   ]
  },
  {
   "cell_type": "code",
   "execution_count": 62,
   "id": "311d4b4d-ad09-4581-a0a1-7646c50d27b9",
   "metadata": {},
   "outputs": [
    {
     "data": {
      "text/html": [
       "<pre style=\"white-space:pre;overflow-x:auto;line-height:normal;font-family:Menlo,'DejaVu Sans Mono',consolas,'Courier New',monospace\">Example <span style=\"color: #008080; text-decoration-color: #008080; font-weight: bold\">6</span>: You can enter.\n",
       "</pre>\n"
      ],
      "text/plain": [
       "Example \u001b[1;36m6\u001b[0m: You can enter.\n"
      ]
     },
     "metadata": {},
     "output_type": "display_data"
    }
   ],
   "source": [
    "# Example 6: Combining conditions with and\n",
    "age = 22\n",
    "has_id = True\n",
    "if age >= 18 and has_id:\n",
    "    print(\"Example 6: You can enter.\")\n",
    "else:\n",
    "    print(\"Example 6: Entry denied.\")"
   ]
  },
  {
   "cell_type": "code",
   "execution_count": 63,
   "id": "f08abc2b-fff3-4075-964e-82dd3f962e78",
   "metadata": {},
   "outputs": [
    {
     "data": {
      "text/html": [
       "<pre style=\"white-space:pre;overflow-x:auto;line-height:normal;font-family:Menlo,'DejaVu Sans Mono',consolas,'Courier New',monospace\">Example <span style=\"color: #008080; text-decoration-color: #008080; font-weight: bold\">7</span>: You can relax.\n",
       "</pre>\n"
      ],
      "text/plain": [
       "Example \u001b[1;36m7\u001b[0m: You can relax.\n"
      ]
     },
     "metadata": {},
     "output_type": "display_data"
    }
   ],
   "source": [
    "# Example 7: Combining conditions with or\n",
    "day = \"Sunday\"\n",
    "is_holiday = False\n",
    "if day == \"Sunday\" or is_holiday:\n",
    "    print(\"Example 7: You can relax.\")\n",
    "else:\n",
    "    print(\"Example 7: Time to work.\")"
   ]
  },
  {
   "cell_type": "code",
   "execution_count": 64,
   "id": "78a46a59-ef7a-429a-b4e0-d94bda0fdc68",
   "metadata": {},
   "outputs": [
    {
     "data": {
      "text/html": [
       "<pre style=\"white-space:pre;overflow-x:auto;line-height:normal;font-family:Menlo,'DejaVu Sans Mono',consolas,'Courier New',monospace\">Example <span style=\"color: #008080; text-decoration-color: #008080; font-weight: bold\">8</span>: Excellent!\n",
       "</pre>\n"
      ],
      "text/plain": [
       "Example \u001b[1;36m8\u001b[0m: Excellent!\n"
      ]
     },
     "metadata": {},
     "output_type": "display_data"
    }
   ],
   "source": [
    "# Example 8: Nested if statements\n",
    "score = 85\n",
    "if score >= 50:\n",
    "    if score >= 80:\n",
    "        print(\"Example 8: Excellent!\")\n",
    "    else:\n",
    "        print(\"Example 8: Passed.\")\n",
    "else:\n",
    "    print(\"Example 8: Failed.\")"
   ]
  },
  {
   "cell_type": "code",
   "execution_count": 65,
   "id": "11c81a5b-b753-4cfa-b124-638d098d0bce",
   "metadata": {},
   "outputs": [
    {
     "data": {
      "text/html": [
       "<pre style=\"white-space:pre;overflow-x:auto;line-height:normal;font-family:Menlo,'DejaVu Sans Mono',consolas,'Courier New',monospace\">Example <span style=\"color: #008080; text-decoration-color: #008080; font-weight: bold\">9</span>: Please login first.\n",
       "</pre>\n"
      ],
      "text/plain": [
       "Example \u001b[1;36m9\u001b[0m: Please login first.\n"
      ]
     },
     "metadata": {},
     "output_type": "display_data"
    }
   ],
   "source": [
    "# Example 9: Using not operator in condition\n",
    "logged_in = False\n",
    "if not logged_in:\n",
    "    print(\"Example 9: Please login first.\")\n",
    "else:\n",
    "    print(\"Example 9: Welcome back!\")"
   ]
  },
  {
   "cell_type": "code",
   "execution_count": 66,
   "id": "669a58c5-8376-4ec0-9bf3-e125c31434dc",
   "metadata": {},
   "outputs": [
    {
     "data": {
      "text/html": [
       "<pre style=\"white-space:pre;overflow-x:auto;line-height:normal;font-family:Menlo,'DejaVu Sans Mono',consolas,'Courier New',monospace\">Example <span style=\"color: #008080; text-decoration-color: #008080; font-weight: bold\">10</span>: <span style=\"color: #008080; text-decoration-color: #008080; font-weight: bold\">5</span> is greater than <span style=\"color: #008080; text-decoration-color: #008080; font-weight: bold\">3</span>.\n",
       "</pre>\n"
      ],
      "text/plain": [
       "Example \u001b[1;36m10\u001b[0m: \u001b[1;36m5\u001b[0m is greater than \u001b[1;36m3\u001b[0m.\n"
      ]
     },
     "metadata": {},
     "output_type": "display_data"
    }
   ],
   "source": [
    "# Example 10: Using boolean expression directly\n",
    "if 5 > 3:\n",
    "    print(\"Example 10: 5 is greater than 3.\")\n"
   ]
  },
  {
   "cell_type": "markdown",
   "id": "8539b482-8e73-42d1-8604-dfea93e09288",
   "metadata": {},
   "source": [
    "\n",
    "\n",
    "## Step 7: Logical Expressions and Combining Conditions\n",
    "\n",
    "- Combining multiple conditions using Boolean operators\n",
    "\n",
    "- Jab hum program mein ek se zyada conditions check karni hoti hain, to hum Boolean operators (and, or, not) ka use karte hain taake conditions ko combine kar saken.\n",
    "\n",
    "- and: Dono (ya sab) conditions true honi chahiye taake overall result true ho.\n",
    "\n",
    "- or: Kam az kam ek condition true ho to overall true.\n",
    "\n",
    "- not: Kisi condition ka ulta (negation).\n",
    "\n",
    "- Is tarah se hum complex logical expressions bana kar sophisticated decision-making kar sakte hain.\n"
   ]
  },
  {
   "cell_type": "code",
   "execution_count": 68,
   "id": "6f65a05e-a8cf-4e8e-912e-ffd87035e00f",
   "metadata": {},
   "outputs": [
    {
     "data": {
      "text/html": [
       "<pre style=\"white-space:pre;overflow-x:auto;line-height:normal;font-family:Menlo,'DejaVu Sans Mono',consolas,'Courier New',monospace\">Example <span style=\"color: #008080; text-decoration-color: #008080; font-weight: bold\">1</span>: You can drive.\n",
       "</pre>\n"
      ],
      "text/plain": [
       "Example \u001b[1;36m1\u001b[0m: You can drive.\n"
      ]
     },
     "metadata": {},
     "output_type": "display_data"
    }
   ],
   "source": [
    "# Example 1: Using 'and' operator\n",
    "age = 25\n",
    "has_license = True\n",
    "if age >= 18 and has_license:\n",
    "    print(\"Example 1: You can drive.\")\n",
    "else:\n",
    "    print(\"Example 1: You cannot drive.\")"
   ]
  },
  {
   "cell_type": "code",
   "execution_count": 69,
   "id": "233473d5-c98d-4ad4-a680-6efa5530eca7",
   "metadata": {},
   "outputs": [
    {
     "data": {
      "text/html": [
       "<pre style=\"white-space:pre;overflow-x:auto;line-height:normal;font-family:Menlo,'DejaVu Sans Mono',consolas,'Courier New',monospace\">Example <span style=\"color: #008080; text-decoration-color: #008080; font-weight: bold\">2</span>: Work day.\n",
       "</pre>\n"
      ],
      "text/plain": [
       "Example \u001b[1;36m2\u001b[0m: Work day.\n"
      ]
     },
     "metadata": {},
     "output_type": "display_data"
    }
   ],
   "source": [
    "# Example 2: Using 'or' operator\n",
    "day = \"Saturday\"\n",
    "is_holiday = False\n",
    "if day == \"Sunday\" or is_holiday:\n",
    "    print(\"Example 2: You can relax today.\")\n",
    "else:\n",
    "    print(\"Example 2: Work day.\")"
   ]
  },
  {
   "cell_type": "code",
   "execution_count": 70,
   "id": "4b61686d-2d97-4dd5-ab29-b69ecd42b373",
   "metadata": {},
   "outputs": [
    {
     "data": {
      "text/html": [
       "<pre style=\"white-space:pre;overflow-x:auto;line-height:normal;font-family:Menlo,'DejaVu Sans Mono',consolas,'Courier New',monospace\">Example <span style=\"color: #008080; text-decoration-color: #008080; font-weight: bold\">3</span>: You can go outside without umbrella.\n",
       "</pre>\n"
      ],
      "text/plain": [
       "Example \u001b[1;36m3\u001b[0m: You can go outside without umbrella.\n"
      ]
     },
     "metadata": {},
     "output_type": "display_data"
    }
   ],
   "source": [
    "# Example 3: Using 'not' operator\n",
    "is_raining = False\n",
    "if not is_raining:\n",
    "    print(\"Example 3: You can go outside without umbrella.\")\n",
    "else:\n",
    "    print(\"Example 3: Take umbrella.\")"
   ]
  },
  {
   "cell_type": "code",
   "execution_count": 71,
   "id": "2b4b02a1-d25e-4868-8b78-cd3a18b14e4f",
   "metadata": {},
   "outputs": [
    {
     "data": {
      "text/html": [
       "<pre style=\"white-space:pre;overflow-x:auto;line-height:normal;font-family:Menlo,'DejaVu Sans Mono',consolas,'Courier New',monospace\">Example <span style=\"color: #008080; text-decoration-color: #008080; font-weight: bold\">4</span>: Entry allowed.\n",
       "</pre>\n"
      ],
      "text/plain": [
       "Example \u001b[1;36m4\u001b[0m: Entry allowed.\n"
      ]
     },
     "metadata": {},
     "output_type": "display_data"
    }
   ],
   "source": [
    "# Example 4: Combining 'and' and 'or'\n",
    "age = 20\n",
    "has_permission = False\n",
    "is_with_parent = True\n",
    "if (age >= 18 and has_permission) or is_with_parent:\n",
    "    print(\"Example 4: Entry allowed.\")\n",
    "else:\n",
    "    print(\"Example 4: Entry denied.\")"
   ]
  },
  {
   "cell_type": "code",
   "execution_count": 72,
   "id": "c7976c09-6373-4f3f-8ac6-8d472b1b03f9",
   "metadata": {},
   "outputs": [
    {
     "data": {
      "text/html": [
       "<pre style=\"white-space:pre;overflow-x:auto;line-height:normal;font-family:Menlo,'DejaVu Sans Mono',consolas,'Courier New',monospace\">Example <span style=\"color: #008080; text-decoration-color: #008080; font-weight: bold\">5</span>: Passed the course.\n",
       "</pre>\n"
      ],
      "text/plain": [
       "Example \u001b[1;36m5\u001b[0m: Passed the course.\n"
      ]
     },
     "metadata": {},
     "output_type": "display_data"
    }
   ],
   "source": [
    "# Example 5: Multiple conditions with 'and'\n",
    "score = 85\n",
    "attendance = 90\n",
    "if score >= 50 and attendance >= 75:\n",
    "    print(\"Example 5: Passed the course.\")\n",
    "else:\n",
    "    print(\"Example 5: Failed the course.\")\n"
   ]
  },
  {
   "cell_type": "code",
   "execution_count": 73,
   "id": "0875d867-13a1-4d50-8a30-307ae9b93e3e",
   "metadata": {},
   "outputs": [
    {
     "data": {
      "text/html": [
       "<pre style=\"white-space:pre;overflow-x:auto;line-height:normal;font-family:Menlo,'DejaVu Sans Mono',consolas,'Courier New',monospace\">Example <span style=\"color: #008080; text-decoration-color: #008080; font-weight: bold\">6</span>: Stay home.\n",
       "</pre>\n"
      ],
      "text/plain": [
       "Example \u001b[1;36m6\u001b[0m: Stay home.\n"
      ]
     },
     "metadata": {},
     "output_type": "display_data"
    }
   ],
   "source": [
    "# Example 6: Negation with combined condition\n",
    "is_sick = True\n",
    "has_appointment = False\n",
    "if not is_sick and has_appointment:\n",
    "    print(\"Example 6: You can attend.\")\n",
    "else:\n",
    "    print(\"Example 6: Stay home.\")\n"
   ]
  },
  {
   "cell_type": "code",
   "execution_count": 74,
   "id": "6bc9973a-548a-45cb-bab9-fbcd172c39d2",
   "metadata": {},
   "outputs": [
    {
     "data": {
      "text/html": [
       "<pre style=\"white-space:pre;overflow-x:auto;line-height:normal;font-family:Menlo,'DejaVu Sans Mono',consolas,'Courier New',monospace\">Example <span style=\"color: #008080; text-decoration-color: #008080; font-weight: bold\">7</span>: It's very hot.\n",
       "</pre>\n"
      ],
      "text/plain": [
       "Example \u001b[1;36m7\u001b[0m: It's very hot.\n"
      ]
     },
     "metadata": {},
     "output_type": "display_data"
    }
   ],
   "source": [
    "# Example 7: Complex condition with 'or' and 'and'\n",
    "temperature = 30\n",
    "is_summer = True\n",
    "if (temperature > 25 and is_summer) or temperature > 35:\n",
    "    print(\"Example 7: It's very hot.\")\n",
    "else:\n",
    "    print(\"Example 7: Weather is fine.\")\n"
   ]
  },
  {
   "cell_type": "code",
   "execution_count": 75,
   "id": "4431f898-f455-45fb-b089-f5383cb9e17b",
   "metadata": {},
   "outputs": [
    {
     "data": {
      "text/html": [
       "<pre style=\"white-space:pre;overflow-x:auto;line-height:normal;font-family:Menlo,'DejaVu Sans Mono',consolas,'Courier New',monospace\">Example <span style=\"color: #008080; text-decoration-color: #008080; font-weight: bold\">8</span>: Condition not met.\n",
       "</pre>\n"
      ],
      "text/plain": [
       "Example \u001b[1;36m8\u001b[0m: Condition not met.\n"
      ]
     },
     "metadata": {},
     "output_type": "display_data"
    }
   ],
   "source": [
    "# Example 8: Using logical operators with boolean variables\n",
    "x = True\n",
    "y = False\n",
    "z = True\n",
    "if (x and y) or (not z):\n",
    "    print(\"Example 8: Condition met.\")\n",
    "else:\n",
    "    print(\"Example 8: Condition not met.\")"
   ]
  },
  {
   "cell_type": "markdown",
   "id": "5ebc3940-e371-4836-9c5e-1b22c21e4563",
   "metadata": {},
   "source": [
    "## Step 8: Short-Circuit Evaluation\n",
    "- How and and or stop evaluation early\n",
    "\n",
    "- Python mein and aur or operators short-circuit evaluation karte hain, iska matlab hai:\n",
    "\n",
    "- and operator left se right evaluate karta hai, aur jaise hi koi condition False milti hai, poori expression evaluate karna rok deta hai (kyunki and mein sab true honi chahiye, agar koi false mil gaya to result false hoga).\n",
    "\n",
    "- or operator left se right evaluate karta hai, aur jaise hi koi condition True milti hai, poora expression evaluate karna rok deta hai (kyunki or mein agar ek true ho gaya to result true hota hai).\n",
    "\n",
    "- Iska fayda yeh hai ke unnecessary calculations ya function calls nahi hote, program efficient banta hai.\n"
   ]
  },
  {
   "cell_type": "code",
   "execution_count": 77,
   "id": "3c38252c-9a47-4013-909c-5bb1cd28c869",
   "metadata": {},
   "outputs": [
    {
     "data": {
      "text/html": [
       "<pre style=\"white-space:pre;overflow-x:auto;line-height:normal;font-family:Menlo,'DejaVu Sans Mono',consolas,'Courier New',monospace\">func1 called\n",
       "</pre>\n"
      ],
      "text/plain": [
       "func1 called\n"
      ]
     },
     "metadata": {},
     "output_type": "display_data"
    },
    {
     "data": {
      "text/html": [
       "<pre style=\"white-space:pre;overflow-x:auto;line-height:normal;font-family:Menlo,'DejaVu Sans Mono',consolas,'Courier New',monospace\">func2 called\n",
       "</pre>\n"
      ],
      "text/plain": [
       "func2 called\n"
      ]
     },
     "metadata": {},
     "output_type": "display_data"
    },
    {
     "data": {
      "text/html": [
       "<pre style=\"white-space:pre;overflow-x:auto;line-height:normal;font-family:Menlo,'DejaVu Sans Mono',consolas,'Courier New',monospace\">Example <span style=\"color: #008080; text-decoration-color: #008080; font-weight: bold\">1</span>: <span style=\"color: #ff0000; text-decoration-color: #ff0000; font-style: italic\">False</span>\n",
       "</pre>\n"
      ],
      "text/plain": [
       "Example \u001b[1;36m1\u001b[0m: \u001b[3;91mFalse\u001b[0m\n"
      ]
     },
     "metadata": {},
     "output_type": "display_data"
    }
   ],
   "source": [
    "# Example 1: and operator short-circuit stops at False\n",
    "def func1():\n",
    "    print(\"func1 called\")\n",
    "    return True\n",
    "\n",
    "def func2():\n",
    "    print(\"func2 called\")\n",
    "    return False\n",
    "\n",
    "print(\"Example 1:\", func1() and func2())  # func2 called, result False"
   ]
  },
  {
   "cell_type": "code",
   "execution_count": 78,
   "id": "834081a4-80f7-4fbb-a9f9-02b1e2965095",
   "metadata": {},
   "outputs": [
    {
     "data": {
      "text/html": [
       "<pre style=\"white-space:pre;overflow-x:auto;line-height:normal;font-family:Menlo,'DejaVu Sans Mono',consolas,'Courier New',monospace\">func3 called\n",
       "</pre>\n"
      ],
      "text/plain": [
       "func3 called\n"
      ]
     },
     "metadata": {},
     "output_type": "display_data"
    },
    {
     "data": {
      "text/html": [
       "<pre style=\"white-space:pre;overflow-x:auto;line-height:normal;font-family:Menlo,'DejaVu Sans Mono',consolas,'Courier New',monospace\">Example <span style=\"color: #008080; text-decoration-color: #008080; font-weight: bold\">2</span>: <span style=\"color: #ff0000; text-decoration-color: #ff0000; font-style: italic\">False</span>\n",
       "</pre>\n"
      ],
      "text/plain": [
       "Example \u001b[1;36m2\u001b[0m: \u001b[3;91mFalse\u001b[0m\n"
      ]
     },
     "metadata": {},
     "output_type": "display_data"
    }
   ],
   "source": [
    "# Example 2: and operator short-circuit stops early\n",
    "def func3():\n",
    "    print(\"func3 called\")\n",
    "    return False\n",
    "\n",
    "def func4():\n",
    "    print(\"func4 called\")\n",
    "    return True\n",
    "\n",
    "print(\"Example 2:\", func3() and func4())  # func4 not called, result False\n"
   ]
  },
  {
   "cell_type": "code",
   "execution_count": 79,
   "id": "579c35d0-b905-42e2-8cdb-be7d39a7e9fe",
   "metadata": {},
   "outputs": [
    {
     "data": {
      "text/html": [
       "<pre style=\"white-space:pre;overflow-x:auto;line-height:normal;font-family:Menlo,'DejaVu Sans Mono',consolas,'Courier New',monospace\">func5 called\n",
       "</pre>\n"
      ],
      "text/plain": [
       "func5 called\n"
      ]
     },
     "metadata": {},
     "output_type": "display_data"
    },
    {
     "data": {
      "text/html": [
       "<pre style=\"white-space:pre;overflow-x:auto;line-height:normal;font-family:Menlo,'DejaVu Sans Mono',consolas,'Courier New',monospace\">Example <span style=\"color: #008080; text-decoration-color: #008080; font-weight: bold\">3</span>: <span style=\"color: #00ff00; text-decoration-color: #00ff00; font-style: italic\">True</span>\n",
       "</pre>\n"
      ],
      "text/plain": [
       "Example \u001b[1;36m3\u001b[0m: \u001b[3;92mTrue\u001b[0m\n"
      ]
     },
     "metadata": {},
     "output_type": "display_data"
    }
   ],
   "source": [
    "# Example 3: or operator short-circuit stops at True\n",
    "def func5():\n",
    "    print(\"func5 called\")\n",
    "    return True\n",
    "\n",
    "def func6():\n",
    "    print(\"func6 called\")\n",
    "    return False\n",
    "\n",
    "print(\"Example 3:\", func5() or func6())   # func6 not called, result True\n"
   ]
  },
  {
   "cell_type": "code",
   "execution_count": 80,
   "id": "c6d68c23-0402-4f1b-8e9b-0d3028ff74aa",
   "metadata": {},
   "outputs": [
    {
     "data": {
      "text/html": [
       "<pre style=\"white-space:pre;overflow-x:auto;line-height:normal;font-family:Menlo,'DejaVu Sans Mono',consolas,'Courier New',monospace\">func7 called\n",
       "</pre>\n"
      ],
      "text/plain": [
       "func7 called\n"
      ]
     },
     "metadata": {},
     "output_type": "display_data"
    },
    {
     "data": {
      "text/html": [
       "<pre style=\"white-space:pre;overflow-x:auto;line-height:normal;font-family:Menlo,'DejaVu Sans Mono',consolas,'Courier New',monospace\">func8 called\n",
       "</pre>\n"
      ],
      "text/plain": [
       "func8 called\n"
      ]
     },
     "metadata": {},
     "output_type": "display_data"
    },
    {
     "data": {
      "text/html": [
       "<pre style=\"white-space:pre;overflow-x:auto;line-height:normal;font-family:Menlo,'DejaVu Sans Mono',consolas,'Courier New',monospace\">Example <span style=\"color: #008080; text-decoration-color: #008080; font-weight: bold\">4</span>: <span style=\"color: #00ff00; text-decoration-color: #00ff00; font-style: italic\">True</span>\n",
       "</pre>\n"
      ],
      "text/plain": [
       "Example \u001b[1;36m4\u001b[0m: \u001b[3;92mTrue\u001b[0m\n"
      ]
     },
     "metadata": {},
     "output_type": "display_data"
    }
   ],
   "source": [
    "# Example 4: or operator evaluates both if first is False\n",
    "def func7():\n",
    "    print(\"func7 called\")\n",
    "    return False\n",
    "\n",
    "def func8():\n",
    "    print(\"func8 called\")\n",
    "    return True\n",
    "\n",
    "print(\"Example 4:\", func7() or func8())   # both called, result True\n"
   ]
  },
  {
   "cell_type": "code",
   "execution_count": 81,
   "id": "192acd7e-76a1-402c-aceb-4acb695b5846",
   "metadata": {},
   "outputs": [
    {
     "data": {
      "text/html": [
       "<pre style=\"white-space:pre;overflow-x:auto;line-height:normal;font-family:Menlo,'DejaVu Sans Mono',consolas,'Courier New',monospace\">func9 called\n",
       "</pre>\n"
      ],
      "text/plain": [
       "func9 called\n"
      ]
     },
     "metadata": {},
     "output_type": "display_data"
    },
    {
     "data": {
      "text/html": [
       "<pre style=\"white-space:pre;overflow-x:auto;line-height:normal;font-family:Menlo,'DejaVu Sans Mono',consolas,'Courier New',monospace\">func10 called\n",
       "</pre>\n"
      ],
      "text/plain": [
       "func10 called\n"
      ]
     },
     "metadata": {},
     "output_type": "display_data"
    },
    {
     "data": {
      "text/html": [
       "<pre style=\"white-space:pre;overflow-x:auto;line-height:normal;font-family:Menlo,'DejaVu Sans Mono',consolas,'Courier New',monospace\">Example <span style=\"color: #008080; text-decoration-color: #008080; font-weight: bold\">5</span>: <span style=\"color: #00ff00; text-decoration-color: #00ff00; font-style: italic\">True</span>\n",
       "</pre>\n"
      ],
      "text/plain": [
       "Example \u001b[1;36m5\u001b[0m: \u001b[3;92mTrue\u001b[0m\n"
      ]
     },
     "metadata": {},
     "output_type": "display_data"
    }
   ],
   "source": [
    "# Example 5: Combining and & or with short-circuit\n",
    "def func9():\n",
    "    print(\"func9 called\")\n",
    "    return False\n",
    "\n",
    "def func10():\n",
    "    print(\"func10 called\")\n",
    "    return True\n",
    "\n",
    "print(\"Example 5:\", func9() and func10() or func10())  # func10 called twice due to or"
   ]
  },
  {
   "cell_type": "code",
   "execution_count": 82,
   "id": "5ec07091-bb25-4d7b-9d27-47360716524e",
   "metadata": {},
   "outputs": [
    {
     "data": {
      "text/html": [
       "<pre style=\"white-space:pre;overflow-x:auto;line-height:normal;font-family:Menlo,'DejaVu Sans Mono',consolas,'Courier New',monospace\">Example <span style=\"color: #008080; text-decoration-color: #008080; font-weight: bold\">6</span>: Condition false\n",
       "</pre>\n"
      ],
      "text/plain": [
       "Example \u001b[1;36m6\u001b[0m: Condition false\n"
      ]
     },
     "metadata": {},
     "output_type": "display_data"
    }
   ],
   "source": [
    "# Example 6: Short-circuit in if condition\n",
    "def expensive_check():\n",
    "    print(\"expensive_check called\")\n",
    "    return True\n",
    "\n",
    "condition = False\n",
    "if condition and expensive_check():\n",
    "    print(\"Example 6: Condition true\")\n",
    "else:\n",
    "    print(\"Example 6: Condition false\")  # expensive_check not called"
   ]
  },
  {
   "cell_type": "code",
   "execution_count": 83,
   "id": "87c86c9c-1481-4eea-aeba-f38b3599ed11",
   "metadata": {},
   "outputs": [
    {
     "data": {
      "text/html": [
       "<pre style=\"white-space:pre;overflow-x:auto;line-height:normal;font-family:Menlo,'DejaVu Sans Mono',consolas,'Courier New',monospace\">cheap_check called\n",
       "</pre>\n"
      ],
      "text/plain": [
       "cheap_check called\n"
      ]
     },
     "metadata": {},
     "output_type": "display_data"
    },
    {
     "data": {
      "text/html": [
       "<pre style=\"white-space:pre;overflow-x:auto;line-height:normal;font-family:Menlo,'DejaVu Sans Mono',consolas,'Courier New',monospace\">Example <span style=\"color: #008080; text-decoration-color: #008080; font-weight: bold\">7</span>: Passed\n",
       "</pre>\n"
      ],
      "text/plain": [
       "Example \u001b[1;36m7\u001b[0m: Passed\n"
      ]
     },
     "metadata": {},
     "output_type": "display_data"
    }
   ],
   "source": [
    "# Example 7: Short-circuit with or operator in if\n",
    "def cheap_check():\n",
    "    print(\"cheap_check called\")\n",
    "    return True\n",
    "\n",
    "def expensive_check2():\n",
    "    print(\"expensive_check2 called\")\n",
    "    return False\n",
    "\n",
    "if cheap_check() or expensive_check2():\n",
    "    print(\"Example 7: Passed\")  # expensive_check2 not called\n"
   ]
  },
  {
   "cell_type": "code",
   "execution_count": 84,
   "id": "0958d80c-0af3-4234-863e-485584f0971c",
   "metadata": {},
   "outputs": [
    {
     "data": {
      "text/html": [
       "<pre style=\"white-space:pre;overflow-x:auto;line-height:normal;font-family:Menlo,'DejaVu Sans Mono',consolas,'Courier New',monospace\">Example <span style=\"color: #008080; text-decoration-color: #008080; font-weight: bold\">8</span>: Condition not met or value is <span style=\"color: #800080; text-decoration-color: #800080; font-style: italic\">None</span>\n",
       "</pre>\n"
      ],
      "text/plain": [
       "Example \u001b[1;36m8\u001b[0m: Condition not met or value is \u001b[3;35mNone\u001b[0m\n"
      ]
     },
     "metadata": {},
     "output_type": "display_data"
    }
   ],
   "source": [
    "# Example 8: Using short-circuit to avoid errors\n",
    "value = None\n",
    "if value is not None and value > 10:\n",
    "    print(\"Example 8: Value is greater than 10\")\n",
    "else:\n",
    "    print(\"Example 8: Condition not met or value is None\")  # avoids error by short-circuit"
   ]
  },
  {
   "cell_type": "markdown",
   "id": "4be51484-0e5f-431d-8dde-1f56e6131613",
   "metadata": {},
   "source": [
    "\n",
    "## Step 9: Boolean Algebra Basics\n",
    "- Understanding Boolean algebra rules (AND, OR, NOT)\n",
    "\n",
    "- Boolean Algebra ek mathematical system hai jo logical operations ko represent karta hai. Programming mein Boolean Algebra ka use logical expressions simplify karne aur unki properties samajhne ke liye hota hai.\n",
    "\n",
    "### Teen basic Boolean operators hain:\n",
    "\n",
    "- AND (∧): Dono inputs true hon to output true, warna false.\n",
    "\n",
    "- OR (∨): Kam az kam ek input true ho to output true.\n",
    "\n",
    "- NOT (¬): Input ka ulta (negation).\n",
    "\n",
    "Basic Rules:\n",
    "\n",
    "### Identity Law:\n",
    "\n",
    "- A and True = A\n",
    "\n",
    "- A or False = A\n",
    "\n",
    "### Null Law:\n",
    "\n",
    "- A and False = False\n",
    "\n",
    "- A or True = True\n",
    "\n",
    "### Idempotent Law:\n",
    "\n",
    "- A and A = A\n",
    "\n",
    "- A or A = A\n",
    "\n",
    "### Complement Law:\n",
    "\n",
    "- A and not A = False\n",
    "\n",
    "- A or not A = True\n",
    "\n",
    "### Double Negation:\n",
    "\n",
    "- not(not A) = A\n",
    "\n",
    "- Boolean algebra ka istemal complex logical expressions ko simplify karne ke liye hota hai.\n"
   ]
  },
  {
   "cell_type": "code",
   "execution_count": 86,
   "id": "c9ca3b14-d1f3-4184-a13b-ea82b0c527c5",
   "metadata": {},
   "outputs": [
    {
     "data": {
      "text/html": [
       "<pre style=\"white-space:pre;overflow-x:auto;line-height:normal;font-family:Menlo,'DejaVu Sans Mono',consolas,'Courier New',monospace\">Example <span style=\"color: #008080; text-decoration-color: #008080; font-weight: bold\">1</span>: <span style=\"color: #00ff00; text-decoration-color: #00ff00; font-style: italic\">True</span>\n",
       "</pre>\n"
      ],
      "text/plain": [
       "Example \u001b[1;36m1\u001b[0m: \u001b[3;92mTrue\u001b[0m\n"
      ]
     },
     "metadata": {},
     "output_type": "display_data"
    }
   ],
   "source": [
    "# Example 1: Identity Law - A and True = A\n",
    "A = True\n",
    "print(\"Example 1:\", A and True)   # True\n"
   ]
  },
  {
   "cell_type": "code",
   "execution_count": 87,
   "id": "25a7ac64-2226-41ad-a3b5-c11800597e46",
   "metadata": {},
   "outputs": [
    {
     "data": {
      "text/html": [
       "<pre style=\"white-space:pre;overflow-x:auto;line-height:normal;font-family:Menlo,'DejaVu Sans Mono',consolas,'Courier New',monospace\">Example <span style=\"color: #008080; text-decoration-color: #008080; font-weight: bold\">2</span>: <span style=\"color: #ff0000; text-decoration-color: #ff0000; font-style: italic\">False</span>\n",
       "</pre>\n"
      ],
      "text/plain": [
       "Example \u001b[1;36m2\u001b[0m: \u001b[3;91mFalse\u001b[0m\n"
      ]
     },
     "metadata": {},
     "output_type": "display_data"
    }
   ],
   "source": [
    "\n",
    "# Example 2: Identity Law - A or False = A\n",
    "A = False\n",
    "print(\"Example 2:\", A or False)   # False"
   ]
  },
  {
   "cell_type": "code",
   "execution_count": 88,
   "id": "abc83a56-324a-4762-82be-218389e141c7",
   "metadata": {},
   "outputs": [
    {
     "data": {
      "text/html": [
       "<pre style=\"white-space:pre;overflow-x:auto;line-height:normal;font-family:Menlo,'DejaVu Sans Mono',consolas,'Courier New',monospace\">Example <span style=\"color: #008080; text-decoration-color: #008080; font-weight: bold\">3</span>: <span style=\"color: #ff0000; text-decoration-color: #ff0000; font-style: italic\">False</span>\n",
       "</pre>\n"
      ],
      "text/plain": [
       "Example \u001b[1;36m3\u001b[0m: \u001b[3;91mFalse\u001b[0m\n"
      ]
     },
     "metadata": {},
     "output_type": "display_data"
    }
   ],
   "source": [
    "\n",
    "# Example 3: Null Law - A and False = False\n",
    "A = True\n",
    "print(\"Example 3:\", A and False)  # False"
   ]
  },
  {
   "cell_type": "code",
   "execution_count": 89,
   "id": "18b92d50-479c-41a6-a1d3-a46e946c0a12",
   "metadata": {},
   "outputs": [
    {
     "data": {
      "text/html": [
       "<pre style=\"white-space:pre;overflow-x:auto;line-height:normal;font-family:Menlo,'DejaVu Sans Mono',consolas,'Courier New',monospace\">Example <span style=\"color: #008080; text-decoration-color: #008080; font-weight: bold\">4</span>: <span style=\"color: #00ff00; text-decoration-color: #00ff00; font-style: italic\">True</span>\n",
       "</pre>\n"
      ],
      "text/plain": [
       "Example \u001b[1;36m4\u001b[0m: \u001b[3;92mTrue\u001b[0m\n"
      ]
     },
     "metadata": {},
     "output_type": "display_data"
    }
   ],
   "source": [
    "# Example 4: Null Law - A or True = True\n",
    "A = False\n",
    "print(\"Example 4:\", A or True)    # True"
   ]
  },
  {
   "cell_type": "code",
   "execution_count": 90,
   "id": "c92bef50-ed92-4fe9-82a7-fb74d8cef30a",
   "metadata": {},
   "outputs": [
    {
     "data": {
      "text/html": [
       "<pre style=\"white-space:pre;overflow-x:auto;line-height:normal;font-family:Menlo,'DejaVu Sans Mono',consolas,'Courier New',monospace\">Example <span style=\"color: #008080; text-decoration-color: #008080; font-weight: bold\">5</span>: <span style=\"color: #00ff00; text-decoration-color: #00ff00; font-style: italic\">True</span>\n",
       "</pre>\n"
      ],
      "text/plain": [
       "Example \u001b[1;36m5\u001b[0m: \u001b[3;92mTrue\u001b[0m\n"
      ]
     },
     "metadata": {},
     "output_type": "display_data"
    }
   ],
   "source": [
    "# Example 5: Idempotent Law - A and A = A\n",
    "A = True\n",
    "print(\"Example 5:\", A and A)      # True\n"
   ]
  },
  {
   "cell_type": "code",
   "execution_count": 91,
   "id": "e5caf98d-ae4f-47b1-b253-a1a512fddfa8",
   "metadata": {},
   "outputs": [
    {
     "data": {
      "text/html": [
       "<pre style=\"white-space:pre;overflow-x:auto;line-height:normal;font-family:Menlo,'DejaVu Sans Mono',consolas,'Courier New',monospace\">Example <span style=\"color: #008080; text-decoration-color: #008080; font-weight: bold\">6</span>: <span style=\"color: #ff0000; text-decoration-color: #ff0000; font-style: italic\">False</span>\n",
       "</pre>\n"
      ],
      "text/plain": [
       "Example \u001b[1;36m6\u001b[0m: \u001b[3;91mFalse\u001b[0m\n"
      ]
     },
     "metadata": {},
     "output_type": "display_data"
    }
   ],
   "source": [
    "# Example 6: Idempotent Law - A or A = A\n",
    "A = False\n",
    "print(\"Example 6:\", A or A)       # False\n"
   ]
  },
  {
   "cell_type": "code",
   "execution_count": 92,
   "id": "f24738c1-596e-4f8c-b792-e6ade1ce64d7",
   "metadata": {},
   "outputs": [
    {
     "data": {
      "text/html": [
       "<pre style=\"white-space:pre;overflow-x:auto;line-height:normal;font-family:Menlo,'DejaVu Sans Mono',consolas,'Courier New',monospace\">Example <span style=\"color: #008080; text-decoration-color: #008080; font-weight: bold\">7</span>: <span style=\"color: #ff0000; text-decoration-color: #ff0000; font-style: italic\">False</span>\n",
       "</pre>\n"
      ],
      "text/plain": [
       "Example \u001b[1;36m7\u001b[0m: \u001b[3;91mFalse\u001b[0m\n"
      ]
     },
     "metadata": {},
     "output_type": "display_data"
    }
   ],
   "source": [
    "# Example 7: Complement Law - A and not A = False\n",
    "A = True\n",
    "print(\"Example 7:\", A and not A)  # False"
   ]
  },
  {
   "cell_type": "code",
   "execution_count": 93,
   "id": "e14a7541-302d-40aa-9a48-67dc34a4fcc6",
   "metadata": {},
   "outputs": [
    {
     "data": {
      "text/html": [
       "<pre style=\"white-space:pre;overflow-x:auto;line-height:normal;font-family:Menlo,'DejaVu Sans Mono',consolas,'Courier New',monospace\">Example <span style=\"color: #008080; text-decoration-color: #008080; font-weight: bold\">8</span>: <span style=\"color: #00ff00; text-decoration-color: #00ff00; font-style: italic\">True</span>\n",
       "</pre>\n"
      ],
      "text/plain": [
       "Example \u001b[1;36m8\u001b[0m: \u001b[3;92mTrue\u001b[0m\n"
      ]
     },
     "metadata": {},
     "output_type": "display_data"
    }
   ],
   "source": [
    "# Example 8: Complement Law - A or not A = True\n",
    "A = False\n",
    "print(\"Example 8:\", A or not A)   # True"
   ]
  },
  {
   "cell_type": "code",
   "execution_count": 94,
   "id": "c7c09d23-ce28-457f-9d29-9a7a49c017a7",
   "metadata": {},
   "outputs": [
    {
     "data": {
      "text/html": [
       "<pre style=\"white-space:pre;overflow-x:auto;line-height:normal;font-family:Menlo,'DejaVu Sans Mono',consolas,'Courier New',monospace\">Example <span style=\"color: #008080; text-decoration-color: #008080; font-weight: bold\">9</span>: <span style=\"color: #00ff00; text-decoration-color: #00ff00; font-style: italic\">True</span>\n",
       "</pre>\n"
      ],
      "text/plain": [
       "Example \u001b[1;36m9\u001b[0m: \u001b[3;92mTrue\u001b[0m\n"
      ]
     },
     "metadata": {},
     "output_type": "display_data"
    }
   ],
   "source": [
    "\n",
    "# Example 9: Double Negation - not(not A) = A\n",
    "A = True\n",
    "print(\"Example 9:\", not(not A))   # True"
   ]
  },
  {
   "cell_type": "code",
   "execution_count": 95,
   "id": "dc5c1aab-07e7-4cc3-bebf-4d1f64e22587",
   "metadata": {},
   "outputs": [
    {
     "data": {
      "text/html": [
       "<pre style=\"white-space:pre;overflow-x:auto;line-height:normal;font-family:Menlo,'DejaVu Sans Mono',consolas,'Courier New',monospace\">Example <span style=\"color: #008080; text-decoration-color: #008080; font-weight: bold\">10</span>: <span style=\"color: #00ff00; text-decoration-color: #00ff00; font-style: italic\">True</span>\n",
       "</pre>\n"
      ],
      "text/plain": [
       "Example \u001b[1;36m10\u001b[0m: \u001b[3;92mTrue\u001b[0m\n"
      ]
     },
     "metadata": {},
     "output_type": "display_data"
    }
   ],
   "source": [
    "# Example 10: Combining multiple laws\n",
    "A = True\n",
    "B = False\n",
    "result = (A and True) or (B and not B)\n",
    "print(\"Example 10:\", result)      # True\n"
   ]
  },
  {
   "cell_type": "markdown",
   "id": "cf860c7a-0b33-4baf-8b56-51741c673664",
   "metadata": {},
   "source": [
    "## Step 10: Bitwise Operators vs Boolean Operators\n",
    "\n",
    "- Python mein Boolean operators aur Bitwise operators dono logical kaam karte hain, lekin unka use aur kaam karne ka tareeqa mukhtalif hai:\n",
    "\n",
    "### 1. Boolean Operators:\n",
    "\n",
    "- and, or, not\n",
    "\n",
    "- Ye operators logical (True/False) values ke sath kaam karte hain.\n",
    "\n",
    "- Expression ki truth value check karte hain.\n",
    "\n",
    "- Short-circuit evaluation use karte hain (jese pehle bataya).\n",
    "\n",
    "Example:\n",
    "\n",
    "- True and False  # False\n",
    "- not True       # False\n",
    "\n",
    "### 2. Bitwise Operators:\n",
    "\n",
    "- & (AND), | (OR), ~ (NOT), ^ (XOR), <<, >>\n",
    "\n",
    "- Ye operators integers ke bits par kaam karte hain.\n",
    "\n",
    "- Har bit pe operation apply karte hain.\n",
    "\n",
    "- Short-circuit evaluation nahi hota.\n",
    "\n",
    "Example:\n",
    "\n",
    "- 5 & 3  # 1 (0101 & 0011 = 0001)\n",
    "- ~5     # -6 (bitwise NOT)\n",
    "\n",
    "Summary:\n",
    "- Operator   Type\t        Operators\t            Use On\t                         Behavior\n",
    "- Boolean    Operators\tand, or, not\t       Boolean values\t       Logical operations, short-circuit\n",
    "- Bitwise      Operators\t   &,\t, ~, ^\t               Integer                            bits"
   ]
  },
  {
   "cell_type": "code",
   "execution_count": 97,
   "id": "7d09fd70-2ac8-4fe8-8fcc-1a8530b444f6",
   "metadata": {},
   "outputs": [
    {
     "data": {
      "text/html": [
       "<pre style=\"white-space:pre;overflow-x:auto;line-height:normal;font-family:Menlo,'DejaVu Sans Mono',consolas,'Courier New',monospace\">Example <span style=\"color: #008080; text-decoration-color: #008080; font-weight: bold\">1</span>: <span style=\"color: #ff0000; text-decoration-color: #ff0000; font-style: italic\">False</span>\n",
       "</pre>\n"
      ],
      "text/plain": [
       "Example \u001b[1;36m1\u001b[0m: \u001b[3;91mFalse\u001b[0m\n"
      ]
     },
     "metadata": {},
     "output_type": "display_data"
    }
   ],
   "source": [
    "# Example 1: Boolean and\n",
    "print(\"Example 1:\", True and False)  # False\n"
   ]
  },
  {
   "cell_type": "code",
   "execution_count": 98,
   "id": "de7894ef-4cc8-4958-97d4-8e64e33ccd36",
   "metadata": {},
   "outputs": [
    {
     "data": {
      "text/html": [
       "<pre style=\"white-space:pre;overflow-x:auto;line-height:normal;font-family:Menlo,'DejaVu Sans Mono',consolas,'Courier New',monospace\">Example <span style=\"color: #008080; text-decoration-color: #008080; font-weight: bold\">2</span>: <span style=\"color: #00ff00; text-decoration-color: #00ff00; font-style: italic\">True</span>\n",
       "</pre>\n"
      ],
      "text/plain": [
       "Example \u001b[1;36m2\u001b[0m: \u001b[3;92mTrue\u001b[0m\n"
      ]
     },
     "metadata": {},
     "output_type": "display_data"
    }
   ],
   "source": [
    "# Example 2: Boolean or\n",
    "print(\"Example 2:\", True or False)   # True"
   ]
  },
  {
   "cell_type": "code",
   "execution_count": 99,
   "id": "aa75b0e9-f84b-429d-9b25-0dc3dce33b5e",
   "metadata": {},
   "outputs": [
    {
     "data": {
      "text/html": [
       "<pre style=\"white-space:pre;overflow-x:auto;line-height:normal;font-family:Menlo,'DejaVu Sans Mono',consolas,'Courier New',monospace\">Example <span style=\"color: #008080; text-decoration-color: #008080; font-weight: bold\">3</span>: <span style=\"color: #ff0000; text-decoration-color: #ff0000; font-style: italic\">False</span>\n",
       "</pre>\n"
      ],
      "text/plain": [
       "Example \u001b[1;36m3\u001b[0m: \u001b[3;91mFalse\u001b[0m\n"
      ]
     },
     "metadata": {},
     "output_type": "display_data"
    }
   ],
   "source": [
    "# Example 3: Boolean not\n",
    "print(\"Example 3:\", not True)        # False"
   ]
  },
  {
   "cell_type": "code",
   "execution_count": 100,
   "id": "53ac6b8d-f0ae-4c80-a481-4b5dc7f2f99d",
   "metadata": {},
   "outputs": [
    {
     "data": {
      "text/html": [
       "<pre style=\"white-space:pre;overflow-x:auto;line-height:normal;font-family:Menlo,'DejaVu Sans Mono',consolas,'Courier New',monospace\">Example <span style=\"color: #008080; text-decoration-color: #008080; font-weight: bold\">4</span>: <span style=\"color: #008080; text-decoration-color: #008080; font-weight: bold\">1</span>\n",
       "</pre>\n"
      ],
      "text/plain": [
       "Example \u001b[1;36m4\u001b[0m: \u001b[1;36m1\u001b[0m\n"
      ]
     },
     "metadata": {},
     "output_type": "display_data"
    }
   ],
   "source": [
    "# Example 4: Bitwise AND (&)\n",
    "a = 5       # binary 0101\n",
    "b = 3       # binary 0011\n",
    "print(\"Example 4:\", a & b)           # 1 (0001)"
   ]
  },
  {
   "cell_type": "code",
   "execution_count": 101,
   "id": "6f36ed29-8169-4ee8-9f87-b62926b4c1b7",
   "metadata": {},
   "outputs": [
    {
     "data": {
      "text/html": [
       "<pre style=\"white-space:pre;overflow-x:auto;line-height:normal;font-family:Menlo,'DejaVu Sans Mono',consolas,'Courier New',monospace\">Example <span style=\"color: #008080; text-decoration-color: #008080; font-weight: bold\">5</span>: <span style=\"color: #008080; text-decoration-color: #008080; font-weight: bold\">7</span>\n",
       "</pre>\n"
      ],
      "text/plain": [
       "Example \u001b[1;36m5\u001b[0m: \u001b[1;36m7\u001b[0m\n"
      ]
     },
     "metadata": {},
     "output_type": "display_data"
    }
   ],
   "source": [
    "# Example 5: Bitwise OR (|)\n",
    "print(\"Example 5:\", a | b)           # 7 (0111)\n"
   ]
  },
  {
   "cell_type": "code",
   "execution_count": 102,
   "id": "c9c98c42-02a0-4658-9f34-8bcb289545aa",
   "metadata": {},
   "outputs": [
    {
     "data": {
      "text/html": [
       "<pre style=\"white-space:pre;overflow-x:auto;line-height:normal;font-family:Menlo,'DejaVu Sans Mono',consolas,'Courier New',monospace\">Example <span style=\"color: #008080; text-decoration-color: #008080; font-weight: bold\">6</span>: <span style=\"color: #008080; text-decoration-color: #008080; font-weight: bold\">-6</span>\n",
       "</pre>\n"
      ],
      "text/plain": [
       "Example \u001b[1;36m6\u001b[0m: \u001b[1;36m-6\u001b[0m\n"
      ]
     },
     "metadata": {},
     "output_type": "display_data"
    }
   ],
   "source": [
    "# Example 6: Bitwise NOT (~)\n",
    "print(\"Example 6:\", ~a)              # -6 (two's complement)"
   ]
  },
  {
   "cell_type": "code",
   "execution_count": 103,
   "id": "b3713847-96d3-482a-9fd9-2f06b22abc2d",
   "metadata": {},
   "outputs": [
    {
     "data": {
      "text/html": [
       "<pre style=\"white-space:pre;overflow-x:auto;line-height:normal;font-family:Menlo,'DejaVu Sans Mono',consolas,'Courier New',monospace\">Example <span style=\"color: #008080; text-decoration-color: #008080; font-weight: bold\">7</span>: <span style=\"color: #008080; text-decoration-color: #008080; font-weight: bold\">6</span>\n",
       "</pre>\n"
      ],
      "text/plain": [
       "Example \u001b[1;36m7\u001b[0m: \u001b[1;36m6\u001b[0m\n"
      ]
     },
     "metadata": {},
     "output_type": "display_data"
    }
   ],
   "source": [
    "# Example 7: Bitwise XOR (^)\n",
    "print(\"Example 7:\", a ^ b)           # 6 (0110)"
   ]
  },
  {
   "cell_type": "code",
   "execution_count": 104,
   "id": "1291e857-6924-462e-a6ac-ca2ce0c56142",
   "metadata": {},
   "outputs": [
    {
     "data": {
      "text/html": [
       "<pre style=\"white-space:pre;overflow-x:auto;line-height:normal;font-family:Menlo,'DejaVu Sans Mono',consolas,'Courier New',monospace\">Example <span style=\"color: #008080; text-decoration-color: #008080; font-weight: bold\">8</span> <span style=\"font-weight: bold\">(</span>bool &amp; bool<span style=\"font-weight: bold\">)</span>: <span style=\"color: #ff0000; text-decoration-color: #ff0000; font-style: italic\">False</span>\n",
       "</pre>\n"
      ],
      "text/plain": [
       "Example \u001b[1;36m8\u001b[0m \u001b[1m(\u001b[0mbool & bool\u001b[1m)\u001b[0m: \u001b[3;91mFalse\u001b[0m\n"
      ]
     },
     "metadata": {},
     "output_type": "display_data"
    },
    {
     "data": {
      "text/html": [
       "<pre style=\"white-space:pre;overflow-x:auto;line-height:normal;font-family:Menlo,'DejaVu Sans Mono',consolas,'Courier New',monospace\">Example <span style=\"color: #008080; text-decoration-color: #008080; font-weight: bold\">8</span> <span style=\"font-weight: bold\">(</span>bool and bool<span style=\"font-weight: bold\">)</span>: <span style=\"color: #ff0000; text-decoration-color: #ff0000; font-style: italic\">False</span>\n",
       "</pre>\n"
      ],
      "text/plain": [
       "Example \u001b[1;36m8\u001b[0m \u001b[1m(\u001b[0mbool and bool\u001b[1m)\u001b[0m: \u001b[3;91mFalse\u001b[0m\n"
      ]
     },
     "metadata": {},
     "output_type": "display_data"
    }
   ],
   "source": [
    "# Example 8: Mixing Boolean and Bitwise (careful!)\n",
    "x = True\n",
    "y = False\n",
    "print(\"Example 8 (bool & bool):\", x & y)      # False (bitwise on bool, same as boolean)\n",
    "print(\"Example 8 (bool and bool):\", x and y)  # False (logical)\n"
   ]
  },
  {
   "cell_type": "code",
   "execution_count": 105,
   "id": "977adf38-e902-41b4-99c6-b8f8cf16a2b0",
   "metadata": {},
   "outputs": [
    {
     "data": {
      "text/html": [
       "<pre style=\"white-space:pre;overflow-x:auto;line-height:normal;font-family:Menlo,'DejaVu Sans Mono',consolas,'Courier New',monospace\">Example <span style=\"color: #008080; text-decoration-color: #008080; font-weight: bold\">9</span> <span style=\"font-weight: bold\">(</span>bitwise<span style=\"font-weight: bold\">)</span>: <span style=\"color: #008080; text-decoration-color: #008080; font-weight: bold\">8</span>\n",
       "</pre>\n"
      ],
      "text/plain": [
       "Example \u001b[1;36m9\u001b[0m \u001b[1m(\u001b[0mbitwise\u001b[1m)\u001b[0m: \u001b[1;36m8\u001b[0m\n"
      ]
     },
     "metadata": {},
     "output_type": "display_data"
    },
    {
     "data": {
      "text/html": [
       "<pre style=\"white-space:pre;overflow-x:auto;line-height:normal;font-family:Menlo,'DejaVu Sans Mono',consolas,'Courier New',monospace\">Example <span style=\"color: #008080; text-decoration-color: #008080; font-weight: bold\">9</span> <span style=\"font-weight: bold\">(</span>boolean<span style=\"font-weight: bold\">)</span>: <span style=\"color: #00ff00; text-decoration-color: #00ff00; font-style: italic\">True</span>\n",
       "</pre>\n"
      ],
      "text/plain": [
       "Example \u001b[1;36m9\u001b[0m \u001b[1m(\u001b[0mboolean\u001b[1m)\u001b[0m: \u001b[3;92mTrue\u001b[0m\n"
      ]
     },
     "metadata": {},
     "output_type": "display_data"
    }
   ],
   "source": [
    "# Example 9: Bitwise on integers vs Boolean on booleans\n",
    "num1 = 12   # 1100 binary\n",
    "num2 = 10   # 1010 binary\n",
    "print(\"Example 9 (bitwise):\", num1 & num2)  # 8 (1000)\n",
    "print(\"Example 9 (boolean):\", bool(num1) and bool(num2))  # True"
   ]
  },
  {
   "cell_type": "code",
   "execution_count": 106,
   "id": "64b4c955-90c6-4df9-87a5-7becea8e5806",
   "metadata": {},
   "outputs": [
    {
     "data": {
      "text/html": [
       "<pre style=\"white-space:pre;overflow-x:auto;line-height:normal;font-family:Menlo,'DejaVu Sans Mono',consolas,'Courier New',monospace\">f1 called\n",
       "</pre>\n"
      ],
      "text/plain": [
       "f1 called\n"
      ]
     },
     "metadata": {},
     "output_type": "display_data"
    },
    {
     "data": {
      "text/html": [
       "<pre style=\"white-space:pre;overflow-x:auto;line-height:normal;font-family:Menlo,'DejaVu Sans Mono',consolas,'Courier New',monospace\">Example <span style=\"color: #008080; text-decoration-color: #008080; font-weight: bold\">10</span> boolean and: <span style=\"color: #ff0000; text-decoration-color: #ff0000; font-style: italic\">False</span>\n",
       "</pre>\n"
      ],
      "text/plain": [
       "Example \u001b[1;36m10\u001b[0m boolean and: \u001b[3;91mFalse\u001b[0m\n"
      ]
     },
     "metadata": {},
     "output_type": "display_data"
    },
    {
     "data": {
      "text/html": [
       "<pre style=\"white-space:pre;overflow-x:auto;line-height:normal;font-family:Menlo,'DejaVu Sans Mono',consolas,'Courier New',monospace\">f1 called\n",
       "</pre>\n"
      ],
      "text/plain": [
       "f1 called\n"
      ]
     },
     "metadata": {},
     "output_type": "display_data"
    },
    {
     "data": {
      "text/html": [
       "<pre style=\"white-space:pre;overflow-x:auto;line-height:normal;font-family:Menlo,'DejaVu Sans Mono',consolas,'Courier New',monospace\">f2 called\n",
       "</pre>\n"
      ],
      "text/plain": [
       "f2 called\n"
      ]
     },
     "metadata": {},
     "output_type": "display_data"
    },
    {
     "data": {
      "text/html": [
       "<pre style=\"white-space:pre;overflow-x:auto;line-height:normal;font-family:Menlo,'DejaVu Sans Mono',consolas,'Courier New',monospace\">Example <span style=\"color: #008080; text-decoration-color: #008080; font-weight: bold\">10</span> bitwise &amp;: <span style=\"color: #ff0000; text-decoration-color: #ff0000; font-style: italic\">False</span>\n",
       "</pre>\n"
      ],
      "text/plain": [
       "Example \u001b[1;36m10\u001b[0m bitwise &: \u001b[3;91mFalse\u001b[0m\n"
      ]
     },
     "metadata": {},
     "output_type": "display_data"
    }
   ],
   "source": [
    "# Example 10: Short-circuit difference\n",
    "def f1():\n",
    "    print(\"f1 called\")\n",
    "    return False\n",
    "\n",
    "def f2():\n",
    "    print(\"f2 called\")\n",
    "    return True\n",
    "\n",
    "print(\"Example 10 boolean and:\", f1() and f2())   # f2 not called\n",
    "print(\"Example 10 bitwise &:\", f1() & f2())       # both called\n"
   ]
  },
  {
   "cell_type": "markdown",
   "id": "a6acbdd8-44f4-4929-8ed8-2c986cf02bce",
   "metadata": {},
   "source": [
    "## Step 11: Advanced Boolean Logic (De Morgan’s Laws)\n",
    "- De Morgan’s Laws Boolean algebra ke do important rules hain jo logical expressions ko simplify karne mein madad karte hain, khaas taur par jab NOT (negation) operators complex expressions mein ho.\n",
    "\n",
    "- De Morgan’s Laws:\n",
    "\n",
    "- NOT (A AND B) = (NOT A) OR (NOT B)\n",
    "\n",
    "- !(A and B) == (!A) or (!B)  \n",
    "\n",
    "- NOT (A OR B) = (NOT A) AND (NOT B)\n",
    "\n",
    "matlab:\n",
    "\n",
    "- !(A or B) == (!A) and (!B)  \n",
    "\n",
    "\n",
    "- Yeh laws bohat useful hain jab hum expressions ko simplify karna chahtay hain ya jab hum complex logical statements ko negate kar rahe hote hain.\n"
   ]
  },
  {
   "cell_type": "code",
   "execution_count": 108,
   "id": "5398a0b4-8d44-4368-8009-bfade37f1caf",
   "metadata": {},
   "outputs": [
    {
     "data": {
      "text/html": [
       "<pre style=\"white-space:pre;overflow-x:auto;line-height:normal;font-family:Menlo,'DejaVu Sans Mono',consolas,'Courier New',monospace\">Example <span style=\"color: #008080; text-decoration-color: #008080; font-weight: bold\">1</span>: <span style=\"color: #00ff00; text-decoration-color: #00ff00; font-style: italic\">True</span>\n",
       "</pre>\n"
      ],
      "text/plain": [
       "Example \u001b[1;36m1\u001b[0m: \u001b[3;92mTrue\u001b[0m\n"
      ]
     },
     "metadata": {},
     "output_type": "display_data"
    }
   ],
   "source": [
    "# Example 1: NOT (A and B) == (not A) or (not B)\n",
    "A = True\n",
    "B = False\n",
    "print(\"Example 1:\", not (A and B) == (not A or not B))  # True"
   ]
  },
  {
   "cell_type": "code",
   "execution_count": 109,
   "id": "3249d566-8072-4b7d-a383-bf84333359c2",
   "metadata": {},
   "outputs": [
    {
     "data": {
      "text/html": [
       "<pre style=\"white-space:pre;overflow-x:auto;line-height:normal;font-family:Menlo,'DejaVu Sans Mono',consolas,'Courier New',monospace\">Example <span style=\"color: #008080; text-decoration-color: #008080; font-weight: bold\">2</span>: <span style=\"color: #00ff00; text-decoration-color: #00ff00; font-style: italic\">True</span>\n",
       "</pre>\n"
      ],
      "text/plain": [
       "Example \u001b[1;36m2\u001b[0m: \u001b[3;92mTrue\u001b[0m\n"
      ]
     },
     "metadata": {},
     "output_type": "display_data"
    }
   ],
   "source": [
    "# Example 2: NOT (A or B) == (not A) and (not B)\n",
    "A = False\n",
    "B = False\n",
    "print(\"Example 2:\", not (A or B) == (not A and not B))  # True\n"
   ]
  },
  {
   "cell_type": "code",
   "execution_count": 110,
   "id": "a4067532-2513-44e6-8e07-c1db6f8a4b53",
   "metadata": {},
   "outputs": [],
   "source": [
    "# Example 3: Using De Morgan to simplify condition\n",
    "A = True\n",
    "B = True\n",
    "if not (A and B):\n",
    "    print(\"Example 3: Condition 1 met\")\n",
    "if (not A or not B):\n",
    "    print(\"Example 3: Condition 2 met\")\n",
    "# Output dono same honge dono conditions ka"
   ]
  },
  {
   "cell_type": "code",
   "execution_count": 111,
   "id": "ffde7ae5-1384-40a2-8c94-42766022377d",
   "metadata": {},
   "outputs": [
    {
     "data": {
      "text/html": [
       "<pre style=\"white-space:pre;overflow-x:auto;line-height:normal;font-family:Menlo,'DejaVu Sans Mono',consolas,'Courier New',monospace\">Example <span style=\"color: #008080; text-decoration-color: #008080; font-weight: bold\">4</span>: <span style=\"color: #00ff00; text-decoration-color: #00ff00; font-style: italic\">True</span>\n",
       "</pre>\n"
      ],
      "text/plain": [
       "Example \u001b[1;36m4\u001b[0m: \u001b[3;92mTrue\u001b[0m\n"
      ]
     },
     "metadata": {},
     "output_type": "display_data"
    }
   ],
   "source": [
    "# Example 4: De Morgan with variables\n",
    "x = False\n",
    "y = True\n",
    "expr1 = not (x or y)\n",
    "expr2 = (not x) and (not y)\n",
    "print(\"Example 4:\", expr1 == expr2)  # True\n"
   ]
  },
  {
   "cell_type": "code",
   "execution_count": 112,
   "id": "83c8429f-8e6e-41c8-a7a2-4ee20a14433c",
   "metadata": {},
   "outputs": [
    {
     "data": {
      "text/html": [
       "<pre style=\"white-space:pre;overflow-x:auto;line-height:normal;font-family:Menlo,'DejaVu Sans Mono',consolas,'Courier New',monospace\">Example <span style=\"color: #008080; text-decoration-color: #008080; font-weight: bold\">6</span>: You can relax.\n",
       "</pre>\n"
      ],
      "text/plain": [
       "Example \u001b[1;36m6\u001b[0m: You can relax.\n"
      ]
     },
     "metadata": {},
     "output_type": "display_data"
    }
   ],
   "source": [
    "# Example 6: Practical use in if statements\n",
    "is_weekend = False\n",
    "is_holiday = True\n",
    "\n",
    "if not (is_weekend or is_holiday):\n",
    "    print(\"Example 6: It's a workday.\")\n",
    "else:\n",
    "    print(\"Example 6: You can relax.\")"
   ]
  },
  {
   "cell_type": "code",
   "execution_count": 113,
   "id": "b4e833c0-cdbe-48bf-8654-e03120611036",
   "metadata": {},
   "outputs": [
    {
     "data": {
      "text/html": [
       "<pre style=\"white-space:pre;overflow-x:auto;line-height:normal;font-family:Menlo,'DejaVu Sans Mono',consolas,'Courier New',monospace\">Example <span style=\"color: #008080; text-decoration-color: #008080; font-weight: bold\">7</span>: <span style=\"color: #00ff00; text-decoration-color: #00ff00; font-style: italic\">True</span>\n",
       "</pre>\n"
      ],
      "text/plain": [
       "Example \u001b[1;36m7\u001b[0m: \u001b[3;92mTrue\u001b[0m\n"
      ]
     },
     "metadata": {},
     "output_type": "display_data"
    },
    {
     "data": {
      "text/html": [
       "<pre style=\"white-space:pre;overflow-x:auto;line-height:normal;font-family:Menlo,'DejaVu Sans Mono',consolas,'Courier New',monospace\">Example <span style=\"color: #008080; text-decoration-color: #008080; font-weight: bold\">7</span> corrected: <span style=\"color: #00ff00; text-decoration-color: #00ff00; font-style: italic\">True</span>\n",
       "</pre>\n"
      ],
      "text/plain": [
       "Example \u001b[1;36m7\u001b[0m corrected: \u001b[3;92mTrue\u001b[0m\n"
      ]
     },
     "metadata": {},
     "output_type": "display_data"
    }
   ],
   "source": [
    "# Example 7: Combining De Morgan with complex expression\n",
    "A = True\n",
    "B = False\n",
    "C = True\n",
    "\n",
    "expr1 = not (A and (B or C))\n",
    "expr2 = (not A) or (not B and not C)\n",
    "print(\"Example 7:\", expr1 == expr2)  # False (careful with parentheses)\n",
    "# Correct form using De Morgan: not (A and (B or C)) == (not A) or (not (B or C))\n",
    "print(\"Example 7 corrected:\", expr1 == (not A) or ((not B) and (not C)))  # True\n"
   ]
  },
  {
   "cell_type": "code",
   "execution_count": 114,
   "id": "85992b4c-6c9e-4f59-9542-99fc0351e51e",
   "metadata": {},
   "outputs": [
    {
     "data": {
      "text/html": [
       "<pre style=\"white-space:pre;overflow-x:auto;line-height:normal;font-family:Menlo,'DejaVu Sans Mono',consolas,'Courier New',monospace\">Example <span style=\"color: #008080; text-decoration-color: #008080; font-weight: bold\">8</span>: Access Denied\n",
       "</pre>\n"
      ],
      "text/plain": [
       "Example \u001b[1;36m8\u001b[0m: Access Denied\n"
      ]
     },
     "metadata": {},
     "output_type": "display_data"
    },
    {
     "data": {
      "text/html": [
       "<pre style=\"white-space:pre;overflow-x:auto;line-height:normal;font-family:Menlo,'DejaVu Sans Mono',consolas,'Courier New',monospace\">Example <span style=\"color: #008080; text-decoration-color: #008080; font-weight: bold\">8</span>: Access Granted\n",
       "</pre>\n"
      ],
      "text/plain": [
       "Example \u001b[1;36m8\u001b[0m: Access Granted\n"
      ]
     },
     "metadata": {},
     "output_type": "display_data"
    }
   ],
   "source": [
    "# Example 8: Using De Morgan's in functions\n",
    "def check_access(is_admin, is_owner):\n",
    "    # Original expression\n",
    "    if not (is_admin or is_owner):\n",
    "        return \"Access Denied\"\n",
    "    else:\n",
    "        return \"Access Granted\"\n",
    "\n",
    "print(\"Example 8:\", check_access(False, False))  # Access Denied\n",
    "print(\"Example 8:\", check_access(True, False))   # Access Granted"
   ]
  },
  {
   "cell_type": "raw",
   "id": "566571ce-8803-447e-a8dd-a056712e49a7",
   "metadata": {},
   "source": [
    "## Step 12: Boolean Functions and Return Values\n",
    "\n",
    "\n",
    "Python mein hum functions likh sakte hain jo True ya False return karte hain. Aise functions ko Boolean functions kehte hain.\n",
    "\n",
    "Boolean functions kaam aate hain jab hume koi condition check karni ho aur uska result (True/False) baad mein use karna ho — jaise validation, filtering, decision making waghera.\n",
    "\n",
    "Function mein hum return statement ke zariye bool value wapas karte hain.\n",
    "\n",
    "Important points:\n",
    "\n",
    "Function ke andar hum koi bhi logical expression ya condition check kar ke direct True ya False return kar sakte hain.\n",
    "\n",
    "Boolean functions ko if conditions mein asani se istemal kiya ja sakta hai.\n",
    "\n",
    "Boolean return karne wali functions kaafi useful hoti hain program flow control mein.\n"
   ]
  },
  {
   "cell_type": "code",
   "execution_count": 116,
   "id": "bb183e10-3358-4c0c-ae67-5496a1c579d5",
   "metadata": {},
   "outputs": [
    {
     "data": {
      "text/html": [
       "<pre style=\"white-space:pre;overflow-x:auto;line-height:normal;font-family:Menlo,'DejaVu Sans Mono',consolas,'Courier New',monospace\">Example <span style=\"color: #008080; text-decoration-color: #008080; font-weight: bold\">1</span>: <span style=\"color: #00ff00; text-decoration-color: #00ff00; font-style: italic\">True</span>\n",
       "</pre>\n"
      ],
      "text/plain": [
       "Example \u001b[1;36m1\u001b[0m: \u001b[3;92mTrue\u001b[0m\n"
      ]
     },
     "metadata": {},
     "output_type": "display_data"
    },
    {
     "data": {
      "text/html": [
       "<pre style=\"white-space:pre;overflow-x:auto;line-height:normal;font-family:Menlo,'DejaVu Sans Mono',consolas,'Courier New',monospace\">Example <span style=\"color: #008080; text-decoration-color: #008080; font-weight: bold\">1</span>: <span style=\"color: #ff0000; text-decoration-color: #ff0000; font-style: italic\">False</span>\n",
       "</pre>\n"
      ],
      "text/plain": [
       "Example \u001b[1;36m1\u001b[0m: \u001b[3;91mFalse\u001b[0m\n"
      ]
     },
     "metadata": {},
     "output_type": "display_data"
    }
   ],
   "source": [
    "# Example 1: Check if number is even\n",
    "def is_even(num):\n",
    "    return num % 2 == 0\n",
    "\n",
    "print(\"Example 1:\", is_even(4))   # True\n",
    "print(\"Example 1:\", is_even(7))   # False\n"
   ]
  },
  {
   "cell_type": "code",
   "execution_count": 117,
   "id": "ca826f9f-e8ab-484f-b271-94a3583fa679",
   "metadata": {},
   "outputs": [
    {
     "data": {
      "text/html": [
       "<pre style=\"white-space:pre;overflow-x:auto;line-height:normal;font-family:Menlo,'DejaVu Sans Mono',consolas,'Courier New',monospace\">Example <span style=\"color: #008080; text-decoration-color: #008080; font-weight: bold\">2</span>: <span style=\"color: #00ff00; text-decoration-color: #00ff00; font-style: italic\">True</span>\n",
       "</pre>\n"
      ],
      "text/plain": [
       "Example \u001b[1;36m2\u001b[0m: \u001b[3;92mTrue\u001b[0m\n"
      ]
     },
     "metadata": {},
     "output_type": "display_data"
    },
    {
     "data": {
      "text/html": [
       "<pre style=\"white-space:pre;overflow-x:auto;line-height:normal;font-family:Menlo,'DejaVu Sans Mono',consolas,'Courier New',monospace\">Example <span style=\"color: #008080; text-decoration-color: #008080; font-weight: bold\">2</span>: <span style=\"color: #ff0000; text-decoration-color: #ff0000; font-style: italic\">False</span>\n",
       "</pre>\n"
      ],
      "text/plain": [
       "Example \u001b[1;36m2\u001b[0m: \u001b[3;91mFalse\u001b[0m\n"
      ]
     },
     "metadata": {},
     "output_type": "display_data"
    }
   ],
   "source": [
    "# Example 2: Check if string is empty\n",
    "def is_empty(s):\n",
    "    return len(s) == 0\n",
    "\n",
    "print(\"Example 2:\", is_empty(\"\"))     # True\n",
    "print(\"Example 2:\", is_empty(\"abc\"))  # False\n"
   ]
  },
  {
   "cell_type": "code",
   "execution_count": 118,
   "id": "2fb54811-5f8c-4384-b3ff-5b7e58d86a74",
   "metadata": {},
   "outputs": [
    {
     "data": {
      "text/html": [
       "<pre style=\"white-space:pre;overflow-x:auto;line-height:normal;font-family:Menlo,'DejaVu Sans Mono',consolas,'Courier New',monospace\">Example <span style=\"color: #008080; text-decoration-color: #008080; font-weight: bold\">3</span>: <span style=\"color: #00ff00; text-decoration-color: #00ff00; font-style: italic\">True</span>\n",
       "</pre>\n"
      ],
      "text/plain": [
       "Example \u001b[1;36m3\u001b[0m: \u001b[3;92mTrue\u001b[0m\n"
      ]
     },
     "metadata": {},
     "output_type": "display_data"
    },
    {
     "data": {
      "text/html": [
       "<pre style=\"white-space:pre;overflow-x:auto;line-height:normal;font-family:Menlo,'DejaVu Sans Mono',consolas,'Courier New',monospace\">Example <span style=\"color: #008080; text-decoration-color: #008080; font-weight: bold\">3</span>: <span style=\"color: #ff0000; text-decoration-color: #ff0000; font-style: italic\">False</span>\n",
       "</pre>\n"
      ],
      "text/plain": [
       "Example \u001b[1;36m3\u001b[0m: \u001b[3;91mFalse\u001b[0m\n"
      ]
     },
     "metadata": {},
     "output_type": "display_data"
    }
   ],
   "source": [
    "# Example 3: Check if user is adult\n",
    "def is_adult(age):\n",
    "    return age >= 18\n",
    "\n",
    "print(\"Example 3:\", is_adult(20))   # True\n",
    "print(\"Example 3:\", is_adult(15))   # False\n"
   ]
  },
  {
   "cell_type": "code",
   "execution_count": 119,
   "id": "92054858-2c40-4197-b342-6f1b7c158715",
   "metadata": {},
   "outputs": [
    {
     "data": {
      "text/html": [
       "<pre style=\"white-space:pre;overflow-x:auto;line-height:normal;font-family:Menlo,'DejaVu Sans Mono',consolas,'Courier New',monospace\">Example <span style=\"color: #008080; text-decoration-color: #008080; font-weight: bold\">4</span>: <span style=\"color: #00ff00; text-decoration-color: #00ff00; font-style: italic\">True</span>\n",
       "</pre>\n"
      ],
      "text/plain": [
       "Example \u001b[1;36m4\u001b[0m: \u001b[3;92mTrue\u001b[0m\n"
      ]
     },
     "metadata": {},
     "output_type": "display_data"
    },
    {
     "data": {
      "text/html": [
       "<pre style=\"white-space:pre;overflow-x:auto;line-height:normal;font-family:Menlo,'DejaVu Sans Mono',consolas,'Courier New',monospace\">Example <span style=\"color: #008080; text-decoration-color: #008080; font-weight: bold\">4</span>: <span style=\"color: #ff0000; text-decoration-color: #ff0000; font-style: italic\">False</span>\n",
       "</pre>\n"
      ],
      "text/plain": [
       "Example \u001b[1;36m4\u001b[0m: \u001b[3;91mFalse\u001b[0m\n"
      ]
     },
     "metadata": {},
     "output_type": "display_data"
    }
   ],
   "source": [
    "# Example 4: Check if character is vowel\n",
    "def is_vowel(ch):\n",
    "    return ch.lower() in \"aeiou\"\n",
    "\n",
    "print(\"Example 4:\", is_vowel('A'))  # True\n",
    "print(\"Example 4:\", is_vowel('b'))  # False\n"
   ]
  },
  {
   "cell_type": "code",
   "execution_count": 120,
   "id": "8ea2bde9-95ac-4935-90a2-0bc73fa6012e",
   "metadata": {},
   "outputs": [
    {
     "data": {
      "text/html": [
       "<pre style=\"white-space:pre;overflow-x:auto;line-height:normal;font-family:Menlo,'DejaVu Sans Mono',consolas,'Courier New',monospace\">Example <span style=\"color: #008080; text-decoration-color: #008080; font-weight: bold\">5</span>: <span style=\"color: #00ff00; text-decoration-color: #00ff00; font-style: italic\">True</span>\n",
       "</pre>\n"
      ],
      "text/plain": [
       "Example \u001b[1;36m5\u001b[0m: \u001b[3;92mTrue\u001b[0m\n"
      ]
     },
     "metadata": {},
     "output_type": "display_data"
    },
    {
     "data": {
      "text/html": [
       "<pre style=\"white-space:pre;overflow-x:auto;line-height:normal;font-family:Menlo,'DejaVu Sans Mono',consolas,'Courier New',monospace\">Example <span style=\"color: #008080; text-decoration-color: #008080; font-weight: bold\">5</span>: <span style=\"color: #ff0000; text-decoration-color: #ff0000; font-style: italic\">False</span>\n",
       "</pre>\n"
      ],
      "text/plain": [
       "Example \u001b[1;36m5\u001b[0m: \u001b[3;91mFalse\u001b[0m\n"
      ]
     },
     "metadata": {},
     "output_type": "display_data"
    }
   ],
   "source": [
    "# Example 5: Check if number is positive\n",
    "def is_positive(num):\n",
    "    if num > 0:\n",
    "        return True\n",
    "    else:\n",
    "        return False\n",
    "\n",
    "print(\"Example 5:\", is_positive(5))   # True\n",
    "print(\"Example 5:\", is_positive(-1))  # False"
   ]
  },
  {
   "cell_type": "code",
   "execution_count": 121,
   "id": "064ddcb8-2cee-4731-a8be-60bee785d9d0",
   "metadata": {},
   "outputs": [
    {
     "data": {
      "text/html": [
       "<pre style=\"white-space:pre;overflow-x:auto;line-height:normal;font-family:Menlo,'DejaVu Sans Mono',consolas,'Courier New',monospace\">Example <span style=\"color: #008080; text-decoration-color: #008080; font-weight: bold\">6</span>: <span style=\"color: #00ff00; text-decoration-color: #00ff00; font-style: italic\">True</span>\n",
       "</pre>\n"
      ],
      "text/plain": [
       "Example \u001b[1;36m6\u001b[0m: \u001b[3;92mTrue\u001b[0m\n"
      ]
     },
     "metadata": {},
     "output_type": "display_data"
    },
    {
     "data": {
      "text/html": [
       "<pre style=\"white-space:pre;overflow-x:auto;line-height:normal;font-family:Menlo,'DejaVu Sans Mono',consolas,'Courier New',monospace\">Example <span style=\"color: #008080; text-decoration-color: #008080; font-weight: bold\">6</span>: <span style=\"color: #ff0000; text-decoration-color: #ff0000; font-style: italic\">False</span>\n",
       "</pre>\n"
      ],
      "text/plain": [
       "Example \u001b[1;36m6\u001b[0m: \u001b[3;91mFalse\u001b[0m\n"
      ]
     },
     "metadata": {},
     "output_type": "display_data"
    }
   ],
   "source": [
    "# Example 6: Check if string contains only digits\n",
    "def is_digit_string(s):\n",
    "    return s.isdigit()\n",
    "\n",
    "print(\"Example 6:\", is_digit_string(\"12345\"))  # True\n",
    "print(\"Example 6:\", is_digit_string(\"12a45\"))  # False\n"
   ]
  },
  {
   "cell_type": "code",
   "execution_count": 122,
   "id": "cb685f08-3e05-4652-9fde-85b29542db64",
   "metadata": {},
   "outputs": [
    {
     "data": {
      "text/html": [
       "<pre style=\"white-space:pre;overflow-x:auto;line-height:normal;font-family:Menlo,'DejaVu Sans Mono',consolas,'Courier New',monospace\">Example <span style=\"color: #008080; text-decoration-color: #008080; font-weight: bold\">7</span>: <span style=\"color: #00ff00; text-decoration-color: #00ff00; font-style: italic\">True</span>\n",
       "</pre>\n"
      ],
      "text/plain": [
       "Example \u001b[1;36m7\u001b[0m: \u001b[3;92mTrue\u001b[0m\n"
      ]
     },
     "metadata": {},
     "output_type": "display_data"
    },
    {
     "data": {
      "text/html": [
       "<pre style=\"white-space:pre;overflow-x:auto;line-height:normal;font-family:Menlo,'DejaVu Sans Mono',consolas,'Courier New',monospace\">Example <span style=\"color: #008080; text-decoration-color: #008080; font-weight: bold\">7</span>: <span style=\"color: #ff0000; text-decoration-color: #ff0000; font-style: italic\">False</span>\n",
       "</pre>\n"
      ],
      "text/plain": [
       "Example \u001b[1;36m7\u001b[0m: \u001b[3;91mFalse\u001b[0m\n"
      ]
     },
     "metadata": {},
     "output_type": "display_data"
    }
   ],
   "source": [
    "# Example 7: Check if a number is within range\n",
    "def in_range(num, start, end):\n",
    "    return start <= num <= end\n",
    "\n",
    "print(\"Example 7:\", in_range(10, 5, 15))  # True\n",
    "print(\"Example 7:\", in_range(4, 5, 15))   # False"
   ]
  },
  {
   "cell_type": "code",
   "execution_count": null,
   "id": "805c83a0-c700-4bb3-82d9-fe9edef33c35",
   "metadata": {},
   "outputs": [],
   "source": []
  }
 ],
 "metadata": {
  "kernelspec": {
   "display_name": "Python 3 (ipykernel)",
   "language": "python",
   "name": "python3"
  },
  "language_info": {
   "codemirror_mode": {
    "name": "ipython",
    "version": 3
   },
   "file_extension": ".py",
   "mimetype": "text/x-python",
   "name": "python",
   "nbconvert_exporter": "python",
   "pygments_lexer": "ipython3",
   "version": "3.12.7"
  }
 },
 "nbformat": 4,
 "nbformat_minor": 5
}
