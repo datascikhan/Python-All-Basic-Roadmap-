{
 "cells": [
  {
   "cell_type": "markdown",
   "id": "384899e0-7dea-415c-8e14-494e6ec40ae1",
   "metadata": {},
   "source": [
    "# ✅ Python String Complete Roadmap\n",
    "\n",
    "🔹 Part 1: String Fundamentals\n",
    "\n",
    "- String Basics\n",
    "\n",
    "- String Declaration and Initialization\n",
    "\n",
    "- Multiline Strings\n",
    "\n",
    "- String Escape Characters\n",
    "\n",
    "- Raw Strings"
   ]
  },
  {
   "cell_type": "markdown",
   "id": "a6e2088a-0a9d-40ae-973b-1107c0a6fae4",
   "metadata": {},
   "source": [
    "## 🔸 1. String Basics\n",
    "- String aik text hoti hai jo characters ka collection hoti hai. Python mein string double quotes \"\" ya single quotes '' mein likhi jati hai."
   ]
  },
  {
   "cell_type": "code",
   "execution_count": 1,
   "id": "eac3159c-675b-45cf-ab94-e431d8b1d258",
   "metadata": {},
   "outputs": [
    {
     "name": "stdout",
     "output_type": "stream",
     "text": [
      "Muhammad Usman Khan\n"
     ]
    }
   ],
   "source": [
    "full_name = \"    MUHAMMAD USMAN khan   \"\n",
    "formatted_name = full_name.strip().title()\n",
    "print(formatted_name)\n"
   ]
  },
  {
   "cell_type": "code",
   "execution_count": 2,
   "id": "3721f729-b08c-4e5c-80f0-a736164cf30f",
   "metadata": {},
   "outputs": [
    {
     "name": "stdout",
     "output_type": "stream",
     "text": [
      "FLIGHT FROM KARACHI TO ISTANBUL ON 23RD SEPTEMBER AT 9:45 AM VIA TURKISH AIRLINES.\n"
     ]
    }
   ],
   "source": [
    "itinerary = \"flight from karachi to istanbul on 23rd september at 9:45 AM via Turkish Airlines.\"\n",
    "print(itinerary.upper())\n"
   ]
  },
  {
   "cell_type": "code",
   "execution_count": 3,
   "id": "a959bda5-f1ca-46ca-aaec-a1a05d9682a8",
   "metadata": {},
   "outputs": [
    {
     "name": "stdout",
     "output_type": "stream",
     "text": [
      "3\n"
     ]
    }
   ],
   "source": [
    "review = \"The product quality was excellent. Excellent packaging and excellent delivery time. Very satisfied with the excellent experience overall.\"\n",
    "print(review.count(\"excellent\"))\n"
   ]
  },
  {
   "cell_type": "code",
   "execution_count": 10,
   "id": "e4e8783b-b201-4ca0-8ca4-3399847de4a4",
   "metadata": {},
   "outputs": [
    {
     "name": "stdout",
     "output_type": "stream",
     "text": [
      "21\n"
     ]
    }
   ],
   "source": [
    "essay = \"I want to study Artificial Intelligence because it combines creativity and logic. I am passionate about problem solving and innovative technology.\"\n",
    "print(len(essay.split()))\n"
   ]
  },
  {
   "cell_type": "code",
   "execution_count": 11,
   "id": "edcf40bd-6ecc-4e42-bac8-a3e3c23dcfe8",
   "metadata": {},
   "outputs": [
    {
     "name": "stdout",
     "output_type": "stream",
     "text": [
      "Uppercase Application:\n",
      " MY NAME IS SANA KHAN. I HAVE COMPLETED MY FSC FROM PUNJAB COLLEGE WITH 89% MARKS. \n",
      "I WANT TO APPLY FOR THE BS COMPUTER SCIENCE PROGRAM AT XYZ UNIVERSITY. \n",
      "MY INTERESTS INCLUDE ARTIFICIAL INTELLIGENCE, MACHINE LEARNING, AND DATA ANALYSIS. \n",
      "I ALSO PARTICIPATED IN SCIENCE EXHIBITIONS AND CODING COMPETITIONS DURING COLLEGE.\n",
      "Total Characters: 321\n",
      "Total Words: 50\n",
      "Artificial Intelligence Mentioned: True\n"
     ]
    }
   ],
   "source": [
    "application = \"\"\"\n",
    "My name is Sana Khan. I have completed my FSC from Punjab College with 89% marks. \n",
    "I want to apply for the BS Computer Science program at XYZ University. \n",
    "My interests include artificial intelligence, machine learning, and data analysis. \n",
    "I also participated in science exhibitions and coding competitions during college.\n",
    "\"\"\"\n",
    "\n",
    "# String clean karna\n",
    "cleaned = application.strip()\n",
    "\n",
    "# Capital letters mein convert\n",
    "upper_version = cleaned.upper()\n",
    "\n",
    "# Total alphabets (characters) count\n",
    "char_count = len(cleaned)\n",
    "\n",
    "# Total words\n",
    "word_count = len(cleaned.split())\n",
    "\n",
    "# Keyword search\n",
    "contains_ai = \"artificial intelligence\" in cleaned.lower()\n",
    "\n",
    "# Print sab kuch\n",
    "print(\"Uppercase Application:\\n\", upper_version)\n",
    "print(\"Total Characters:\", char_count)\n",
    "print(\"Total Words:\", word_count)\n",
    "print(\"Artificial Intelligence Mentioned:\", contains_ai)\n"
   ]
  },
  {
   "cell_type": "code",
   "execution_count": 12,
   "id": "9a6ae8bb-f707-4ce1-aa94-5a3e79ff7e12",
   "metadata": {},
   "outputs": [
    {
     "name": "stdout",
     "output_type": "stream",
     "text": [
      "Skills Mentioned in Job Description: python, django, flask, rest, postgresql, docker, git\n"
     ]
    }
   ],
   "source": [
    "job_description = \"\"\"\n",
    "We are hiring a Senior Python Developer with at least 3 years of experience in Django, Flask, and REST APIs.\n",
    "The candidate must be able to work with databases like PostgreSQL and should have strong problem-solving skills.\n",
    "Knowledge of Docker and Git is a plus.\n",
    "\"\"\"\n",
    "\n",
    "# Lowercase conversion for easy search\n",
    "text = job_description.lower()\n",
    "\n",
    "# Important skills list\n",
    "skills = [\"python\", \"django\", \"flask\", \"rest\", \"postgresql\", \"docker\", \"git\", \"aws\"]\n",
    "\n",
    "# Check kaun kaun si skills present hain\n",
    "found_skills = []\n",
    "for skill in skills:\n",
    "    if skill in text:\n",
    "        found_skills.append(skill)\n",
    "\n",
    "# Final output\n",
    "print(\"Skills Mentioned in Job Description:\", \", \".join(found_skills))\n"
   ]
  },
  {
   "cell_type": "code",
   "execution_count": 13,
   "id": "5df1c813-85e5-4693-a44a-dba3fe16c09e",
   "metadata": {},
   "outputs": [
    {
     "name": "stdout",
     "output_type": "stream",
     "text": [
      "Positive Keywords Found: 4\n",
      "Negative Keywords Found: 2\n"
     ]
    }
   ],
   "source": [
    "feedback = \"\"\"\n",
    "I recently traveled from Karachi to Islamabad via AirBlue. The flight was clean, on time, and the staff was polite. \n",
    "However, the food could be better. Overall, it was a good experience.\n",
    "\"\"\"\n",
    "\n",
    "# Common feedback keywords\n",
    "positive_words = [\"clean\", \"on time\", \"polite\", \"good\", \"comfortable\"]\n",
    "negative_words = [\"delayed\", \"rude\", \"bad\", \"poor\", \"late\", \"food\"]\n",
    "\n",
    "# Lowercase version\n",
    "feedback_lower = feedback.lower()\n",
    "\n",
    "# Count positive & negative keywords\n",
    "positive_count = sum(feedback_lower.count(word) for word in positive_words)\n",
    "negative_count = sum(feedback_lower.count(word) for word in negative_words)\n",
    "\n",
    "print(\"Positive Keywords Found:\", positive_count)\n",
    "print(\"Negative Keywords Found:\", negative_count)\n"
   ]
  },
  {
   "cell_type": "code",
   "execution_count": 14,
   "id": "92763d57-c9f3-4258-9308-1ab0e926dfeb",
   "metadata": {},
   "outputs": [
    {
     "name": "stdout",
     "output_type": "stream",
     "text": [
      "Formatted Name: Muhammad Saeed\n",
      "CNIC Valid: True\n",
      "Email Valid: True\n"
     ]
    }
   ],
   "source": [
    "form_input = \"    MUHAMMAD SAEED    \"\n",
    "\n",
    "# Proper name format\n",
    "cleaned = form_input.strip().title()\n",
    "\n",
    "# CNIC formatting example\n",
    "cnic = \"42101-1234567-8\"\n",
    "is_valid_cnic = len(cnic) == 15 and cnic.count(\"-\") == 2\n",
    "\n",
    "# Email check\n",
    "email = \"muhammad.saeed@domain.com\"\n",
    "is_valid_email = \"@\" in email and email.endswith(\".com\")\n",
    "\n",
    "print(\"Formatted Name:\", cleaned)\n",
    "print(\"CNIC Valid:\", is_valid_cnic)\n",
    "print(\"Email Valid:\", is_valid_email)\n"
   ]
  },
  {
   "cell_type": "code",
   "execution_count": null,
   "id": "1650daf3-3f7c-478e-9765-11b9b4eb45bd",
   "metadata": {},
   "outputs": [],
   "source": []
  },
  {
   "cell_type": "raw",
   "id": "b0c92946-561b-42ce-ae1f-802420b2ee7d",
   "metadata": {},
   "source": [
    "🔁 Recap of String Methods Used\n",
    "Method\tKya karta hai\n",
    ".strip()\tExtra spaces hataata hai\n",
    ".title()\tHar lafz ka pehla letter capital karta hai\n",
    ".upper()\tPuri string ko capital mein karta hai\n",
    ".lower()\tPuri string ko chhoti letters mein karta hai\n",
    ".count()\tWord ya phrase kitni baar aaya, yeh batata hai\n",
    ".split()\tString ko words mein divide karta hai\n",
    "len()\tLength ya count return karta hai"
   ]
  },
  {
   "cell_type": "code",
   "execution_count": 5,
   "id": "4663016a-3fb7-4a6c-be6e-be2aee0e41f9",
   "metadata": {},
   "outputs": [
    {
     "name": "stdout",
     "output_type": "stream",
     "text": [
      "ahmed.khan@example.com\n"
     ]
    }
   ],
   "source": [
    "email = \"   ahmed.khan@Example.Com   \"\n",
    "clean_email = email.strip().lower()\n",
    "print(clean_email)\n"
   ]
  },
  {
   "cell_type": "code",
   "execution_count": 6,
   "id": "dce05660-a7ea-40ec-a554-55f400076852",
   "metadata": {},
   "outputs": [
    {
     "name": "stdout",
     "output_type": "stream",
     "text": [
      "Hello, world!\n"
     ]
    }
   ],
   "source": [
    "# 1. Simple string\n",
    "text = \"Hello, world!\"\n",
    "print(text)\n",
    "\n",
    "\n"
   ]
  },
  {
   "cell_type": "code",
   "execution_count": 7,
   "id": "3889a890-a4db-4f44-806e-cf6e6e4a8200",
   "metadata": {},
   "outputs": [
    {
     "name": "stdout",
     "output_type": "stream",
     "text": [
      "Ali\n"
     ]
    }
   ],
   "source": [
    "# 2. String with single quotes\n",
    "name = 'Ali'\n",
    "print(name)"
   ]
  },
  {
   "cell_type": "code",
   "execution_count": 8,
   "id": "6419f8ab-bced-4c9f-b94e-b8e26492ee04",
   "metadata": {},
   "outputs": [
    {
     "name": "stdout",
     "output_type": "stream",
     "text": [
      "Good Morning\n"
     ]
    }
   ],
   "source": [
    "# 3. Concatenation (do strings jorna)\n",
    "first = \"Good\"\n",
    "second = \"Morning\"\n",
    "print(first + \" \" + second)"
   ]
  },
  {
   "cell_type": "code",
   "execution_count": 9,
   "id": "8501e4fe-f447-4ddb-ad53-2a99ce7d1644",
   "metadata": {},
   "outputs": [
    {
     "name": "stdout",
     "output_type": "stream",
     "text": [
      "12345\n"
     ]
    }
   ],
   "source": [
    "\n",
    "# 4. String with number (as string)\n",
    "num = \"12345\"\n",
    "print(num)"
   ]
  },
  {
   "cell_type": "code",
   "execution_count": 6,
   "id": "755ad213-6689-4456-869b-bfa3635f4d12",
   "metadata": {},
   "outputs": [
    {
     "name": "stdout",
     "output_type": "stream",
     "text": [
      "6\n"
     ]
    }
   ],
   "source": [
    "\n",
    "# 5. String length check karna\n",
    "msg = \"Python\"\n",
    "print(len(msg))  # Output: 6"
   ]
  },
  {
   "cell_type": "markdown",
   "id": "83d7a505-02a3-43ef-a938-88e391429469",
   "metadata": {},
   "source": [
    "## 🔸 2. String Declaration and Initialization\n",
    "- Jab aap ek string banate ho, usay declare karte hain aur initialize karte hain yani usay koi value dete hain.\n"
   ]
  },
  {
   "cell_type": "code",
   "execution_count": 8,
   "id": "6fc70d95-87c2-4433-acd6-f8c722bb9213",
   "metadata": {},
   "outputs": [
    {
     "name": "stdout",
     "output_type": "stream",
     "text": [
      "Assalamualaikum\n"
     ]
    }
   ],
   "source": [
    "# 1. Declare aur initialize\n",
    "greeting = \"Assalamualaikum\"\n",
    "print(greeting)\n"
   ]
  },
  {
   "cell_type": "code",
   "execution_count": 9,
   "id": "b5841d54-dd71-4731-888a-9136f9af5407",
   "metadata": {},
   "outputs": [
    {
     "name": "stdout",
     "output_type": "stream",
     "text": [
      "\n"
     ]
    }
   ],
   "source": [
    "# 2. Empty string\n",
    "empty = \"\"\n",
    "print(empty)\n"
   ]
  },
  {
   "cell_type": "code",
   "execution_count": 10,
   "id": "b81e3688-c029-4c94-a8d4-99952b4a79ff",
   "metadata": {},
   "outputs": [
    {
     "name": "stdout",
     "output_type": "stream",
     "text": [
      "Welcome to Python\n"
     ]
    }
   ],
   "source": [
    "# 3. Variable se string assign karna\n",
    "msg = \"Welcome to Python\"\n",
    "print(msg)"
   ]
  },
  {
   "cell_type": "code",
   "execution_count": 11,
   "id": "479e326e-fe6f-4961-88ef-e02e4c560a37",
   "metadata": {},
   "outputs": [
    {
     "name": "stdout",
     "output_type": "stream",
     "text": [
      "New Message\n"
     ]
    }
   ],
   "source": [
    "# 4. String ko badalna (new value assign)\n",
    "msg = \"New Message\"\n",
    "print(msg)"
   ]
  },
  {
   "cell_type": "code",
   "execution_count": 12,
   "id": "049680eb-a3df-40c2-9cdb-0050acd71949",
   "metadata": {},
   "outputs": [
    {
     "name": "stdout",
     "output_type": "stream",
     "text": [
      "Hello World\n"
     ]
    }
   ],
   "source": [
    "# 5. Multiple strings declare\n",
    "a, b = \"Hello\", \"World\"\n",
    "print(a + \" \" + b)"
   ]
  },
  {
   "cell_type": "markdown",
   "id": "b6a981cc-4710-4434-82e4-1a225d71a252",
   "metadata": {},
   "source": [
    "## 🔸 3. Multiline Strings\n",
    "\n",
    "- Agar aapko ek string mein multiple lines likhni hoon to triple quotes ''' ya \"\"\" ka use karte hain.\n"
   ]
  },
  {
   "cell_type": "code",
   "execution_count": 15,
   "id": "5316f260-081d-4820-9f14-bdb15737485d",
   "metadata": {},
   "outputs": [
    {
     "name": "stdout",
     "output_type": "stream",
     "text": [
      "Yeh aik \n",
      "multiline \n",
      "string hai.\n"
     ]
    }
   ],
   "source": [
    "# 1. Multiline using triple quotes\n",
    "para = \"\"\"Yeh aik \n",
    "multiline \n",
    "string hai.\"\"\"\n",
    "print(para)"
   ]
  },
  {
   "cell_type": "code",
   "execution_count": 16,
   "id": "8cb05ed7-dfda-4ec7-a432-56c6c54e84b8",
   "metadata": {},
   "outputs": [
    {
     "name": "stdout",
     "output_type": "stream",
     "text": [
      "Hello,\n",
      "This is ChatGPT.\n",
      "How can I help you?\n"
     ]
    }
   ],
   "source": [
    "# 2. Dusra example\n",
    "msg = '''Hello,\n",
    "This is ChatGPT.\n",
    "How can I help you?'''\n",
    "print(msg)"
   ]
  },
  {
   "cell_type": "code",
   "execution_count": 17,
   "id": "d5507061-308c-4d33-bd81-4d58d1d84256",
   "metadata": {},
   "outputs": [
    {
     "name": "stdout",
     "output_type": "stream",
     "text": [
      "Line1\n",
      "Line2\n",
      "Line3\n"
     ]
    }
   ],
   "source": [
    "# 3. Line breaks automatically ho jaate hain\n",
    "multiline = \"\"\"Line1\n",
    "Line2\n",
    "Line3\"\"\"\n",
    "print(multiline)"
   ]
  },
  {
   "cell_type": "code",
   "execution_count": 18,
   "id": "03ed7ecf-b812-4735-a057-f1b32b5fd6a4",
   "metadata": {},
   "outputs": [
    {
     "name": "stdout",
     "output_type": "stream",
     "text": [
      "Name: Ali\n",
      "Age: 22\n",
      "City: Lahore\n"
     ]
    }
   ],
   "source": [
    "# 4. String ke andar formatting\n",
    "details = \"\"\"Name: Ali\n",
    "Age: 22\n",
    "City: Lahore\"\"\"\n",
    "print(details)"
   ]
  },
  {
   "cell_type": "code",
   "execution_count": 19,
   "id": "7da03b3b-ebbf-4710-9073-a181d0ea61be",
   "metadata": {},
   "outputs": [
    {
     "name": "stdout",
     "output_type": "stream",
     "text": [
      "He said, \"Python is easy.\"\n"
     ]
    }
   ],
   "source": [
    "# 5. Multiline with quotes inside\n",
    "quote = '''He said, \"Python is easy.\"'''\n",
    "print(quote)\n"
   ]
  },
  {
   "cell_type": "markdown",
   "id": "d43c860b-8ddd-4bfb-9a28-74a686b3f9e6",
   "metadata": {},
   "source": [
    "## 🔸 4. String Escape Characters\n",
    "\n",
    "- Escape characters special characters hote hain jo string mein special kaam karte hain, jaise new line \\n, tab \\t, quote \\\", etc.\n"
   ]
  },
  {
   "cell_type": "code",
   "execution_count": 21,
   "id": "470335ce-bac0-46b7-ba4e-8bf6c78568d7",
   "metadata": {},
   "outputs": [
    {
     "name": "stdout",
     "output_type": "stream",
     "text": [
      "Hello\n",
      "World\n"
     ]
    }
   ],
   "source": [
    "# 1. New line\n",
    "msg = \"Hello\\nWorld\"\n",
    "print(msg)\n"
   ]
  },
  {
   "cell_type": "code",
   "execution_count": 22,
   "id": "80887705-bde4-4cce-9237-86b8024866e1",
   "metadata": {},
   "outputs": [
    {
     "name": "stdout",
     "output_type": "stream",
     "text": [
      "Name:\tAli\n"
     ]
    }
   ],
   "source": [
    "# 2. Tab space\n",
    "msg = \"Name:\\tAli\"\n",
    "print(msg)"
   ]
  },
  {
   "cell_type": "code",
   "execution_count": 23,
   "id": "2ce20dee-e805-41c6-b5fe-f732a9e5109a",
   "metadata": {},
   "outputs": [
    {
     "name": "stdout",
     "output_type": "stream",
     "text": [
      "He said, \"I love Python.\"\n"
     ]
    }
   ],
   "source": [
    "# 3. Double quotes inside string\n",
    "msg = \"He said, \\\"I love Python.\\\"\"\n",
    "print(msg)"
   ]
  },
  {
   "cell_type": "code",
   "execution_count": 24,
   "id": "5b94a139-b3a1-41f7-9126-7715098eb75c",
   "metadata": {},
   "outputs": [
    {
     "name": "stdout",
     "output_type": "stream",
     "text": [
      "It's a sunny day\n"
     ]
    }
   ],
   "source": [
    "# 4. Single quote\n",
    "msg = 'It\\'s a sunny day'\n",
    "print(msg)"
   ]
  },
  {
   "cell_type": "code",
   "execution_count": 25,
   "id": "df8265d4-b988-4d23-96f4-3f7d626da055",
   "metadata": {},
   "outputs": [
    {
     "name": "stdout",
     "output_type": "stream",
     "text": [
      "C:\\Users\\Ali\n"
     ]
    }
   ],
   "source": [
    "\n",
    "# 5. Backslash\n",
    "path = \"C:\\\\Users\\\\Ali\"\n",
    "print(path)"
   ]
  },
  {
   "cell_type": "markdown",
   "id": "c15fdedf-abae-4850-86bd-638d767e2944",
   "metadata": {},
   "source": [
    "## 🔸 5. Raw Strings\n",
    "- Raw strings mein escape characters ko ignore kiya jata hai. Inko banane ke liye string se pehle r lagate hain.\n"
   ]
  },
  {
   "cell_type": "code",
   "execution_count": 27,
   "id": "dafbae96-b01b-49ce-bb71-e7e56bf46301",
   "metadata": {},
   "outputs": [
    {
     "name": "stdout",
     "output_type": "stream",
     "text": [
      "C:\\Users\\Ali\n"
     ]
    }
   ],
   "source": [
    "# 1. Raw string\n",
    "path = r\"C:\\Users\\Ali\"\n",
    "print(path)  # Backslash show hoga\n"
   ]
  },
  {
   "cell_type": "code",
   "execution_count": 28,
   "id": "373a3c8f-1417-4809-a483-ad86f822b14c",
   "metadata": {},
   "outputs": [
    {
     "name": "stdout",
     "output_type": "stream",
     "text": [
      "C:\n",
      "ewfolder\n",
      "C:\\newfolder\n"
     ]
    }
   ],
   "source": [
    "# 2. Normal vs Raw\n",
    "normal = \"C:\\newfolder\"\n",
    "raw = r\"C:\\newfolder\"\n",
    "print(normal)  # \\n ko new line samjhega\n",
    "print(raw)     # Raw mein wahi print hoga"
   ]
  },
  {
   "cell_type": "code",
   "execution_count": 29,
   "id": "95bba397-5592-47d9-ae5c-eaaa3a3d2fd2",
   "metadata": {},
   "outputs": [
    {
     "name": "stdout",
     "output_type": "stream",
     "text": [
      "\\d+\n"
     ]
    }
   ],
   "source": [
    "# 3. Regex ke sath use\n",
    "regex = r\"\\d+\"\n",
    "print(regex)"
   ]
  },
  {
   "cell_type": "code",
   "execution_count": 30,
   "id": "55a1d2bc-4e2b-4f72-a6ea-2286a6933882",
   "metadata": {},
   "outputs": [
    {
     "name": "stdout",
     "output_type": "stream",
     "text": [
      "This is a raw\\nstring\n"
     ]
    }
   ],
   "source": [
    "# 4. Backslash ke sath text\n",
    "raw_text = r\"This is a raw\\nstring\"\n",
    "print(raw_text)"
   ]
  },
  {
   "cell_type": "code",
   "execution_count": 31,
   "id": "a8be4032-da4d-4205-a3a6-1acac84a8434",
   "metadata": {},
   "outputs": [
    {
     "name": "stdout",
     "output_type": "stream",
     "text": [
      "D:\\Documents\\Python\\my_script.py\n"
     ]
    }
   ],
   "source": [
    "# 5. File paths ke liye useful\n",
    "file_path = r\"D:\\Documents\\Python\\my_script.py\"\n",
    "print(file_path)"
   ]
  },
  {
   "cell_type": "markdown",
   "id": "2dbedd82-deea-4c4f-aa0b-0b3c994bb68d",
   "metadata": {},
   "source": [
    "# 🔹 Part 2: String Indexing and Slicing\n",
    "\n",
    "- String Indexing\n",
    "\n",
    "- String Slicing\n",
    "\n",
    "- String Immutability"
   ]
  },
  {
   "cell_type": "markdown",
   "id": "bb62c069-687f-484e-8703-6c2aaed579fa",
   "metadata": {},
   "source": [
    "## 🔸 1. String Indexing\n",
    "\n",
    "- Indexing ka matlab hai ke string ke kisi specific character tak uski position ke zariye pohanchna. Python mein indexing 0 se start hoti hai, aur negative indexing -1 se (pichlay se).\n"
   ]
  },
  {
   "cell_type": "code",
   "execution_count": 34,
   "id": "b1e3ff79-84f9-459b-bdfc-4246c78ce4fd",
   "metadata": {},
   "outputs": [
    {
     "name": "stdout",
     "output_type": "stream",
     "text": [
      "Example 1: P\n"
     ]
    }
   ],
   "source": [
    "# Example 1: First character print karna\n",
    "text = \"Python\"\n",
    "print(\"Example 1:\", text[0])  # Output: P\n",
    "\n"
   ]
  },
  {
   "cell_type": "code",
   "execution_count": 35,
   "id": "dcc8584d-e304-4508-8915-904d565aa13e",
   "metadata": {},
   "outputs": [
    {
     "name": "stdout",
     "output_type": "stream",
     "text": [
      "Example 2: n\n"
     ]
    }
   ],
   "source": [
    "# Example 2: Last character using positive index\n",
    "text = \"Python\"\n",
    "print(\"Example 2:\", text[5])  # Output: n\n",
    "\n"
   ]
  },
  {
   "cell_type": "code",
   "execution_count": 36,
   "id": "6baed042-8a45-4bbb-bbad-6936ce985c0a",
   "metadata": {},
   "outputs": [
    {
     "name": "stdout",
     "output_type": "stream",
     "text": [
      "Example 3: n\n"
     ]
    }
   ],
   "source": [
    "# Example 3: Last character using negative index\n",
    "text = \"Python\"\n",
    "print(\"Example 3:\", text[-1])  # Output: n\n",
    "\n"
   ]
  },
  {
   "cell_type": "code",
   "execution_count": 37,
   "id": "8e885656-9cff-4210-a957-6b6d2deb38dd",
   "metadata": {},
   "outputs": [
    {
     "name": "stdout",
     "output_type": "stream",
     "text": [
      "Example 4: o\n"
     ]
    }
   ],
   "source": [
    "# Example 4: Second last character\n",
    "text = \"Python\"\n",
    "print(\"Example 4:\", text[-2])  # Output: o\n",
    "\n"
   ]
  },
  {
   "cell_type": "code",
   "execution_count": 38,
   "id": "9451b200-3d94-4a60-8ce0-e659b82fc11b",
   "metadata": {},
   "outputs": [
    {
     "name": "stdout",
     "output_type": "stream",
     "text": [
      "Example 5: t\n"
     ]
    }
   ],
   "source": [
    "# Example 5: Third character\n",
    "text = \"Python\"\n",
    "print(\"Example 5:\", text[2])  # Output: t\n",
    "\n"
   ]
  },
  {
   "cell_type": "code",
   "execution_count": 39,
   "id": "688236ff-528c-4ea6-8cb7-16f3a55f5f26",
   "metadata": {},
   "outputs": [
    {
     "name": "stdout",
     "output_type": "stream",
     "text": [
      "Example 6: Error hoti hai agar index range se bahar ho.\n"
     ]
    }
   ],
   "source": [
    "# Example 6: Index out of range error (commented to avoid error)\n",
    "text = \"Python\"\n",
    "# print(\"Example 6:\", text[10])  # IndexError: string index out of range\n",
    "print(\"Example 6: Error hoti hai agar index range se bahar ho.\")\n",
    "\n"
   ]
  },
  {
   "cell_type": "code",
   "execution_count": 40,
   "id": "d0da9d11-a316-426c-a8d8-f6745fff4af0",
   "metadata": {},
   "outputs": [
    {
     "name": "stdout",
     "output_type": "stream",
     "text": [
      "Example 7: n\n"
     ]
    }
   ],
   "source": [
    "# Example 7: Length ke zariye last character lena\n",
    "text = \"Python\"\n",
    "print(\"Example 7:\", text[len(text)-1])  # Output: n\n",
    "\n"
   ]
  },
  {
   "cell_type": "code",
   "execution_count": 41,
   "id": "19e05aa3-0afd-4b55-b8ee-d33e6dcf1f49",
   "metadata": {},
   "outputs": [
    {
     "name": "stdout",
     "output_type": "stream",
     "text": [
      "Example 8: Index 3 ka character hai: h\n"
     ]
    }
   ],
   "source": [
    "# Example 8: Indexing user input ke zariye\n",
    "text = \"Python\"\n",
    "index = 3\n",
    "print(\"Example 8: Index\", index, \"ka character hai:\", text[index])  # Output: h\n"
   ]
  },
  {
   "cell_type": "markdown",
   "id": "96f6e4a6-2643-46de-9211-3ddda18f23b2",
   "metadata": {},
   "source": [
    "## 🔸 2. String Slicing\n",
    "\n",
    "- Slicing ka matlab hai ke string ka kuch hissa (substring) lena. Format hota hai:\n",
    "\n",
    "- string[start:end]  # end wala index include nahi hota\n"
   ]
  },
  {
   "cell_type": "code",
   "execution_count": 44,
   "id": "41b79534-4efc-45bb-82e5-db659e3e40b7",
   "metadata": {},
   "outputs": [
    {
     "name": "stdout",
     "output_type": "stream",
     "text": [
      "Example 1: Progr\n"
     ]
    }
   ],
   "source": [
    "# Example 1: Index 0 se 5 tak ka slice lena\n",
    "text = \"Programming\"\n",
    "print(\"Example 1:\", text[0:5])  # Output: Progr"
   ]
  },
  {
   "cell_type": "code",
   "execution_count": 45,
   "id": "5b32525a-2a87-4148-a2bc-3c10566a8d56",
   "metadata": {},
   "outputs": [
    {
     "name": "stdout",
     "output_type": "stream",
     "text": [
      "Example 2: Progr\n"
     ]
    }
   ],
   "source": [
    "# Example 2: Start se 5 tak (start default 0 hota hai)\n",
    "text = \"Programming\"\n",
    "print(\"Example 2:\", text[:5])  # Output: Progr\n"
   ]
  },
  {
   "cell_type": "code",
   "execution_count": 46,
   "id": "7659a7fb-2678-4b3f-8235-c9e9de3279a9",
   "metadata": {},
   "outputs": [
    {
     "name": "stdout",
     "output_type": "stream",
     "text": [
      "Example 3: amming\n"
     ]
    }
   ],
   "source": [
    "# Example 3: Index 5 se end tak (end default hota hai)\n",
    "text = \"Programming\"\n",
    "print(\"Example 3:\", text[5:])  # Output: amming"
   ]
  },
  {
   "cell_type": "code",
   "execution_count": 47,
   "id": "0f11bbc4-e287-404d-a3f9-76f7da8db7aa",
   "metadata": {},
   "outputs": [
    {
     "name": "stdout",
     "output_type": "stream",
     "text": [
      "Example 4: Programming\n"
     ]
    }
   ],
   "source": [
    "# Example 4: Pura string slice karna\n",
    "text = \"Programming\"\n",
    "print(\"Example 4:\", text[:])  # Output: Programming\n"
   ]
  },
  {
   "cell_type": "code",
   "execution_count": 48,
   "id": "0ae84553-aead-4e68-9d98-3abc1d596d0d",
   "metadata": {},
   "outputs": [
    {
     "name": "stdout",
     "output_type": "stream",
     "text": [
      "Example 5: rammin\n"
     ]
    }
   ],
   "source": [
    "# Example 5: Negative slicing (end se pehle tak)\n",
    "text = \"Programming\"\n",
    "print(\"Example 5:\", text[-7:-1])  # Output: ammin"
   ]
  },
  {
   "cell_type": "code",
   "execution_count": 49,
   "id": "c103772c-50f8-4a75-a3e1-79bdf3621d13",
   "metadata": {},
   "outputs": [
    {
     "name": "stdout",
     "output_type": "stream",
     "text": [
      "Example 6: Pormi\n"
     ]
    }
   ],
   "source": [
    "# Example 6: Slice with step value (har 2nd character)\n",
    "text = \"Programming\"\n",
    "print(\"Example 6:\", text[0:10:2])  # Output: Pormr"
   ]
  },
  {
   "cell_type": "code",
   "execution_count": 50,
   "id": "6bb3a101-ecf6-4508-b1f7-b8c803cc01d3",
   "metadata": {},
   "outputs": [
    {
     "name": "stdout",
     "output_type": "stream",
     "text": [
      "Example 7: gnimmargorP\n"
     ]
    }
   ],
   "source": [
    "# Example 7: String ko reverse karna\n",
    "text = \"Programming\"\n",
    "print(\"Example 7:\", text[::-1])  # Output: gnimmargorP"
   ]
  },
  {
   "cell_type": "code",
   "execution_count": 51,
   "id": "6d7af830-a245-4778-b162-a78639d107bb",
   "metadata": {},
   "outputs": [
    {
     "name": "stdout",
     "output_type": "stream",
     "text": [
      "Example 8: ming\n"
     ]
    }
   ],
   "source": [
    "# Example 8: Last 4 characters slice karna\n",
    "text = \"Programming\"\n",
    "print(\"Example 8:\", text[-4:])  # Output: ming\n"
   ]
  },
  {
   "cell_type": "markdown",
   "id": "7d295476-eae8-4ab4-b6b5-8cda472b9da2",
   "metadata": {},
   "source": [
    "## 🔸 3. String Immutability\n",
    "\n",
    "- Python mein strings immutable hoti hain — iska matlab yeh ke aap kisi character ko directly change nahi kar sakte. Agar aapko change karna ho to nayi string banani padti hai.\n"
   ]
  },
  {
   "cell_type": "code",
   "execution_count": 53,
   "id": "fcb3746b-ca7d-4062-b99d-59db6f8f72af",
   "metadata": {},
   "outputs": [
    {
     "name": "stdout",
     "output_type": "stream",
     "text": [
      "Example 1: Ali\n"
     ]
    }
   ],
   "source": [
    "# Example 1: Ek simple string print karna\n",
    "name = \"Ali\"\n",
    "print(\"Example 1:\", name)  # Output: Ali"
   ]
  },
  {
   "cell_type": "code",
   "execution_count": 54,
   "id": "00e0cf66-737f-42a2-b11a-40a2246f1aa5",
   "metadata": {},
   "outputs": [
    {
     "name": "stdout",
     "output_type": "stream",
     "text": [
      "Example 2: Direct character change allowed nahi hai.\n"
     ]
    }
   ],
   "source": [
    "# Example 2: Character change karna (error hota hai, is liye comment)\n",
    "name = \"Ali\"\n",
    "# name[0] = 'B'  # TypeError: 'str' object does not support item assignment\n",
    "print(\"Example 2: Direct character change allowed nahi hai.\")\n"
   ]
  },
  {
   "cell_type": "code",
   "execution_count": 55,
   "id": "ceb74372-4426-43be-954e-e29fc25058c0",
   "metadata": {},
   "outputs": [
    {
     "name": "stdout",
     "output_type": "stream",
     "text": [
      "Example 3: Bli\n"
     ]
    }
   ],
   "source": [
    "# Example 3: Character change karne ke liye new string banana\n",
    "name = \"Ali\"\n",
    "new_name = \"B\" + name[1:]\n",
    "print(\"Example 3:\", new_name)  # Output: Bli\n"
   ]
  },
  {
   "cell_type": "code",
   "execution_count": 56,
   "id": "40d786b1-1e98-4e3c-b4f5-1d948978b38e",
   "metadata": {},
   "outputs": [
    {
     "name": "stdout",
     "output_type": "stream",
     "text": [
      "Example 4: Jello\n"
     ]
    }
   ],
   "source": [
    "# Example 4: String replace function ka use\n",
    "text = \"Hello\"\n",
    "new_text = text.replace(\"H\", \"J\")\n",
    "print(\"Example 4:\", new_text)  # Output: Jello"
   ]
  },
  {
   "cell_type": "code",
   "execution_count": 57,
   "id": "f074cd13-98a0-4fcc-a14a-1ec7dfb3ae4e",
   "metadata": {},
   "outputs": [
    {
     "name": "stdout",
     "output_type": "stream",
     "text": [
      "Example 5: HELLO\n"
     ]
    }
   ],
   "source": [
    "# Example 5: String ko uppercase banana (naya string return hota hai)\n",
    "text = \"hello\"\n",
    "upper_text = text.upper()\n",
    "print(\"Example 5:\", upper_text)  # Output: HELLO\n"
   ]
  },
  {
   "cell_type": "code",
   "execution_count": 58,
   "id": "07fd5841-0ac0-4c34-aabd-702efa67b9b5",
   "metadata": {},
   "outputs": [
    {
     "name": "stdout",
     "output_type": "stream",
     "text": [
      "Example 6: Good Morning\n"
     ]
    }
   ],
   "source": [
    "# Example 6: Concatenate karke naya string banana\n",
    "s = \"Good\"\n",
    "s = s + \" Morning\"\n",
    "print(\"Example 6:\", s)  # Output: Good Morning"
   ]
  },
  {
   "cell_type": "code",
   "execution_count": 59,
   "id": "05d09eb0-0721-44d3-96a8-82a4b86969e1",
   "metadata": {},
   "outputs": [
    {
     "name": "stdout",
     "output_type": "stream",
     "text": [
      "Example 7: Worldwide\n"
     ]
    }
   ],
   "source": [
    "# Example 7: Slice ke zariye modification karna\n",
    "s = \"World\"\n",
    "new_s = s[:2] + \"rldwide\"\n",
    "print(\"Example 7:\", new_s)  # Output: Worldwide"
   ]
  },
  {
   "cell_type": "code",
   "execution_count": 60,
   "id": "3b7d08c5-78e7-4dad-8597-9a146d4ecada",
   "metadata": {},
   "outputs": [
    {
     "name": "stdout",
     "output_type": "stream",
     "text": [
      "Example 8: Original: Python\n",
      "Example 8: Modified: Jython\n"
     ]
    }
   ],
   "source": [
    "# Example 8: Ek string se dusri banana without changing original\n",
    "a = \"Python\"\n",
    "b = a.replace(\"P\", \"J\")\n",
    "print(\"Example 8: Original:\", a)  # Output: Python\n",
    "print(\"Example 8: Modified:\", b)  # Output: Jython"
   ]
  },
  {
   "cell_type": "markdown",
   "id": "373b6f20-9cf0-4587-9675-f2b38c047cf3",
   "metadata": {},
   "source": [
    "# 🔹 Part 3: String Operations\n",
    "\n",
    "- String Concatenation\n",
    "\n",
    "- String Repetition\n",
    "\n",
    "- String Membership Operators (in, not in)\n",
    "\n",
    "- String Comparison\n",
    "\n",
    "- String Iteration (Looping through Strings)"
   ]
  },
  {
   "cell_type": "markdown",
   "id": "de646ddd-0573-42e0-a3d2-368cbf71d734",
   "metadata": {},
   "source": [
    "## 🔸 1. String Concatenation\n",
    "\n",
    "📌 Explanation \n",
    "- String concatenation ka matlab hai do ya zyada strings ko jorna. Python mein + operator se strings ko mila sakte hain."
   ]
  },
  {
   "cell_type": "code",
   "execution_count": 63,
   "id": "b399de7c-1002-40ab-8002-aeeb858fef9d",
   "metadata": {},
   "outputs": [
    {
     "name": "stdout",
     "output_type": "stream",
     "text": [
      "Example 1: Hello World\n"
     ]
    }
   ],
   "source": [
    "# Example 1: Do simple strings jorna\n",
    "first = \"Hello\"\n",
    "second = \"World\"\n",
    "result = first + \" \" + second\n",
    "print(\"Example 1:\", result)  # Output: Hello World"
   ]
  },
  {
   "cell_type": "code",
   "execution_count": 64,
   "id": "4004ff21-322d-4ab0-b5d2-2ab4f70e13f3",
   "metadata": {},
   "outputs": [
    {
     "name": "stdout",
     "output_type": "stream",
     "text": [
      "Example 2: Age: 25\n"
     ]
    }
   ],
   "source": [
    "# Example 2: String aur number ko concatenate karna (typecast zaroori hai)\n",
    "name = \"Age: \"\n",
    "age = 25\n",
    "result = name + str(age)\n",
    "print(\"Example 2:\", result)  # Output: Age: 25"
   ]
  },
  {
   "cell_type": "code",
   "execution_count": 65,
   "id": "88daa5f3-1560-47c6-908a-acc3400915c7",
   "metadata": {},
   "outputs": [
    {
     "name": "stdout",
     "output_type": "stream",
     "text": [
      "Example 3: Good Evening\n"
     ]
    }
   ],
   "source": [
    "\n",
    "# Example 3: Variables se strings concatenate karna\n",
    "greeting = \"Good\"\n",
    "time = \"Evening\"\n",
    "full = greeting + \" \" + time\n",
    "print(\"Example 3:\", full)  # Output: Good Evening"
   ]
  },
  {
   "cell_type": "code",
   "execution_count": 66,
   "id": "a6ae7984-76c3-4290-9d06-9df49e9f0c3e",
   "metadata": {},
   "outputs": [
    {
     "name": "stdout",
     "output_type": "stream",
     "text": [
      "Example 4: Ali Raza\n"
     ]
    }
   ],
   "source": [
    "# Example 4: User input se string jorna\n",
    "first_name = \"Ali\"\n",
    "last_name = \"Raza\"\n",
    "full_name = first_name + \" \" + last_name\n",
    "print(\"Example 4:\", full_name)  # Output: Ali Raza"
   ]
  },
  {
   "cell_type": "code",
   "execution_count": 67,
   "id": "aca6632c-e92d-4e9f-b501-6a94d9683ea5",
   "metadata": {},
   "outputs": [
    {
     "name": "stdout",
     "output_type": "stream",
     "text": [
      "Example 5: Python\n"
     ]
    }
   ],
   "source": [
    "# Example 5: Empty string ke sath concatenation\n",
    "empty = \"\"\n",
    "word = \"Python\"\n",
    "combined = empty + word\n",
    "print(\"Example 5:\", combined)  # Output: Python"
   ]
  },
  {
   "cell_type": "code",
   "execution_count": 68,
   "id": "b70afd0a-bf0f-49bb-95a1-464863f7af82",
   "metadata": {},
   "outputs": [
    {
     "name": "stdout",
     "output_type": "stream",
     "text": [
      "Example 6: This is line 1. This is line 2.\n"
     ]
    }
   ],
   "source": [
    "# Example 6: Multiline concatenation\n",
    "line1 = \"This is line 1. \"\n",
    "line2 = \"This is line 2.\"\n",
    "combined = line1 + line2\n",
    "print(\"Example 6:\", combined)"
   ]
  },
  {
   "cell_type": "code",
   "execution_count": 69,
   "id": "2af35dda-231c-4278-92c8-b105140121ef",
   "metadata": {},
   "outputs": [
    {
     "name": "stdout",
     "output_type": "stream",
     "text": [
      "Example 7: Hello World!\n"
     ]
    }
   ],
   "source": [
    "# Example 7: Concatenation in print statement\n",
    "print(\"Example 7:\", \"Hello\" + \" \" + \"World!\")  # Output: Hello World!\n"
   ]
  },
  {
   "cell_type": "code",
   "execution_count": 70,
   "id": "82e035e1-e1e8-4b64-809d-5b21d3451134",
   "metadata": {},
   "outputs": [
    {
     "name": "stdout",
     "output_type": "stream",
     "text": [
      "Example 8: Python is awesome!\n"
     ]
    }
   ],
   "source": [
    "# Example 8: Concatenate multiple strings\n",
    "s1 = \"Python\"\n",
    "s2 = \" is\"\n",
    "s3 = \" awesome!\"\n",
    "final = s1 + s2 + s3\n",
    "print(\"Example 8:\", final)  # Output: Python is awesome!"
   ]
  },
  {
   "cell_type": "markdown",
   "id": "7a72644e-96ed-44c7-b511-0a5da4ccc32f",
   "metadata": {},
   "source": [
    "## 🔸 2. String Repetition\n",
    "\n",
    "📌 Explanation (Roman Urdu):\n",
    "- Aap kisi string ko repeat kar sakte ho using * operator. Yeh string ko utni martaba repeat karta hai jitni dafa aap chaho."
   ]
  },
  {
   "cell_type": "code",
   "execution_count": 72,
   "id": "90950793-c62b-4274-9dcf-dbc64ce8f413",
   "metadata": {},
   "outputs": [
    {
     "name": "stdout",
     "output_type": "stream",
     "text": [
      "Example 1: Hi Hi Hi \n"
     ]
    }
   ],
   "source": [
    "# Example 1: Ek word 3 dafa repeat\n",
    "word = \"Hi \"\n",
    "result = word * 3\n",
    "print(\"Example 1:\", result)  # Output: Hi Hi Hi "
   ]
  },
  {
   "cell_type": "code",
   "execution_count": 73,
   "id": "a1647841-955b-4e2d-9d02-1bfeb145e4c4",
   "metadata": {},
   "outputs": [
    {
     "name": "stdout",
     "output_type": "stream",
     "text": [
      "Example 2: \n"
     ]
    }
   ],
   "source": [
    "# Example 2: 0 times repeat (empty string return hoti hai)\n",
    "text = \"Hello\"\n",
    "result = text * 0\n",
    "print(\"Example 2:\", result)  # Output: (blank)"
   ]
  },
  {
   "cell_type": "code",
   "execution_count": 74,
   "id": "a8393105-cbfd-4b95-b8a1-f848a35034f9",
   "metadata": {},
   "outputs": [
    {
     "name": "stdout",
     "output_type": "stream",
     "text": [
      "Example 3: *****\n"
     ]
    }
   ],
   "source": [
    "# Example 3: Repeat string 5 times\n",
    "stars = \"*\"\n",
    "result = stars * 5\n",
    "print(\"Example 3:\", result)  # Output: *****"
   ]
  },
  {
   "cell_type": "code",
   "execution_count": 75,
   "id": "7d1d9007-a48e-4e5b-945f-4b77f7509bec",
   "metadata": {},
   "outputs": [
    {
     "name": "stdout",
     "output_type": "stream",
     "text": [
      "Example 4:\n",
      "Python\n",
      "Python\n",
      "\n"
     ]
    }
   ],
   "source": [
    "# Example 4: Repeat string with newline\n",
    "line = \"Python\\n\"\n",
    "result = line * 2\n",
    "print(\"Example 4:\\n\" + result)"
   ]
  },
  {
   "cell_type": "code",
   "execution_count": 76,
   "id": "d0dcd45a-b817-4ede-857c-51d09f03f094",
   "metadata": {},
   "outputs": [
    {
     "name": "stdout",
     "output_type": "stream",
     "text": [
      "Example 5: Wow! Wow! Wow! Wow! \n"
     ]
    }
   ],
   "source": [
    "# Example 5: Repeat and add exclamation\n",
    "repeat = \"Wow! \"\n",
    "print(\"Example 5:\", repeat * 4)  # Output: Wow! Wow! Wow! Wow! "
   ]
  },
  {
   "cell_type": "code",
   "execution_count": 77,
   "id": "35b94144-b0b2-4e0c-85a7-4a75b19d1fe0",
   "metadata": {},
   "outputs": [
    {
     "name": "stdout",
     "output_type": "stream",
     "text": [
      "Example 6: RepeatMe RepeatMe RepeatMe \n"
     ]
    }
   ],
   "source": [
    "# Example 6: Repeat using variable\n",
    "msg = \"RepeatMe \"\n",
    "times = 3\n",
    "result = msg * times\n",
    "print(\"Example 6:\", result)  # Output: RepeatMe RepeatMe RepeatMe \n"
   ]
  },
  {
   "cell_type": "code",
   "execution_count": 78,
   "id": "a8daa53c-9124-4163-b175-71e8ab028dd1",
   "metadata": {},
   "outputs": [
    {
     "name": "stdout",
     "output_type": "stream",
     "text": [
      "Example 7: -=-=-=-=-=-=-=-=-=-=\n"
     ]
    }
   ],
   "source": [
    "# Example 7: Repeat pattern\n",
    "pattern = \"-=\"\n",
    "print(\"Example 7:\", pattern * 10)  # Output: -=-=-=-=-=..."
   ]
  },
  {
   "cell_type": "code",
   "execution_count": 79,
   "id": "f2f298a1-1f0f-4bfb-a700-15e65e4330ae",
   "metadata": {},
   "outputs": [
    {
     "name": "stdout",
     "output_type": "stream",
     "text": [
      "Example 8: 😊 😊 😊 😊 😊 \n"
     ]
    }
   ],
   "source": [
    "# Example 8: Repeat with emojis\n",
    "emoji = \"😊 \"\n",
    "print(\"Example 8:\", emoji * 5)  # Output: 😊 😊 😊 😊 😊 "
   ]
  },
  {
   "cell_type": "markdown",
   "id": "f42b58c6-befc-4df7-b84e-9d669e72c63d",
   "metadata": {},
   "source": [
    "## 🔸 3. String Membership Operators (in, not in)\n",
    "\n",
    "📌 Explanation\n",
    "- Ye operators check karte hain ke koi substring kisi string ke andar maujood hai ya nahi.\n",
    "\n",
    "- \"ali\" in \"ali raza\" → True\n",
    "\n",
    "- \"zain\" not in \"ali\" → True\n"
   ]
  },
  {
   "cell_type": "code",
   "execution_count": 81,
   "id": "c042924b-780c-4cc8-8087-51b857bdccb4",
   "metadata": {},
   "outputs": [
    {
     "name": "stdout",
     "output_type": "stream",
     "text": [
      "Example 1: True\n"
     ]
    }
   ],
   "source": [
    "# Example 1: Check word in sentence\n",
    "sentence = \"Python is fun\"\n",
    "print(\"Example 1:\", \"Python\" in sentence)  # Output: True"
   ]
  },
  {
   "cell_type": "code",
   "execution_count": 82,
   "id": "6bb52390-4f0e-423e-962d-1ed7c0b1b046",
   "metadata": {},
   "outputs": [
    {
     "name": "stdout",
     "output_type": "stream",
     "text": [
      "Example 2: True\n"
     ]
    }
   ],
   "source": [
    "# Example 2: Check word not in sentence\n",
    "print(\"Example 2:\", \"Java\" not in sentence)  # Output: True"
   ]
  },
  {
   "cell_type": "code",
   "execution_count": 83,
   "id": "04253411-fb33-4fb8-b71f-5eee714ebade",
   "metadata": {},
   "outputs": [
    {
     "name": "stdout",
     "output_type": "stream",
     "text": [
      "Example 3: True\n"
     ]
    }
   ],
   "source": [
    "\n",
    "# Example 3: Character check\n",
    "text = \"Programming\"\n",
    "print(\"Example 3:\", \"g\" in text)  # Output: True"
   ]
  },
  {
   "cell_type": "code",
   "execution_count": 84,
   "id": "d879af34-7126-4ccc-b776-10ff062bbf27",
   "metadata": {},
   "outputs": [
    {
     "name": "stdout",
     "output_type": "stream",
     "text": [
      "Example 4: True\n"
     ]
    }
   ],
   "source": [
    "# Example 4: Full word check\n",
    "text = \"I love coding\"\n",
    "print(\"Example 4:\", \"love\" in text)  # Output: True"
   ]
  },
  {
   "cell_type": "code",
   "execution_count": 85,
   "id": "daf5d564-9d9f-46bd-90f8-8eeb11439e92",
   "metadata": {},
   "outputs": [
    {
     "name": "stdout",
     "output_type": "stream",
     "text": [
      "Example 5: False\n"
     ]
    }
   ],
   "source": [
    "# Example 5: Case-sensitive check\n",
    "text = \"Hello\"\n",
    "print(\"Example 5:\", \"hello\" in text)  # Output: False (case matters)\n"
   ]
  },
  {
   "cell_type": "code",
   "execution_count": 86,
   "id": "8c19f979-3067-4838-806d-54a481668954",
   "metadata": {},
   "outputs": [
    {
     "name": "stdout",
     "output_type": "stream",
     "text": [
      "Example 6: 'a' found in banana\n"
     ]
    }
   ],
   "source": [
    "# Example 6: User input check\n",
    "word = \"banana\"\n",
    "if \"a\" in word:\n",
    "    print(\"Example 6: 'a' found in banana\")  # Output: found"
   ]
  },
  {
   "cell_type": "code",
   "execution_count": 87,
   "id": "60cb2a8c-f4bd-4829-8844-c22c4a77125a",
   "metadata": {},
   "outputs": [
    {
     "name": "stdout",
     "output_type": "stream",
     "text": [
      "Example 7: True\n"
     ]
    }
   ],
   "source": [
    "# Example 7: Check with not in\n",
    "name = \"Ali Raza\"\n",
    "print(\"Example 7:\", \"zain\" not in name)  # Output: True"
   ]
  },
  {
   "cell_type": "code",
   "execution_count": 88,
   "id": "6804dcdd-91cb-45a2-8f8d-97c22a751d3c",
   "metadata": {},
   "outputs": [
    {
     "name": "stdout",
     "output_type": "stream",
     "text": [
      "Example 8: True\n"
     ]
    }
   ],
   "source": [
    "# Example 8: Multiple letters check\n",
    "word = \"education\"\n",
    "print(\"Example 8:\", \"cat\" in word)  # Output: True"
   ]
  },
  {
   "cell_type": "markdown",
   "id": "3c9f7fdc-b774-4e81-b181-2f2b03efc2d7",
   "metadata": {},
   "source": [
    "## 🔸 4. String Comparison\n",
    "\n",
    "📌 Explanation (Roman Urdu):\n",
    "- Strings ko aapas mein compare kar sakte hain using ==, !=, <, >, <=, >=.\n",
    "- Yeh comparison lexicographical order (dictionary order) mein hota hai aur case-sensitive hota hai.\n"
   ]
  },
  {
   "cell_type": "code",
   "execution_count": 91,
   "id": "7834593f-3313-482a-ae8b-2608f854a165",
   "metadata": {},
   "outputs": [
    {
     "name": "stdout",
     "output_type": "stream",
     "text": [
      "Example 1: True\n"
     ]
    }
   ],
   "source": [
    "# Example 1: Equality check\n",
    "a = \"apple\"\n",
    "b = \"apple\"\n",
    "print(\"Example 1:\", a == b)  # Output: True"
   ]
  },
  {
   "cell_type": "code",
   "execution_count": 92,
   "id": "ace5b8eb-3004-4f29-9c9a-8641cf0698c5",
   "metadata": {},
   "outputs": [
    {
     "name": "stdout",
     "output_type": "stream",
     "text": [
      "Example 2: True\n"
     ]
    }
   ],
   "source": [
    "# Example 2: Not equal check\n",
    "a = \"apple\"\n",
    "b = \"banana\"\n",
    "print(\"Example 2:\", a != b)  # Output: True\n"
   ]
  },
  {
   "cell_type": "code",
   "execution_count": 93,
   "id": "52210b89-24d7-4e8a-8acb-8ee0b1e693c9",
   "metadata": {},
   "outputs": [
    {
     "name": "stdout",
     "output_type": "stream",
     "text": [
      "Example 3: True\n"
     ]
    }
   ],
   "source": [
    "# Example 3: Less than\n",
    "print(\"Example 3:\", \"apple\" < \"banana\")  # Output: True"
   ]
  },
  {
   "cell_type": "code",
   "execution_count": 94,
   "id": "90091138-c1f1-4738-8b04-f96ee064f4be",
   "metadata": {},
   "outputs": [
    {
     "name": "stdout",
     "output_type": "stream",
     "text": [
      "Example 4: True\n"
     ]
    }
   ],
   "source": [
    "# Example 4: Greater than\n",
    "print(\"Example 4:\", \"zebra\" > \"apple\")  # Output: True"
   ]
  },
  {
   "cell_type": "code",
   "execution_count": 95,
   "id": "c51d9425-7699-4fae-bb97-68b635fd901c",
   "metadata": {},
   "outputs": [
    {
     "name": "stdout",
     "output_type": "stream",
     "text": [
      "Example 5: False\n"
     ]
    }
   ],
   "source": [
    "# Example 5: Case sensitivity\n",
    "print(\"Example 5:\", \"Apple\" == \"apple\")  # Output: False"
   ]
  },
  {
   "cell_type": "code",
   "execution_count": 96,
   "id": "f508e0fa-e5df-4ccc-89f4-40aaf9f3e405",
   "metadata": {},
   "outputs": [
    {
     "name": "stdout",
     "output_type": "stream",
     "text": [
      "Example 6: True\n"
     ]
    }
   ],
   "source": [
    "# Example 6: Uppercase vs lowercase comparison\n",
    "print(\"Example 6:\", \"A\" < \"a\")  # Output: True"
   ]
  },
  {
   "cell_type": "code",
   "execution_count": 97,
   "id": "009d9d9b-c009-48b2-9a33-c8f1635b3dbe",
   "metadata": {},
   "outputs": [
    {
     "name": "stdout",
     "output_type": "stream",
     "text": [
      "Example 7: True\n"
     ]
    }
   ],
   "source": [
    "# Example 7: Compare different lengths\n",
    "print(\"Example 7:\", \"abc\" < \"abcd\")  # Output: True"
   ]
  },
  {
   "cell_type": "code",
   "execution_count": 98,
   "id": "620988c9-de79-4aef-9a7a-93bd9d3366a2",
   "metadata": {},
   "outputs": [
    {
     "name": "stdout",
     "output_type": "stream",
     "text": [
      "Example 8: True\n"
     ]
    }
   ],
   "source": [
    "# Example 8: Compare user inputs\n",
    "user1 = \"Ali\"\n",
    "user2 = \"Ali\"\n",
    "print(\"Example 8:\", user1 == user2)  # Output: True"
   ]
  },
  {
   "cell_type": "markdown",
   "id": "6d78a884-f758-4fa1-b3ea-d8e87647d29f",
   "metadata": {},
   "source": [
    "## 🔸 5. String Iteration (Looping through Strings)\n",
    "\n",
    "📌 Explanation (Roman Urdu):\n",
    "- Aap loop (for loop) ka use karke har character ko ek string mein se ek ek karke access kar sakte ho."
   ]
  },
  {
   "cell_type": "code",
   "execution_count": 100,
   "id": "0d1de3fb-6760-466a-b953-aea925eb0638",
   "metadata": {},
   "outputs": [
    {
     "name": "stdout",
     "output_type": "stream",
     "text": [
      "Example 1: P\n",
      "Example 1: y\n",
      "Example 1: t\n",
      "Example 1: h\n",
      "Example 1: o\n",
      "Example 1: n\n"
     ]
    }
   ],
   "source": [
    "# Example 1: Har letter print karna\n",
    "text = \"Python\"\n",
    "for char in text:\n",
    "    print(\"Example 1:\", char)"
   ]
  },
  {
   "cell_type": "code",
   "execution_count": 101,
   "id": "9f1c9639-a40a-490e-901d-238ac1829776",
   "metadata": {},
   "outputs": [
    {
     "name": "stdout",
     "output_type": "stream",
     "text": [
      "Example 2: Index 0 = C\n",
      "Example 2: Index 1 = o\n",
      "Example 2: Index 2 = d\n",
      "Example 2: Index 3 = e\n"
     ]
    }
   ],
   "source": [
    "# Example 2: Characters ke sath index show karna\n",
    "text = \"Code\"\n",
    "for i in range(len(text)):\n",
    "    print(f\"Example 2: Index {i} = {text[i]}\")"
   ]
  },
  {
   "cell_type": "code",
   "execution_count": 102,
   "id": "21e7a39b-df14-4d9b-9fb2-cd313a79bf4b",
   "metadata": {},
   "outputs": [
    {
     "name": "stdout",
     "output_type": "stream",
     "text": [
      "Example 3: Vowels = 5\n"
     ]
    }
   ],
   "source": [
    "# Example 3: Vowels count karna\n",
    "text = \"education\"\n",
    "count = 0\n",
    "for ch in text:\n",
    "    if ch in \"aeiou\":\n",
    "        count += 1\n",
    "print(\"Example 3: Vowels =\", count)"
   ]
  },
  {
   "cell_type": "code",
   "execution_count": 103,
   "id": "af25176d-767b-4691-b610-83af217f16d9",
   "metadata": {},
   "outputs": [
    {
     "name": "stdout",
     "output_type": "stream",
     "text": [
      "Example 4: P\n",
      "Example 4: T\n",
      "Example 4: O\n"
     ]
    }
   ],
   "source": [
    "# Example 4: Only print uppercase letters\n",
    "text = \"PyThOn123\"\n",
    "for ch in text:\n",
    "    if ch.isupper():\n",
    "        print(\"Example 4:\", ch)"
   ]
  },
  {
   "cell_type": "code",
   "execution_count": 104,
   "id": "015b931e-9ed4-4109-864f-d699fe17d355",
   "metadata": {},
   "outputs": [
    {
     "name": "stdout",
     "output_type": "stream",
     "text": [
      "Example 5: n\n",
      "Example 5: o\n",
      "Example 5: h\n",
      "Example 5: t\n",
      "Example 5: y\n",
      "Example 5: P\n"
     ]
    }
   ],
   "source": [
    "# Example 5: Characters reverse order mein print karna\n",
    "text = \"Python\"\n",
    "for ch in reversed(text):\n",
    "    print(\"Example 5:\", ch)"
   ]
  },
  {
   "cell_type": "code",
   "execution_count": 105,
   "id": "957d7da0-80fa-4d2a-814f-8370ccfce80b",
   "metadata": {},
   "outputs": [
    {
     "name": "stdout",
     "output_type": "stream",
     "text": [
      "Example 6: A = 65\n",
      "Example 6: B = 66\n",
      "Example 6: C = 67\n"
     ]
    }
   ],
   "source": [
    "# Example 6: Characters ke ASCII codes print karna\n",
    "text = \"ABC\"\n",
    "for ch in text:\n",
    "    print(f\"Example 6: {ch} = {ord(ch)}\")"
   ]
  },
  {
   "cell_type": "markdown",
   "id": "da89d1b9-da43-4e17-91f5-cb9c4551fd60",
   "metadata": {},
   "source": [
    "# 🔹 Part 4: String Formatting\n",
    "\n",
    "- String Formatting (% operator)\n",
    "\n",
    "- str.format() method\n",
    "\n",
    "- f-Strings (Formatted String Literals)\n",
    "\n",
    "- Advanced Formatting (Alignment, Padding, Precision)"
   ]
  },
  {
   "cell_type": "markdown",
   "id": "466a41c3-4339-48e2-a0ed-4d06c2da54eb",
   "metadata": {},
   "source": [
    "## 1. String Formatting (% operator)\n",
    "Explanation (Roman Urdu):\n",
    "\n",
    "- Ye purana tariqa hai strings ko format karne ka, jisme % symbol ke sath format specifiers use karte hain, jaise %s (string), %d (integer), %f (float)."
   ]
  },
  {
   "cell_type": "code",
   "execution_count": 108,
   "id": "aa9bc778-d33e-444c-8ef0-422e13f5e047",
   "metadata": {},
   "outputs": [
    {
     "name": "stdout",
     "output_type": "stream",
     "text": [
      "Example 1: Hello, Ali!\n"
     ]
    }
   ],
   "source": [
    "# Example 1: String format karna\n",
    "name = \"Ali\"\n",
    "print(\"Example 1: Hello, %s!\" % name)  # Output: Hello, Ali!"
   ]
  },
  {
   "cell_type": "code",
   "execution_count": 109,
   "id": "3207983d-2a86-4340-b6b7-0045fb711493",
   "metadata": {},
   "outputs": [
    {
     "name": "stdout",
     "output_type": "stream",
     "text": [
      "Example 2: Age is 25 years\n"
     ]
    }
   ],
   "source": [
    "# Example 2: Integer format karna\n",
    "age = 25\n",
    "print(\"Example 2: Age is %d years\" % age)  # Output: Age is 25 years"
   ]
  },
  {
   "cell_type": "code",
   "execution_count": 110,
   "id": "8c784b96-a55f-4db8-a6a5-c53b8ddccec8",
   "metadata": {},
   "outputs": [
    {
     "name": "stdout",
     "output_type": "stream",
     "text": [
      "Example 3: Value of pi is 3.141590\n"
     ]
    }
   ],
   "source": [
    "# Example 3: Float format karna\n",
    "pi = 3.14159\n",
    "print(\"Example 3: Value of pi is %f\" % pi)  # Output: Value of pi is 3.141590"
   ]
  },
  {
   "cell_type": "code",
   "execution_count": 111,
   "id": "3af83f40-1dbe-4f65-bd10-7286af1ad6cd",
   "metadata": {},
   "outputs": [
    {
     "name": "stdout",
     "output_type": "stream",
     "text": [
      "Example 4: Pi to 2 decimals is 3.14\n"
     ]
    }
   ],
   "source": [
    "# Example 4: Float with precision\n",
    "pi = 3.14159\n",
    "print(\"Example 4: Pi to 2 decimals is %.2f\" % pi)  # Output: Pi to 2 decimals is 3.14"
   ]
  },
  {
   "cell_type": "code",
   "execution_count": 112,
   "id": "7915f686-c20b-4fd4-bdfe-a70bf82e9d8f",
   "metadata": {},
   "outputs": [
    {
     "name": "stdout",
     "output_type": "stream",
     "text": [
      "Example 5: Sara is 22 years old\n"
     ]
    }
   ],
   "source": [
    "# Example 5: Multiple variables format karna\n",
    "name = \"Sara\"\n",
    "age = 22\n",
    "print(\"Example 5: %s is %d years old\" % (name, age))  # Output: Sara is 22 years old\n"
   ]
  },
  {
   "cell_type": "code",
   "execution_count": 113,
   "id": "0754e790-4933-4fb5-ab44-66069da01c65",
   "metadata": {},
   "outputs": [
    {
     "name": "stdout",
     "output_type": "stream",
     "text": [
      "Example 6: Number with padding: 0007\n"
     ]
    }
   ],
   "source": [
    "# Example 6: Left padding with zeros (integer)\n",
    "num = 7\n",
    "print(\"Example 6: Number with padding: %04d\" % num)  # Output: 0007"
   ]
  },
  {
   "cell_type": "markdown",
   "id": "ff1e9cf7-66fc-48c8-a184-2b54eaf269ff",
   "metadata": {},
   "source": [
    "## 2. str.format() Method\n",
    "Explanation (Roman Urdu):\n",
    "\n",
    "- Ye thoda naya aur flexible tariqa hai string formatting ka, jisme {} braces ke andar placeholders use hote hain, aur .format() method se values pass karte hain."
   ]
  },
  {
   "cell_type": "code",
   "execution_count": 115,
   "id": "58be88c8-462f-451d-9aad-575816c33b0a",
   "metadata": {},
   "outputs": [
    {
     "name": "stdout",
     "output_type": "stream",
     "text": [
      "Example 1: Hello, Ali!\n"
     ]
    }
   ],
   "source": [
    "# Example 1: Simple placeholder\n",
    "print(\"Example 1: Hello, {}!\".format(\"Ali\"))  # Output: Hello, Ali!\n"
   ]
  },
  {
   "cell_type": "code",
   "execution_count": 116,
   "id": "9dca6e41-1e23-467d-96c6-96fb6cde8353",
   "metadata": {},
   "outputs": [
    {
     "name": "stdout",
     "output_type": "stream",
     "text": [
      "Example 2: Sara is 22 years old\n"
     ]
    }
   ],
   "source": [
    "# Example 2: Multiple placeholders\n",
    "print(\"Example 2: {} is {} years old\".format(\"Sara\", 22))  # Output: Sara is 22 years old\n"
   ]
  },
  {
   "cell_type": "code",
   "execution_count": 117,
   "id": "b9d5950f-ad85-4351-9419-891e1dbc3ca0",
   "metadata": {},
   "outputs": [
    {
     "name": "stdout",
     "output_type": "stream",
     "text": [
      "Example 3: Ahmed scored 95 points\n"
     ]
    }
   ],
   "source": [
    "# Example 3: Positional arguments\n",
    "print(\"Example 3: {1} scored {0} points\".format(95, \"Ahmed\"))  # Output: Ahmed scored 95 points"
   ]
  },
  {
   "cell_type": "code",
   "execution_count": 118,
   "id": "ea0092c2-00f1-450e-94ab-34fa8aaa6dfa",
   "metadata": {},
   "outputs": [
    {
     "name": "stdout",
     "output_type": "stream",
     "text": [
      "Example 4: Zain is 30 years old\n"
     ]
    }
   ],
   "source": [
    "# Example 4: Named arguments\n",
    "print(\"Example 4: {name} is {age} years old\".format(name=\"Zain\", age=30))  # Output: Zain is 30 years old"
   ]
  },
  {
   "cell_type": "code",
   "execution_count": 119,
   "id": "98046dda-c0c7-496e-8128-d4564fe4a553",
   "metadata": {},
   "outputs": [
    {
     "name": "stdout",
     "output_type": "stream",
     "text": [
      "Example 5: Pi is 3.142\n"
     ]
    }
   ],
   "source": [
    "# Example 5: Float formatting with precision\n",
    "print(\"Example 5: Pi is {:.3f}\".format(3.14159))  # Output: Pi is 3.142"
   ]
  },
  {
   "cell_type": "code",
   "execution_count": 120,
   "id": "3ae5ab47-f9bb-4dbb-a2dc-0084e9aa3ad6",
   "metadata": {},
   "outputs": [
    {
     "name": "stdout",
     "output_type": "stream",
     "text": [
      "Example 6: 'left      ' '     right' '  center  '\n"
     ]
    }
   ],
   "source": [
    "# Example 6: Padding and alignment\n",
    "print(\"Example 6: '{:<10}' '{:>10}' '{:^10}'\".format(\"left\", \"right\", \"center\"))\n",
    "# Output: 'left      ' '     right' '  center  '"
   ]
  },
  {
   "cell_type": "code",
   "execution_count": 121,
   "id": "165a3af3-dd1b-4273-8c2a-c635ed5f8678",
   "metadata": {},
   "outputs": [
    {
     "name": "stdout",
     "output_type": "stream",
     "text": [
      "Example 7: Ali loves Python. Ali is happy.\n"
     ]
    }
   ],
   "source": [
    "# Example 7: Reusing same argument\n",
    "print(\"Example 7: {0} loves {1}. {0} is happy.\".format(\"Ali\", \"Python\"))\n",
    "# Output: Ali loves Python. Ali is happy"
   ]
  },
  {
   "cell_type": "markdown",
   "id": "726780f2-c4cd-49ed-a78e-5fda6884a288",
   "metadata": {},
   "source": [
    "## 3. f-Strings (Formatted String Literals)\n",
    "Explanation (Roman Urdu):\n",
    "\n",
    "- Python 3.6+ mein introduced, f-strings sab se aasaan aur tez tareen tareeka hain variables ko directly {} ke andar likhne ka, aur strings ke andar format karne ka."
   ]
  },
  {
   "cell_type": "code",
   "execution_count": 123,
   "id": "f751ef12-a99a-4fa9-84bd-522333de1c0d",
   "metadata": {},
   "outputs": [
    {
     "name": "stdout",
     "output_type": "stream",
     "text": [
      "Example 1: Hello, Ali!\n"
     ]
    }
   ],
   "source": [
    "# Example 1: Simple variable interpolation\n",
    "name = \"Ali\"\n",
    "print(f\"Example 1: Hello, {name}!\")  # Output: Hello, Ali!"
   ]
  },
  {
   "cell_type": "code",
   "execution_count": 124,
   "id": "61da41e8-d94c-4ff4-b80a-b75c445b3a60",
   "metadata": {},
   "outputs": [
    {
     "name": "stdout",
     "output_type": "stream",
     "text": [
      "Example 2: Next year, age will be 26\n"
     ]
    }
   ],
   "source": [
    "# Example 2: Expressions inside f-string\n",
    "age = 25\n",
    "print(f\"Example 2: Next year, age will be {age + 1}\")  # Output: Next year, age will be 26"
   ]
  },
  {
   "cell_type": "code",
   "execution_count": 125,
   "id": "4ba1f15b-1ddc-4453-8c70-cd9dc35449cb",
   "metadata": {},
   "outputs": [
    {
     "name": "stdout",
     "output_type": "stream",
     "text": [
      "Example 3: Pi rounded is 3.14\n"
     ]
    }
   ],
   "source": [
    "# Example 3: Float formatting\n",
    "pi = 3.14159\n",
    "print(f\"Example 3: Pi rounded is {pi:.2f}\")  # Output: Pi rounded is 3.14"
   ]
  },
  {
   "cell_type": "code",
   "execution_count": 126,
   "id": "45c3ab25-959a-4fae-81ff-9149b90f5290",
   "metadata": {},
   "outputs": [
    {
     "name": "stdout",
     "output_type": "stream",
     "text": [
      "Example 4: Hello, Ali!\n"
     ]
    }
   ],
   "source": [
    "# Example 4: Calling functions inside f-string\n",
    "def greet():\n",
    "    return \"Hello\"\n",
    "\n",
    "print(f\"Example 4: {greet()}, Ali!\")  # Output: Hello, Ali!"
   ]
  },
  {
   "cell_type": "code",
   "execution_count": 127,
   "id": "0d2bbb93-fefe-4429-8b90-d94365bafbe9",
   "metadata": {},
   "outputs": [
    {
     "name": "stdout",
     "output_type": "stream",
     "text": [
      "Example 5: SARA is my friend.\n"
     ]
    }
   ],
   "source": [
    "# Example 5: Expressions with strings\n",
    "name = \"Sara\"\n",
    "print(f\"Example 5: {name.upper()} is my friend.\")  # Output: SARA is my friend."
   ]
  },
  {
   "cell_type": "code",
   "execution_count": 128,
   "id": "6f19e121-e416-431a-88e8-2f100b16dbe8",
   "metadata": {},
   "outputs": [
    {
     "name": "stdout",
     "output_type": "stream",
     "text": [
      "Example 6: Number with zeros: 0007\n"
     ]
    }
   ],
   "source": [
    "# Example 6: Padding numbers\n",
    "num = 7\n",
    "print(f\"Example 6: Number with zeros: {num:04}\")  # Output: Number with zeros: 0007"
   ]
  },
  {
   "cell_type": "code",
   "execution_count": 129,
   "id": "b1e20a56-a694-4205-b9f7-bdb9841b0b98",
   "metadata": {},
   "outputs": [
    {
     "name": "stdout",
     "output_type": "stream",
     "text": [
      "Example 7: Date is 2025-08-15\n"
     ]
    }
   ],
   "source": [
    "# Example 7: Date formatting (using variables)\n",
    "year = 2025\n",
    "month = 8\n",
    "day = 15\n",
    "print(f\"Example 7: Date is {year}-{month:02}-{day:02}\")  # Output: Date is 2025-08-15"
   ]
  },
  {
   "cell_type": "markdown",
   "id": "b24893a1-0243-449e-9ef9-bb3b77ec5329",
   "metadata": {},
   "source": [
    "## 4. Advanced Formatting (Alignment, Padding, Precision)\n",
    "Explanation (Roman Urdu):\n",
    "\n",
    "- Aap strings ko align (left, right, center), pad (extra characters add karna), aur precision set kar sakte hain floats ya strings ki."
   ]
  },
  {
   "cell_type": "code",
   "execution_count": 131,
   "id": "1578a705-d5f7-4387-84a9-c6fda67602ae",
   "metadata": {},
   "outputs": [
    {
     "name": "stdout",
     "output_type": "stream",
     "text": [
      "Example 1: 'left      '\n"
     ]
    }
   ],
   "source": [
    "# Example 1: Left align within 10 spaces\n",
    "print(\"Example 1: '{:<10}'\".format(\"left\"))  # Output: 'left   "
   ]
  },
  {
   "cell_type": "code",
   "execution_count": 132,
   "id": "c580d7c7-5600-4d3a-9d53-35ec8d1e8daf",
   "metadata": {},
   "outputs": [
    {
     "name": "stdout",
     "output_type": "stream",
     "text": [
      "Example 2: '     right'\n"
     ]
    }
   ],
   "source": [
    "# Example 2: Right align within 10 spaces\n",
    "print(\"Example 2: '{:>10}'\".format(\"right\"))  # Output: '     right'"
   ]
  },
  {
   "cell_type": "code",
   "execution_count": 133,
   "id": "a3eff8c0-997b-4707-963f-7957e8e7d35f",
   "metadata": {},
   "outputs": [
    {
     "name": "stdout",
     "output_type": "stream",
     "text": [
      "Example 3: '  center  '\n"
     ]
    }
   ],
   "source": [
    "# Example 3: Center align within 10 spaces\n",
    "print(\"Example 3: '{:^10}'\".format(\"center\"))  # Output: '  center  '"
   ]
  },
  {
   "cell_type": "code",
   "execution_count": 134,
   "id": "413bb2fe-bcc1-4cda-9fce-c0eb1abf185e",
   "metadata": {},
   "outputs": [
    {
     "name": "stdout",
     "output_type": "stream",
     "text": [
      "Example 4: '00000042'\n"
     ]
    }
   ],
   "source": [
    "# Example 4: Padding with specific character (zero)\n",
    "print(\"Example 4: '{:0>8}'\".format(42))  # Output: '00000042'"
   ]
  },
  {
   "cell_type": "code",
   "execution_count": 135,
   "id": "0b6a113b-842b-4b3b-ba75-f54d3b01041d",
   "metadata": {},
   "outputs": [
    {
     "name": "stdout",
     "output_type": "stream",
     "text": [
      "Example 5: '****Hi****'\n"
     ]
    }
   ],
   "source": [
    "# Example 5: Padding with * character and center alignment\n",
    "print(\"Example 5: '{:*^10}'\".format(\"Hi\"))  # Output: '****Hi****'"
   ]
  },
  {
   "cell_type": "code",
   "execution_count": 136,
   "id": "a492fcd5-e09b-4c3d-924d-acfb787dec85",
   "metadata": {},
   "outputs": [
    {
     "name": "stdout",
     "output_type": "stream",
     "text": [
      "Example 6: '      3.14'\n"
     ]
    }
   ],
   "source": [
    "# Example 6: Float with precision and padding\n",
    "print(\"Example 6: '{:10.2f}'\".format(3.14159))  # Output: '      3.14'"
   ]
  },
  {
   "cell_type": "code",
   "execution_count": 137,
   "id": "c14c0b21-1161-4493-b540-003dea017726",
   "metadata": {},
   "outputs": [
    {
     "name": "stdout",
     "output_type": "stream",
     "text": [
      "Example 7: '***Ali****'\n"
     ]
    }
   ],
   "source": [
    "# Example 7: f-string alignment with padding\n",
    "name = \"Ali\"\n",
    "print(f\"Example 7: '{name:*^10}'\")  # Output: '***Ali****'\t"
   ]
  },
  {
   "cell_type": "markdown",
   "id": "49341871-f5d7-4ef0-9046-e97dc52ceccc",
   "metadata": {},
   "source": [
    "# 🔹 Part 5: String Methods (Built-in Functions)\n",
    "\n",
    "- Case Conversion: lower(), upper(), title(), capitalize(), swapcase()\n",
    "\n",
    "- Search & Count: find(), rfind(), index(), count()\n",
    "\n",
    "- Replace & Split: replace(), split(), rsplit(), partition()\n",
    "\n",
    "- Join: join()\n",
    "\n",
    "- Trim: strip(), lstrip(), rstrip()\n",
    "\n",
    "- Validation: isalpha(), isdigit(), isalnum(), isspace(), isupper(), islower(), etc."
   ]
  },
  {
   "cell_type": "markdown",
   "id": "71ed2271-4369-4d9e-9e4a-9f84748a48ed",
   "metadata": {},
   "source": [
    "## 1. Case Conversion:\n",
    "\n",
    "- lower(), upper(), title(), capitalize(), swapcase()\n",
    "\n",
    "- Ye methods string ke alphabets ki case (small ya capital) ko convert karte hain.\n"
   ]
  },
  {
   "cell_type": "code",
   "execution_count": 140,
   "id": "7eb86a00-9aa2-48ad-984f-21ad6573fd4f",
   "metadata": {},
   "outputs": [
    {
     "name": "stdout",
     "output_type": "stream",
     "text": [
      "Example 1: hello world\n"
     ]
    }
   ],
   "source": [
    "# Example 1: Lowercase mein convert karna\n",
    "text = \"HELLO WORLD\"\n",
    "print(\"Example 1:\", text.lower())  # Output: hello world"
   ]
  },
  {
   "cell_type": "code",
   "execution_count": 141,
   "id": "c811ece0-d9d7-4cfd-a854-661863845767",
   "metadata": {},
   "outputs": [
    {
     "name": "stdout",
     "output_type": "stream",
     "text": [
      "Example 2: HELLO WORLD\n"
     ]
    }
   ],
   "source": [
    "text = \"hello world\"\n",
    "print(\"Example 2:\", text.upper())  # Output: HELLO WORLD"
   ]
  },
  {
   "cell_type": "code",
   "execution_count": 142,
   "id": "9bf5dac0-5187-44d2-95ba-60e59deba605",
   "metadata": {},
   "outputs": [
    {
     "name": "stdout",
     "output_type": "stream",
     "text": [
      "Example 3: Hello World From Python\n"
     ]
    }
   ],
   "source": [
    "\n",
    "# Example 3: Title case (har word ka pehla letter capital)\n",
    "text = \"hello world from python\"\n",
    "print(\"Example 3:\", text.title())  # Output: Hello World From Python"
   ]
  },
  {
   "cell_type": "code",
   "execution_count": 143,
   "id": "3bdfeee3-ee8a-4698-b1ef-bf8fca25b896",
   "metadata": {},
   "outputs": [
    {
     "name": "stdout",
     "output_type": "stream",
     "text": [
      "Example 4: Hello world\n"
     ]
    }
   ],
   "source": [
    "# Example 4: Capitalize (sirf pehla letter capital)\n",
    "text = \"hello world\"\n",
    "print(\"Example 4:\", text.capitalize())  # Output: Hello world"
   ]
  },
  {
   "cell_type": "code",
   "execution_count": 144,
   "id": "771cffa1-680d-4f95-ae40-33a9e5d64d9a",
   "metadata": {},
   "outputs": [
    {
     "name": "stdout",
     "output_type": "stream",
     "text": [
      "Example 5: hELLO wORLD\n"
     ]
    }
   ],
   "source": [
    "# Example 5: Swapcase (small to capital aur capital to small)\n",
    "text = \"Hello World\"\n",
    "print(\"Example 5:\", text.swapcase())  # Output: hELLO wORLD"
   ]
  },
  {
   "cell_type": "code",
   "execution_count": 145,
   "id": "934011e8-fe77-4467-91ae-ced1612db5b1",
   "metadata": {},
   "outputs": [
    {
     "name": "stdout",
     "output_type": "stream",
     "text": [
      "Example 6: python\n",
      "Example 6: PYTHON\n"
     ]
    }
   ],
   "source": [
    "# Example 6: Mixed case example\n",
    "text = \"PyTHoN\"\n",
    "print(\"Example 6:\", text.lower())   # python\n",
    "print(\"Example 6:\", text.upper())   # PYTHON"
   ]
  },
  {
   "cell_type": "code",
   "execution_count": 146,
   "id": "a21b75d9-ce84-4521-aac9-cc1db4996600",
   "metadata": {},
   "outputs": [
    {
     "name": "stdout",
     "output_type": "stream",
     "text": [
      "Example 7: hELLO WORLD\n"
     ]
    }
   ],
   "source": [
    "# Example 7: Chain methods\n",
    "text = \"hello world\"\n",
    "print(\"Example 7:\", text.capitalize().swapcase())  # Output: hELLO world"
   ]
  },
  {
   "cell_type": "code",
   "execution_count": 147,
   "id": "3f6cdbc1-6add-4047-bf6d-9eb7b4c17c1f",
   "metadata": {},
   "outputs": [
    {
     "name": "stdout",
     "output_type": "stream",
     "text": [
      "Example 8: Hello, World!\n"
     ]
    }
   ],
   "source": [
    "# Example 8: Title case with punctuation\n",
    "text = \"hello, world!\"\n",
    "print(\"Example 8:\", text.title())  # Output: Hello, World!"
   ]
  },
  {
   "cell_type": "markdown",
   "id": "4d35e8a8-14db-4465-9c99-c7e724954bc3",
   "metadata": {},
   "source": [
    "## 2. Search & Count:\n",
    "\n",
    "- find(), rfind(), index(), count()\n",
    "\n",
    "Explanation\n",
    "\n",
    "- Ye methods string mein substring ya character ko dhundne aur count karne ke liye use hotay hain.\n",
    "\n",
    "- find() pehli occurrence ka index deta hai, nahi mila to -1\n",
    "\n",
    "- rfind() aakhri occurrence ka index deta hai\n",
    "\n",
    "- index() bhi find jaisa hai lekin nahi milay to error deta hai\n",
    "\n",
    "- count() substring kitni baar ayi hai batata hai"
   ]
  },
  {
   "cell_type": "code",
   "execution_count": 149,
   "id": "5d5b5a6b-89b0-467a-9e42-78b1fe8abf87",
   "metadata": {},
   "outputs": [
    {
     "name": "stdout",
     "output_type": "stream",
     "text": [
      "Example 1: 4\n"
     ]
    }
   ],
   "source": [
    "# Example 1: find()\n",
    "text = \"hello world\"\n",
    "print(\"Example 1:\", text.find(\"o\"))  # Output: 4"
   ]
  },
  {
   "cell_type": "code",
   "execution_count": 150,
   "id": "c7dd544f-afe3-426a-b49f-b6befaff75d6",
   "metadata": {},
   "outputs": [
    {
     "name": "stdout",
     "output_type": "stream",
     "text": [
      "Example 2: -1\n"
     ]
    }
   ],
   "source": [
    "# Example 2: find() agar na mile to -1\n",
    "print(\"Example 2:\", text.find(\"z\"))  # Output: -1"
   ]
  },
  {
   "cell_type": "code",
   "execution_count": 151,
   "id": "08f5c4f3-d1bf-4e9c-b696-d424c1e8c7b7",
   "metadata": {},
   "outputs": [
    {
     "name": "stdout",
     "output_type": "stream",
     "text": [
      "Example 3: 7\n"
     ]
    }
   ],
   "source": [
    "# Example 3: rfind()\n",
    "print(\"Example 3:\", text.rfind(\"o\"))  # Output: 7"
   ]
  },
  {
   "cell_type": "code",
   "execution_count": 152,
   "id": "65ea06e3-6abe-4cba-8a32-9963f22d2e32",
   "metadata": {},
   "outputs": [
    {
     "name": "stdout",
     "output_type": "stream",
     "text": [
      "Example 4: 6\n"
     ]
    }
   ],
   "source": [
    "# Example 4: index() same as find but error if na mile\n",
    "print(\"Example 4:\", text.index(\"w\"))  # Output: 6"
   ]
  },
  {
   "cell_type": "code",
   "execution_count": 154,
   "id": "c852c9c6-0fec-4bd4-aa00-4c6474b85cea",
   "metadata": {},
   "outputs": [
    {
     "ename": "ValueError",
     "evalue": "substring not found",
     "output_type": "error",
     "traceback": [
      "\u001b[1;31m---------------------------------------------------------------------------\u001b[0m",
      "\u001b[1;31mValueError\u001b[0m                                Traceback (most recent call last)",
      "Cell \u001b[1;32mIn[154], line 2\u001b[0m\n\u001b[0;32m      1\u001b[0m \u001b[38;5;66;03m# Example 5: index() error agar substring na mile\u001b[39;00m\n\u001b[1;32m----> 2\u001b[0m \u001b[38;5;28mprint\u001b[39m(text\u001b[38;5;241m.\u001b[39mindex(\u001b[38;5;124m\"\u001b[39m\u001b[38;5;124mz\u001b[39m\u001b[38;5;124m\"\u001b[39m))\n",
      "\u001b[1;31mValueError\u001b[0m: substring not found"
     ]
    }
   ],
   "source": [
    "# Example 5: index() error agar substring na mile\n",
    "print(text.index(\"z\"))  # ValueError: substring not found"
   ]
  },
  {
   "cell_type": "code",
   "execution_count": 155,
   "id": "5583d6aa-62ed-4c31-80f3-691973bfd174",
   "metadata": {},
   "outputs": [
    {
     "name": "stdout",
     "output_type": "stream",
     "text": [
      "Example 6: 3\n"
     ]
    }
   ],
   "source": [
    "# Example 6: count() kitni baar substring ayi\n",
    "text = \"banana\"\n",
    "print(\"Example 6:\", text.count(\"a\"))  # Output: 3\n"
   ]
  },
  {
   "cell_type": "code",
   "execution_count": 156,
   "id": "f777f191-37e3-4a6e-a068-745e2b7b06db",
   "metadata": {},
   "outputs": [
    {
     "name": "stdout",
     "output_type": "stream",
     "text": [
      "Example 7: 2\n"
     ]
    }
   ],
   "source": [
    "# Example 7: count() full substring count\n",
    "text = \"abababa\"\n",
    "print(\"Example 7:\", text.count(\"aba\"))  # Output: 2"
   ]
  },
  {
   "cell_type": "code",
   "execution_count": 157,
   "id": "53c0efc9-7169-4417-85e2-7806f711a512",
   "metadata": {},
   "outputs": [
    {
     "name": "stdout",
     "output_type": "stream",
     "text": [
      "Example 8: 6\n"
     ]
    }
   ],
   "source": [
    "# Example 8: find() start aur end specify karna\n",
    "text = \"hello hello\"\n",
    "print(\"Example 8:\", text.find(\"hello\", 1))  # Output: 6"
   ]
  },
  {
   "cell_type": "markdown",
   "id": "324850a6-6618-4bda-9911-222de22767df",
   "metadata": {},
   "source": [
    "## 3. Replace & Split:\n",
    "\n",
    "- replace(), split(), rsplit(), partition()\n",
    "\n",
    "- replace() kisi substring ko dusri substring se replace karta hai.\n",
    "\n",
    "- split() string ko parts mein todta hai (default space)\n",
    "\n",
    "- rsplit() bhi split hai magar right side se todta hai\n",
    "\n",
    "- partition() string ko 3 parts mein todta hai: pehla hissa, separator, aur baad ka hissa\n"
   ]
  },
  {
   "cell_type": "code",
   "execution_count": 159,
   "id": "16d56c0e-57ab-4c57-8e37-93f207c6dd82",
   "metadata": {},
   "outputs": [
    {
     "name": "stdout",
     "output_type": "stream",
     "text": [
      "Example 1: I love oranges\n"
     ]
    }
   ],
   "source": [
    "# Example 1: replace()\n",
    "text = \"I love apples\"\n",
    "print(\"Example 1:\", text.replace(\"apples\", \"oranges\"))  # Output: I love oranges\n"
   ]
  },
  {
   "cell_type": "code",
   "execution_count": 160,
   "id": "022c2bc8-3777-4d1a-b99b-bddcac1ab228",
   "metadata": {},
   "outputs": [
    {
     "name": "stdout",
     "output_type": "stream",
     "text": [
      "Example 2: orange orange apple\n"
     ]
    }
   ],
   "source": [
    "# Example 2: replace() sirf pehli 2 baar replace karna\n",
    "text = \"apple apple apple\"\n",
    "print(\"Example 2:\", text.replace(\"apple\", \"orange\", 2))  # Output: orange orange apple"
   ]
  },
  {
   "cell_type": "code",
   "execution_count": 161,
   "id": "5a8da6f7-23a8-4df1-9dc9-70c29c889585",
   "metadata": {},
   "outputs": [
    {
     "name": "stdout",
     "output_type": "stream",
     "text": [
      "Example 3: ['Python', 'is', 'fun']\n"
     ]
    }
   ],
   "source": [
    "# Example 3: split() by space\n",
    "text = \"Python is fun\"\n",
    "print(\"Example 3:\", text.split())  # Output: ['Python', 'is', 'fun']"
   ]
  },
  {
   "cell_type": "code",
   "execution_count": 162,
   "id": "43cb1aa9-82ff-4a16-bcb4-a01c36999a93",
   "metadata": {},
   "outputs": [
    {
     "name": "stdout",
     "output_type": "stream",
     "text": [
      "Example 4: ['apple', 'banana', 'orange']\n"
     ]
    }
   ],
   "source": [
    "# Example 4: split() by comma\n",
    "text = \"apple,banana,orange\"\n",
    "print(\"Example 4:\", text.split(','))  # Output: ['apple', 'banana', 'orange']"
   ]
  },
  {
   "cell_type": "code",
   "execution_count": 163,
   "id": "8620bf0a-3e9e-4e0e-b9fb-a14f172fec3e",
   "metadata": {},
   "outputs": [
    {
     "name": "stdout",
     "output_type": "stream",
     "text": [
      "Example 5: ['one two three', 'four']\n"
     ]
    }
   ],
   "source": [
    "# Example 5: rsplit() last se split karna, maxsplit=1\n",
    "text = \"one two three four\"\n",
    "print(\"Example 5:\", text.rsplit(' ', 1))  # Output: ['one two three', 'four']"
   ]
  },
  {
   "cell_type": "code",
   "execution_count": 164,
   "id": "743c17fd-8ec9-4240-ba20-4fff0b0feabd",
   "metadata": {},
   "outputs": [
    {
     "name": "stdout",
     "output_type": "stream",
     "text": [
      "Example 6: ('hello', ' ', 'world')\n"
     ]
    }
   ],
   "source": [
    "# Example 6: partition() separator ke basis pe 3 parts\n",
    "text = \"hello world\"\n",
    "print(\"Example 6:\", text.partition(' '))  # Output: ('hello', ' ', 'world')\n"
   ]
  },
  {
   "cell_type": "code",
   "execution_count": 165,
   "id": "d1bbab26-8915-43ff-8656-65f3de0dd28f",
   "metadata": {},
   "outputs": [
    {
     "name": "stdout",
     "output_type": "stream",
     "text": [
      "Example 7: ('helloworld', '', '')\n"
     ]
    }
   ],
   "source": [
    "# Example 7: partition() jab separator na mile to\n",
    "text = \"helloworld\"\n",
    "print(\"Example 7:\", text.partition(' '))  # Output: ('helloworld', '', '')"
   ]
  },
  {
   "cell_type": "markdown",
   "id": "1368703a-dbef-4339-990b-ea4e6e7d6e23",
   "metadata": {},
   "source": [
    "## 4. Join:\n",
    "\n",
    "- join()\n",
    "\n",
    "Explanation (Roman Urdu):\n",
    "\n",
    "- join() ek iterable (list, tuple) ke elements ko string mein convert karta hai aur unke darmiyan koi separator lagata hai."
   ]
  },
  {
   "cell_type": "code",
   "execution_count": 167,
   "id": "6aee0129-d3e5-482e-a2bd-cd9bbbbe7236",
   "metadata": {},
   "outputs": [
    {
     "name": "stdout",
     "output_type": "stream",
     "text": [
      "Example 1: Python is fun\n"
     ]
    }
   ],
   "source": [
    "# Example 1: List of words join karna space se\n",
    "words = [\"Python\", \"is\", \"fun\"]\n",
    "print(\"Example 1:\", \" \".join(words))  # Output: Python is fun\n"
   ]
  },
  {
   "cell_type": "code",
   "execution_count": 168,
   "id": "bce197c1-ee5a-4747-a479-7a1a960a9866",
   "metadata": {},
   "outputs": [
    {
     "name": "stdout",
     "output_type": "stream",
     "text": [
      "Example 2: apple,banana,orange\n"
     ]
    }
   ],
   "source": [
    "# Example 2: Join with comma\n",
    "fruits = [\"apple\", \"banana\", \"orange\"]\n",
    "print(\"Example 2:\", \",\".join(fruits))  # Output: apple,banana,orange\n"
   ]
  },
  {
   "cell_type": "code",
   "execution_count": 169,
   "id": "8b2c4f46-9b72-4f68-88ab-979ac6115f7c",
   "metadata": {},
   "outputs": [
    {
     "name": "stdout",
     "output_type": "stream",
     "text": [
      "Example 3: 1-2-3-4\n"
     ]
    }
   ],
   "source": [
    "# Example 3: Join with dash\n",
    "numbers = [\"1\", \"2\", \"3\", \"4\"]\n",
    "print(\"Example 3:\", \"-\".join(numbers))  # Output: 1-2-3-4"
   ]
  },
  {
   "cell_type": "code",
   "execution_count": 170,
   "id": "93388801-48dd-4d51-ac75-47a7b9264f8c",
   "metadata": {},
   "outputs": [
    {
     "name": "stdout",
     "output_type": "stream",
     "text": [
      "Example 4: \n"
     ]
    }
   ],
   "source": [
    "# Example 4: Join empty list\n",
    "empty = []\n",
    "print(\"Example 4:\", \"|\".join(empty))  # Output: (empty string)"
   ]
  },
  {
   "cell_type": "code",
   "execution_count": 171,
   "id": "23f333c8-dfe6-4d41-a9bf-d9d8a1d6f874",
   "metadata": {},
   "outputs": [
    {
     "name": "stdout",
     "output_type": "stream",
     "text": [
      "Example 5: a_b_c\n"
     ]
    }
   ],
   "source": [
    "# Example 5: Join tuple elements\n",
    "t = (\"a\", \"b\", \"c\")\n",
    "print(\"Example 5:\", \"_\".join(t))  # Output: a_b_c\n"
   ]
  },
  {
   "cell_type": "code",
   "execution_count": 172,
   "id": "7d91474c-fc94-456b-97a2-d77cbc392604",
   "metadata": {},
   "outputs": [
    {
     "name": "stdout",
     "output_type": "stream",
     "text": [
      "Example 6: h*e*l*l*o\n"
     ]
    }
   ],
   "source": [
    "# Example 6: Join characters of a string\n",
    "s = \"hello\"\n",
    "print(\"Example 6:\", \"*\".join(s))  # Output: h*e*l*l*o\n"
   ]
  },
  {
   "cell_type": "code",
   "execution_count": 173,
   "id": "f5840772-e10a-46cb-88ae-68e82c9b9f4c",
   "metadata": {},
   "outputs": [
    {
     "name": "stdout",
     "output_type": "stream",
     "text": [
      "Example 7:\n",
      "line1\n",
      "line2\n",
      "line3\n"
     ]
    }
   ],
   "source": [
    "# Example 7: Join with newline separator\n",
    "lines = [\"line1\", \"line2\", \"line3\"]\n",
    "print(\"Example 7:\\n\" + \"\\n\".join(lines))\n",
    "# Output:\n",
    "# line1\n",
    "# line2\n",
    "# line3"
   ]
  },
  {
   "cell_type": "code",
   "execution_count": 174,
   "id": "7b5368a5-a6bd-4111-b3ae-517e050fe907",
   "metadata": {},
   "outputs": [
    {
     "name": "stdout",
     "output_type": "stream",
     "text": [
      "Example 8: 1 & 2 & 3\n"
     ]
    }
   ],
   "source": [
    "# Example 8: Join mixed type list (sab strings honi chahiye)\n",
    "items = [\"1\", \"2\", \"3\"]\n",
    "print(\"Example 8:\", \" & \".join(items))  # Output: 1 & 2 & 3\n"
   ]
  },
  {
   "cell_type": "markdown",
   "id": "5dab7a5a-f469-4fc8-8500-e8f79620749f",
   "metadata": {},
   "source": [
    "\n",
    "## 5. Trim:\n",
    "\n",
    "- strip(), lstrip(), rstrip()\n",
    "\n",
    "Explanation (Roman Urdu):\n",
    "\n",
    "- Ye methods string ke aage, peeche, ya dono taraf se unwanted spaces (ya specified characters) ko hata dete hain.\n"
   ]
  },
  {
   "cell_type": "code",
   "execution_count": 176,
   "id": "346204cf-2cf2-4d67-a4e6-62348cbd9f45",
   "metadata": {},
   "outputs": [
    {
     "name": "stdout",
     "output_type": "stream",
     "text": [
      "Example 1: 'hello'\n"
     ]
    }
   ],
   "source": [
    "# Example 1: strip() dono sides se spaces hataana\n",
    "text = \"  hello  \"\n",
    "print(\"Example 1:\", \"'\" + text.strip() + \"'\")  # Output: 'hello'\n"
   ]
  },
  {
   "cell_type": "code",
   "execution_count": 177,
   "id": "9c421a52-ec42-448d-9b2c-03ee00bdfc70",
   "metadata": {},
   "outputs": [
    {
     "name": "stdout",
     "output_type": "stream",
     "text": [
      "Example 2: 'hello  '\n"
     ]
    }
   ],
   "source": [
    "# Example 2: lstrip() sirf left side spaces hataata hai\n",
    "text = \"  hello  \"\n",
    "print(\"Example 2:\", \"'\" + text.lstrip() + \"'\")  # Output: 'hello  '"
   ]
  },
  {
   "cell_type": "code",
   "execution_count": 178,
   "id": "36bb73fc-da2e-4580-89cf-42a589feda06",
   "metadata": {},
   "outputs": [
    {
     "name": "stdout",
     "output_type": "stream",
     "text": [
      "Example 3: '  hello'\n"
     ]
    }
   ],
   "source": [
    "# Example 3: rstrip() sirf right side spaces hataata hai\n",
    "text = \"  hello  \"\n",
    "print(\"Example 3:\", \"'\" + text.rstrip() + \"'\")  # Output: '  hello'"
   ]
  },
  {
   "cell_type": "code",
   "execution_count": 179,
   "id": "d9013991-02ca-4a4f-aab5-af92b1233e4e",
   "metadata": {},
   "outputs": [
    {
     "name": "stdout",
     "output_type": "stream",
     "text": [
      "Example 4: hello\n"
     ]
    }
   ],
   "source": [
    "# Example 4: strip() se special characters hataana\n",
    "text = \"---hello---\"\n",
    "print(\"Example 4:\", text.strip(\"-\"))  # Output: hello"
   ]
  },
  {
   "cell_type": "code",
   "execution_count": 180,
   "id": "7b4aa69e-999b-43f3-8da1-87fa79310024",
   "metadata": {},
   "outputs": [
    {
     "name": "stdout",
     "output_type": "stream",
     "text": [
      "Example 5: hello###\n"
     ]
    }
   ],
   "source": [
    "# Example 5: lstrip() special characters hataana\n",
    "text = \"###hello###\"\n",
    "print(\"Example 5:\", text.lstrip(\"#\"))  # Output: hello###\n"
   ]
  },
  {
   "cell_type": "code",
   "execution_count": 181,
   "id": "a4b318b1-e82f-4127-b0bd-2cbd5a87d5f0",
   "metadata": {},
   "outputs": [
    {
     "name": "stdout",
     "output_type": "stream",
     "text": [
      "Example 6: !!!hello\n"
     ]
    }
   ],
   "source": [
    "# Example 6: rstrip() special characters hataana\n",
    "text = \"!!!hello!!!\"\n",
    "print(\"Example 6:\", text.rstrip(\"!\"))  # Output: !!!hello\n"
   ]
  },
  {
   "cell_type": "code",
   "execution_count": 182,
   "id": "bb63a461-c72b-4fc8-b76c-2606956e52f3",
   "metadata": {},
   "outputs": [
    {
     "name": "stdout",
     "output_type": "stream",
     "text": [
      "Example 7: hello\n"
     ]
    }
   ],
   "source": [
    "# Example 7: strip() with multiple chars\n",
    "text = \"-=hello=-\"\n",
    "print(\"Example 7:\", text.strip(\"-=\"))  # Output: hello"
   ]
  },
  {
   "cell_type": "code",
   "execution_count": 183,
   "id": "e2aec3aa-e477-435c-8d13-f1cf699a1b63",
   "metadata": {},
   "outputs": [
    {
     "name": "stdout",
     "output_type": "stream",
     "text": [
      "Example 8: 'hello'\n"
     ]
    }
   ],
   "source": [
    "# Example 8: strip() on string with spaces and tabs\n",
    "text = \" \\t hello \\n \"\n",
    "print(\"Example 8:\", \"'\" + text.strip() + \"'\")  # Output: 'hello'"
   ]
  },
  {
   "cell_type": "markdown",
   "id": "cbb03b79-6a13-4404-81b0-74721b6e55fb",
   "metadata": {},
   "source": [
    "## 6. Validation:\n",
    "\n",
    "- isalpha(), isdigit(), isalnum(), isspace(), isupper(), islower(), etc.\n",
    "\n",
    "Explanation (Roman Urdu):\n",
    "\n",
    "- Ye methods check karte hain ke string ke characters kis type ke hain: alphabets, digits, spaces, upper ya lower case."
   ]
  },
  {
   "cell_type": "code",
   "execution_count": 185,
   "id": "82d73dcf-6498-44c1-b9b6-14bcfe3a0d2e",
   "metadata": {},
   "outputs": [
    {
     "name": "stdout",
     "output_type": "stream",
     "text": [
      "Example 1: True\n",
      "Example 1: False\n"
     ]
    }
   ],
   "source": [
    "# Example 1: isalpha() sirf alphabets hain?\n",
    "print(\"Example 1:\", \"Hello\".isalpha())  # True\n",
    "print(\"Example 1:\", \"Hello123\".isalpha())  # False"
   ]
  },
  {
   "cell_type": "code",
   "execution_count": 186,
   "id": "878db3af-2979-4e33-a27b-2462cf229c81",
   "metadata": {},
   "outputs": [
    {
     "name": "stdout",
     "output_type": "stream",
     "text": [
      "Example 2: True\n",
      "Example 2: False\n"
     ]
    }
   ],
   "source": [
    "# Example 2: isdigit() sirf digits hain?\n",
    "print(\"Example 2:\", \"12345\".isdigit())  # True\n",
    "print(\"Example 2:\", \"123a5\".isdigit())  # False"
   ]
  },
  {
   "cell_type": "code",
   "execution_count": 187,
   "id": "42561058-ee71-49d2-b0ce-9d024c9c7c31",
   "metadata": {},
   "outputs": [
    {
     "name": "stdout",
     "output_type": "stream",
     "text": [
      "Example 3: True\n",
      "Example 3: False\n"
     ]
    }
   ],
   "source": [
    "# Example 3: isalnum() alphabets ya digits hain?\n",
    "print(\"Example 3:\", \"abc123\".isalnum())  # True\n",
    "print(\"Example 3:\", \"abc 123\".isalnum())  # False (space hai)\n"
   ]
  },
  {
   "cell_type": "code",
   "execution_count": 188,
   "id": "84ded7b1-7433-4ad0-9fcb-1cf857a4e43f",
   "metadata": {},
   "outputs": [
    {
     "name": "stdout",
     "output_type": "stream",
     "text": [
      "Example 4: True\n",
      "Example 4: False\n"
     ]
    }
   ],
   "source": [
    "\n",
    "# Example 4: isspace() sirf spaces hain?\n",
    "print(\"Example 4:\", \"   \\t\\n\".isspace())  # True\n",
    "print(\"Example 4:\", \" a \".isspace())  # False"
   ]
  },
  {
   "cell_type": "code",
   "execution_count": 189,
   "id": "d924f105-1951-46ff-b8ec-8f2369b4e628",
   "metadata": {},
   "outputs": [
    {
     "name": "stdout",
     "output_type": "stream",
     "text": [
      "Example 5: True\n",
      "Example 5: False\n"
     ]
    }
   ],
   "source": [
    "# Example 5: isupper() sirf uppercase hain?\n",
    "print(\"Example 5:\", \"HELLO\".isupper())  # True\n",
    "print(\"Example 5:\", \"Hello\".isupper())  # False"
   ]
  },
  {
   "cell_type": "code",
   "execution_count": 190,
   "id": "cdd8e65f-8c48-40c9-9262-cf22e78bf122",
   "metadata": {},
   "outputs": [
    {
     "name": "stdout",
     "output_type": "stream",
     "text": [
      "Example 6: True\n",
      "Example 6: False\n"
     ]
    }
   ],
   "source": [
    "# Example 6: islower() sirf lowercase hain?\n",
    "print(\"Example 6:\", \"hello\".islower())  # True\n",
    "print(\"Example 6:\", \"Hello\".islower())  # False"
   ]
  },
  {
   "cell_type": "code",
   "execution_count": 191,
   "id": "f443f0d5-0a11-4c0e-b6a4-3aa2e02c69a2",
   "metadata": {},
   "outputs": [
    {
     "name": "stdout",
     "output_type": "stream",
     "text": [
      "Example 7: True\n",
      "Example 7: False\n"
     ]
    }
   ],
   "source": [
    "# Example 7: Combined check\n",
    "text = \"Python3\"\n",
    "print(\"Example 7:\", text.isalnum())  # True\n",
    "print(\"Example 7:\", text.isalpha())  # False\n"
   ]
  },
  {
   "cell_type": "code",
   "execution_count": 192,
   "id": "027ed524-483c-49ac-85f2-d1742e957bc6",
   "metadata": {},
   "outputs": [
    {
     "name": "stdout",
     "output_type": "stream",
     "text": [
      "Example 8: False\n",
      "Example 8: False\n"
     ]
    }
   ],
   "source": [
    "# Example 8: Empty string check (saare validations False)\n",
    "empty = \"\"\n",
    "print(\"Example 8:\", empty.isalpha())  # False\n",
    "print(\"Example 8:\", empty.isdigit())  # False"
   ]
  },
  {
   "cell_type": "markdown",
   "id": "5bcaea34-3b59-4843-ac80-c4d35765a4e6",
   "metadata": {},
   "source": [
    "## 🔹 Part 6: Advanced String Handling\n",
    "\n",
    "- String Encoding and Decoding\n",
    "\n",
    "- Unicode Strings\n",
    "\n",
    "- Strings with Loops and Conditions\n",
    "\n",
    "- Strings and Regular Expressions (re module)\n",
    "\n",
    "- Template Strings (from string module)\n",
    "\n",
    "- String Performance Optimization\n",
    "\n",
    "- String Practice Problems & Patterns"
   ]
  },
  {
   "cell_type": "markdown",
   "id": "58761c6c-ebb7-48f0-9975-90fa01b390bb",
   "metadata": {},
   "source": [
    "## 1. String Encoding and Decoding\n",
    "\n",
    "- Strings ko computer samajhne ke liye bytes mein convert karna encoding kehlata hai, aur wapas string mein lane ko decoding. Python mein mostly utf-8 encoding use hoti hai."
   ]
  },
  {
   "cell_type": "code",
   "execution_count": 195,
   "id": "7f5e817e-518d-468b-b5e5-7a5543576c82",
   "metadata": {},
   "outputs": [
    {
     "name": "stdout",
     "output_type": "stream",
     "text": [
      "Example 1: b'Hello'\n"
     ]
    }
   ],
   "source": [
    "# Example 1: String ko bytes mein encode karna\n",
    "text = \"Hello\"\n",
    "encoded = text.encode('utf-8')\n",
    "print(\"Example 1:\", encoded)  # Output: b'Hello'"
   ]
  },
  {
   "cell_type": "code",
   "execution_count": 196,
   "id": "8bb5183c-dd3d-4cbf-97ae-4fd1e720fec9",
   "metadata": {},
   "outputs": [
    {
     "name": "stdout",
     "output_type": "stream",
     "text": [
      "Example 2: Hello\n"
     ]
    }
   ],
   "source": [
    "# Example 2: Bytes ko string mein decode karna\n",
    "bytes_data = b'Hello'\n",
    "decoded = bytes_data.decode('utf-8')\n",
    "print(\"Example 2:\", decoded)  # Output: Hello\n"
   ]
  },
  {
   "cell_type": "code",
   "execution_count": 197,
   "id": "b25d689d-6434-4e42-9d74-dcbc2eed8141",
   "metadata": {},
   "outputs": [
    {
     "name": "stdout",
     "output_type": "stream",
     "text": [
      "Example 3: b'Hello'\n"
     ]
    }
   ],
   "source": [
    "# Example 3: Encode with different encoding (ascii)\n",
    "text = \"Hello\"\n",
    "encoded = text.encode('ascii')\n",
    "print(\"Example 3:\", encoded)  # Output: b'Hello'\n"
   ]
  },
  {
   "cell_type": "code",
   "execution_count": 198,
   "id": "5ba6d620-df23-4bca-bbac-20bad4f16410",
   "metadata": {},
   "outputs": [
    {
     "name": "stdout",
     "output_type": "stream",
     "text": [
      "Example 4: b'Py\\xc3\\xb1thon'\n"
     ]
    }
   ],
   "source": [
    "# Example 4: Unicode string with special chars encode\n",
    "text = \"Pyñthon\"\n",
    "encoded = text.encode('utf-8')\n",
    "print(\"Example 4:\", encoded)  # Output: b'Py\\xc3\\xb1thon'\n"
   ]
  },
  {
   "cell_type": "code",
   "execution_count": 199,
   "id": "f7b3688d-d9ee-4b5e-848d-6ab7944b1902",
   "metadata": {},
   "outputs": [
    {
     "name": "stdout",
     "output_type": "stream",
     "text": [
      "Example 5: Pyñthon\n"
     ]
    }
   ],
   "source": [
    "# Example 5: Decode bytes with utf-8\n",
    "bytes_data = b'Py\\xc3\\xb1thon'\n",
    "decoded = bytes_data.decode('utf-8')\n",
    "print(\"Example 5:\", decoded)  # Output: Pyñthon\n"
   ]
  },
  {
   "cell_type": "code",
   "execution_count": 200,
   "id": "8f59ebae-aa45-431a-9d61-a4dd86f78486",
   "metadata": {},
   "outputs": [
    {
     "name": "stdout",
     "output_type": "stream",
     "text": [
      "Example 6: Decode error\n"
     ]
    }
   ],
   "source": [
    "# Example 6: Error handling during decode\n",
    "bytes_data = b'Py\\x80thon'\n",
    "try:\n",
    "    decoded = bytes_data.decode('utf-8')\n",
    "except UnicodeDecodeError:\n",
    "    decoded = \"Decode error\"\n",
    "print(\"Example 6:\", decoded)"
   ]
  },
  {
   "cell_type": "code",
   "execution_count": 201,
   "id": "a3f7ab97-5e76-4e8c-bb37-bf75ff909dfd",
   "metadata": {},
   "outputs": [
    {
     "name": "stdout",
     "output_type": "stream",
     "text": [
      "Example 7: b'Python'\n"
     ]
    }
   ],
   "source": [
    "# Example 7: Encode with ignoring errors\n",
    "text = \"Pyñthon\"\n",
    "encoded = text.encode('ascii', errors='ignore')\n",
    "print(\"Example 7:\", encoded)  # Output: b'Python'"
   ]
  },
  {
   "cell_type": "markdown",
   "id": "0f658e6e-376e-45d3-aadd-319f7e79670b",
   "metadata": {},
   "source": [
    "## 2. Unicode Strings\n",
    "Explanation (Roman Urdu):\n",
    "\n",
    "- Python 3 mein har string Unicode hoti hai, jisme duniya ke har character ko support milta hai, jaise Arabic, Chinese, Emojis, etc.\n"
   ]
  },
  {
   "cell_type": "code",
   "execution_count": 203,
   "id": "ca5e6d2e-20aa-4d14-ae82-e5c7d9f52e93",
   "metadata": {},
   "outputs": [
    {
     "name": "stdout",
     "output_type": "stream",
     "text": [
      "Example 1: مرحبا\n"
     ]
    }
   ],
   "source": [
    "# Example 1: Unicode string with Arabic\n",
    "text = \"مرحبا\"\n",
    "print(\"Example 1:\", text)  # Output: مرحبا"
   ]
  },
  {
   "cell_type": "code",
   "execution_count": 204,
   "id": "191a3b42-1343-49d2-a5a7-4d1f13a4a5e2",
   "metadata": {},
   "outputs": [
    {
     "name": "stdout",
     "output_type": "stream",
     "text": [
      "Example 2: 你好\n"
     ]
    }
   ],
   "source": [
    "# Example 2: Unicode with Chinese characters\n",
    "text = \"你好\"\n",
    "print(\"Example 2:\", text)  # Output: 你好"
   ]
  },
  {
   "cell_type": "code",
   "execution_count": 205,
   "id": "cfedd9e8-33f4-43d0-83ea-09fadaf02c75",
   "metadata": {},
   "outputs": [
    {
     "name": "stdout",
     "output_type": "stream",
     "text": [
      "Example 3: I ❤️ Python\n"
     ]
    }
   ],
   "source": [
    "# Example 3: Using emoji in string\n",
    "text = \"I ❤️ Python\"\n",
    "print(\"Example 3:\", text)  # Output: I ❤️ Python"
   ]
  },
  {
   "cell_type": "code",
   "execution_count": 206,
   "id": "c46d96be-0ee9-4fbc-b4c4-741dc1ee970d",
   "metadata": {},
   "outputs": [
    {
     "name": "stdout",
     "output_type": "stream",
     "text": [
      "Example 4: 5\n"
     ]
    }
   ],
   "source": [
    "# Example 4: Length of Unicode string\n",
    "text = \"مرحبا\"\n",
    "print(\"Example 4:\", len(text))  # Output: 5\n"
   ]
  },
  {
   "cell_type": "code",
   "execution_count": 208,
   "id": "eed7f9be-eb6b-4012-99cc-300d17813cde",
   "metadata": {},
   "outputs": [
    {
     "ename": "TypeError",
     "evalue": "ord() expected a character, but string of length 2 found",
     "output_type": "error",
     "traceback": [
      "\u001b[1;31m---------------------------------------------------------------------------\u001b[0m",
      "\u001b[1;31mTypeError\u001b[0m                                 Traceback (most recent call last)",
      "Cell \u001b[1;32mIn[208], line 3\u001b[0m\n\u001b[0;32m      1\u001b[0m \u001b[38;5;66;03m# Example 5: Unicode code point of a character\u001b[39;00m\n\u001b[0;32m      2\u001b[0m char \u001b[38;5;241m=\u001b[39m \u001b[38;5;124m'\u001b[39m\u001b[38;5;124m❤️\u001b[39m\u001b[38;5;124m'\u001b[39m\n\u001b[1;32m----> 3\u001b[0m \u001b[38;5;28mprint\u001b[39m(\u001b[38;5;124m\"\u001b[39m\u001b[38;5;124mExample 5:\u001b[39m\u001b[38;5;124m\"\u001b[39m, \u001b[38;5;28mord\u001b[39m(char))\n",
      "\u001b[1;31mTypeError\u001b[0m: ord() expected a character, but string of length 2 found"
     ]
    }
   ],
   "source": [
    "# Example 5: Unicode code point of a character\n",
    "char = '❤️'\n",
    "print(\"Example 5:\", ord(char))  # Output: Unicode code point\n"
   ]
  },
  {
   "cell_type": "code",
   "execution_count": 209,
   "id": "ea2ff905-83a7-481d-9e02-77db415c26e1",
   "metadata": {},
   "outputs": [
    {
     "name": "stdout",
     "output_type": "stream",
     "text": [
      "Example 6: ❤\n"
     ]
    }
   ],
   "source": [
    "# Example 6: Creating Unicode character from code point\n",
    "print(\"Example 6:\", chr(0x2764))  # Output: ❤"
   ]
  },
  {
   "cell_type": "code",
   "execution_count": 210,
   "id": "e3b9890a-2171-4040-ac9e-b848a2ae8182",
   "metadata": {},
   "outputs": [
    {
     "name": "stdout",
     "output_type": "stream",
     "text": [
      "Example 7: True\n"
     ]
    }
   ],
   "source": [
    "# Example 7: Check if character is digit (Unicode)\n",
    "print(\"Example 7:\", '٤'.isdigit())  # Arabic digit 4, Output: True"
   ]
  },
  {
   "cell_type": "markdown",
   "id": "7c40dd8c-9465-4bc7-bb7a-2c1a07612043",
   "metadata": {},
   "source": [
    "## 3. Strings with Loops and Conditions\n",
    "Explanation (Roman Urdu):\n",
    "\n",
    "- Strings ke characters par loop chalana aur conditions laga kar alag kaam karna.\n"
   ]
  },
  {
   "cell_type": "code",
   "execution_count": 212,
   "id": "cf430678-8dc6-4d45-9722-32b786b723ee",
   "metadata": {},
   "outputs": [
    {
     "name": "stdout",
     "output_type": "stream",
     "text": [
      "Example 1: P\n",
      "Example 1: y\n",
      "Example 1: t\n",
      "Example 1: h\n",
      "Example 1: o\n",
      "Example 1: n\n"
     ]
    }
   ],
   "source": [
    "# Example 1: Loop through string characters\n",
    "text = \"Python\"\n",
    "for ch in text:\n",
    "    print(\"Example 1:\", ch)"
   ]
  },
  {
   "cell_type": "code",
   "execution_count": 213,
   "id": "61f844f2-a559-4d2d-9602-a811345bdbb9",
   "metadata": {},
   "outputs": [
    {
     "name": "stdout",
     "output_type": "stream",
     "text": [
      "Example 2: 3\n"
     ]
    }
   ],
   "source": [
    "# Example 2: Count vowels in string\n",
    "text = \"Hello World\"\n",
    "count = 0\n",
    "for ch in text.lower():\n",
    "    if ch in 'aeiou':\n",
    "        count += 1\n",
    "print(\"Example 2:\", count)"
   ]
  },
  {
   "cell_type": "code",
   "execution_count": 214,
   "id": "aed1e9eb-9bd4-4193-9e37-aea586f3364e",
   "metadata": {},
   "outputs": [
    {
     "name": "stdout",
     "output_type": "stream",
     "text": [
      "Example 3: P\n",
      "Example 3: T\n",
      "Example 3: O\n"
     ]
    }
   ],
   "source": [
    "# Example 3: Print uppercase characters only\n",
    "text = \"PyThOn\"\n",
    "for ch in text:\n",
    "    if ch.isupper():\n",
    "        print(\"Example 3:\", ch)"
   ]
  },
  {
   "cell_type": "code",
   "execution_count": 215,
   "id": "34e7645e-e631-4d7c-80d1-132199d377d4",
   "metadata": {},
   "outputs": [
    {
     "name": "stdout",
     "output_type": "stream",
     "text": [
      "Example 4: H*ll* W*rld\n"
     ]
    }
   ],
   "source": [
    "# Example 4: Replace vowels with '*'\n",
    "text = \"Hello World\"\n",
    "result = \"\"\n",
    "for ch in text:\n",
    "    if ch.lower() in 'aeiou':\n",
    "        result += '*'\n",
    "    else:\n",
    "        result += ch\n",
    "print(\"Example 4:\", result)"
   ]
  },
  {
   "cell_type": "code",
   "execution_count": 216,
   "id": "4f8adc3d-5980-4c8e-bc5d-08a05990caf3",
   "metadata": {},
   "outputs": [
    {
     "name": "stdout",
     "output_type": "stream",
     "text": [
      "Example 5: True\n"
     ]
    }
   ],
   "source": [
    "# Example 5: Check if string has digits\n",
    "text = \"Hello123\"\n",
    "has_digit = False\n",
    "for ch in text:\n",
    "    if ch.isdigit():\n",
    "        has_digit = True\n",
    "        break\n",
    "print(\"Example 5:\", has_digit)\n"
   ]
  },
  {
   "cell_type": "code",
   "execution_count": 217,
   "id": "3c271214-ba6c-4b7c-a33a-8518126b407e",
   "metadata": {},
   "outputs": [
    {
     "name": "stdout",
     "output_type": "stream",
     "text": [
      "Example 6: P\n",
      "Example 6: t\n",
      "Example 6: o\n"
     ]
    }
   ],
   "source": [
    "# Example 6: Print characters at even indices\n",
    "text = \"Python\"\n",
    "for i in range(len(text)):\n",
    "    if i % 2 == 0:\n",
    "        print(\"Example 6:\", text[i])\n"
   ]
  },
  {
   "cell_type": "code",
   "execution_count": 218,
   "id": "7e09524d-3c73-4b3f-b5fe-927e664467c7",
   "metadata": {},
   "outputs": [
    {
     "name": "stdout",
     "output_type": "stream",
     "text": [
      "Example 7: Upper = 3 , Lower = 3\n"
     ]
    }
   ],
   "source": [
    "# Example 7: Count uppercase and lowercase letters\n",
    "text = \"PyThOn\"\n",
    "upper_count = 0\n",
    "lower_count = 0\n",
    "for ch in text:\n",
    "    if ch.isupper():\n",
    "        upper_count += 1\n",
    "    elif ch.islower():\n",
    "        lower_count += 1\n",
    "print(\"Example 7: Upper =\", upper_count, \", Lower =\", lower_count)\n"
   ]
  },
  {
   "cell_type": "markdown",
   "id": "a02d3f03-70ea-48a1-ba7a-25239077d6bf",
   "metadata": {},
   "source": [
    "## 4. Strings and Regular Expressions (re module)\n",
    "Explanation (Roman Urdu):\n",
    "\n",
    "- re module regular expressions ke zariye complex string searching aur matching karta hai."
   ]
  },
  {
   "cell_type": "code",
   "execution_count": 220,
   "id": "79f1663d-1f5f-49e9-a835-dffe0e2b23e0",
   "metadata": {},
   "outputs": [],
   "source": [
    "import re"
   ]
  },
  {
   "cell_type": "code",
   "execution_count": 221,
   "id": "afcd2c5b-bd80-4c59-899a-ec2467501cd9",
   "metadata": {},
   "outputs": [
    {
     "name": "stdout",
     "output_type": "stream",
     "text": [
      "Example 1: True\n"
     ]
    }
   ],
   "source": [
    "# Example 1: Check if string contains digits\n",
    "text = \"Hello123\"\n",
    "result = re.search(r'\\d+', text)\n",
    "print(\"Example 1:\", bool(result))  # True"
   ]
  },
  {
   "cell_type": "code",
   "execution_count": 222,
   "id": "4c626725-279a-4ad4-807a-1101c7a78b37",
   "metadata": {},
   "outputs": [
    {
     "name": "stdout",
     "output_type": "stream",
     "text": [
      "Example 2: ['Python', 'is', 'fun']\n"
     ]
    }
   ],
   "source": [
    "# Example 2: Find all words in string\n",
    "text = \"Python is fun\"\n",
    "words = re.findall(r'\\w+', text)\n",
    "print(\"Example 2:\", words)  # ['Python', 'is', 'fun']\n"
   ]
  },
  {
   "cell_type": "code",
   "execution_count": 223,
   "id": "4913be2f-8f05-47f8-84a5-5cbe1ee5a186",
   "metadata": {},
   "outputs": [
    {
     "name": "stdout",
     "output_type": "stream",
     "text": [
      "Example 3: My number is #####\n"
     ]
    }
   ],
   "source": [
    "# Example 3: Replace all digits with '#'\n",
    "text = \"My number is 12345\"\n",
    "new_text = re.sub(r'\\d', '#', text)\n",
    "print(\"Example 3:\", new_text)  # My number is #####"
   ]
  },
  {
   "cell_type": "code",
   "execution_count": 224,
   "id": "ea6a082e-453e-4289-b927-058ce4da9778",
   "metadata": {},
   "outputs": [
    {
     "name": "stdout",
     "output_type": "stream",
     "text": [
      "Example 4: True\n"
     ]
    }
   ],
   "source": [
    "\n",
    "# Example 4: Match string starting with Hello\n",
    "text = \"Hello World\"\n",
    "match = re.match(r'^Hello', text)\n",
    "print(\"Example 4:\", bool(match))  # True\n"
   ]
  },
  {
   "cell_type": "code",
   "execution_count": 225,
   "id": "c59aa837-5551-4258-b181-e912d7ad5857",
   "metadata": {},
   "outputs": [
    {
     "name": "stdout",
     "output_type": "stream",
     "text": [
      "Example 5: ['Hello', 'World', 'Python']\n"
     ]
    }
   ],
   "source": [
    "# Example 5: Split string by one or more spaces\n",
    "text = \"Hello   World  Python\"\n",
    "parts = re.split(r'\\s+', text)\n",
    "print(\"Example 5:\", parts)  # ['Hello', 'World', 'Python']\n"
   ]
  },
  {
   "cell_type": "markdown",
   "id": "b5d16eb2-730c-4a56-8205-58978d0d3426",
   "metadata": {},
   "source": [
    "## 5. Template Strings (from string module)\n",
    "\n",
    "\n",
    "- string module ka Template class simple aur safe string substitution ke liye hota hai, jisme $variable likhte hain."
   ]
  },
  {
   "cell_type": "code",
   "execution_count": 227,
   "id": "c5fe8086-f79d-4635-96fd-114c3896c77d",
   "metadata": {},
   "outputs": [],
   "source": [
    "from string import Template"
   ]
  },
  {
   "cell_type": "code",
   "execution_count": 228,
   "id": "8e75d93c-3e2a-46af-ae39-e0b5a4ba30db",
   "metadata": {},
   "outputs": [
    {
     "name": "stdout",
     "output_type": "stream",
     "text": [
      "Example 1: Hello, Ali!\n"
     ]
    }
   ],
   "source": [
    "# Example 1: Basic Template\n",
    "t = Template('Hello, $name!')\n",
    "print(\"Example 1:\", t.substitute(name='Ali'))"
   ]
  },
  {
   "cell_type": "code",
   "execution_count": 229,
   "id": "b63aad9c-7d93-455e-9571-21e5ce31e687",
   "metadata": {},
   "outputs": [
    {
     "name": "stdout",
     "output_type": "stream",
     "text": [
      "Example 2: Sara is 22 years old\n"
     ]
    }
   ],
   "source": [
    "# Example 2: Multiple variables\n",
    "t = Template('$name is $age years old')\n",
    "print(\"Example 2:\", t.substitute(name='Sara', age=22))\n"
   ]
  },
  {
   "cell_type": "code",
   "execution_count": 230,
   "id": "63c40b46-890e-46d2-8579-cdfb0d4f8126",
   "metadata": {},
   "outputs": [],
   "source": [
    "# Example 3: Missing variable with substitute (raises error)\n",
    "# t.substitute(name='Ali')  # KeyError"
   ]
  },
  {
   "cell_type": "code",
   "execution_count": 231,
   "id": "3a34ec63-2ad7-4e66-b0d2-577f16dc19a5",
   "metadata": {},
   "outputs": [
    {
     "name": "stdout",
     "output_type": "stream",
     "text": [
      "Example 4: Hello, Ali and $friend\n"
     ]
    }
   ],
   "source": [
    "# Example 4: Using safe_substitute (missing vars ignored)\n",
    "t = Template('Hello, $name and $friend')\n",
    "print(\"Example 4:\", t.safe_substitute(name='Ali'))"
   ]
  },
  {
   "cell_type": "code",
   "execution_count": 232,
   "id": "defe27ca-57f5-4e09-9211-47f8f1430a34",
   "metadata": {},
   "outputs": [
    {
     "name": "stdout",
     "output_type": "stream",
     "text": [
      "Example 5: admin logged in\n"
     ]
    }
   ],
   "source": [
    "\n",
    "# Example 5: Variables with underscore\n",
    "t = Template('$user_name logged in')\n",
    "print(\"Example 5:\", t.substitute(user_name='admin'))"
   ]
  },
  {
   "cell_type": "code",
   "execution_count": 233,
   "id": "9df7923b-da93-41e4-8ac3-f58396a6ab34",
   "metadata": {},
   "outputs": [
    {
     "name": "stdout",
     "output_type": "stream",
     "text": [
      "Example 6: Price is $5\n"
     ]
    }
   ],
   "source": [
    "# Example 6: Escaping $ with $$\n",
    "t = Template('Price is $$5')\n",
    "print(\"Example 6:\", t.substitute())"
   ]
  },
  {
   "cell_type": "code",
   "execution_count": 234,
   "id": "1e03f5e5-babc-4047-844d-07770ac3848d",
   "metadata": {},
   "outputs": [
    {
     "name": "stdout",
     "output_type": "stream",
     "text": [
      "Example 7: Zain is 30 years old\n"
     ]
    }
   ],
   "source": [
    "# Example 7: Template with dictionary\n",
    "data = {'name': 'Zain', 'age': 30}\n",
    "t = Template('$name is $age years old')\n",
    "print(\"Example 7:\", t.substitute(data))"
   ]
  },
  {
   "cell_type": "markdown",
   "id": "58513b8d-d80a-4b24-a2dd-699124254ea5",
   "metadata": {},
   "source": [
    "## 6. String Performance Optimization\n",
    "\n",
    "\n",
    "- Strings immutable hoti hain, is liye frequent concatenation slow ho sakta hai. Efficient tarika hai list mein append kar ke join() karna."
   ]
  },
  {
   "cell_type": "code",
   "execution_count": 236,
   "id": "b36505aa-18b2-4edb-87f7-bfb2bce71ea6",
   "metadata": {},
   "outputs": [
    {
     "name": "stdout",
     "output_type": "stream",
     "text": [
      "Example 1: 0 1 2 3 4 \n"
     ]
    }
   ],
   "source": [
    "# Example 1: Slow concatenation in loop\n",
    "result = \"\"\n",
    "for i in range(5):\n",
    "    result += str(i) + \" \"\n",
    "print(\"Example 1:\", result)"
   ]
  },
  {
   "cell_type": "code",
   "execution_count": 237,
   "id": "bb80ace3-10a1-40a6-8d6e-6f5396a2d4ed",
   "metadata": {},
   "outputs": [
    {
     "name": "stdout",
     "output_type": "stream",
     "text": [
      "Example 2: 0 1 2 3 4\n"
     ]
    }
   ],
   "source": [
    "# Example 2: Faster concatenation using list and join\n",
    "result_list = []\n",
    "for i in range(5):\n",
    "    result_list.append(str(i))\n",
    "result = \" \".join(result_list)\n",
    "print(\"Example 2:\", result)\n"
   ]
  },
  {
   "cell_type": "code",
   "execution_count": 238,
   "id": "5561d47f-cb48-46ae-bfa7-460708ef1fe7",
   "metadata": {},
   "outputs": [
    {
     "name": "stdout",
     "output_type": "stream",
     "text": [
      "Example 3: My name is Ali and I am 25 years old.\n"
     ]
    }
   ],
   "source": [
    "# Example 3: Using f-string for concatenation\n",
    "name = \"Ali\"\n",
    "age = 25\n",
    "text = f\"My name is {name} and I am {age} years old.\"\n",
    "print(\"Example 3:\", text)\n"
   ]
  },
  {
   "cell_type": "code",
   "execution_count": 239,
   "id": "8ac70346-7267-411e-ad08-dc5906fd0434",
   "metadata": {},
   "outputs": [
    {
     "name": "stdout",
     "output_type": "stream",
     "text": [
      "Example 4: Name: Ali, Age: 25\n"
     ]
    }
   ],
   "source": [
    "# Example 4: Using str.format()\n",
    "text = \"Name: {}, Age: {}\".format(name, age)\n",
    "print(\"Example 4:\", text)"
   ]
  },
  {
   "cell_type": "code",
   "execution_count": 240,
   "id": "caabbda8-0bf2-42a2-84aa-edcdf6fa0930",
   "metadata": {},
   "outputs": [
    {
     "name": "stdout",
     "output_type": "stream",
     "text": [
      "Example 5: ['HELLO', 'WORLD']\n"
     ]
    }
   ],
   "source": [
    "# Example 5: Avoid unnecessary string operations in loops\n",
    "words = [\"hello\", \"world\"]\n",
    "for i in range(len(words)):\n",
    "    words[i] = words[i].upper()\n",
    "print(\"Example 5:\", words)"
   ]
  },
  {
   "cell_type": "code",
   "execution_count": 241,
   "id": "63124eaf-094b-4d13-b1ea-d4954820ae97",
   "metadata": {},
   "outputs": [
    {
     "name": "stdout",
     "output_type": "stream",
     "text": [
      "Example 6: abcd\n"
     ]
    }
   ],
   "source": [
    "# Example 6: Use join instead of + in large strings\n",
    "letters = ['a', 'b', 'c', 'd']\n",
    "result = \"\".join(letters)\n",
    "print(\"Example 6:\", result)"
   ]
  },
  {
   "cell_type": "code",
   "execution_count": 242,
   "id": "c623aea0-3e55-46fc-8dc9-f229cc346bc2",
   "metadata": {},
   "outputs": [
    {
     "name": "stdout",
     "output_type": "stream",
     "text": [
      "Example 7: 0 1 2 3 4 \n"
     ]
    }
   ],
   "source": [
    "# Example 7: Using bytearray for heavy string concatenation (advanced)\n",
    "ba = bytearray()\n",
    "for i in range(5):\n",
    "    ba.extend(f\"{i} \".encode())\n",
    "print(\"Example 7:\", ba.decode())"
   ]
  },
  {
   "cell_type": "markdown",
   "id": "d4fa6026-da9b-4df0-aa58-3f694a51f0b3",
   "metadata": {},
   "source": [
    "\n",
    "## 7. String Practice Problems & Patterns\n",
    "\n",
    "\n",
    "- Strings par practice karne ke liye kuch common problems aur pattern print karte hain."
   ]
  },
  {
   "cell_type": "code",
   "execution_count": 244,
   "id": "a4af7e6e-f136-4346-99a8-73244dce6f54",
   "metadata": {},
   "outputs": [
    {
     "name": "stdout",
     "output_type": "stream",
     "text": [
      "Example 1: nohtyP\n"
     ]
    }
   ],
   "source": [
    "# Example 1: Reverse a string\n",
    "text = \"Python\"\n",
    "print(\"Example 1:\", text[::-1])  # nohtyP\n"
   ]
  },
  {
   "cell_type": "code",
   "execution_count": 245,
   "id": "4fd965fc-963e-49c2-a755-2bcfddc36750",
   "metadata": {},
   "outputs": [
    {
     "name": "stdout",
     "output_type": "stream",
     "text": [
      "Example 2: True\n"
     ]
    }
   ],
   "source": [
    "\n",
    "# Example 2: Check palindrome\n",
    "text = \"madam\"\n",
    "print(\"Example 2:\", text == text[::-1])  # True"
   ]
  },
  {
   "cell_type": "code",
   "execution_count": 246,
   "id": "a0c068a5-a90f-4d49-9885-9cdca9f87601",
   "metadata": {},
   "outputs": [
    {
     "name": "stdout",
     "output_type": "stream",
     "text": [
      "Example 3: 3\n"
     ]
    }
   ],
   "source": [
    "# Example 3: Count vowels\n",
    "text = \"Hello World\"\n",
    "vowels = sum(ch in 'aeiouAEIOU' for ch in text)\n",
    "print(\"Example 3:\", vowels)"
   ]
  },
  {
   "cell_type": "code",
   "execution_count": 247,
   "id": "20d5cab6-00b8-43dd-a331-419b4c85da6a",
   "metadata": {},
   "outputs": [
    {
     "name": "stdout",
     "output_type": "stream",
     "text": [
      "Example 4:    *\n",
      "Example 4:   ***\n",
      "Example 4:  *****\n",
      "Example 4: *******\n"
     ]
    }
   ],
   "source": [
    "\n",
    "# Example 4: Print pattern - pyramid of stars\n",
    "n = 4\n",
    "for i in range(1, n+1):\n",
    "    print(\"Example 4:\", \" \"*(n-i) + \"*\"* (2*i-1))"
   ]
  },
  {
   "cell_type": "code",
   "execution_count": 248,
   "id": "35d8a00f-93f7-49e9-9da5-8db92766083d",
   "metadata": {},
   "outputs": [
    {
     "name": "stdout",
     "output_type": "stream",
     "text": [
      "Example 5: ban\n"
     ]
    }
   ],
   "source": [
    "# Example 5: Remove duplicates from string\n",
    "text = \"banana\"\n",
    "result = \"\"\n",
    "for ch in text:\n",
    "    if ch not in result:\n",
    "        result += ch\n",
    "print(\"Example 5:\", result)  # ban"
   ]
  },
  {
   "cell_type": "code",
   "execution_count": 249,
   "id": "25928d98-9bfb-40c9-a587-c605137f6106",
   "metadata": {},
   "outputs": [
    {
     "name": "stdout",
     "output_type": "stream",
     "text": [
      "Example 6: p\n"
     ]
    }
   ],
   "source": [
    "# Example 6: Find most frequent character\n",
    "text = \"apple\"\n",
    "freq = {}\n",
    "for ch in text:\n",
    "    freq[ch] = freq.get(ch, 0) + 1\n",
    "most_freq = max(freq, key=freq.get)\n",
    "print(\"Example 6:\", most_freq)"
   ]
  },
  {
   "cell_type": "code",
   "execution_count": 250,
   "id": "71241a19-0b20-47a1-8d85-1fe2014d5223",
   "metadata": {},
   "outputs": [
    {
     "name": "stdout",
     "output_type": "stream",
     "text": [
      "Example 7: ['a', 'an', 'ana', 'anan', 'anana', 'a', 'an', 'ana', 'a']\n"
     ]
    }
   ],
   "source": [
    "# Example 7: Find all substrings starting with 'a'\n",
    "text = \"banana\"\n",
    "substrings = [text[i:j] for i in range(len(text)) for j in range(i+1, len(text)+1) if text[i] == 'a']\n",
    "print(\"Example 7:\", substrings)"
   ]
  },
  {
   "cell_type": "code",
   "execution_count": null,
   "id": "0fa4b9e6-254b-49df-ba2f-892167f72d27",
   "metadata": {},
   "outputs": [],
   "source": []
  },
  {
   "cell_type": "code",
   "execution_count": null,
   "id": "95240381-fb98-400f-a9be-e24659846e75",
   "metadata": {},
   "outputs": [],
   "source": []
  },
  {
   "cell_type": "code",
   "execution_count": null,
   "id": "0ee5c8e9-6554-40ee-8643-a31ad9988f34",
   "metadata": {},
   "outputs": [],
   "source": []
  },
  {
   "cell_type": "code",
   "execution_count": null,
   "id": "3e8a8b1c-ef45-4c33-85ba-2f2bf40ed477",
   "metadata": {},
   "outputs": [],
   "source": []
  },
  {
   "cell_type": "code",
   "execution_count": null,
   "id": "ab25b664-d54e-413e-9c52-e1962fcef4d2",
   "metadata": {},
   "outputs": [],
   "source": []
  },
  {
   "cell_type": "code",
   "execution_count": null,
   "id": "97da4e2e-6b50-41a2-a836-eef7be936e7a",
   "metadata": {},
   "outputs": [],
   "source": []
  },
  {
   "cell_type": "code",
   "execution_count": null,
   "id": "3e4da5f7-8f50-42f7-9e84-d27ad1788acc",
   "metadata": {},
   "outputs": [],
   "source": []
  },
  {
   "cell_type": "code",
   "execution_count": null,
   "id": "0acee74b-063e-46bb-b7ae-903d060b4375",
   "metadata": {},
   "outputs": [],
   "source": []
  },
  {
   "cell_type": "code",
   "execution_count": null,
   "id": "9df23c7a-2ab6-4623-b5e7-a7f3a77bc7da",
   "metadata": {},
   "outputs": [],
   "source": []
  },
  {
   "cell_type": "code",
   "execution_count": null,
   "id": "84dfecaa-5e98-4315-8a0c-e1d6bb18c560",
   "metadata": {},
   "outputs": [],
   "source": []
  }
 ],
 "metadata": {
  "kernelspec": {
   "display_name": "Python 3 (ipykernel)",
   "language": "python",
   "name": "python3"
  },
  "language_info": {
   "codemirror_mode": {
    "name": "ipython",
    "version": 3
   },
   "file_extension": ".py",
   "mimetype": "text/x-python",
   "name": "python",
   "nbconvert_exporter": "python",
   "pygments_lexer": "ipython3",
   "version": "3.12.7"
  }
 },
 "nbformat": 4,
 "nbformat_minor": 5
}
