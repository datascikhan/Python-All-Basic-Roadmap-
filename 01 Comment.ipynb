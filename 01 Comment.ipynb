{
 "cells": [
  {
   "cell_type": "markdown",
   "id": "f9ceba3e-a0bf-4359-8ae1-fbc07fc9e3a0",
   "metadata": {},
   "source": [
    "# Comment"
   ]
  },
  {
   "cell_type": "markdown",
   "id": "bbb69f27-1b56-4bf3-8e7a-2915ae28f307",
   "metadata": {},
   "source": [
    "Python mein comment ka use , kese code ko samjhane kalie hota hai.\n",
    "ya kese code ko temporary disable karne kalie hota hia.\n",
    "comment ko hum # se show kartein hein, # ke baad ho kuch bhe likhein ge , python us ko ignor karde ga, us ke\n",
    "excecution nhi kare ga."
   ]
  },
  {
   "cell_type": "code",
   "execution_count": null,
   "id": "6036304d-f1a5-40fd-b000-d160ddf0682b",
   "metadata": {},
   "outputs": [],
   "source": []
  },
  {
   "cell_type": "code",
   "execution_count": 2,
   "id": "1be2e410-6d26-45d2-8ed5-8b78533a5043",
   "metadata": {},
   "outputs": [
    {
     "name": "stdout",
     "output_type": "stream",
     "text": [
      "Comment kese code ko disable ya code ko samjhane kalie hota hai.\n"
     ]
    }
   ],
   "source": [
    "# yeh ek comment hai jo khe , python es ko ignor kar dega \n",
    "print(\"Comment kese code ko disable ya code ko samjhane kalie hota hai.\")"
   ]
  },
  {
   "cell_type": "code",
   "execution_count": 3,
   "id": "329f6f25-8869-46fe-ba9d-f6b6ee8e27b3",
   "metadata": {},
   "outputs": [
    {
     "name": "stdout",
     "output_type": "stream",
     "text": [
      "Hello, World\n"
     ]
    }
   ],
   "source": [
    "print(\"Hello, World\") # yeh print() function ke zarye hum ne \"Hello , World\" ko print kiya\n"
   ]
  },
  {
   "cell_type": "code",
   "execution_count": 4,
   "id": "d9454c07-7fc3-4fd6-a1d7-3a4eb60c2f01",
   "metadata": {},
   "outputs": [
    {
     "name": "stdout",
     "output_type": "stream",
     "text": [
      "Hello, Mate!\n"
     ]
    }
   ],
   "source": [
    "# kese code ko temporary disable karna \n",
    "# print(\"Hello, World\")\n",
    "print(\"Hello, Mate!\") "
   ]
  },
  {
   "cell_type": "code",
   "execution_count": 6,
   "id": "c459a4d6-0637-4b1c-aadc-0ffd956cb93a",
   "metadata": {},
   "outputs": [
    {
     "data": {
      "text/plain": [
       "'\\nHello how are you?\\nWhat are you doing? \\nWhat is your name?'"
      ]
     },
     "execution_count": 6,
     "metadata": {},
     "output_type": "execute_result"
    }
   ],
   "source": [
    "# multiline comment for string\n",
    "\"\"\"\n",
    "Hello how are you?\n",
    "What are you doing? \n",
    "What is your name?\"\"\""
   ]
  },
  {
   "cell_type": "code",
   "execution_count": 7,
   "id": "946afa61-d96f-48e8-b652-e4c80f5402cd",
   "metadata": {},
   "outputs": [
    {
     "name": "stdout",
     "output_type": "stream",
     "text": [
      "\n",
      "Hello how are you?\n",
      "What are you doing? \n",
      "What is your name?\n"
     ]
    }
   ],
   "source": [
    "print(\"\"\"\n",
    "Hello how are you?\n",
    "What are you doing? \n",
    "What is your name?\"\"\")"
   ]
  },
  {
   "cell_type": "code",
   "execution_count": 8,
   "id": "f2324ece-2866-479d-aa7b-1f579420cc6c",
   "metadata": {},
   "outputs": [
    {
     "name": "stdout",
     "output_type": "stream",
     "text": [
      "\n",
      "Hello how are you \n",
      "What is your name \n",
      "i fuck you bitch\n",
      "\n"
     ]
    }
   ],
   "source": [
    "print('''\n",
    "Hello how are you \n",
    "What is your name \n",
    "i fuck you bitch\n",
    "''')"
   ]
  },
  {
   "cell_type": "code",
   "execution_count": 10,
   "id": "6d824b6c-cbea-4593-9a42-dbd004ffedba",
   "metadata": {},
   "outputs": [
    {
     "name": "stdout",
     "output_type": "stream",
     "text": [
      "hello World!\n"
     ]
    }
   ],
   "source": [
    "\"\"\"\n",
    "yeh ek code hai\n",
    "mujhe nhi pata khe \n",
    "kia karna hai \n",
    "mgr karna hai\n",
    "hahahahhahah\n",
    "\"\"\"\n",
    "print(\"hello World!\")"
   ]
  },
  {
   "cell_type": "code",
   "execution_count": null,
   "id": "71d00b60-fdfa-4418-bcbc-72741922c247",
   "metadata": {},
   "outputs": [],
   "source": [
    "#"
   ]
  },
  {
   "cell_type": "code",
   "execution_count": null,
   "id": "6b60f88e-077f-4b6c-9115-e189f5509c52",
   "metadata": {},
   "outputs": [],
   "source": []
  },
  {
   "cell_type": "code",
   "execution_count": null,
   "id": "6e673e83-94d5-4bd9-97c3-2e22a76bee9f",
   "metadata": {},
   "outputs": [],
   "source": []
  },
  {
   "cell_type": "code",
   "execution_count": null,
   "id": "aa8b15c6-644b-45e2-86c3-a161c924d193",
   "metadata": {},
   "outputs": [],
   "source": []
  },
  {
   "cell_type": "code",
   "execution_count": null,
   "id": "b90abf4e-3080-4852-a6c8-8c1c43577c6e",
   "metadata": {},
   "outputs": [],
   "source": []
  },
  {
   "cell_type": "code",
   "execution_count": null,
   "id": "edaef0d4-d35d-4d61-9f7b-dde989af746f",
   "metadata": {},
   "outputs": [],
   "source": []
  },
  {
   "cell_type": "code",
   "execution_count": null,
   "id": "0f9711cf-2c6a-4a6f-beee-7708a7877795",
   "metadata": {},
   "outputs": [],
   "source": []
  }
 ],
 "metadata": {
  "kernelspec": {
   "display_name": "Python 3 (ipykernel)",
   "language": "python",
   "name": "python3"
  },
  "language_info": {
   "codemirror_mode": {
    "name": "ipython",
    "version": 3
   },
   "file_extension": ".py",
   "mimetype": "text/x-python",
   "name": "python",
   "nbconvert_exporter": "python",
   "pygments_lexer": "ipython3",
   "version": "3.12.7"
  }
 },
 "nbformat": 4,
 "nbformat_minor": 5
}
