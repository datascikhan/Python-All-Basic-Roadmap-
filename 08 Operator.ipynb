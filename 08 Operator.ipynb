{
 "cells": [
  {
   "cell_type": "markdown",
   "id": "172a8b6d-7246-40d0-b02b-16309427edf2",
   "metadata": {},
   "source": [
    "# Python Operators \n",
    " - Python mein operators wo special symbols hote hain jo variables aur values par operations perform karte hain. \n",
    " - Types of Operator\n",
    "   - Arithemathic Operator\n",
    "   - Assignment Operator\n",
    "   - Comparision Operator\n",
    "   - Logical Operator\n",
    "   - Bitwise Operator\n",
    "   - Membership Operator\n",
    "   - Identity Operator\n",
    "   - Precedence(PEMDAS) Operator \n",
    " "
   ]
  },
  {
   "cell_type": "markdown",
   "id": "160fbb00-39b7-41d7-ab06-d084581a94b1",
   "metadata": {},
   "source": [
    "## Arithmetic Operators ( + , - , * , / , // , % , **)"
   ]
  },
  {
   "cell_type": "markdown",
   "id": "dc6ca39e-7fd1-44e2-8e57-5a88672e68e4",
   "metadata": {},
   "source": [
    "### Addition(+)"
   ]
  },
  {
   "cell_type": "code",
   "execution_count": 13,
   "id": "8ef00e3a-6b6c-47b7-9807-57acc21478f6",
   "metadata": {},
   "outputs": [
    {
     "name": "stdout",
     "output_type": "stream",
     "text": [
      "50\n"
     ]
    }
   ],
   "source": [
    "print(30 + 20)"
   ]
  },
  {
   "cell_type": "code",
   "execution_count": 5,
   "id": "7ffc040c-230b-4bc9-b6f1-c721e139d5ff",
   "metadata": {},
   "outputs": [
    {
     "name": "stdin",
     "output_type": "stream",
     "text": [
      "First Number 30\n",
      "Second Number 70\n"
     ]
    },
    {
     "name": "stdout",
     "output_type": "stream",
     "text": [
      "Addition: 100\n"
     ]
    }
   ],
   "source": [
    "# Question: Ek program likho jo user se do numbers le aur unka sum print kare.\n",
    "num1 = int(input(\"First Number\"))\n",
    "num2 = int(input(\"Second Number\"))\n",
    "print(\"Addition:\", num1 + num2 )"
   ]
  },
  {
   "cell_type": "code",
   "execution_count": 6,
   "id": "8fda4d54-bb92-4065-97da-b8d9c227aac7",
   "metadata": {},
   "outputs": [
    {
     "name": "stdout",
     "output_type": "stream",
     "text": [
      "1000\n"
     ]
    }
   ],
   "source": [
    "print(100 + 900)"
   ]
  },
  {
   "cell_type": "code",
   "execution_count": 7,
   "id": "887a4f78-5259-494b-b4b9-afb7dacd0e8d",
   "metadata": {},
   "outputs": [
    {
     "name": "stdout",
     "output_type": "stream",
     "text": [
      "500\n"
     ]
    }
   ],
   "source": [
    "print(100 + 400)"
   ]
  },
  {
   "cell_type": "code",
   "execution_count": 8,
   "id": "f31c51cb-0ea2-4164-8dda-a3589c3b0384",
   "metadata": {},
   "outputs": [
    {
     "name": "stdout",
     "output_type": "stream",
     "text": [
      "12\n"
     ]
    }
   ],
   "source": [
    "print(4 + 8)"
   ]
  },
  {
   "cell_type": "markdown",
   "id": "00af64b8-3cb3-4154-9ace-1c9a2f4ed02f",
   "metadata": {},
   "source": [
    "### 2. - (Subtraction)"
   ]
  },
  {
   "cell_type": "code",
   "execution_count": 9,
   "id": "fadaa699-c0c8-453f-ab25-da370fe72b4d",
   "metadata": {},
   "outputs": [
    {
     "name": "stdout",
     "output_type": "stream",
     "text": [
      "80\n"
     ]
    }
   ],
   "source": [
    "\n",
    "# ➤ Yeh do numbers ka difference nikalta hai.\n",
    "\n",
    "print(100 - 20)"
   ]
  },
  {
   "cell_type": "code",
   "execution_count": 10,
   "id": "f45a43f5-5ca8-4b93-9518-511d6f46146b",
   "metadata": {},
   "outputs": [
    {
     "name": "stdout",
     "output_type": "stream",
     "text": [
      "8\n"
     ]
    }
   ],
   "source": [
    "print(10 - 2)"
   ]
  },
  {
   "cell_type": "code",
   "execution_count": 11,
   "id": "00ceaf2d-939d-4c89-9efb-2018f758e8c8",
   "metadata": {},
   "outputs": [
    {
     "name": "stdout",
     "output_type": "stream",
     "text": [
      "2\n"
     ]
    }
   ],
   "source": [
    "print(20 - 18)"
   ]
  },
  {
   "cell_type": "code",
   "execution_count": 12,
   "id": "ff0613b8-64fc-4469-8bc6-4a9efdc2d255",
   "metadata": {},
   "outputs": [
    {
     "name": "stdin",
     "output_type": "stream",
     "text": [
      "Enter Original Price 1530\n",
      "Enter discount: 250\n"
     ]
    },
    {
     "name": "stdout",
     "output_type": "stream",
     "text": [
      "Final Price: 1280\n"
     ]
    }
   ],
   "source": [
    "# Question: Ek program likho jo original price aur discount lega aur final price print kare.\n",
    "original_price = int(input(\"Enter Original Price\"))\n",
    "discount = int(input(\"Enter discount:\"))\n",
    "print(\"Final Price:\", original_price - discount)"
   ]
  },
  {
   "cell_type": "markdown",
   "id": "1442c429-d36f-4060-bf30-8649f7783f37",
   "metadata": {},
   "source": [
    "### 3. * (Multiplication)"
   ]
  },
  {
   "cell_type": "code",
   "execution_count": 17,
   "id": "e85df5b5-fa85-4622-b8a7-c6309d59c1ae",
   "metadata": {},
   "outputs": [
    {
     "name": "stdout",
     "output_type": "stream",
     "text": [
      "Multiplication: 30\n"
     ]
    }
   ],
   "source": [
    "x = 3\n",
    "y = 10\n",
    "multiply = x * y\n",
    "print(\"Multiplication:\", multiply)"
   ]
  },
  {
   "cell_type": "code",
   "execution_count": 18,
   "id": "487ffb52-f678-4076-a5c0-898e32e08ab9",
   "metadata": {},
   "outputs": [
    {
     "name": "stdout",
     "output_type": "stream",
     "text": [
      "20\n"
     ]
    }
   ],
   "source": [
    "print(2 * 10)"
   ]
  },
  {
   "cell_type": "code",
   "execution_count": 19,
   "id": "b3bc3bbc-4a97-4dbc-b286-ca2732f63265",
   "metadata": {},
   "outputs": [
    {
     "name": "stdout",
     "output_type": "stream",
     "text": [
      "50\n"
     ]
    }
   ],
   "source": [
    "print(5 * 10)"
   ]
  },
  {
   "cell_type": "code",
   "execution_count": 20,
   "id": "127e3efb-0682-4c58-959c-0fd63170bbed",
   "metadata": {},
   "outputs": [
    {
     "name": "stdout",
     "output_type": "stream",
     "text": [
      "100\n"
     ]
    }
   ],
   "source": [
    "print(10 * 10)"
   ]
  },
  {
   "cell_type": "code",
   "execution_count": 21,
   "id": "902585eb-018c-46c5-b194-86119e45ba3f",
   "metadata": {},
   "outputs": [
    {
     "name": "stdout",
     "output_type": "stream",
     "text": [
      "100000\n"
     ]
    }
   ],
   "source": [
    "print(100 * 1000)"
   ]
  },
  {
   "cell_type": "code",
   "execution_count": 22,
   "id": "8d1e7ca5-2b4a-4b06-b4d1-c8ceb7851e57",
   "metadata": {},
   "outputs": [
    {
     "name": "stdout",
     "output_type": "stream",
     "text": [
      "60\n"
     ]
    }
   ],
   "source": [
    "print(6 * 10)"
   ]
  },
  {
   "cell_type": "code",
   "execution_count": 23,
   "id": "37cbb032-9cad-4dfd-a434-796c0b8d90d0",
   "metadata": {},
   "outputs": [
    {
     "name": "stdin",
     "output_type": "stream",
     "text": [
      "Enter length:  30\n",
      "Enter breadth:  50\n"
     ]
    },
    {
     "name": "stdout",
     "output_type": "stream",
     "text": [
      "Area: 1500\n"
     ]
    }
   ],
   "source": [
    "# Question: Ek program likho jo length aur breadth se rectangle ka area calculate kare.\n",
    "length = int(input(\"Enter length: \"))\n",
    "breadth = int(input(\"Enter breadth: \"))\n",
    "area = length * breadth\n",
    "print(\"Area:\", area)\n",
    "\n",
    " "
   ]
  },
  {
   "cell_type": "markdown",
   "id": "82306523-a38b-428b-830f-55cdd5959127",
   "metadata": {},
   "source": [
    "### 4. / (Division)\n",
    " - ➤ Yeh division karta hai aur float result deta hai."
   ]
  },
  {
   "cell_type": "code",
   "execution_count": 25,
   "id": "598ef403-ffb9-4198-ae7f-d8a652418fe8",
   "metadata": {},
   "outputs": [
    {
     "data": {
      "text/plain": [
       "0.15"
      ]
     },
     "execution_count": 25,
     "metadata": {},
     "output_type": "execute_result"
    }
   ],
   "source": [
    "3 / 20"
   ]
  },
  {
   "cell_type": "code",
   "execution_count": 28,
   "id": "9ccb162d-4509-4a97-9f52-6d4ccda0f05e",
   "metadata": {},
   "outputs": [
    {
     "name": "stdout",
     "output_type": "stream",
     "text": [
      "Division 0.2\n"
     ]
    }
   ],
   "source": [
    "print(\"Division:\", 2 / 10)"
   ]
  },
  {
   "cell_type": "code",
   "execution_count": 29,
   "id": "e6abbf3d-ade9-4f4f-9c0c-94ab825c70ed",
   "metadata": {},
   "outputs": [
    {
     "name": "stdout",
     "output_type": "stream",
     "text": [
      "Division: 0.16666666666666666\n"
     ]
    }
   ],
   "source": [
    "a = 5 \n",
    "b = 30\n",
    "print(\"Division:\", a / b)"
   ]
  },
  {
   "cell_type": "code",
   "execution_count": 30,
   "id": "a7948c7b-f660-49ab-82f1-7062155468fc",
   "metadata": {},
   "outputs": [
    {
     "name": "stdin",
     "output_type": "stream",
     "text": [
      "Enter total marks:  80\n",
      "Enter number of subjects:  8\n"
     ]
    },
    {
     "name": "stdout",
     "output_type": "stream",
     "text": [
      "Average Marks: 10.0\n"
     ]
    }
   ],
   "source": [
    "# Question: Ek program likho jo total marks aur subjects le aur average print kare.\n",
    "total_marks = int(input(\"Enter total marks: \"))\n",
    "subjects = int(input(\"Enter number of subjects: \"))\n",
    "print(\"Average Marks:\", total_marks / subjects)\n"
   ]
  },
  {
   "cell_type": "markdown",
   "id": "3b7846fe-4d9c-486f-a695-8769a1faca0c",
   "metadata": {},
   "source": [
    "### 5. % (Modulus)\n",
    " -➤ Yeh remainder return karta hai. "
   ]
  },
  {
   "cell_type": "code",
   "execution_count": 32,
   "id": "8bb8a672-2d99-4861-93ac-4d60f0dee628",
   "metadata": {},
   "outputs": [
    {
     "data": {
      "text/plain": [
       "8"
      ]
     },
     "execution_count": 32,
     "metadata": {},
     "output_type": "execute_result"
    }
   ],
   "source": [
    "8 % 10"
   ]
  },
  {
   "cell_type": "code",
   "execution_count": 33,
   "id": "dacd3ac5-2766-4bfe-89a7-c73317faa9e2",
   "metadata": {},
   "outputs": [
    {
     "data": {
      "text/plain": [
       "1"
      ]
     },
     "execution_count": 33,
     "metadata": {},
     "output_type": "execute_result"
    }
   ],
   "source": [
    "10 % 3"
   ]
  },
  {
   "cell_type": "code",
   "execution_count": 34,
   "id": "caffa12f-ac73-4b2f-9f93-105f7194c44d",
   "metadata": {},
   "outputs": [
    {
     "name": "stdout",
     "output_type": "stream",
     "text": [
      "5\n"
     ]
    }
   ],
   "source": [
    "print(5 % 10)"
   ]
  },
  {
   "cell_type": "code",
   "execution_count": 36,
   "id": "af9b20f9-81a0-4096-abdb-e557835c3d4e",
   "metadata": {},
   "outputs": [
    {
     "name": "stdin",
     "output_type": "stream",
     "text": [
      "Enter Any Number: 21\n"
     ]
    },
    {
     "name": "stdout",
     "output_type": "stream",
     "text": [
      "Odd Number\n"
     ]
    }
   ],
   "source": [
    "# Question: Ek program likho jo bataye number even hai ya odd.\n",
    "num = int(input(\"Enter Any Number:\"))\n",
    "if num % 2 == 0:\n",
    "    print(\"Even Number\")\n",
    "else:\n",
    "    print(\"Odd Number\")"
   ]
  },
  {
   "cell_type": "markdown",
   "id": "3c498c27-d962-4ced-9f82-bc55ba2cab3a",
   "metadata": {},
   "source": [
    "### 6. ** (Exponent)\n",
    " - ➤ Yeh exponent (power) calculate karta hai."
   ]
  },
  {
   "cell_type": "code",
   "execution_count": 38,
   "id": "9af886d4-3322-40e6-bdd9-e61f237cfbd2",
   "metadata": {},
   "outputs": [
    {
     "data": {
      "text/plain": [
       "32"
      ]
     },
     "execution_count": 38,
     "metadata": {},
     "output_type": "execute_result"
    }
   ],
   "source": [
    "2 ** 5 "
   ]
  },
  {
   "cell_type": "code",
   "execution_count": 39,
   "id": "794910fb-176a-4d62-a51a-708349c7458d",
   "metadata": {},
   "outputs": [
    {
     "data": {
      "text/plain": [
       "4"
      ]
     },
     "execution_count": 39,
     "metadata": {},
     "output_type": "execute_result"
    }
   ],
   "source": [
    "2 ** 2"
   ]
  },
  {
   "cell_type": "code",
   "execution_count": 40,
   "id": "5bcf6ce9-df44-48d9-9c0a-cb2c5343f093",
   "metadata": {},
   "outputs": [
    {
     "name": "stdout",
     "output_type": "stream",
     "text": [
      "25\n"
     ]
    }
   ],
   "source": [
    "print(5 ** 2)"
   ]
  },
  {
   "cell_type": "code",
   "execution_count": 41,
   "id": "a7122702-f009-4012-9caf-fda0583b6f88",
   "metadata": {},
   "outputs": [
    {
     "name": "stdin",
     "output_type": "stream",
     "text": [
      "Enter Number 30\n"
     ]
    },
    {
     "name": "stdout",
     "output_type": "stream",
     "text": [
      "Square: 900\n",
      "Cube: 343000\n"
     ]
    }
   ],
   "source": [
    "# Question: Ek program likho jo kisi number ka square aur cube print kare.\n",
    "num1 = int(input(\"Enter Number\"))\n",
    "print(\"Square:\", num1 ** 2)\n",
    "print(\"Cube:\", num2 ** 3)"
   ]
  },
  {
   "cell_type": "markdown",
   "id": "cadb8934-eef6-4360-ad02-882944f384a8",
   "metadata": {},
   "source": [
    "### 7. // (Floor Division)\n",
    " - ➤ Yeh floor division karta hai (sirf integer part deta hai)."
   ]
  },
  {
   "cell_type": "code",
   "execution_count": 43,
   "id": "17589aa2-84bc-449a-951a-7c1a612cb9da",
   "metadata": {},
   "outputs": [
    {
     "data": {
      "text/plain": [
       "1"
      ]
     },
     "execution_count": 43,
     "metadata": {},
     "output_type": "execute_result"
    }
   ],
   "source": [
    "3 // 3"
   ]
  },
  {
   "cell_type": "code",
   "execution_count": 44,
   "id": "194fbb0d-db8d-4dc9-bf6f-bcfc22848114",
   "metadata": {},
   "outputs": [
    {
     "data": {
      "text/plain": [
       "7"
      ]
     },
     "execution_count": 44,
     "metadata": {},
     "output_type": "execute_result"
    }
   ],
   "source": [
    "21 // 3"
   ]
  },
  {
   "cell_type": "code",
   "execution_count": 46,
   "id": "debc771d-6e1c-445f-923b-8cd8a4434818",
   "metadata": {},
   "outputs": [
    {
     "data": {
      "text/plain": [
       "0"
      ]
     },
     "execution_count": 46,
     "metadata": {},
     "output_type": "execute_result"
    }
   ],
   "source": [
    "2 // 6"
   ]
  },
  {
   "cell_type": "code",
   "execution_count": 48,
   "id": "a6b96f20-5b3b-4354-b0f0-285aca570557",
   "metadata": {},
   "outputs": [
    {
     "name": "stdin",
     "output_type": "stream",
     "text": [
      "Enter Minutes 120\n"
     ]
    },
    {
     "name": "stdout",
     "output_type": "stream",
     "text": [
      "Full Hours: 2\n"
     ]
    }
   ],
   "source": [
    "# Question: Ek program likho jo total minutes ko hours mein convert kare.\n",
    "minutes = int(input('Enter Minutes'))\n",
    "hours = minutes // 60\n",
    "print(\"Full Hours:\", hours)"
   ]
  },
  {
   "cell_type": "markdown",
   "id": "196d98e9-9c41-4a28-b362-7949dc9da6be",
   "metadata": {},
   "source": [
    "# ⚖️ 2. Comparison Operators \n"
   ]
  },
  {
   "cell_type": "markdown",
   "id": "f7f81dc2-7817-4b71-877b-61b5d0a93e41",
   "metadata": {},
   "source": [
    "### 1. == (Equal To)\n",
    " - ➤ Yeh check karta hai ke do values barabar hain ya nahi."
   ]
  },
  {
   "cell_type": "code",
   "execution_count": 51,
   "id": "6d9a6541-8c11-48ec-b5ed-2188868ae462",
   "metadata": {},
   "outputs": [
    {
     "name": "stdout",
     "output_type": "stream",
     "text": [
      "True\n"
     ]
    }
   ],
   "source": [
    "a = 20\n",
    "b = 20\n",
    "print(a == b)"
   ]
  },
  {
   "cell_type": "code",
   "execution_count": 52,
   "id": "2e572ab7-4fc1-4096-8c23-259ead0bddae",
   "metadata": {},
   "outputs": [
    {
     "name": "stdout",
     "output_type": "stream",
     "text": [
      "False\n"
     ]
    }
   ],
   "source": [
    "num1 = 130\n",
    "num2 = 350\n",
    "print(num1 == num2)"
   ]
  },
  {
   "cell_type": "code",
   "execution_count": 53,
   "id": "afff8373-0fe0-4046-b0ff-37eb0b927bd2",
   "metadata": {},
   "outputs": [
    {
     "data": {
      "text/plain": [
       "True"
      ]
     },
     "execution_count": 53,
     "metadata": {},
     "output_type": "execute_result"
    }
   ],
   "source": [
    "30 == 30"
   ]
  },
  {
   "cell_type": "code",
   "execution_count": 54,
   "id": "8ea35485-17d7-4af6-88d7-15b4ac6ecde2",
   "metadata": {},
   "outputs": [
    {
     "data": {
      "text/plain": [
       "False"
      ]
     },
     "execution_count": 54,
     "metadata": {},
     "output_type": "execute_result"
    }
   ],
   "source": [
    "3098480923842309409 == 384983084098320948"
   ]
  },
  {
   "cell_type": "code",
   "execution_count": 55,
   "id": "ea79bbb0-815c-49e3-b2c0-f1c57712a5b7",
   "metadata": {},
   "outputs": [
    {
     "data": {
      "text/plain": [
       "True"
      ]
     },
     "execution_count": 55,
     "metadata": {},
     "output_type": "execute_result"
    }
   ],
   "source": [
    "49490384 ==    49490384"
   ]
  },
  {
   "cell_type": "code",
   "execution_count": 56,
   "id": "673c39d6-18dd-446f-9428-cd4e1e00d578",
   "metadata": {},
   "outputs": [
    {
     "name": "stdin",
     "output_type": "stream",
     "text": [
      "Enter Password 123pythontk\n"
     ]
    },
    {
     "name": "stdout",
     "output_type": "stream",
     "text": [
      "Access Granted\n"
     ]
    }
   ],
   "source": [
    "# Question: Ek program likho jo user se password input le aur agar password \"admin123\" ho to \"Access granted\" print kare.\n",
    "password = input(\"Enter Password\")\n",
    "if password == \"123pythontk\":\n",
    "    print(\"Access Granted\")\n",
    "else:\n",
    "    print(\"Access denied\")"
   ]
  },
  {
   "cell_type": "markdown",
   "id": "3b00ca34-1a56-4e7e-8b8f-47bb048c0b1b",
   "metadata": {},
   "source": [
    "### 2. != (Not Equal To)\n",
    " - ➤ Yeh check karta hai ke do values barabar nahi hain."
   ]
  },
  {
   "cell_type": "code",
   "execution_count": 58,
   "id": "a7c58190-e533-4bad-b10f-58a4d5bfc9a1",
   "metadata": {},
   "outputs": [
    {
     "name": "stdout",
     "output_type": "stream",
     "text": [
      "True\n"
     ]
    }
   ],
   "source": [
    "x = 56 \n",
    "y = 21\n",
    "print( x != y)"
   ]
  },
  {
   "cell_type": "code",
   "execution_count": 59,
   "id": "8030b0ae-4325-40b0-a36f-dd655c501625",
   "metadata": {},
   "outputs": [
    {
     "data": {
      "text/plain": [
       "False"
      ]
     },
     "execution_count": 59,
     "metadata": {},
     "output_type": "execute_result"
    }
   ],
   "source": [
    "30 != 30"
   ]
  },
  {
   "cell_type": "code",
   "execution_count": 60,
   "id": "4a97cff1-df24-4388-8ee5-f309ba2064ff",
   "metadata": {},
   "outputs": [
    {
     "data": {
      "text/plain": [
       "True"
      ]
     },
     "execution_count": 60,
     "metadata": {},
     "output_type": "execute_result"
    }
   ],
   "source": [
    "80 != 30"
   ]
  },
  {
   "cell_type": "code",
   "execution_count": 62,
   "id": "ddd4419e-698c-494e-abc6-63b000a69c4f",
   "metadata": {},
   "outputs": [
    {
     "name": "stdin",
     "output_type": "stream",
     "text": [
      "Enter yes to continue No\n"
     ]
    },
    {
     "name": "stdout",
     "output_type": "stream",
     "text": [
      "Process Cancelled\n"
     ]
    }
   ],
   "source": [
    "# Question: Ek program likho jo user input check kare agar \"yes\" nahi hai to \"Process cancelled\" print kare.\n",
    "user_input = input(\"Enter yes to continue\")\n",
    "if user_input != \"Yes\":\n",
    "    print(\"Process Cancelled\")"
   ]
  },
  {
   "cell_type": "markdown",
   "id": "5c972871-e726-46b7-bf99-58b7a0b86575",
   "metadata": {},
   "source": [
    "### 3. > (Greater Than)\n",
    " - Yeh check karta hai agar pehli value doosri se badi hai.\n"
   ]
  },
  {
   "cell_type": "code",
   "execution_count": 64,
   "id": "32f47206-0cff-4f6c-90c7-efa785142b76",
   "metadata": {},
   "outputs": [
    {
     "name": "stdout",
     "output_type": "stream",
     "text": [
      "True\n"
     ]
    }
   ],
   "source": [
    "a = 30\n",
    "b = 10\n",
    "print(a > b)"
   ]
  },
  {
   "cell_type": "code",
   "execution_count": 65,
   "id": "eae289b6-f511-4075-b10f-1fac0243a0e7",
   "metadata": {},
   "outputs": [
    {
     "data": {
      "text/plain": [
       "True"
      ]
     },
     "execution_count": 65,
     "metadata": {},
     "output_type": "execute_result"
    }
   ],
   "source": [
    "2 > 1"
   ]
  },
  {
   "cell_type": "code",
   "execution_count": 66,
   "id": "f150816c-18d6-4f7b-b277-73f8b1321cae",
   "metadata": {},
   "outputs": [
    {
     "data": {
      "text/plain": [
       "True"
      ]
     },
     "execution_count": 66,
     "metadata": {},
     "output_type": "execute_result"
    }
   ],
   "source": [
    "8 > 3"
   ]
  },
  {
   "cell_type": "code",
   "execution_count": 67,
   "id": "e22fae8c-1842-42f8-8e36-01c64bd7ecbf",
   "metadata": {},
   "outputs": [
    {
     "data": {
      "text/plain": [
       "True"
      ]
     },
     "execution_count": 67,
     "metadata": {},
     "output_type": "execute_result"
    }
   ],
   "source": [
    "320 > 10"
   ]
  },
  {
   "cell_type": "code",
   "execution_count": 70,
   "id": "cfea6f36-a32d-4a52-bc1e-b4c535639aff",
   "metadata": {},
   "outputs": [
    {
     "name": "stdin",
     "output_type": "stream",
     "text": [
      "Enter your score 93\n"
     ]
    },
    {
     "name": "stdout",
     "output_type": "stream",
     "text": [
      "Excellent \n"
     ]
    }
   ],
   "source": [
    "# Question: Ek program likho jo score le aur agar score 90 se zyada ho to \"Excellent\" print kare.\n",
    "\n",
    "score = int(input(\"Enter your score\"))\n",
    "if score > 90:\n",
    "    print(\"Excellent \")\n",
    "else:\n",
    "    print(\"Very Bad \")"
   ]
  },
  {
   "cell_type": "markdown",
   "id": "23958e47-7c8b-4786-b540-9aeb67e659d2",
   "metadata": {},
   "source": [
    "### 4. < (Less Than)\n",
    " - ➤ Yeh check karta hai agar pehli value doosri se chhoti hai."
   ]
  },
  {
   "cell_type": "code",
   "execution_count": 72,
   "id": "d1d21b51-4d50-457c-8649-8c97edf070e9",
   "metadata": {},
   "outputs": [
    {
     "name": "stdout",
     "output_type": "stream",
     "text": [
      "True\n"
     ]
    }
   ],
   "source": [
    "x = 3 \n",
    "y = 10 \n",
    "print(x < y)"
   ]
  },
  {
   "cell_type": "code",
   "execution_count": 74,
   "id": "c91b05f6-6783-402c-bfac-51eb52f4eb0d",
   "metadata": {},
   "outputs": [
    {
     "name": "stdout",
     "output_type": "stream",
     "text": [
      "True\n"
     ]
    }
   ],
   "source": [
    "print(30 < 50)"
   ]
  },
  {
   "cell_type": "code",
   "execution_count": 75,
   "id": "d2c65a33-e991-4786-9471-c59ffafe0f76",
   "metadata": {},
   "outputs": [
    {
     "data": {
      "text/plain": [
       "True"
      ]
     },
     "execution_count": 75,
     "metadata": {},
     "output_type": "execute_result"
    }
   ],
   "source": [
    "80 < 180"
   ]
  },
  {
   "cell_type": "code",
   "execution_count": 76,
   "id": "3e34b98b-546b-434b-8bf8-c11f4aa9a756",
   "metadata": {},
   "outputs": [
    {
     "data": {
      "text/plain": [
       "False"
      ]
     },
     "execution_count": 76,
     "metadata": {},
     "output_type": "execute_result"
    }
   ],
   "source": [
    "30 < 2"
   ]
  },
  {
   "cell_type": "code",
   "execution_count": 78,
   "id": "863a6363-fad0-4b78-9726-f67047b13b1b",
   "metadata": {},
   "outputs": [
    {
     "name": "stdin",
     "output_type": "stream",
     "text": [
      "enter your age: 10\n"
     ]
    },
    {
     "name": "stdout",
     "output_type": "stream",
     "text": [
      "Minor\n"
     ]
    }
   ],
   "source": [
    "# Question: Ek program likho jo age input le aur agar age 18 se kam ho to \"Minor\" print kare.\n",
    "age = int(input(\"enter your age:\"))\n",
    "if age < 18:\n",
    "    print(\"Minor\")\n",
    "else:\n",
    "    print(\"Your are Adult\")"
   ]
  },
  {
   "cell_type": "markdown",
   "id": "2f001032-b3f9-440c-b8fd-ae3328a59f1b",
   "metadata": {},
   "source": [
    "### 5. >= (Greater Than or Equal To)\n",
    "  - ➤ Yeh check karta hai agar pehli value doosri se badi ya barabar hai.\n"
   ]
  },
  {
   "cell_type": "code",
   "execution_count": 80,
   "id": "5e9eda5a-855c-4233-ab72-c03eb299fded",
   "metadata": {},
   "outputs": [
    {
     "name": "stdout",
     "output_type": "stream",
     "text": [
      "False\n"
     ]
    }
   ],
   "source": [
    "x = 300\n",
    "y = 450 \n",
    "print(x >= y)"
   ]
  },
  {
   "cell_type": "code",
   "execution_count": 81,
   "id": "f3bbb1d1-bc03-42b0-acbc-e2f00f896479",
   "metadata": {},
   "outputs": [
    {
     "data": {
      "text/plain": [
       "True"
      ]
     },
     "execution_count": 81,
     "metadata": {},
     "output_type": "execute_result"
    }
   ],
   "source": [
    "30 >= 20"
   ]
  },
  {
   "cell_type": "code",
   "execution_count": 82,
   "id": "0a545ba0-eb67-46ac-a5a9-39dbaf373e59",
   "metadata": {},
   "outputs": [
    {
     "data": {
      "text/plain": [
       "True"
      ]
     },
     "execution_count": 82,
     "metadata": {},
     "output_type": "execute_result"
    }
   ],
   "source": [
    "10 >= 10"
   ]
  },
  {
   "cell_type": "code",
   "execution_count": 83,
   "id": "34bf38a9-8049-45e6-8301-7b50ccf8ef2a",
   "metadata": {},
   "outputs": [
    {
     "name": "stdout",
     "output_type": "stream",
     "text": [
      "True\n"
     ]
    }
   ],
   "source": [
    "print(101 >= 100)"
   ]
  },
  {
   "cell_type": "code",
   "execution_count": 84,
   "id": "1005a887-fa03-4288-83b5-9c8ab5e9d31f",
   "metadata": {},
   "outputs": [
    {
     "name": "stdin",
     "output_type": "stream",
     "text": [
      "Enter your bank account balance 15000000\n"
     ]
    },
    {
     "name": "stdout",
     "output_type": "stream",
     "text": [
      "You Have Minimum Balance in your account\n"
     ]
    }
   ],
   "source": [
    "# Question: Ek program likho jo bank balance check kare aur agar balance 500 ya usse zyada ho to \"Minimum balance met\" print kare.\n",
    "\n",
    "balance = int(input(\"Enter your bank account balance\"))\n",
    "if balance >= 500000:\n",
    "    print(\"You Have Minimum Balance in your account\")"
   ]
  },
  {
   "cell_type": "markdown",
   "id": "c2130290-f647-4b4e-a630-5ce6b4cea740",
   "metadata": {},
   "source": [
    "### 6. <= (Less Than or Equal To)\n",
    " - ➤ Yeh check karta hai agar pehli value doosri se chhoti ya barabar hai."
   ]
  },
  {
   "cell_type": "code",
   "execution_count": 87,
   "id": "0ea77c12-3461-4587-b065-18f2b4605810",
   "metadata": {},
   "outputs": [
    {
     "name": "stdin",
     "output_type": "stream",
     "text": [
      "Enter Temperature -30\n"
     ]
    },
    {
     "name": "stdout",
     "output_type": "stream",
     "text": [
      "Freezing Weather\n"
     ]
    }
   ],
   "source": [
    "# Question: Ek program likho jo temperature input le aur agar temperature 0 ya usse kam ho to \"Freezing weather\" print kare.\n",
    "\n",
    "temperature = int(input(\"Enter Temperature\"))\n",
    "if temperature <= 0:\n",
    "    print(\"Freezing Weather\")"
   ]
  },
  {
   "cell_type": "markdown",
   "id": "518207a1-1524-4c75-b6b3-c96f4a567dbe",
   "metadata": {},
   "source": [
    "# Assignment Operator "
   ]
  },
  {
   "cell_type": "markdown",
   "id": "16c93e88-0514-468e-8465-7852c56ee5f9",
   "metadata": {},
   "source": [
    "### 1. = (Simple Assignment)\n",
    " - ➤ Yeh kisi variable ko koi value assign karta hai."
   ]
  },
  {
   "cell_type": "code",
   "execution_count": null,
   "id": "5b190bf4-4cd9-4c15-841c-fd38816a63d0",
   "metadata": {},
   "outputs": [],
   "source": [
    "a = 10 "
   ]
  },
  {
   "cell_type": "code",
   "execution_count": 90,
   "id": "8417b243-53d3-4806-a433-48c223adb7c1",
   "metadata": {},
   "outputs": [
    {
     "name": "stdin",
     "output_type": "stream",
     "text": [
      "Enter Something Hello Bro\n"
     ]
    },
    {
     "name": "stdout",
     "output_type": "stream",
     "text": [
      "Entered You: Hello Bro\n"
     ]
    }
   ],
   "source": [
    "# Question: Ek program likho jo variable x mein user ka input assign kare aur print kare.\n",
    "\n",
    "x = input(\"Enter Something\")\n",
    "print(\"Entered You:\", x)"
   ]
  },
  {
   "cell_type": "code",
   "execution_count": null,
   "id": "c3495309-bad7-4f2e-b722-6c02a5d6bfbe",
   "metadata": {},
   "outputs": [],
   "source": [
    "message = \"Hello assignment Operator\""
   ]
  },
  {
   "cell_type": "markdown",
   "id": "a1ad1ba1-21f5-4d81-a4a0-65c021385295",
   "metadata": {},
   "source": [
    "###  2. += (Add and Assign)\n",
    "  - ➤ Yeh variable ki purani value mein koi value add karke fir usi variable mein store karta hai.\n"
   ]
  },
  {
   "cell_type": "code",
   "execution_count": 93,
   "id": "54817b1a-aba0-4a20-be34-bcf935420eb9",
   "metadata": {},
   "outputs": [
    {
     "name": "stdout",
     "output_type": "stream",
     "text": [
      "15\n"
     ]
    }
   ],
   "source": [
    "num = 10\n",
    "num += 5\n",
    "print(num)"
   ]
  },
  {
   "cell_type": "code",
   "execution_count": 94,
   "id": "042f42c0-e022-484a-945a-2ce031950a65",
   "metadata": {},
   "outputs": [
    {
     "name": "stdout",
     "output_type": "stream",
     "text": [
      "70\n"
     ]
    }
   ],
   "source": [
    "score = 20\n",
    "score += 50\n",
    "print(score)"
   ]
  },
  {
   "cell_type": "markdown",
   "id": "f0782e90-2e30-4f4c-8444-6e555c894fec",
   "metadata": {},
   "source": [
    "### 3. -= (Subtract and Assign)\n",
    " - ➤ Yeh variable se koi value minus karke usi variable mein update karta hai.\n"
   ]
  },
  {
   "cell_type": "code",
   "execution_count": 98,
   "id": "4bee800f-9667-4e26-927c-fdb3ddf2574f",
   "metadata": {},
   "outputs": [
    {
     "name": "stdout",
     "output_type": "stream",
     "text": [
      "Remaining Balance: 400\n"
     ]
    }
   ],
   "source": [
    "# Question: Ek program likho jo balance se 100 deduct kare aur print kare.\n",
    "balance = 500\n",
    "balance -= 100\n",
    "print(\"Remaining Balance:\", balance)"
   ]
  },
  {
   "cell_type": "code",
   "execution_count": 99,
   "id": "dee972f6-0b83-42f9-90a4-226b3c038ed8",
   "metadata": {},
   "outputs": [
    {
     "name": "stdout",
     "output_type": "stream",
     "text": [
      "100\n"
     ]
    }
   ],
   "source": [
    "num1 = 150\n",
    "num1 -= 50\n",
    "print(num1)"
   ]
  },
  {
   "cell_type": "code",
   "execution_count": 100,
   "id": "e55a26f0-65a7-4125-84d2-42e94147fa2d",
   "metadata": {},
   "outputs": [
    {
     "name": "stdout",
     "output_type": "stream",
     "text": [
      "0\n"
     ]
    }
   ],
   "source": [
    "x = 30\n",
    "x -= 30\n",
    "print(x)"
   ]
  },
  {
   "cell_type": "markdown",
   "id": "10b22cc3-bd6c-4b63-95a2-9ff7e7a67393",
   "metadata": {},
   "source": [
    "### 4. *= (Multiply and Assign)\n",
    "  - ➤ Yeh variable ko multiply karke updated value assign karta hai."
   ]
  },
  {
   "cell_type": "code",
   "execution_count": 101,
   "id": "596bb415-d147-4e8b-9a0a-5877be0d4919",
   "metadata": {},
   "outputs": [
    {
     "name": "stdout",
     "output_type": "stream",
     "text": [
      "30\n"
     ]
    }
   ],
   "source": [
    "a = 3\n",
    "a *= 10\n",
    "print(a)"
   ]
  },
  {
   "cell_type": "code",
   "execution_count": 102,
   "id": "695bdf8e-7926-4c93-9470-0fef7ad4ba7d",
   "metadata": {},
   "outputs": [
    {
     "name": "stdout",
     "output_type": "stream",
     "text": [
      "20\n"
     ]
    }
   ],
   "source": [
    "b = 2\n",
    "b *= 10\n",
    "print(b)"
   ]
  },
  {
   "cell_type": "code",
   "execution_count": 103,
   "id": "04979e34-d40e-4518-aacf-24debb01778d",
   "metadata": {},
   "outputs": [
    {
     "name": "stdout",
     "output_type": "stream",
     "text": [
      "Total items: 12\n"
     ]
    }
   ],
   "source": [
    "# Question: Ek program likho jo quantity ko 3 se multiply kare aur print kare.\n",
    "\n",
    "quantity = 4\n",
    "quantity *= 3\n",
    "print(\"Total items:\", quantity)"
   ]
  },
  {
   "cell_type": "markdown",
   "id": "3eea35b9-38e3-45d0-9d88-a4ca6e9a4e48",
   "metadata": {},
   "source": [
    "### 5. /= (Divide and Assign)\n",
    "  - ➤ Yeh variable ko divide karke updated float value assign karta hai."
   ]
  },
  {
   "cell_type": "code",
   "execution_count": 105,
   "id": "e5e4bcd1-9fd6-4430-bcb8-4c769d1169fb",
   "metadata": {},
   "outputs": [
    {
     "name": "stdout",
     "output_type": "stream",
     "text": [
      "Half time: 20.0\n"
     ]
    }
   ],
   "source": [
    "# Question: Ek program likho jo total time ko 2 se divide kare aur print kare.\n",
    "total_time = 40\n",
    "total_time /= 2\n",
    "print(\"Half time:\", total_time)"
   ]
  },
  {
   "cell_type": "code",
   "execution_count": 106,
   "id": "69902761-b47e-4f35-a02b-3073eb775c27",
   "metadata": {},
   "outputs": [
    {
     "name": "stdout",
     "output_type": "stream",
     "text": [
      "2.0\n"
     ]
    }
   ],
   "source": [
    "x = 10\n",
    "x /= 5\n",
    "print(x)"
   ]
  },
  {
   "cell_type": "markdown",
   "id": "7865c9e8-e63c-4435-bb2b-9736487427ad",
   "metadata": {},
   "source": [
    "### 6. %= (Modulus and Assign)\n",
    " - ➤ Yeh variable mein remainder assign karta hai.\n"
   ]
  },
  {
   "cell_type": "code",
   "execution_count": 109,
   "id": "ffbcf9a6-bf09-4f84-92b6-57c2aebbf589",
   "metadata": {},
   "outputs": [
    {
     "name": "stdout",
     "output_type": "stream",
     "text": [
      "10\n"
     ]
    }
   ],
   "source": [
    "x = 30 \n",
    "x %= 20\n",
    "print(x)"
   ]
  },
  {
   "cell_type": "code",
   "execution_count": 110,
   "id": "e25d11e3-88f0-4850-9893-a964cf5f930d",
   "metadata": {},
   "outputs": [
    {
     "name": "stdout",
     "output_type": "stream",
     "text": [
      "0\n"
     ]
    }
   ],
   "source": [
    "y = 5 \n",
    "y %= 5\n",
    "print(y)"
   ]
  },
  {
   "cell_type": "code",
   "execution_count": 111,
   "id": "362f5cf0-bee7-4464-b8e7-466debec46ac",
   "metadata": {},
   "outputs": [
    {
     "name": "stdout",
     "output_type": "stream",
     "text": [
      "2\n"
     ]
    }
   ],
   "source": [
    "# Question: Ek program likho jo number ko 5 se divide kar remainder store kare aur print kare.\n",
    "number = 17\n",
    "number %= 5\n",
    "print(number)"
   ]
  },
  {
   "cell_type": "markdown",
   "id": "12ad5ea3-e8e7-4708-9fe9-55f9eef225a4",
   "metadata": {},
   "source": [
    "### 7. //= (Floor Divide and Assign)\n",
    "  - ➤ Yeh floor division karke variable ko update karta hai. "
   ]
  },
  {
   "cell_type": "code",
   "execution_count": 113,
   "id": "3b320478-a73c-4b49-a556-3718d9e6b3e2",
   "metadata": {},
   "outputs": [
    {
     "name": "stdout",
     "output_type": "stream",
     "text": [
      "Floor Division: 7\n"
     ]
    }
   ],
   "source": [
    "num = 30\n",
    "num //= 4\n",
    "print(\"Floor Division:\", num)"
   ]
  },
  {
   "cell_type": "code",
   "execution_count": 114,
   "id": "f27e8f0e-eb0c-4c5b-8cf1-e5394152c8ac",
   "metadata": {},
   "outputs": [
    {
     "name": "stdout",
     "output_type": "stream",
     "text": [
      "Floor Division: 9\n"
     ]
    }
   ],
   "source": [
    "num1 = 180\n",
    "num1 //= 20\n",
    "print(\"Floor Division:\", num1)"
   ]
  },
  {
   "cell_type": "code",
   "execution_count": 116,
   "id": "3531a199-557f-4799-8844-b6c9b229866d",
   "metadata": {},
   "outputs": [
    {
     "name": "stdout",
     "output_type": "stream",
     "text": [
      "Hours: 2\n"
     ]
    }
   ],
   "source": [
    "# Question: Ek program likho jo minutes ko 60 se divide kare floor division se aur hours print kare.\n",
    "\n",
    "minutes = 125\n",
    "minutes //= 60\n",
    "print(\"Hours:\", minutes)"
   ]
  },
  {
   "cell_type": "markdown",
   "id": "ab45bddb-8884-45b9-bbcf-e22511ce041b",
   "metadata": {},
   "source": [
    "### 8. **= (Exponent and Assign)\n",
    " - ➤ Yeh variable ko power karke update karta hai."
   ]
  },
  {
   "cell_type": "code",
   "execution_count": 118,
   "id": "873d2d04-a492-489f-9518-60592b430ebe",
   "metadata": {},
   "outputs": [
    {
     "name": "stdout",
     "output_type": "stream",
     "text": [
      "Square: 16\n"
     ]
    }
   ],
   "source": [
    "# Question: Ek program likho jo kisi number ka square update kare aur print kare.\n",
    "\n",
    "num = 4 \n",
    "num **= 2\n",
    "print(\"Square:\", num)"
   ]
  },
  {
   "cell_type": "code",
   "execution_count": 119,
   "id": "64fb4078-226c-405c-945e-e5c84ffad23f",
   "metadata": {},
   "outputs": [
    {
     "name": "stdout",
     "output_type": "stream",
     "text": [
      "20\n"
     ]
    }
   ],
   "source": [
    "x = 20\n",
    "x ** 2\n",
    "print(x)"
   ]
  },
  {
   "cell_type": "code",
   "execution_count": 120,
   "id": "ed840065-d12b-4912-8b86-411d7881b3bf",
   "metadata": {},
   "outputs": [
    {
     "name": "stdout",
     "output_type": "stream",
     "text": [
      "32\n"
     ]
    }
   ],
   "source": [
    "x = 2\n",
    "x **= 5\n",
    "print(x)"
   ]
  },
  {
   "cell_type": "markdown",
   "id": "54baaea7-32cc-454f-91d3-428ce9923eaf",
   "metadata": {},
   "source": [
    "# 🔗 4. Logical Operators"
   ]
  },
  {
   "cell_type": "markdown",
   "id": "e7e173a8-2944-487a-9d5e-86f99b4c2e7d",
   "metadata": {},
   "source": [
    "### 1. and (Logical AND)\n",
    " - ➤ Yeh do conditions dono true hon to True return karta hai, warna False."
   ]
  },
  {
   "cell_type": "code",
   "execution_count": 123,
   "id": "3a7a09fc-1c9f-4ada-827a-8cfae7bea7fa",
   "metadata": {},
   "outputs": [
    {
     "data": {
      "text/plain": [
       "True"
      ]
     },
     "execution_count": 123,
     "metadata": {},
     "output_type": "execute_result"
    }
   ],
   "source": [
    "x = 30\n",
    "y = 20\n",
    "x > y and y < x and x >= y and y <= x"
   ]
  },
  {
   "cell_type": "code",
   "execution_count": 124,
   "id": "f1f0fdaa-61c4-4b6a-b439-eb8c429ad729",
   "metadata": {},
   "outputs": [
    {
     "name": "stdout",
     "output_type": "stream",
     "text": [
      "False\n"
     ]
    }
   ],
   "source": [
    " # Agar a = True aur b = False ho, to a and b ka result kya hoga?\n",
    "a = True\n",
    "b = False\n",
    "print(a and b)"
   ]
  },
  {
   "cell_type": "code",
   "execution_count": 125,
   "id": "09110f81-5289-46cc-bf49-acd4fe64cb57",
   "metadata": {},
   "outputs": [
    {
     "name": "stdin",
     "output_type": "stream",
     "text": [
      "Enter your age:  30\n",
      "Is subscription active? (yes/no):  yes\n"
     ]
    },
    {
     "name": "stdout",
     "output_type": "stream",
     "text": [
      "Access granted\n"
     ]
    }
   ],
   "source": [
    "# Question: Ek program likho jo check kare ke user ka age 18 se bada hai aur subscription active hai, tabhi \"Access granted\" print kare.\n",
    "\n",
    "age = int(input(\"Enter your age: \"))\n",
    "subscription_active = input(\"Is subscription active? (yes/no): \").lower() == 'yes'\n",
    "\n",
    "if age > 18 and subscription_active:\n",
    "    print(\"Access granted\")\n",
    "else:\n",
    "    print(\"Access denied\")"
   ]
  },
  {
   "cell_type": "markdown",
   "id": "3cfb9793-387d-4e07-a22a-64fcd4442daa",
   "metadata": {},
   "source": [
    "### 2. or (Logical OR)\n",
    " - ➤ Agar dono mein se koi bhi ek condition true ho to True return karta hai."
   ]
  },
  {
   "cell_type": "code",
   "execution_count": 127,
   "id": "73da1072-2a6c-4aee-b28b-f05318188dc4",
   "metadata": {},
   "outputs": [
    {
     "data": {
      "text/plain": [
       "True"
      ]
     },
     "execution_count": 127,
     "metadata": {},
     "output_type": "execute_result"
    }
   ],
   "source": [
    "x = 150\n",
    "y = 50\n",
    "x == y or x > y"
   ]
  },
  {
   "cell_type": "code",
   "execution_count": 129,
   "id": "78853f57-0bcb-44bb-83c0-8495764dce29",
   "metadata": {},
   "outputs": [
    {
     "data": {
      "text/plain": [
       "True"
      ]
     },
     "execution_count": 129,
     "metadata": {},
     "output_type": "execute_result"
    }
   ],
   "source": [
    "x >= y or y > x"
   ]
  },
  {
   "cell_type": "code",
   "execution_count": 130,
   "id": "df28d63f-d22c-456c-b8b9-77d4e0d58781",
   "metadata": {},
   "outputs": [
    {
     "data": {
      "text/plain": [
       "True"
      ]
     },
     "execution_count": 130,
     "metadata": {},
     "output_type": "execute_result"
    }
   ],
   "source": [
    "x >= y or x < y"
   ]
  },
  {
   "cell_type": "code",
   "execution_count": 131,
   "id": "f8f47f0c-44ec-4c4d-b867-589b5ed9b731",
   "metadata": {},
   "outputs": [
    {
     "name": "stdin",
     "output_type": "stream",
     "text": [
      "Enter your role (admin/moderator/user):  30203\n"
     ]
    },
    {
     "name": "stdout",
     "output_type": "stream",
     "text": [
      "Access restricted\n"
     ]
    }
   ],
   "source": [
    "# Question: Ek program likho jo check kare ke user ya to admin hai ya moderator, tabhi \"Welcome\" print kare.\n",
    "\n",
    "role = input(\"Enter your role (admin/moderator/user): \").lower()\n",
    "if role == \"admin\" or role == \"moderator\":\n",
    "    print(\"Welcome\")\n",
    "else:\n",
    "    print(\"Access restricted\")"
   ]
  },
  {
   "cell_type": "code",
   "execution_count": 136,
   "id": "c7114451-e98c-4ada-9eed-71593649be32",
   "metadata": {},
   "outputs": [],
   "source": [
    "# 3. not (Logical NOT)\n",
    "a = 30\n",
    "b = 50\n"
   ]
  },
  {
   "cell_type": "code",
   "execution_count": 138,
   "id": "0e5dd55f-5fbc-43a2-8fec-8f62e6eb018f",
   "metadata": {},
   "outputs": [
    {
     "name": "stdin",
     "output_type": "stream",
     "text": [
      "Are you subscribed? (yes/no):  Yes\n"
     ]
    },
    {
     "name": "stdout",
     "output_type": "stream",
     "text": [
      "Thank you for subscribing\n"
     ]
    }
   ],
   "source": [
    "subscribed = input(\"Are you subscribed? (yes/no): \").lower() == 'yes'\n",
    "if not subscribed:\n",
    "    print(\"Upgrade Plan\")\n",
    "else:\n",
    "    print(\"Thank you for subscribing\")\n"
   ]
  },
  {
   "cell_type": "markdown",
   "id": "50746a71-06da-4df9-a074-7637cc8247d7",
   "metadata": {},
   "source": [
    "# 🧮 5. Bitwise Operators"
   ]
  },
  {
   "cell_type": "markdown",
   "id": "b05f7254-75d7-4cfd-a8db-34b5235f7ec6",
   "metadata": {},
   "source": [
    "## 1. & (Bitwise AND)\n",
    " - ➤ Yeh do numbers ke bits ko AND karta hai — dono bits 1 hon to 1 return karta hai, warna 0."
   ]
  },
  {
   "cell_type": "code",
   "execution_count": 141,
   "id": "7caf57c5-c6fc-4509-b0fa-34ae2b60648b",
   "metadata": {},
   "outputs": [],
   "source": [
    "a = 30\n",
    "b = 20"
   ]
  },
  {
   "cell_type": "code",
   "execution_count": 144,
   "id": "9acda5b3-082b-4807-b005-8a07add43f9b",
   "metadata": {},
   "outputs": [
    {
     "name": "stdout",
     "output_type": "stream",
     "text": [
      "Bitwise AND: 20\n"
     ]
    }
   ],
   "source": [
    "print(\"Bitwise AND:\", a & b)"
   ]
  },
  {
   "cell_type": "code",
   "execution_count": 145,
   "id": "ca12a1aa-3439-450f-8ef3-74bfad830a28",
   "metadata": {},
   "outputs": [
    {
     "name": "stdout",
     "output_type": "stream",
     "text": [
      "Bitwise AND: 0\n"
     ]
    }
   ],
   "source": [
    "x = 8 \n",
    "y = 19\n",
    "print(\"Bitwise AND:\", x & b)"
   ]
  },
  {
   "cell_type": "code",
   "execution_count": 146,
   "id": "f10aaca7-4448-4b84-964e-f155ce12e8cc",
   "metadata": {},
   "outputs": [
    {
     "name": "stdout",
     "output_type": "stream",
     "text": [
      "Bitwise AND: 2\n"
     ]
    }
   ],
   "source": [
    "numA = 38\n",
    "numB = 83\n",
    "print(\"Bitwise AND:\", numA & numB)"
   ]
  },
  {
   "cell_type": "markdown",
   "id": "3df5837c-fbc5-4749-9173-5168f4d9de78",
   "metadata": {},
   "source": [
    "## 2. | (Bitwise OR)\n",
    " - ➤ Yeh do numbers ke bits ka OR karta hai — dono mein se koi bhi bit 1 ho to 1 return karta hai."
   ]
  },
  {
   "cell_type": "code",
   "execution_count": 149,
   "id": "98d9a383-4cc9-473c-918f-bcf7b9c6114f",
   "metadata": {},
   "outputs": [
    {
     "name": "stdout",
     "output_type": "stream",
     "text": [
      "Bitwise OR: 942\n"
     ]
    }
   ],
   "source": [
    "a = 302\n",
    "b = 932\n",
    "print(\"Bitwise OR:\", a | b)"
   ]
  },
  {
   "cell_type": "code",
   "execution_count": 150,
   "id": "0d79849e-022d-4a37-af54-5e3fb668ebfe",
   "metadata": {},
   "outputs": [
    {
     "name": "stdout",
     "output_type": "stream",
     "text": [
      "Bitwise OR: 11\n"
     ]
    }
   ],
   "source": [
    "x = 3\n",
    "y = 9\n",
    "print(\"Bitwise OR:\", x | y)"
   ]
  },
  {
   "cell_type": "code",
   "execution_count": 151,
   "id": "25c0d6aa-5b28-48d3-a15b-0fd19bd7218d",
   "metadata": {},
   "outputs": [
    {
     "name": "stdout",
     "output_type": "stream",
     "text": [
      "Bitwise OR: 7\n"
     ]
    }
   ],
   "source": [
    "a = 5\n",
    "b = 3\n",
    "print(\"Bitwise OR:\", a | b)"
   ]
  },
  {
   "cell_type": "markdown",
   "id": "35361be0-a15e-43d0-803f-c426418f8acb",
   "metadata": {},
   "source": [
    "## 3. ^ (Bitwise XOR)\n",
    " - ➤ Yeh bits ka XOR karta hai — jab bits alag hon tab 1 return karta hai."
   ]
  },
  {
   "cell_type": "code",
   "execution_count": 153,
   "id": "c1420126-3ed3-4170-b59e-e13e5da5adac",
   "metadata": {},
   "outputs": [
    {
     "name": "stdout",
     "output_type": "stream",
     "text": [
      "Bitwise XOR: 13\n"
     ]
    }
   ],
   "source": [
    "num1 = 33\n",
    "num2 = 44\n",
    "print(\"Bitwise XOR:\", num1 ^ num2)"
   ]
  },
  {
   "cell_type": "code",
   "execution_count": 156,
   "id": "b00a886c-b903-4fad-8082-922d3b39eb1a",
   "metadata": {},
   "outputs": [
    {
     "name": "stdout",
     "output_type": "stream",
     "text": [
      "Bitwise XOR: 77\n"
     ]
    }
   ],
   "source": [
    "X = 83\n",
    "Y = 30\n",
    "print(\"Bitwise XOR:\", X ^ Y)"
   ]
  },
  {
   "cell_type": "code",
   "execution_count": 157,
   "id": "8c4c1148-80ae-4d2e-8dae-5a1e4abe8d3d",
   "metadata": {},
   "outputs": [
    {
     "name": "stdout",
     "output_type": "stream",
     "text": [
      "Bitwise XOR: 6\n"
     ]
    }
   ],
   "source": [
    "a = 5 \n",
    "b = 3\n",
    "print(\"Bitwise XOR:\", a ^ b)"
   ]
  },
  {
   "cell_type": "markdown",
   "id": "6abd7cfa-d396-4314-912f-cdc7d812a048",
   "metadata": {},
   "source": [
    "## 4. ~ (Bitwise NOT)\n",
    " - ➤ Yeh bits ko invert karta hai — 0 ko 1 aur 1 ko 0 bana deta hai."
   ]
  },
  {
   "cell_type": "code",
   "execution_count": 159,
   "id": "89f07848-26c0-4470-b640-1a3a98111e47",
   "metadata": {},
   "outputs": [
    {
     "name": "stdout",
     "output_type": "stream",
     "text": [
      "Bitwise NOT: -31\n"
     ]
    }
   ],
   "source": [
    "a = 30\n",
    "print(\"Bitwise NOT:\", ~a)"
   ]
  },
  {
   "cell_type": "code",
   "execution_count": 162,
   "id": "258dbb41-168f-4d39-b863-39b3c1ef6dd6",
   "metadata": {},
   "outputs": [
    {
     "name": "stdout",
     "output_type": "stream",
     "text": [
      "Bitwise NOT: -89\n"
     ]
    }
   ],
   "source": [
    "b = 88\n",
    "print(\"Bitwise NOT:\", ~b)"
   ]
  },
  {
   "cell_type": "code",
   "execution_count": 163,
   "id": "4783e22a-f123-4eb3-b799-e9bf8e13d4d4",
   "metadata": {},
   "outputs": [
    {
     "name": "stdout",
     "output_type": "stream",
     "text": [
      "Bitwise NOT: -4\n"
     ]
    }
   ],
   "source": [
    "c = 3\n",
    "print(\"Bitwise NOT:\", ~c)"
   ]
  },
  {
   "cell_type": "markdown",
   "id": "ded33971-bab9-4e7a-aedf-8e5b3b5a02a8",
   "metadata": {},
   "source": [
    "## 5. << (Left Shift)\n",
    " - ➤ Yeh bits ko left shift karta hai, matlab bits ko specified positions se left shift kar deta hai, zero fill karta hai right side."
   ]
  },
  {
   "cell_type": "code",
   "execution_count": 165,
   "id": "6c4ab719-32ee-42d4-8997-bd0801fd96c0",
   "metadata": {},
   "outputs": [
    {
     "name": "stdout",
     "output_type": "stream",
     "text": [
      "Bitwise Left Shif: 24696061952\n"
     ]
    }
   ],
   "source": [
    "x = 23\n",
    "print(\"Bitwise Left Shif:\", x << 30)"
   ]
  },
  {
   "cell_type": "code",
   "execution_count": 166,
   "id": "21642c2a-018a-4149-9ea3-1befde0b20cf",
   "metadata": {},
   "outputs": [
    {
     "name": "stdout",
     "output_type": "stream",
     "text": [
      "Bitwise Left Shift: 335544320\n"
     ]
    }
   ],
   "source": [
    "y = 80\n",
    "print(\"Bitwise Left Shift:\", y << 22)"
   ]
  },
  {
   "cell_type": "code",
   "execution_count": 167,
   "id": "31f3d4c9-6795-4fd9-a61c-313f4b721bec",
   "metadata": {},
   "outputs": [
    {
     "name": "stdout",
     "output_type": "stream",
     "text": [
      "Bitwise Left Shift: 871878361088\n"
     ]
    }
   ],
   "source": [
    "z = 203\n",
    "print(\"Bitwise Left Shift:\", z << 32)"
   ]
  },
  {
   "cell_type": "markdown",
   "id": "a40e1d1c-8fc5-4cce-a68c-d3c2e8875283",
   "metadata": {},
   "source": [
    "## 6. >> (Right Shift)\n",
    " - ➤ Yeh bits ko right shift karta hai, matlab bits ko specified positions se right shift kar deta hai."
   ]
  },
  {
   "cell_type": "code",
   "execution_count": 169,
   "id": "047697f1-180b-4c5e-9a80-9c89ef3fae48",
   "metadata": {},
   "outputs": [
    {
     "name": "stdout",
     "output_type": "stream",
     "text": [
      "Bitwise Right Shift: 0\n"
     ]
    }
   ],
   "source": [
    "x = 30\n",
    "print(\"Bitwise Right Shift:\", x >> 20)"
   ]
  },
  {
   "cell_type": "code",
   "execution_count": 170,
   "id": "b51e383a-283b-4190-bb9d-67aae0e82d1b",
   "metadata": {},
   "outputs": [
    {
     "name": "stdout",
     "output_type": "stream",
     "text": [
      "Bitwise Right Shift: 0\n"
     ]
    }
   ],
   "source": [
    "y = 70\n",
    "print(\"Bitwise Right Shift:\", y >> 50)"
   ]
  },
  {
   "cell_type": "code",
   "execution_count": 171,
   "id": "776e0f12-bcca-4101-86d7-1f040ba5a2ce",
   "metadata": {},
   "outputs": [
    {
     "name": "stdout",
     "output_type": "stream",
     "text": [
      "Bitwise Right Shift: 0\n"
     ]
    }
   ],
   "source": [
    "z = 800\n",
    "print(\"Bitwise Right Shift:\", z >> 400)"
   ]
  },
  {
   "cell_type": "markdown",
   "id": "79a5f1cc-abf6-4d43-ab3a-fc6a61b3e146",
   "metadata": {},
   "source": [
    "# 🆔 6. Identity Operators"
   ]
  },
  {
   "cell_type": "markdown",
   "id": "cbee537f-bed3-4bfe-b550-fd797bbf3818",
   "metadata": {},
   "source": [
    "## 1. is \n",
    " - ➤ Yeh check karta hai ke do variables same object hain ya nahi (memory location same hai ya nahi).\n"
   ]
  },
  {
   "cell_type": "code",
   "execution_count": 175,
   "id": "1740a24d-5bdf-45ad-9dc4-5e0551379bdf",
   "metadata": {},
   "outputs": [
    {
     "name": "stdout",
     "output_type": "stream",
     "text": [
      "True\n",
      "False\n",
      "False\n"
     ]
    }
   ],
   "source": [
    "a = [10, 20, 30]\n",
    "b = a\n",
    "c = [10, 20, 30]\n",
    "print(a is b)\n",
    "print(a is c)\n",
    "print(c is b)"
   ]
  },
  {
   "cell_type": "code",
   "execution_count": 178,
   "id": "88ba3f12-f9ad-406e-869f-7f324577ada3",
   "metadata": {},
   "outputs": [
    {
     "name": "stdout",
     "output_type": "stream",
     "text": [
      "True\n",
      "True\n",
      "False\n",
      "False\n"
     ]
    }
   ],
   "source": [
    "x = [140, 30, 800]\n",
    "y = x\n",
    "z =  [140, 30, 800]\n",
    "print( x is y)\n",
    "print(y is x)\n",
    "print(x is z)\n",
    "print(z is y)"
   ]
  },
  {
   "cell_type": "markdown",
   "id": "884fb0d0-a788-46e8-a95d-25c35515b4d8",
   "metadata": {},
   "source": [
    "## 2. is not\n",
    "  - ➤ Yeh check karta hai ke do variables same object nahi hain."
   ]
  },
  {
   "cell_type": "code",
   "execution_count": 180,
   "id": "739ee228-26b6-42c5-99be-6e3c23f74f61",
   "metadata": {},
   "outputs": [
    {
     "name": "stdout",
     "output_type": "stream",
     "text": [
      "is not: True\n"
     ]
    }
   ],
   "source": [
    "x = [20, 50, 80]\n",
    "y = [20, 50, 80]\n",
    "print(\"is not:\", x is not y)"
   ]
  },
  {
   "cell_type": "code",
   "execution_count": 181,
   "id": "6a22d13a-ec7b-41d1-a272-c87ab1650999",
   "metadata": {},
   "outputs": [
    {
     "name": "stdout",
     "output_type": "stream",
     "text": [
      "is not: True\n"
     ]
    }
   ],
   "source": [
    "z = 300\n",
    "a = 300\n",
    "print(\"is not:\", z is not a)"
   ]
  },
  {
   "cell_type": "code",
   "execution_count": null,
   "id": "fdedd353-f508-41cd-b96c-12d872d754a3",
   "metadata": {},
   "outputs": [],
   "source": []
  },
  {
   "cell_type": "code",
   "execution_count": null,
   "id": "c563b317-e63f-43f7-9c99-c97b37669c34",
   "metadata": {},
   "outputs": [],
   "source": []
  },
  {
   "cell_type": "code",
   "execution_count": null,
   "id": "c82d8a3f-1ebb-4660-8b00-36af4f291075",
   "metadata": {},
   "outputs": [],
   "source": []
  },
  {
   "cell_type": "code",
   "execution_count": null,
   "id": "936da9b9-f12d-4543-b751-9f7ee50bd684",
   "metadata": {},
   "outputs": [],
   "source": []
  },
  {
   "cell_type": "code",
   "execution_count": null,
   "id": "4ad8e30e-0248-4fda-953d-63ec5c82e937",
   "metadata": {},
   "outputs": [],
   "source": []
  }
 ],
 "metadata": {
  "kernelspec": {
   "display_name": "Python 3 (ipykernel)",
   "language": "python",
   "name": "python3"
  },
  "language_info": {
   "codemirror_mode": {
    "name": "ipython",
    "version": 3
   },
   "file_extension": ".py",
   "mimetype": "text/x-python",
   "name": "python",
   "nbconvert_exporter": "python",
   "pygments_lexer": "ipython3",
   "version": "3.12.7"
  }
 },
 "nbformat": 4,
 "nbformat_minor": 5
}
