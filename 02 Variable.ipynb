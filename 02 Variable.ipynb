{
 "cells": [
  {
   "cell_type": "markdown",
   "id": "7e8a1979-44cb-4d51-b9a7-9b587f19dafd",
   "metadata": {},
   "source": [
    "# Python Variable\n",
    "   - Variable Like a Container\n",
    "   - Variable ko hum value assign kartein hein , jo phir kese operator mein use hotein hein."
   ]
  },
  {
   "cell_type": "markdown",
   "id": "4cf352ed-857a-47d0-9a05-ac08d9c4f3c2",
   "metadata": {},
   "source": [
    "# 1. Simpe Variable Assignment"
   ]
  },
  {
   "cell_type": "code",
   "execution_count": 7,
   "id": "c378793b-6e43-4e65-a52e-40a955c60e4e",
   "metadata": {
    "collapsed": true,
    "jupyter": {
     "outputs_hidden": true
    }
   },
   "outputs": [
    {
     "name": "stdout",
     "output_type": "stream",
     "text": [
      "Name😎 Sher Khan\n",
      "Age 💀 25\n"
     ]
    }
   ],
   "source": [
    "name = 'Sher Khan'\n",
    "age = '25'\n",
    "print(\"Name😎\", name)\n",
    "print(\"Age 💀\", age)"
   ]
  },
  {
   "cell_type": "code",
   "execution_count": 8,
   "id": "ca436ceb-7b20-4fae-bb9c-f4a58c3ac92e",
   "metadata": {},
   "outputs": [
    {
     "name": "stdout",
     "output_type": "stream",
     "text": [
      "Good Morning! Woke up at: 12:30 AM ⏲\n",
      "Today Break Fast! Nothing💀 🍴\n"
     ]
    }
   ],
   "source": [
    "# 1. Morning Routine ☀️\n",
    "wake_up_time = \"12:30 AM\"\n",
    "breakfast = \"Nothing💀\"\n",
    "print(\"Good Morning! Woke up at:\", wake_up_time,\"⏲\")\n",
    "print(\"Today Break Fast!\", breakfast, \"🍴\")"
   ]
  },
  {
   "cell_type": "code",
   "execution_count": 9,
   "id": "ffaf2913-4df3-4e88-8620-e14927132d86",
   "metadata": {},
   "outputs": [
    {
     "name": "stdout",
     "output_type": "stream",
     "text": [
      "Current Reading: Atomic Habits 📚📚\n",
      "Author: James clear ✍\n"
     ]
    }
   ],
   "source": [
    "# 2. Favorite Book Info 📚\n",
    "book_name = \"Atomic Habits\"\n",
    "author = \"James clear\"\n",
    "print(\"Current Reading:\", book_name , \"📚📚\")\n",
    "print(\"Author:\", author, \"✍\")"
   ]
  },
  {
   "cell_type": "code",
   "execution_count": 10,
   "id": "e5a35a74-f6da-40e6-b550-064d912a383a",
   "metadata": {},
   "outputs": [
    {
     "name": "stdout",
     "output_type": "stream",
     "text": [
      "Today Water glasses: 8 🥛\n",
      "Tips: Stay Hydrated!💦\n"
     ]
    }
   ],
   "source": [
    "# 3. Daily Water Intake Tracker 💧\n",
    "water_glasses = 8\n",
    "water_goal = \"Stay Hydrated!💦\"\n",
    "print(\"Today Water glasses:\", water_glasses , \"🥛\")\n",
    "print(\"Tips:\", water_goal)"
   ]
  },
  {
   "cell_type": "code",
   "execution_count": 11,
   "id": "18edc8dc-85f7-4dfe-b970-2278643c86ec",
   "metadata": {},
   "outputs": [
    {
     "name": "stdout",
     "output_type": "stream",
     "text": [
      "Study Subject Today: Mathematics ➕\n",
      "Total Hour Studied: 3 ⏳\n"
     ]
    }
   ],
   "source": [
    "\n",
    "# 4. Study Session Details 📓\n",
    "subject = \"Mathematics ➕\"\n",
    "study_hours = 3\n",
    "print(\"Study Subject Today:\", subject)\n",
    "print(\"Total Hour Studied:\", study_hours, \"⏳\")"
   ]
  },
  {
   "cell_type": "code",
   "execution_count": 12,
   "id": "719bdf24-e9e3-4411-84c5-00c7f25e49de",
   "metadata": {},
   "outputs": [
    {
     "name": "stdout",
     "output_type": "stream",
     "text": [
      "Weather Plan: Go hiking🚶‍♂️\n",
      "Weather Forecast: sunny 🌞\n"
     ]
    }
   ],
   "source": [
    "# 5. Weekend Plans 🌄\n",
    "plan = \"Go hiking🚶‍♂️\"\n",
    "weather = \"sunny 🌞\"\n",
    "print(\"Weather Plan:\", plan)\n",
    "print(\"Weather Forecast:\", weather)"
   ]
  },
  {
   "cell_type": "code",
   "execution_count": 13,
   "id": "e3402834-badd-4f46-bc4b-f9f4e48698c6",
   "metadata": {},
   "outputs": [
    {
     "name": "stdout",
     "output_type": "stream",
     "text": [
      "Sleep From  5:00 AM 🤪 🌛 to  12:00 AM 😫 ☀️\n"
     ]
    }
   ],
   "source": [
    "# 7. Sleep Schedule 🛌\n",
    "bed_time = \"5:00 AM 🤪\"\n",
    "wake_up_time = \"12:00 AM 😫\"\n",
    "print(\"Sleep From \", bed_time, \"🌛 to \", wake_up_time , \"☀️\")\n"
   ]
  },
  {
   "cell_type": "code",
   "execution_count": 14,
   "id": "507da98b-b718-4e19-b8b1-20ff8c87b987",
   "metadata": {},
   "outputs": [
    {
     "name": "stdout",
     "output_type": "stream",
     "text": [
      "Today Exercise: Yoga\n",
      "Duration in Time: 45\n"
     ]
    }
   ],
   "source": [
    "# 8. Exercise Routine 🧘‍♀️\n",
    "exercise_type = \"Yoga\"\n",
    "duration_mins = 45\n",
    "print(\"Today Exercise:\", exercise_type)\n",
    "print(\"Duration in Time:\", duration_mins)"
   ]
  },
  {
   "cell_type": "code",
   "execution_count": 15,
   "id": "b6eb29d6-4987-44ce-bd37-14cf6e609180",
   "metadata": {},
   "outputs": [
    {
     "name": "stdout",
     "output_type": "stream",
     "text": [
      "Snake: Chips 🍟\n",
      "Calories: 150 🔥\n"
     ]
    }
   ],
   "source": [
    "# 9. Favorite Snake 🍪\n",
    "snake_name = \"Chips\"\n",
    "calories = 150\n",
    "print(\"Snake:\", snake_name,\"🍟\")\n",
    "print(\"Calories:\", calories, \"🔥\")"
   ]
  },
  {
   "cell_type": "code",
   "execution_count": 16,
   "id": "1e604f24-1738-4c37-8f58-d4db56acc092",
   "metadata": {},
   "outputs": [
    {
     "name": "stdout",
     "output_type": "stream",
     "text": [
      "Meeting Topic: Project Planning\n",
      "Meeting Time: 3:00 PM ⏲\n"
     ]
    }
   ],
   "source": [
    "# 10. Working Info 💼\n",
    "meeting_topic = \"Project Planning\"\n",
    "meeting_time = \"3:00 PM\"\n",
    "print(\"Meeting Topic:\", meeting_topic)\n",
    "print(\"Meeting Time:\", meeting_time, \"⏲\")"
   ]
  },
  {
   "cell_type": "code",
   "execution_count": 17,
   "id": "b6d82bfc-c31b-484a-bd73-4198b08bfc71",
   "metadata": {},
   "outputs": [
    {
     "name": "stdout",
     "output_type": "stream",
     "text": [
      "Buy 3 Liters of: Milk 🥛🥛\n"
     ]
    }
   ],
   "source": [
    "# 11. Shopping List Items 🛒\n",
    "items_name = \"Milk 🥛🥛\"\n",
    "quantity = 3\n",
    "print(\"Buy\", quantity, \"Liters of:\", items_name)"
   ]
  },
  {
   "cell_type": "code",
   "execution_count": 19,
   "id": "0232fd9e-b8d4-4c22-a9bd-46e39dafae37",
   "metadata": {},
   "outputs": [
    {
     "name": "stdout",
     "output_type": "stream",
     "text": [
      "Today Affirmation is: I am capable and Strong\n"
     ]
    }
   ],
   "source": [
    "#12. Daily Affirmation 💡\n",
    "affirmation = \"I am capable and Strong\"\n",
    "print(\"Today Affirmation is:\", affirmation)"
   ]
  },
  {
   "cell_type": "code",
   "execution_count": 20,
   "id": "178de1e3-1be4-4f03-8807-2519290478f4",
   "metadata": {},
   "outputs": [
    {
     "name": "stdout",
     "output_type": "stream",
     "text": [
      "Playing Song: Shape of you\n",
      "Artist: ED Sheeran 🎙 \n"
     ]
    }
   ],
   "source": [
    "# 12. Music Track Plaing 🎵\n",
    "song_name = \"Shape of you\"\n",
    "artist = \"ED Sheeran 🎙 \"\n",
    "print(\"Playing Song:\", song_name)\n",
    "print(\"Artist:\", artist)"
   ]
  },
  {
   "cell_type": "code",
   "execution_count": 21,
   "id": "e4a0eaa0-5a78-4a3e-befc-b2c845f4afc7",
   "metadata": {},
   "outputs": [
    {
     "name": "stdout",
     "output_type": "stream",
     "text": [
      "Traval Destination: Paris 🏙\n",
      "Country: Farance\n"
     ]
    }
   ],
   "source": [
    "# 14. Traval Destination ✈\n",
    "city = \"Paris 🏙\"\n",
    "country = \"Farance\"\n",
    "print(\"Traval Destination:\", city)\n",
    "print(\"Country:\", country)"
   ]
  },
  {
   "cell_type": "code",
   "execution_count": 23,
   "id": "5a692e7d-1dc7-453f-ab1b-e51295c9f770",
   "metadata": {},
   "outputs": [
    {
     "name": "stdout",
     "output_type": "stream",
     "text": [
      "Ali's Birth Day is on: 15 Aguest\n"
     ]
    }
   ],
   "source": [
    "# 15. Birthday Remainder\n",
    "friend_name = \"Ali\"\n",
    "birth_day = \"15 Aguest\"\n",
    "print(friend_name + \"'s Birth Day is on:\", birth_day)"
   ]
  },
  {
   "cell_type": "code",
   "execution_count": 25,
   "id": "1ba7ecce-6550-4a47-92fb-498e816c3f47",
   "metadata": {},
   "outputs": [
    {
     "name": "stdout",
     "output_type": "stream",
     "text": [
      "Order: Full tana tan Khawa chai🍵 Rawra Mara\n"
     ]
    }
   ],
   "source": [
    "# 16. Coffee Order 🍵\n",
    "coffee_type = \"Khawa chai🍵\"\n",
    "size = \"Full tana tan\"\n",
    "print(\"Order:\", size, coffee_type, \"Rawra Mara\")"
   ]
  },
  {
   "cell_type": "code",
   "execution_count": 26,
   "id": "9f40d281-4311-4eb0-b249-db63e2b9e015",
   "metadata": {},
   "outputs": [
    {
     "name": "stdout",
     "output_type": "stream",
     "text": [
      " Movie Duration: 2.5 hours 🎥\n"
     ]
    }
   ],
   "source": [
    "# 17. Movie Watch Time 🎬🍿\n",
    "movie_lenght_hrs = 2.5\n",
    "print(\" Movie Duration:\", movie_lenght_hrs, \"hours 🎥\")\n"
   ]
  },
  {
   "cell_type": "code",
   "execution_count": 27,
   "id": "e8fd49d6-1609-43cc-8bdd-59f85562cef1",
   "metadata": {},
   "outputs": [
    {
     "name": "stdout",
     "output_type": "stream",
     "text": [
      "Today Steps walked: 5000 👟\n",
      "Steps Walked Daily Goals: 1000 ⛳\n"
     ]
    }
   ],
   "source": [
    "steps_walked = 5000\n",
    "steps_goal = 1000\n",
    "print(\"Today Steps walked:\", steps_walked, \"👟\")\n",
    "print(\"Steps Walked Daily Goals:\", steps_goal, \"⛳\")"
   ]
  },
  {
   "cell_type": "code",
   "execution_count": 28,
   "id": "bbf7674c-82b7-4551-9a21-d7fd3fd10d70",
   "metadata": {},
   "outputs": [
    {
     "name": "stdout",
     "output_type": "stream",
     "text": [
      "Learning Language: Spanish\n",
      "Current Level: beginner 📖\n"
     ]
    }
   ],
   "source": [
    "# 19. Leanguage Learning 🌍\n",
    "language = \"Spanish\"\n",
    "current_level = \"beginner\"\n",
    "print(\"Learning Language:\", language)\n",
    "print(\"Current Level:\", current_level, \"📖\")"
   ]
  },
  {
   "cell_type": "code",
   "execution_count": 29,
   "id": "a25daf3e-bb51-4a00-a865-36697dc8deff",
   "metadata": {},
   "outputs": [
    {
     "name": "stdout",
     "output_type": "stream",
     "text": [
      "Ordered a Large Chocolate cake for birthday!🎂\n"
     ]
    }
   ],
   "source": [
    "# 20. Birthday Cake Order 🎂\n",
    "cake_flavor = \"Chocolate\"\n",
    "cake_size = \"Large\"\n",
    "print(\"Ordered a\", cake_size, cake_flavor, \"cake for birthday!🎂\" )"
   ]
  },
  {
   "cell_type": "markdown",
   "id": "57a5b9cf-bd32-421d-87fb-2b806351d185",
   "metadata": {},
   "source": [
    "# 2. Re-assigning values to variable\n",
    "  - Hum ek he variable ko multiple bar re-assing kar sakhte hein."
   ]
  },
  {
   "cell_type": "code",
   "execution_count": 32,
   "id": "5a3ae220-bf16-4acd-a755-0c6250c5dfec",
   "metadata": {},
   "outputs": [
    {
     "name": "stdout",
     "output_type": "stream",
     "text": [
      "old age: 29\n",
      "Happy Birthday! New Age: 30\n"
     ]
    }
   ],
   "source": [
    "# 1. Birthday Update 🎂\n",
    "age = 29\n",
    "print(\"old age:\", age)\n",
    "age = 30\n",
    "print(\"Happy Birthday! New Age:\", new_age)"
   ]
  },
  {
   "cell_type": "code",
   "execution_count": 33,
   "id": "b8ff3833-fc2a-4c0a-8ca2-2b4fb5c312ee",
   "metadata": {},
   "outputs": [
    {
     "name": "stdout",
     "output_type": "stream",
     "text": [
      "old name: Sara\n",
      "new age: Sara Khan\n"
     ]
    }
   ],
   "source": [
    "# 2. Name Change Anouncement 📝\n",
    "name = \"Sara\"\n",
    "print(\"old name:\", name)\n",
    "name = \"Sara Khan\"\n",
    "print(\"new age:\", name)"
   ]
  },
  {
   "cell_type": "code",
   "execution_count": 34,
   "id": "5f9fdaa0-73cd-4c45-8363-6d6dee573f64",
   "metadata": {},
   "outputs": [
    {
     "name": "stdout",
     "output_type": "stream",
     "text": [
      "old owner: Ali\n",
      "New Owner: Sher Khan\n"
     ]
    }
   ],
   "source": [
    "# 3. Bussiness Update 🏢\n",
    "owner_name = \"Ali\"\n",
    "print(\"old owner:\", owner_name)\n",
    "owner_name = \"Sher Khan\" # bussiness bach diya , new owner aagaya\n",
    "print(\"New Owner:\", owner_name)"
   ]
  },
  {
   "cell_type": "code",
   "execution_count": 35,
   "id": "81e55f5a-05d1-4a48-926e-78ac80a0b54d",
   "metadata": {},
   "outputs": [
    {
     "name": "stdout",
     "output_type": "stream",
     "text": [
      "The Product: Mera Land Tumhare Liye: and Rs15000\n",
      "New Price: Mera Land Tumhare Liye, and Price For You My Haters: Tuhare Liye Free Free Free hai😂\n"
     ]
    }
   ],
   "source": [
    "# 4. Product Price Change 💰\n",
    "product_name = \"Mera Land Tumhare Liye\"\n",
    "price = \"15000\"\n",
    "print(f\"The Product: {product_name}: and Rs{price}\")\n",
    "price = \"Tuhare Liye Free Free Free hai😂\" # discount lagaya hai , mein ne apne haters kalie\n",
    "print(f\"New Price: {product_name}, and Price For You My Haters: {price}\")"
   ]
  },
  {
   "cell_type": "code",
   "execution_count": 36,
   "id": "c788a499-26e6-4480-9755-11a0d5c9cf42",
   "metadata": {},
   "outputs": [
    {
     "name": "stdout",
     "output_type": "stream",
     "text": [
      "Morning Mode: Fucking tired\n",
      "Naswar ke baad 💀: Energetic\n"
     ]
    }
   ],
   "source": [
    "# 5. Daily Mode Tracker 😂\n",
    "mood = \"Fucking tired\"\n",
    "print(\"Morning Mode:\", mood)\n",
    "mood = \"Energetic\"\n",
    "print(\"Naswar ke baad 💀:\", mood)"
   ]
  },
  {
   "cell_type": "code",
   "execution_count": 37,
   "id": "6dc22e4f-357a-4c3a-a5d3-510fdb03efd9",
   "metadata": {},
   "outputs": [
    {
     "name": "stdout",
     "output_type": "stream",
     "text": [
      "Current Salary: Rs 💵 50000\n",
      "New Salary: 60000\n"
     ]
    }
   ],
   "source": [
    "# 7.Salary Raised Anouncement  💼\n",
    "salary = 50000\n",
    "print(\"Current Salary: Rs 💵\", salary)\n",
    "salary = 60000 # promotion ke baad ke salary\n",
    "print(\"New Salary:\", salary)"
   ]
  },
  {
   "cell_type": "code",
   "execution_count": 40,
   "id": "275ead9c-fcb3-4775-b2b1-a0d89fe0bcab",
   "metadata": {},
   "outputs": [
    {
     "name": "stdout",
     "output_type": "stream",
     "text": [
      "Old Steps fitness: 5000\n",
      "New Daily Steps Goals: 8000\n"
     ]
    }
   ],
   "source": [
    "# 8. Fitness Goals Update 🏋️‍♂️\n",
    "daily_steps = 5000\n",
    "print(\"Old Steps fitness:\", daily_steps)\n",
    "daily_steps = 8000  # step update karna , hard fitness kalie\n",
    "print(\"New Daily Steps Goals:\", daily_steps)"
   ]
  },
  {
   "cell_type": "code",
   "execution_count": 41,
   "id": "fd61da1a-d050-42a1-82e2-4ee3e18682c6",
   "metadata": {},
   "outputs": [
    {
     "name": "stdout",
     "output_type": "stream",
     "text": [
      "Original Meeting Time: 3:00PM\n",
      "Update Meeting Time: 8:00PM\n"
     ]
    }
   ],
   "source": [
    "# Meeting time Change ⏰\n",
    "meeting_time = \"3:00PM\"\n",
    "print(\"Original Meeting Time:\", meeting_time)\n",
    "meeting_time = \"8:00PM\" # postpone ho gai meeting\n",
    "print(\"Update Meeting Time:\", meeting_time)"
   ]
  },
  {
   "cell_type": "code",
   "execution_count": 42,
   "id": "de1b987d-cdf1-44ba-bf39-62cfdac1eea4",
   "metadata": {},
   "outputs": [
    {
     "name": "stdout",
     "output_type": "stream",
     "text": [
      "Project Dead Lion: 10th July\n",
      "Update Dead Line: 20th July\n"
     ]
    }
   ],
   "source": [
    "# Project Deadline Extension 📅\n",
    "dead_line = \"10th July\"\n",
    "print(\"Project Dead Lion:\", dead_line)\n",
    "dead_line = \"20th July\" # Extension mil gaye deadline ki\n",
    "print(\"Update Dead Line:\", dead_line)"
   ]
  },
  {
   "cell_type": "code",
   "execution_count": 43,
   "id": "a1be9d9b-f665-41aa-acf4-f0e68520000a",
   "metadata": {},
   "outputs": [
    {
     "name": "stdout",
     "output_type": "stream",
     "text": [
      "Old favorite food: Pizza\n",
      "New favorite food: Chikan biryani with chanti and salad 😋\n"
     ]
    }
   ],
   "source": [
    "# Favorite Food Change 🍽️\n",
    "favorite_food = \"Pizza\"\n",
    "print(\"Old favorite food:\", favorite_food)\n",
    "favorite_food = \"Chikan biryani with chanti and salad 😋\"\n",
    "print(\"New favorite food:\", favorite_food)"
   ]
  },
  {
   "cell_type": "code",
   "execution_count": 44,
   "id": "3863136e-e5a5-4592-851b-fa0b26caceb7",
   "metadata": {},
   "outputs": [
    {
     "name": "stdout",
     "output_type": "stream",
     "text": [
      "Old Stock Quantity: 100\n",
      "New Stock Quantity: 160\n"
     ]
    }
   ],
   "source": [
    "# Stock Quantity Update 📦\n",
    "stock = 100\n",
    "print(\"Old Stock Quantity:\", stock)\n",
    "stock = 160  # new stock aagaya \n",
    "print(\"New Stock Quantity:\", stock)"
   ]
  },
  {
   "cell_type": "code",
   "execution_count": 45,
   "id": "833a5fe8-efbb-4de8-8e64-086c15dc764c",
   "metadata": {},
   "outputs": [
    {
     "name": "stdout",
     "output_type": "stream",
     "text": [
      "Visitor Til Now: 1500\n",
      "Update Visitors: 2540\n"
     ]
    }
   ],
   "source": [
    "# Website Visitor Count Update 🌐\n",
    "visitors = 1500\n",
    "print(\"Visitor Til Now:\", visitors )\n",
    "visitors = 2540 # new visitors aagaye\n",
    "print(\"Update Visitors:\", visitors)"
   ]
  },
  {
   "cell_type": "code",
   "execution_count": 46,
   "id": "8fb2c755-1c24-4f38-b4fa-d06ecfe2622c",
   "metadata": {},
   "outputs": [
    {
     "name": "stdout",
     "output_type": "stream",
     "text": [
      "Morning Water Intake: 1.5 Liters\n",
      "Afternoon Water Intake: 2.5 Liters\n"
     ]
    }
   ],
   "source": [
    "# Daily Water Intake 💧\n",
    "water_intake_liters = 1.5\n",
    "print(\"Morning Water Intake:\", water_intake_liters, \"Liters\")\n",
    "water_intake_liters = 2.5\n",
    "print(\"Afternoon Water Intake:\", water_intake_liters, \"Liters\")"
   ]
  },
  {
   "cell_type": "code",
   "execution_count": 47,
   "id": "9bbff94d-21f1-4326-9bc5-cab59c8a6b91",
   "metadata": {},
   "outputs": [
    {
     "name": "stdout",
     "output_type": "stream",
     "text": [
      "Task Status: pending\n",
      "Update Task Status: completed\n"
     ]
    }
   ],
   "source": [
    "# Task Completion Status ✅\n",
    "task_status = \"pending\"\n",
    "print(\"Task Status:\", task_status)\n",
    "task_status = \"completed\"\n",
    "print(\"Update Task Status:\", task_status)"
   ]
  },
  {
   "cell_type": "code",
   "execution_count": 48,
   "id": "952d27c9-ac3e-4738-be92-2758a66d3388",
   "metadata": {},
   "outputs": [
    {
     "name": "stdout",
     "output_type": "stream",
     "text": [
      "Initial Feedback: Average\n",
      "Update Feedback: Yeh kon ha , items diya hai, boosry wale\n",
      "Update Feedback: Excellent\n"
     ]
    }
   ],
   "source": [
    "# Customer Feedback Update\n",
    "feedback = \"Average\"\n",
    "print(\"Initial Feedback:\", feedback)\n",
    "feedback = \"Yeh kon ha , items diya hai, boosry wale\" # new feed back\n",
    "print(\"Update Feedback:\", feedback)\n",
    "feedback = \"Excellent\"\n",
    "print(\"Update Feedback:\", feedback)"
   ]
  },
  {
   "cell_type": "code",
   "execution_count": 50,
   "id": "ea7c200f-224b-4a0b-866f-a8a09b2b66f9",
   "metadata": {},
   "outputs": [
    {
     "name": "stdout",
     "output_type": "stream",
     "text": [
      "Old Tik Tok Flowers 260\n",
      "New Flowers : 1030\n"
     ]
    }
   ],
   "source": [
    "# Social media flowers growth 📱\n",
    "flowers = 260\n",
    "print(\"Old Tik Tok Flowers\", flowers)\n",
    "flowers = 1030 # flowers badh gaye\n",
    "print(\"New Flowers :\", flowers)"
   ]
  },
  {
   "cell_type": "code",
   "execution_count": 53,
   "id": "8efe589f-4908-4ed1-828d-c393d6471972",
   "metadata": {},
   "outputs": [
    {
     "name": "stdout",
     "output_type": "stream",
     "text": [
      "Morning Temperature: 25 °C\n",
      "Afternoon Temperature: 36 °C\n"
     ]
    }
   ],
   "source": [
    "# Temperature Change 🌡️\n",
    "temperature_c = 25\n",
    "print(\"Morning Temperature:\", temperature_c ,  \"°C\")\n",
    "temperature_c = 36\n",
    "print(\"Afternoon Temperature:\", temperature_c  ,\"°C\")"
   ]
  },
  {
   "cell_type": "code",
   "execution_count": 54,
   "id": "16d869f5-043e-416a-a7d7-8c7b32dae13c",
   "metadata": {},
   "outputs": [
    {
     "name": "stdout",
     "output_type": "stream",
     "text": [
      "Pages Reads: 50\n",
      "Update Pages Reads: 165\n"
     ]
    }
   ],
   "source": [
    "# Book Reading Prograss  📖\n",
    "pages_read = 50\n",
    "print(\"Pages Reads:\", pages_read)\n",
    "pages_read = 165 # reading continue ki\n",
    "print(\"Update Pages Reads:\", pages_read)"
   ]
  },
  {
   "cell_type": "code",
   "execution_count": 55,
   "id": "ad65b16a-d36d-4590-9fd0-bfabd78a6b93",
   "metadata": {},
   "outputs": [
    {
     "name": "stdout",
     "output_type": "stream",
     "text": [
      "Initial Budget: Rs. 10000\n",
      "Update Budget: Rs. 80000\n"
     ]
    }
   ],
   "source": [
    "# Budget Allocation Update 💸\n",
    "budget = 10000\n",
    "print(\"Initial Budget: Rs.\", budget)\n",
    "budget = 80000 # budget thora kaam hogaya\n",
    "print(\"Update Budget: Rs.\", budget)"
   ]
  },
  {
   "cell_type": "code",
   "execution_count": 57,
   "id": "0e362abf-cef6-42af-ad95-d73893b757ee",
   "metadata": {},
   "outputs": [
    {
     "name": "stdout",
     "output_type": "stream",
     "text": [
      "Email Status: unread\n",
      "Update Email Status: Read\n"
     ]
    }
   ],
   "source": [
    "# Email Status Change 📧\n",
    "email_status = \"unread\"\n",
    "print(\"Email Status:\", email_status)\n",
    "email_status = \"Read\" # email read kar li\n",
    "print(\"Update Email Status:\", email_status)"
   ]
  },
  {
   "cell_type": "markdown",
   "id": "72dc25dd-b0b5-46a9-a5c0-1483c65c3a06",
   "metadata": {},
   "source": [
    "# 3. Multiple Assignment in One Line \n",
    "   - Hum multiple variable ko ek he line mein assign kar sakhtein hein."
   ]
  },
  {
   "cell_type": "code",
   "execution_count": 61,
   "id": "34271da5-5f02-4db6-b15a-b1504484a44c",
   "metadata": {},
   "outputs": [
    {
     "name": "stdout",
     "output_type": "stream",
     "text": [
      "Latitude: 24.8507 °\n",
      "Logitude: 67.0011 °\n",
      "Altitude: 15 meters\n"
     ]
    }
   ],
   "source": [
    "# Cordinates of a place 📍 \n",
    "latitude, logitude, altitude = 24.8507, 67.0011 , 15\n",
    "print(\"Latitude:\", latitude , \"°\")\n",
    "print(\"Logitude:\", logitude, \"°\")\n",
    "print(\"Altitude:\", altitude, \"meters\")"
   ]
  },
  {
   "cell_type": "code",
   "execution_count": 62,
   "id": "ee875aa8-2562-40d4-a1fb-3ec6f621515b",
   "metadata": {},
   "outputs": [
    {
     "name": "stdout",
     "output_type": "stream",
     "text": [
      "RED: 255 🔴\n",
      "GREEN: 100 🟢\n",
      "BLUE: 50 🔵\n"
     ]
    }
   ],
   "source": [
    "# RGB Colors Values 🎨\n",
    "red, green , blue = 255, 100, 50\n",
    "print(\"RED:\", red, \"🔴\")\n",
    "print(\"GREEN:\", green, \"🟢\")\n",
    "print(\"BLUE:\", blue, \"🔵\")"
   ]
  },
  {
   "cell_type": "code",
   "execution_count": 64,
   "id": "eb02b464-03f1-441c-bca8-5a8b1c200248",
   "metadata": {},
   "outputs": [
    {
     "name": "stdout",
     "output_type": "stream",
     "text": [
      "Work: 6 👨‍💻\n",
      "Break: 1 🍵\n",
      "Meeting: 2 hr 🗣 \n"
     ]
    }
   ],
   "source": [
    "# Daily Word Hours ⌚\n",
    "work_hours, break_hours , meeting_hours = 6, 1, 2\n",
    "print(\"Work:\", work_hours, \"👨‍💻\")\n",
    "print(\"Break:\", break_hours, \"🍵\")\n",
    "print(\"Meeting:\", meeting_hours, \"hr 🗣 \")"
   ]
  },
  {
   "cell_type": "code",
   "execution_count": 66,
   "id": "4a5affc7-9329-4a1e-88af-1164992e5017",
   "metadata": {},
   "outputs": [
    {
     "name": "stdout",
     "output_type": "stream",
     "text": [
      "Size: Large 🤪\n",
      "Type Coffee: Khawa Chai 🍵\n",
      "Suger Spones: 2 🍬\n"
     ]
    }
   ],
   "source": [
    "size, type_coffee , suger = \"Large\", \"Khawa Chai\", 2\n",
    "print(\"Size:\", size, \"🤪\")\n",
    "print(\"Type Coffee:\", type_coffee, \"🍵\")\n",
    "print(\"Suger Spones:\", suger, \"🍬\")"
   ]
  },
  {
   "cell_type": "code",
   "execution_count": 67,
   "id": "b0eb3306-238d-4370-813a-3200290ba1e0",
   "metadata": {},
   "outputs": [
    {
     "name": "stdout",
     "output_type": "stream",
     "text": [
      "Steps: 8000 👣\n",
      "Calories Burned: 400 🔥\n",
      "Workout: 45\n"
     ]
    }
   ],
   "source": [
    "# Fitness Stats 🏋️‍♂️\n",
    "steps_walked, calories_burned, workout_minutes = 8000, 400, 45\n",
    "print('Steps:', steps_walked, \"👣\")\n",
    "print(\"Calories Burned:\", calories_burned, \"🔥\")\n",
    "print(\"Workout:\", workout_minutes)"
   ]
  },
  {
   "cell_type": "code",
   "execution_count": 68,
   "id": "9348b5dd-0624-48a6-8153-26e4bf73ac78",
   "metadata": {},
   "outputs": [
    {
     "name": "stdout",
     "output_type": "stream",
     "text": [
      "Temperature: 30 °C 🌡️\n",
      "Humidity: 65 % 💧\n",
      "Wind Speed: 20 km/h 🌬️\n"
     ]
    }
   ],
   "source": [
    "# Weather Report ☀️🌧️\n",
    "temperature_c , humidity_percent, wind_speed_kph = 30, 65, 20\n",
    "print(\"Temperature:\", temperature_c,\"°C 🌡️\")\n",
    "print(\"Humidity:\", humidity_percent ,\"% 💧\")\n",
    "print(\"Wind Speed:\", wind_speed_kph,  \"km/h 🌬️\")"
   ]
  },
  {
   "cell_type": "code",
   "execution_count": 69,
   "id": "2b0fd4d5-add2-45b4-aa7f-772f8c0bcbc0",
   "metadata": {},
   "outputs": [
    {
     "name": "stdout",
     "output_type": "stream",
     "text": [
      "Kids: 12 👧🧒\n",
      "Adults: 50 🧑👩\n",
      "Seniors: 7 👴👵\n"
     ]
    }
   ],
   "source": [
    "kids, adults, seniors = 12, 50, 7\n",
    "print(\"Kids:\", kids, \"👧🧒\" )\n",
    "print(\"Adults:\", adults, \"🧑👩\" )\n",
    "print(\"Seniors:\", seniors,  \"👴👵\")"
   ]
  },
  {
   "cell_type": "code",
   "execution_count": 70,
   "id": "ca3b0f63-5ad9-4f01-ac6a-b454d337147c",
   "metadata": {},
   "outputs": [
    {
     "name": "stdout",
     "output_type": "stream",
     "text": [
      "Story: 8.5 /10 📖\n",
      "Acting: 9.0 /10 🎭\n",
      "Music: 7.5 /10 🎵\n"
     ]
    }
   ],
   "source": [
    "# Movie Rating 🎬\n",
    "story_rating, acting_rating, music_rating = 8.5, 9.0, 7.5\n",
    "print(\"Story:\", story_rating,\"/10 📖\")\n",
    "print(\"Acting:\", acting_rating,\"/10 🎭\" )\n",
    "print(\"Music:\", music_rating, \"/10 🎵\")\n"
   ]
  },
  {
   "cell_type": "code",
   "execution_count": 71,
   "id": "865dcdc5-8ff0-4f4a-993f-bde636a85a71",
   "metadata": {},
   "outputs": [
    {
     "name": "stdout",
     "output_type": "stream",
     "text": [
      "Followers: 16400 👥\n",
      "Flowing: 20 🔄\n",
      "Posts: 14 📝\n"
     ]
    }
   ],
   "source": [
    "followers, flowing, posts = 16400, 20, 14\n",
    "print(\"Followers:\", followers,  \"👥\")\n",
    "print(\"Flowing:\", flowing, \"🔄\")\n",
    "print(\"Posts:\", posts,  \"📝\")"
   ]
  },
  {
   "cell_type": "code",
   "execution_count": 72,
   "id": "42ac5988-c87f-4ac6-a3d2-0cb8e9f8c94d",
   "metadata": {},
   "outputs": [
    {
     "name": "stdout",
     "output_type": "stream",
     "text": [
      "From: Karachi 🏙️\n",
      "To: Dubai 🏝️\n",
      "Flight Duration: 2.5 hrs ⏳\n"
     ]
    }
   ],
   "source": [
    "# Traval Plans ✈️\n",
    "departure_city , arrival_city, flight_duration_hrs = \"Karachi\", \"Dubai\", 2.5\n",
    "print(\"From:\", departure_city,\"🏙️\" )\n",
    "print(\"To:\", arrival_city, \"🏝️\" )\n",
    "print(\"Flight Duration:\", flight_duration_hrs , \"hrs ⏳\" )"
   ]
  },
  {
   "cell_type": "code",
   "execution_count": 73,
   "id": "cd785671-698b-418a-87a8-96427b3906d7",
   "metadata": {},
   "outputs": [
    {
     "name": "stdout",
     "output_type": "stream",
     "text": [
      "Math: 93 /100 🧮\n",
      "Physics: 74 /100 ⚛️\n",
      "Chemistry: 88 /100 🧪\n",
      "Urdu: 99 /100 \n",
      "Islamiyat: 97 /100 🕌\n"
     ]
    }
   ],
   "source": [
    "# Exam Score 📄\n",
    "math_score, physics_score, chemistry_score , urdu_score, islamiyat_score = 93, 74, 88, 99, 97\n",
    "print(\"Math:\", math_score , \"/100 🧮\")\n",
    "print(\"Physics:\", physics_score, \"/100 ⚛️\")\n",
    "print(\"Chemistry:\", chemistry_score, \"/100 🧪\")\n",
    "print(\"Urdu:\", urdu_score , \"/100 \" )\n",
    "print(\"Islamiyat:\", islamiyat_score , \"/100 🕌\" )\n",
    "\n"
   ]
  },
  {
   "cell_type": "code",
   "execution_count": 75,
   "id": "f13f7a9c-7d71-425c-b5f9-ef642544a680",
   "metadata": {},
   "outputs": [
    {
     "name": "stdout",
     "output_type": "stream",
     "text": [
      "BREAK FAST: Paratha 🥞\n",
      "LUNCH: Chikan biryani 🍛\n",
      "DINNER: Salad 🥗\n"
     ]
    }
   ],
   "source": [
    "breakfast, lunch, dinner = \"Paratha\", \"Chikan biryani\", \"Salad\"\n",
    "print(\"BREAK FAST:\", breakfast,  \"🥞\")\n",
    "print(\"LUNCH:\", lunch,  \"🍛\")\n",
    "print(\"DINNER:\", dinner, \"🥗\")"
   ]
  },
  {
   "cell_type": "code",
   "execution_count": 76,
   "id": "6f95cd54-a2bb-435c-8154-33bbfb073ada",
   "metadata": {},
   "outputs": [
    {
     "name": "stdout",
     "output_type": "stream",
     "text": [
      "Red: Stop 🛑\n",
      "Yellow: Get Ready fucking man ⚠️\n",
      "Green: Let's Go ✅\n"
     ]
    }
   ],
   "source": [
    "# Trafic Lights Color 🚦\n",
    "red_light, yellow_light, green_light = \"Stop\", \"Get Ready fucking man\", \"Let's Go\"\n",
    "print(\"Red:\", red_light , \"🛑\")\n",
    "print(\"Yellow:\", yellow_light, \"⚠️\")\n",
    "print(\"Green:\", green_light, \"✅\" )"
   ]
  },
  {
   "cell_type": "code",
   "execution_count": 77,
   "id": "893d6441-3597-4f07-9016-7bac746655ba",
   "metadata": {},
   "outputs": [
    {
     "name": "stdout",
     "output_type": "stream",
     "text": [
      "RAM: 16 GB 🧠\n",
      "Storage: 512 GB 💾\n",
      "Processor Speed: 3.5 GHz ⚡\n"
     ]
    }
   ],
   "source": [
    "# Laptop Speces 💻\n",
    "ram_gb , storage_gb, processor_ghz = 16, 512, 3.5\n",
    "print(\"RAM:\", ram_gb, \"GB 🧠\" )\n",
    "print(\"Storage:\", storage_gb,  \"GB 💾\")\n",
    "print(\"Processor Speed:\", processor_ghz ,  \"GHz ⚡\")"
   ]
  },
  {
   "cell_type": "markdown",
   "id": "646bd8fd-407a-4b9a-9a48-3b46c704c13a",
   "metadata": {},
   "source": [
    "# 5. Using Variable in Expression "
   ]
  },
  {
   "cell_type": "code",
   "execution_count": 3,
   "id": "113eac20-2651-4aab-a655-440af2087654",
   "metadata": {},
   "outputs": [
    {
     "name": "stdout",
     "output_type": "stream",
     "text": [
      "Total Price: Rs. 1200 🛒\n",
      "Discount: Rs. 200 💸\n",
      "Final Price After Discount: 1000 ✅\n"
     ]
    }
   ],
   "source": [
    "# Shopping Discount  🛍️\n",
    "total_price = 1200\n",
    "discount = 200\n",
    "final_price = total_price - discount\n",
    "print(\"Total Price: Rs.\", total_price ,\"🛒\" )\n",
    "print(\"Discount: Rs.\", discount,\"💸\" )\n",
    "print(\"Final Price After Discount:\", final_price, \"✅\" )"
   ]
  },
  {
   "cell_type": "code",
   "execution_count": 5,
   "id": "cff90f8d-9ee1-4cb0-be41-065ee8d7c1d3",
   "metadata": {},
   "outputs": [
    {
     "name": "stdout",
     "output_type": "stream",
     "text": [
      "Basic Fare: Rs. 100 🚖\n",
      "Distance Fare: Rs 15 km X Rs 20\n",
      "Total Fare: Rs. 400 💰\n"
     ]
    }
   ],
   "source": [
    "# Taxi Fare Calculation 🚕\n",
    "basic_fare = 100\n",
    "distance_km = 15\n",
    "per_km_rate = 20\n",
    "total_fare = basic_fare + (distance_km * per_km_rate)\n",
    "print(\"Basic Fare: Rs.\", basic_fare , \"🚖\" )\n",
    "print(\"Distance Fare: Rs\", distance_km, \"km X Rs\", per_km_rate)\n",
    "print(\"Total Fare: Rs.\", total_fare,\"💰\" )"
   ]
  },
  {
   "cell_type": "code",
   "execution_count": 6,
   "id": "aebc42cc-d63e-40ff-9c81-a0316cea7e31",
   "metadata": {},
   "outputs": [
    {
     "name": "stdout",
     "output_type": "stream",
     "text": [
      "Gross Salary: Rs. 80000\n",
      "Tax Amount (15%) Rs. 12000.0\n",
      "Net Salary: Rs. 68000.0 💵\n"
     ]
    }
   ],
   "source": [
    "# Salary After Tax 💼\n",
    "salary = 80000\n",
    "tax_rate = 0.15\n",
    "tax_amount = salary * tax_rate\n",
    "net_salary = salary - tax_amount \n",
    "print(\"Gross Salary: Rs.\", salary)\n",
    "print(\"Tax Amount (15%) Rs.\", tax_amount)\n",
    "print(\"Net Salary: Rs.\", net_salary , \"💵\")"
   ]
  },
  {
   "cell_type": "code",
   "execution_count": 9,
   "id": "026ca5f6-192a-4603-9df6-e7c533ab8f45",
   "metadata": {},
   "outputs": [
    {
     "name": "stdout",
     "output_type": "stream",
     "text": [
      "Units Consumed: 350 kWh\n",
      "Rate Per Unit: Rs. 15\n",
      "Total Bill: 5250 per month ⚡\n"
     ]
    }
   ],
   "source": [
    "# Electricity Bill ⚡\n",
    "units_consumed = 350\n",
    "rate_per_unit = 15\n",
    "bill = units_consumed * rate_per_unit\n",
    "print(\"Units Consumed:\", units_consumed , \"kWh\")\n",
    "print(\"Rate Per Unit: Rs.\", rate_per_unit )\n",
    "print(\"Total Bill:\", bill, \"per month\", \"⚡\")"
   ]
  },
  {
   "cell_type": "code",
   "execution_count": 10,
   "id": "a107382c-7202-4a46-bf88-94b3a8eefd1d",
   "metadata": {},
   "outputs": [
    {
     "name": "stdout",
     "output_type": "stream",
     "text": [
      "Marks Obtained: 85\n",
      "Total Marks: 100\n",
      "Percentage: 85.0 % 🏆\n"
     ]
    }
   ],
   "source": [
    "# Exam Score Percentage 📊\n",
    "marks_obtained = 85\n",
    "total_marks = 100\n",
    "percentage = (marks_obtained / total_marks) * 100\n",
    "print(\"Marks Obtained:\", marks_obtained)\n",
    "print(\"Total Marks:\", total_marks )\n",
    "print(\"Percentage:\", percentage , \"% 🏆\")"
   ]
  },
  {
   "cell_type": "code",
   "execution_count": 11,
   "id": "b63a9d7a-aa12-412e-98c4-dbb51f254cce",
   "metadata": {},
   "outputs": [
    {
     "name": "stdout",
     "output_type": "stream",
     "text": [
      "Bill Amount: Rs. 1500\n",
      "Tip (10%): Rs. 150.0\n",
      "Total to Pay: Rs. 1650.0 💳\n"
     ]
    }
   ],
   "source": [
    "# Restaurant Bill with tips 🍽️\n",
    "bill_amount = 1500\n",
    "tip_percent = 0.1\n",
    "tip = bill_amount * tip_percent\n",
    "total_amount = bill_amount + tip\n",
    "print(\"Bill Amount: Rs.\", bill_amount)\n",
    "print(\"Tip (10%): Rs.\", tip)\n",
    "print(\"Total to Pay: Rs.\", total_amount , \"💳\")"
   ]
  },
  {
   "cell_type": "code",
   "execution_count": 14,
   "id": "3a711014-315c-4659-bddb-a986d218b2da",
   "metadata": {},
   "outputs": [
    {
     "name": "stdout",
     "output_type": "stream",
     "text": [
      "Monthly Income: Rs. 50000\n",
      "MOnthly Expenses: Rs. 35000\n",
      "Saving: 15000 💰\n",
      "Yearly Saving: Rs. 180000\n"
     ]
    }
   ],
   "source": [
    "# Saving Goals 🏦\n",
    "monthly_income = 50000\n",
    "monthly_expenses = 35000\n",
    "monthly_saving = monthly_income - monthly_expenses\n",
    "yearly_saving = monthly_saving * 12\n",
    "print(\"Monthly Income: Rs.\", monthly_income)\n",
    "print(\"MOnthly Expenses: Rs.\", monthly_expenses)\n",
    "print(\"Saving:\", saving ,  \"💰\")\n",
    "print(\"Yearly Saving: Rs.\", yearly_saving)"
   ]
  },
  {
   "cell_type": "code",
   "execution_count": 15,
   "id": "5def7633-baab-4cf7-a7ad-42e0f3629b76",
   "metadata": {},
   "outputs": [
    {
     "name": "stdout",
     "output_type": "stream",
     "text": [
      "Fuel Price Per Liters: Rs. 250\n",
      "Littes Filled in Car: 40 L\n",
      "Total Fuel Cost: Rs. 10000 ⛽\n"
     ]
    }
   ],
   "source": [
    "fuel_price_per_liters = 250\n",
    "litters_filled_in_car = 40\n",
    "total_cost = fuel_price_per_liters * litters_filled_in_car\n",
    "print(\"Fuel Price Per Liters: Rs.\", fuel_price_per_liters)\n",
    "print(\"Littes Filled in Car:\", litters_filled_in_car , \"L\")\n",
    "print(\"Total Fuel Cost: Rs.\", total_cost ,\"⛽\" )"
   ]
  },
  {
   "cell_type": "code",
   "execution_count": 16,
   "id": "73049bfc-82e4-49de-afb2-9e75f3a86100",
   "metadata": {},
   "outputs": [
    {
     "name": "stdout",
     "output_type": "stream",
     "text": [
      "Phone Price: Rs. 45000\n",
      "Discount: Rs. 5000\n",
      "Final Price: Rs. 40000 ✅\n"
     ]
    }
   ],
   "source": [
    "phone_price = 45000\n",
    "discount_offer = 5000\n",
    "final_price = phone_price - discount_offer\n",
    "print(\"Phone Price: Rs.\", phone_price)\n",
    "print(\"Discount: Rs.\", discount_offer)\n",
    "print(\"Final Price: Rs.\", final_price , \"✅\")"
   ]
  },
  {
   "cell_type": "markdown",
   "id": "7aabbe3f-3a74-4bfa-a1e4-93ecc64ccc91",
   "metadata": {},
   "source": [
    "# Variable with Different data Types"
   ]
  },
  {
   "cell_type": "code",
   "execution_count": 18,
   "id": "ad0ed378-0051-4374-8d37-70ec0af5d026",
   "metadata": {},
   "outputs": [
    {
     "name": "stdout",
     "output_type": "stream",
     "text": [
      "Name: Ayesha\n",
      "Age: 28\n",
      "Height: 5.9\n",
      "Merried: True\n"
     ]
    }
   ],
   "source": [
    "# Percenal Info 👧\n",
    "name = \"Ayesha\"  # string (str)\n",
    "age = 28      # integer (int)\n",
    "height = 5.9  # float(feet)\n",
    "is_merried = True  # Boolean\n",
    "print(\"Name:\", name )\n",
    "print(\"Age:\", age)\n",
    "print(\"Height:\", height)\n",
    "print(\"Merried:\", is_merried)"
   ]
  },
  {
   "cell_type": "code",
   "execution_count": 19,
   "id": "3accb0dc-33b2-4d13-ad54-a9917c3130bb",
   "metadata": {},
   "outputs": [
    {
     "name": "stdout",
     "output_type": "stream",
     "text": [
      "Prodect ID: 101\n",
      "Price: 499.99\n",
      "Prodect Name: Headphones\n",
      "In Stock: True\n"
     ]
    }
   ],
   "source": [
    "# Prodect Details 🛒\n",
    "prodect_id = 101       # integer (int)\n",
    "price = 499.99         # float \n",
    "prodect_name = \"Headphones\"  # string (str)\n",
    "in_stock = True      # Boolean\n",
    "print(\"Prodect ID:\", prodect_id)\n",
    "print(\"Price:\", price)\n",
    "print(\"Prodect Name:\", prodect_name)\n",
    "print(\"In Stock:\", in_stock)"
   ]
  },
  {
   "cell_type": "code",
   "execution_count": 1,
   "id": "1df24307-98e2-4539-aae9-e6f5c061f425",
   "metadata": {},
   "outputs": [
    {
     "name": "stdout",
     "output_type": "stream",
     "text": [
      "Account Number: 123456\n",
      "Balance :  15000.5\n",
      "Account Holder: Sher Khan\n",
      "In Active: True\n"
     ]
    }
   ],
   "source": [
    "# Bank Account 🏦\n",
    "account_number = 123456   # integer (int)\n",
    "balance  = 15000.50    # float\n",
    "account_holder =  \"Sher Khan\"  # String (str)\n",
    "in_active = True          # Boolean\n",
    "print(\"Account Number:\", account_number)\n",
    "print(\"Balance : \", balance )\n",
    "print(\"Account Holder:\", account_holder)\n",
    "print(\"In Active:\", in_active)"
   ]
  },
  {
   "cell_type": "code",
   "execution_count": 4,
   "id": "66a1b1a7-a131-490d-992c-c350a1551337",
   "metadata": {},
   "outputs": [
    {
     "name": "stdout",
     "output_type": "stream",
     "text": [
      "Temperature: 36 °C\n",
      "Humidity: 75.5 %\n",
      "Condition: Sunny\n",
      "Rain Expected: False\n"
     ]
    }
   ],
   "source": [
    "# Weather Report 🌤️\n",
    "temperature_c = 36 # integer (int)\n",
    "humidity_percent = 75.5 # float \n",
    "condition = \"Sunny\"   # String (str)\n",
    "is_rained_expected = False  # Boolean\n",
    "print(\"Temperature:\", temperature_c, \"°C\")\n",
    "print(\"Humidity:\", humidity_percent,\"%\")\n",
    "print(\"Condition:\", condition , )\n",
    "print(\"Rain Expected:\", is_rained_expected)"
   ]
  },
  {
   "cell_type": "code",
   "execution_count": 5,
   "id": "5b6530cb-9506-4ced-b9a3-bad1f97a2ce3",
   "metadata": {},
   "outputs": [
    {
     "name": "stdout",
     "output_type": "stream",
     "text": [
      "Event ID: 450\n",
      "ticket_price: 1200.5\n",
      "event_name: Music Concert\n",
      "Ticket Availabel: True\n"
     ]
    }
   ],
   "source": [
    "# Event Info 🎉\n",
    "event_id = 450  # Integer (int)\n",
    "ticket_price = 1200.5  # Float \n",
    "event_name = \"Music Concert\"   # String (str)\n",
    "ticket_available = True  # Boolean\n",
    "print(\"Event ID:\", event_id)\n",
    "print(\"ticket_price:\", ticket_price)\n",
    "print(\"event_name:\", event_name)\n",
    "print(\"Ticket Availabel:\", ticket_available)"
   ]
  },
  {
   "cell_type": "code",
   "execution_count": 6,
   "id": "0ac5866e-0ad0-4c37-892d-11c6f46ad366",
   "metadata": {},
   "outputs": [
    {
     "name": "stdout",
     "output_type": "stream",
     "text": [
      "Year: 2024\n",
      "Engine Capacity: 2.6 L\n",
      "Model: Toyota Corrola\n",
      "Insured: True\n"
     ]
    }
   ],
   "source": [
    "# Vehicle Info 🚗\n",
    "vehicle_year = 2024  # integer (int)\n",
    "engine_capacity = 2.6  # float (litters)\n",
    "model_name = \"Toyota Corrola\"  # string (str)\n",
    "is_insured = True   # Boolean\n",
    "print(\"Year:\", vehicle_year)\n",
    "print(\"Engine Capacity:\", engine_capacity, \"L\")\n",
    "print(\"Model:\", model_name)\n",
    "print(\"Insured:\", is_insured)"
   ]
  },
  {
   "cell_type": "code",
   "execution_count": 8,
   "id": "98ee06ff-9028-4ff6-b756-bad24d75ec47",
   "metadata": {},
   "outputs": [
    {
     "name": "stdout",
     "output_type": "stream",
     "text": [
      "Roll Number: 154334\n",
      "CGPA: 3.75\n",
      "Student Name: Sara\n",
      "Passed: True\n"
     ]
    }
   ],
   "source": [
    "# Student Record 🎓\n",
    "student_roll_number = 154334  #integer (int)\n",
    "cgpa = 3.75  # float\n",
    "student_name = \"Sara\"  # String (str)\n",
    "passed = True  # Boolean\n",
    "print(\"Roll Number:\", student_roll_number)\n",
    "print(\"CGPA:\", cgpa)\n",
    "print(\"Student Name:\", student_name)\n",
    "print(\"Passed:\", passed)"
   ]
  },
  {
   "cell_type": "code",
   "execution_count": 9,
   "id": "c84e52c9-633e-4920-b208-0c8ba4bc0ba5",
   "metadata": {},
   "outputs": [
    {
     "name": "stdout",
     "output_type": "stream",
     "text": [
      "Poat ID: 985\n",
      "Likes: 1500.0\n",
      "Caption: Enjoying the sunset!\n",
      "Public Post: True\n"
     ]
    }
   ],
   "source": [
    "# Social Media Post 📱\n",
    "post_id = 985  # integer (int)\n",
    "likes = 1500.0 # float\n",
    "caption = \"Enjoying the sunset!\" # String (str)\n",
    "is_public = True # Boolean\n",
    "print(\"Poat ID:\", post_id)\n",
    "print(\"Likes:\", likes)\n",
    "print(\"Caption:\", caption)\n",
    "print(\"Public Post:\", is_public)"
   ]
  },
  {
   "cell_type": "code",
   "execution_count": 10,
   "id": "9a5db91b-5148-4952-af69-5d2678f0ca7d",
   "metadata": {},
   "outputs": [
    {
     "name": "stdout",
     "output_type": "stream",
     "text": [
      "Items: 20\n",
      "Total Cost: 50500.3\n",
      "Owner: Sher Khan\n",
      "Checked Out: False\n"
     ]
    }
   ],
   "source": [
    "# Shopping Cart Cart \n",
    "items_count = 20  # integer (int)\n",
    "total_cost = 50500.3  # Float \n",
    "cart_owner = \"Sher Khan\"  # String\n",
    "is_checked_out = False   # Boolean\n",
    "print(\"Items:\", items_count)\n",
    "print(\"Total Cost:\", total_cost)\n",
    "print(\"Owner:\", cart_owner)\n",
    "print(\"Checked Out:\", is_checked_out)"
   ]
  },
  {
   "cell_type": "code",
   "execution_count": 11,
   "id": "ec57c198-67e9-406c-956c-661cde8d9d56",
   "metadata": {},
   "outputs": [
    {
     "name": "stdout",
     "output_type": "stream",
     "text": [
      "Flight Number: 640\n",
      "Distance: 1500.5\n",
      "Destination: Dubai\n",
      "On Time: True\n"
     ]
    }
   ],
   "source": [
    "# flight info ✈\n",
    "fligh_number = 640\n",
    "distance_km = 1500.5\n",
    "destination = \"Dubai\"\n",
    "on_time = True\n",
    "print(\"Flight Number:\", fligh_number)\n",
    "print(\"Distance:\", distance_km)\n",
    "print(\"Destination:\", destination)\n",
    "print(\"On Time:\", on_time)"
   ]
  },
  {
   "cell_type": "code",
   "execution_count": 12,
   "id": "9cd55b1b-b570-4ea4-8411-91c3b5bc1052",
   "metadata": {},
   "outputs": [],
   "source": [
    "# Fitness Tracker 🏃‍♂️"
   ]
  },
  {
   "cell_type": "code",
   "execution_count": 13,
   "id": "3cdc1bd4-f7f7-4de8-87ba-80ca7e129349",
   "metadata": {},
   "outputs": [
    {
     "name": "stdout",
     "output_type": "stream",
     "text": [
      "Steps: 7500\n",
      "Calories Burned: 450.75\n",
      "Status Message: Feeling great!\n",
      "Goal Achieved: False\n"
     ]
    }
   ],
   "source": [
    "daily_steps = 7500 # Integer\n",
    "calories_burned = 450.75  # float\n",
    "status_message = \"Feeling great!\"  # String\n",
    "goal_achieved = False   # Boolean\n",
    "print(\"Steps:\", daily_steps)\n",
    "print(\"Calories Burned:\", calories_burned)\n",
    "print(\"Status Message:\", status_message)\n",
    "print(\"Goal Achieved:\", goal_achieved)"
   ]
  },
  {
   "cell_type": "code",
   "execution_count": 14,
   "id": "f65799d7-3846-4dd4-880f-c8bf0906301f",
   "metadata": {},
   "outputs": [
    {
     "name": "stdout",
     "output_type": "stream",
     "text": [
      "Room Number: 101\n",
      "Room Price Per Night🌃: Rs. 2500.0\n",
      "Guest Name: Maria 👩\n",
      "Checked In: True\n",
      "After Maria Situation in One Night: 🤰\n"
     ]
    }
   ],
   "source": [
    "# Hotel Booking 🏨\n",
    "room_number = 101  #integer (int)\n",
    "room_price = 2500.0 # Float\n",
    "guest_name = \"Maria\" # String\n",
    "checked_in = True   # Boolean\n",
    "print(\"Room Number:\", room_number)\n",
    "print(\"Room Price Per Night🌃: Rs.\", room_price )\n",
    "print(\"Guest Name:\", guest_name, \"👩\")\n",
    "print(\"Checked In:\", checked_in)\n",
    "print(\"After Maria Situation in One Night: 🤰\")"
   ]
  },
  {
   "cell_type": "code",
   "execution_count": 16,
   "id": "2b30ca32-9bea-4618-b4e8-e9eb797b7ee2",
   "metadata": {},
   "outputs": [
    {
     "name": "stdout",
     "output_type": "stream",
     "text": [
      "Book ID: 345\n",
      "Price: Rs. 499.9\n",
      "Title: The alchemist\n",
      "Available: True\n"
     ]
    }
   ],
   "source": [
    "# Book Store 📚\n",
    "book_id = 345 # integer (int)\n",
    "price = 499.9  # float \n",
    "title = \"The alchemist\"  # String (str)\n",
    "available = True  # Boolean\n",
    "print(\"Book ID:\", book_id)\n",
    "print(\"Price: Rs.\", price )\n",
    "print(\"Title:\", title)\n",
    "print(\"Available:\", available)"
   ]
  },
  {
   "cell_type": "code",
   "execution_count": 17,
   "id": "84e3349e-3520-49ff-aebc-c4b28c5bee06",
   "metadata": {},
   "outputs": [
    {
     "name": "stdout",
     "output_type": "stream",
     "text": [
      "Loan ID: 1023\n",
      "Loan Amount: 5000000.0\n",
      "Borrower Name: Imran\n",
      "Approved: False\n"
     ]
    }
   ],
   "source": [
    "# Bank Loan 💰\n",
    "loan_id = 1023  # integer (int)\n",
    "loan_amount = 5000000.0  # Float\n",
    "borrower_name = \"Imran\"   # String\n",
    "approved = False   # Boolean\n",
    "print(\"Loan ID:\", loan_id)\n",
    "print(\"Loan Amount:\", loan_amount)\n",
    "print(\"Borrower Name:\", borrower_name)\n",
    "print(\"Approved:\", approved)"
   ]
  },
  {
   "cell_type": "code",
   "execution_count": 20,
   "id": "e53fb97e-9cc5-4942-8ebc-41c85255e52e",
   "metadata": {},
   "outputs": [
    {
     "name": "stdout",
     "output_type": "stream",
     "text": [
      "Temperature: 29 °C\n",
      "Rain Chance: 75.5 %\n",
      "Forecast: Cloudy\n",
      "Umbrella Needed: True\n"
     ]
    }
   ],
   "source": [
    "# Weather Forcast  🌦️\n",
    "temperature = 29  # Integer (int)\n",
    "rain_chance  = 75.5  # Float\n",
    "forecast = \"Cloudy\"  # String \n",
    "umbrella_needed = True  # Boolean\n",
    "print(\"Temperature:\", temperature, \"°C\")\n",
    "print(\"Rain Chance:\", rain_chance, \"%\")\n",
    "print(\"Forecast:\", forecast)\n",
    "print(\"Umbrella Needed:\", umbrella_needed)"
   ]
  },
  {
   "cell_type": "markdown",
   "id": "9f7efcd7-4f39-4c8f-8608-fa324a8348c6",
   "metadata": {},
   "source": [
    "\n",
    "# 6. Operations with Different Data Types\n"
   ]
  },
  {
   "cell_type": "code",
   "execution_count": 3,
   "id": "0a5fcf53-9375-4c7e-bd47-9f6527a87fde",
   "metadata": {},
   "outputs": [
    {
     "name": "stdout",
     "output_type": "stream",
     "text": [
      "Total Cost: Rs. 2499.95\n",
      "Total items Purchased: 5\n"
     ]
    }
   ],
   "source": [
    "# 1. Shopping Cart Summary 🛒\n",
    "num_items = 5  #int\n",
    "price_per_items = 499.99  # float\n",
    "total_cost = num_items * price_per_items\n",
    "message = \"Total items Purchased:\"\n",
    "greeting = message +\" \"+ str(num_items)\n",
    "print(\"Total Cost: Rs.\", total_cost)\n",
    "print(greeting)\n"
   ]
  },
  {
   "cell_type": "code",
   "execution_count": 6,
   "id": "4faf248f-b13a-4f37-a9f6-fc5379f1870c",
   "metadata": {},
   "outputs": [
    {
     "name": "stdout",
     "output_type": "stream",
     "text": [
      "Sum of age and height: 30.7\n",
      "User age is: 25 years\n"
     ]
    }
   ],
   "source": [
    "# 2. Age & Height Info 👤\n",
    "age = 25 # int\n",
    "height = 5.7 # float\n",
    "info = \"User age is:\"\n",
    "final_message = info + \" \" + str(age)+ \" \"+ \"years\"\n",
    "total_measure = age + height\n",
    "print(\"Sum of age and height:\", total_measure)\n",
    "print(final_message)"
   ]
  },
  {
   "cell_type": "markdown",
   "id": "4a91b0b6-a654-4043-aa37-51d57ea4fa0e",
   "metadata": {},
   "source": [
    "# Variable Operation "
   ]
  },
  {
   "cell_type": "code",
   "execution_count": 2,
   "id": "42edc2ec-ad9a-4f0b-9b5c-9ae137fb6253",
   "metadata": {},
   "outputs": [],
   "source": [
    "price = 2790"
   ]
  },
  {
   "cell_type": "code",
   "execution_count": 4,
   "id": "7634e15b-6b9d-486b-ba47-ecf5ebfc0b15",
   "metadata": {},
   "outputs": [],
   "source": [
    "per_discount = 7"
   ]
  },
  {
   "cell_type": "code",
   "execution_count": 15,
   "id": "b29745cb-aebf-4e2e-bace-8ab4876cf6ab",
   "metadata": {},
   "outputs": [],
   "source": [
    "total = price - price *.07"
   ]
  },
  {
   "cell_type": "code",
   "execution_count": 16,
   "id": "500d0849-3b0d-4e00-b3ec-025e13643a50",
   "metadata": {},
   "outputs": [
    {
     "name": "stdout",
     "output_type": "stream",
     "text": [
      "12.714030000000003\n"
     ]
    }
   ],
   "source": [
    "print(total)"
   ]
  },
  {
   "cell_type": "code",
   "execution_count": null,
   "id": "7ba29205-b3e2-474d-b46a-734aac68f7c5",
   "metadata": {},
   "outputs": [],
   "source": []
  },
  {
   "cell_type": "code",
   "execution_count": 9,
   "id": "516a8020-a77e-4c8a-9351-e0c0d27aa7fa",
   "metadata": {},
   "outputs": [],
   "source": [
    "total_marks = 800\n",
    "obtained_marks = 750\n",
    "percentage =  obtained_marks / 800 * 100"
   ]
  },
  {
   "cell_type": "code",
   "execution_count": 10,
   "id": "13750e20-c387-4c4a-a52f-1ccbb18f0485",
   "metadata": {},
   "outputs": [
    {
     "name": "stdout",
     "output_type": "stream",
     "text": [
      "93.75\n"
     ]
    }
   ],
   "source": [
    "print(percentage)"
   ]
  },
  {
   "cell_type": "code",
   "execution_count": 11,
   "id": "b4e71b9d-dc60-454c-8412-3c35432d4f0e",
   "metadata": {},
   "outputs": [
    {
     "data": {
      "text/plain": [
       "195.0"
      ]
     },
     "execution_count": 11,
     "metadata": {},
     "output_type": "execute_result"
    }
   ],
   "source": [
    "780*.25"
   ]
  },
  {
   "cell_type": "code",
   "execution_count": 12,
   "id": "1ada85ee-3573-4006-90f3-f10d8fbf88db",
   "metadata": {},
   "outputs": [
    {
     "data": {
      "text/plain": [
       "399.3"
      ]
     },
     "execution_count": 12,
     "metadata": {},
     "output_type": "execute_result"
    }
   ],
   "source": [
    "3993 *.10"
   ]
  },
  {
   "cell_type": "code",
   "execution_count": 17,
   "id": "c480ecd4-4053-428c-8cb8-5892987440f2",
   "metadata": {},
   "outputs": [
    {
     "name": "stdout",
     "output_type": "stream",
     "text": [
      "500\n"
     ]
    }
   ],
   "source": [
    "val1 = 500\n",
    "print(val1)"
   ]
  },
  {
   "cell_type": "code",
   "execution_count": 18,
   "id": "87593db7-1085-4839-80a6-b558e84155a6",
   "metadata": {},
   "outputs": [
    {
     "name": "stdout",
     "output_type": "stream",
     "text": [
      "1500\n"
     ]
    }
   ],
   "source": [
    "val2 = val1 * 3\n",
    "print(val2)"
   ]
  },
  {
   "cell_type": "markdown",
   "id": "03716ca1-99e6-48f1-90dc-53adf88edc03",
   "metadata": {},
   "source": [
    "# Primitive Data Types: String , Integer, Float, Bool"
   ]
  },
  {
   "cell_type": "markdown",
   "id": "ec7bf1d5-3a07-4a9d-8624-391687840ced",
   "metadata": {},
   "source": [
    "# str(String)"
   ]
  },
  {
   "cell_type": "code",
   "execution_count": 21,
   "id": "3054db6f-7228-4555-b2f8-969128aeb49e",
   "metadata": {},
   "outputs": [],
   "source": [
    "courses = \"Artificial Intelligence and Data Science\""
   ]
  },
  {
   "cell_type": "code",
   "execution_count": 22,
   "id": "ff6d6ce2-ff9a-41a9-9405-ebcf40058b7d",
   "metadata": {},
   "outputs": [
    {
     "name": "stdout",
     "output_type": "stream",
     "text": [
      "<class 'str'>\n"
     ]
    }
   ],
   "source": [
    "print(type(courses))"
   ]
  },
  {
   "cell_type": "code",
   "execution_count": 23,
   "id": "fdf3aa54-e96a-4774-9086-bb06195829aa",
   "metadata": {},
   "outputs": [
    {
     "data": {
      "text/plain": [
       "'Artificial intelligence and data science'"
      ]
     },
     "execution_count": 23,
     "metadata": {},
     "output_type": "execute_result"
    }
   ],
   "source": [
    "courses.capitalize()"
   ]
  },
  {
   "cell_type": "code",
   "execution_count": 24,
   "id": "74d5e32e-3720-4d1a-ab88-3496adcb008a",
   "metadata": {},
   "outputs": [
    {
     "data": {
      "text/plain": [
       "'artificial intelligence and data science'"
      ]
     },
     "execution_count": 24,
     "metadata": {},
     "output_type": "execute_result"
    }
   ],
   "source": [
    "courses.casefold()"
   ]
  },
  {
   "cell_type": "code",
   "execution_count": 28,
   "id": "1a18e582-5488-4184-8fd0-6e32edfaf972",
   "metadata": {},
   "outputs": [
    {
     "data": {
      "text/plain": [
       "'Artificial Intelligence and Data Science'"
      ]
     },
     "execution_count": 28,
     "metadata": {},
     "output_type": "execute_result"
    }
   ],
   "source": [
    "courses"
   ]
  },
  {
   "cell_type": "code",
   "execution_count": 29,
   "id": "923d1c99-ab24-4ac5-806b-49d252ee7b0a",
   "metadata": {},
   "outputs": [
    {
     "data": {
      "text/plain": [
       "'ARTIFICIAL INTELLIGENCE AND DATA SCIENCE'"
      ]
     },
     "execution_count": 29,
     "metadata": {},
     "output_type": "execute_result"
    }
   ],
   "source": [
    "courses.upper()"
   ]
  },
  {
   "cell_type": "code",
   "execution_count": 30,
   "id": "c1ff15ed-82f2-495e-a4d1-b09888d24e9f",
   "metadata": {},
   "outputs": [
    {
     "data": {
      "text/plain": [
       "'Artificial Intelligence and Data Science'"
      ]
     },
     "execution_count": 30,
     "metadata": {},
     "output_type": "execute_result"
    }
   ],
   "source": [
    "courses"
   ]
  },
  {
   "cell_type": "code",
   "execution_count": 31,
   "id": "9119f369-502b-4a7f-b44a-39e0d63585c2",
   "metadata": {},
   "outputs": [
    {
     "name": "stdout",
     "output_type": "stream",
     "text": [
      "ARTIFICIAL INTELLIGENCE AND DATA SCIENCE\n"
     ]
    }
   ],
   "source": [
    "capitalize_var = courses.upper()\n",
    "print(capitalize_var)"
   ]
  },
  {
   "cell_type": "code",
   "execution_count": 32,
   "id": "c551aa88-ff3c-4fe3-9e1b-d29f0e35bac5",
   "metadata": {},
   "outputs": [
    {
     "data": {
      "text/plain": [
       "'ARTIFICIAL INTELLIGENCE AND DATA SCIENCE'"
      ]
     },
     "execution_count": 32,
     "metadata": {},
     "output_type": "execute_result"
    }
   ],
   "source": [
    "capitalize_var"
   ]
  },
  {
   "cell_type": "code",
   "execution_count": 33,
   "id": "0d0caaaf-d816-4621-a88f-41658b714891",
   "metadata": {},
   "outputs": [
    {
     "data": {
      "text/plain": [
       "'Artificial Intelligence and Data Science'"
      ]
     },
     "execution_count": 33,
     "metadata": {},
     "output_type": "execute_result"
    }
   ],
   "source": [
    "courses"
   ]
  },
  {
   "cell_type": "code",
   "execution_count": 34,
   "id": "1592af73-02b6-4e39-9041-7d011df54af6",
   "metadata": {},
   "outputs": [
    {
     "data": {
      "text/plain": [
       "5"
      ]
     },
     "execution_count": 34,
     "metadata": {},
     "output_type": "execute_result"
    }
   ],
   "source": [
    "courses.count(\"i\")"
   ]
  },
  {
   "cell_type": "code",
   "execution_count": 35,
   "id": "bed1f7e3-f8f5-4ccc-a335-75ace37a6106",
   "metadata": {},
   "outputs": [
    {
     "data": {
      "text/plain": [
       "1"
      ]
     },
     "execution_count": 35,
     "metadata": {},
     "output_type": "execute_result"
    }
   ],
   "source": [
    "courses.count(\"and\")"
   ]
  },
  {
   "cell_type": "code",
   "execution_count": 36,
   "id": "a8670a9c-0bcf-46c5-8aea-da471f0c691b",
   "metadata": {},
   "outputs": [
    {
     "data": {
      "text/plain": [
       "1"
      ]
     },
     "execution_count": 36,
     "metadata": {},
     "output_type": "execute_result"
    }
   ],
   "source": [
    "courses.count(\"ta\")"
   ]
  },
  {
   "cell_type": "code",
   "execution_count": 37,
   "id": "91bd3121-ffbd-40c5-adc7-2abfd65fb0a3",
   "metadata": {},
   "outputs": [
    {
     "name": "stdin",
     "output_type": "stream",
     "text": [
      "Enter Your Name: Noman Khan\n",
      "Enter Your Father Name: Muhammad Qasim\n",
      "Enter Your Student ID: 202301\n",
      "Enter your course name: Artificial Intelligence And Data Science\n",
      "Enter your age: 20\n",
      "Enter your Institute name: Zaitoon Ashraf IT Park\n"
     ]
    },
    {
     "name": "stdout",
     "output_type": "stream",
     "text": [
      "\n",
      "                 Student Identity Card \n",
      "           +++++++++++++++++++++++++++++++++++\n",
      "           Student Name:  Noman Khan\n",
      "           Father Name: Muhammad Qasim\n",
      "           Student ID: Artificial Intelligence and Data Science\n",
      "           Age:   20\n",
      "           Institute Name : Zaitoon Ashraf IT Park\n",
      "           \n"
     ]
    }
   ],
   "source": [
    "student_name = input(\"Enter Your Name:\")\n",
    "father_name = input(\"Enter Your Father Name:\")\n",
    "student_id = input(\"Enter Your Student ID:\")\n",
    "course = input(\"Enter your course name:\")\n",
    "age = int(input(\"Enter your age:\"))\n",
    "Institute_name = input(\"Enter your Institute name:\")\n",
    "\n",
    "print(f\"\"\"\n",
    "                 Student Identity Card \n",
    "           +++++++++++++++++++++++++++++++++++\n",
    "           Student Name:  {student_name}\n",
    "           Father Name: {father_name}\n",
    "           Student ID: {courses}\n",
    "           Age:   {age}\n",
    "           Institute Name : {Institute_name}\n",
    "           \"\"\")"
   ]
  },
  {
   "cell_type": "markdown",
   "id": "b46ba622-b236-4604-9c84-c35e7c0678eb",
   "metadata": {},
   "source": [
    "# Conditional Statements\n",
    "  - if-else statement\n",
    "  - if clause\n"
   ]
  },
  {
   "cell_type": "code",
   "execution_count": null,
   "id": "6b8ab2e3-ea51-4d94-af38-bae92927702d",
   "metadata": {},
   "outputs": [],
   "source": [
    "a = 12\n",
    "if a % 2 == 0:\n",
    "    print(\"A is Even Number\")\n",
    "    "
   ]
  },
  {
   "cell_type": "code",
   "execution_count": null,
   "id": "4602641b-afdc-4d75-bdbd-43ecee9ca176",
   "metadata": {},
   "outputs": [],
   "source": []
  },
  {
   "cell_type": "code",
   "execution_count": null,
   "id": "d977f8cf-7eb8-45f3-96e7-5fb0e240c0fc",
   "metadata": {},
   "outputs": [],
   "source": []
  },
  {
   "cell_type": "code",
   "execution_count": null,
   "id": "cbef49c6-e526-4349-9b17-0f115e2bb3db",
   "metadata": {},
   "outputs": [],
   "source": []
  },
  {
   "cell_type": "code",
   "execution_count": null,
   "id": "fbad5b86-63f2-4c37-bf47-599630967b75",
   "metadata": {},
   "outputs": [],
   "source": []
  },
  {
   "cell_type": "code",
   "execution_count": null,
   "id": "2d363f46-849e-409c-9d8b-4e0c864363a9",
   "metadata": {},
   "outputs": [],
   "source": []
  },
  {
   "cell_type": "code",
   "execution_count": null,
   "id": "61f6d7bf-ca6e-4925-b262-d7a0e4e91522",
   "metadata": {},
   "outputs": [],
   "source": []
  }
 ],
 "metadata": {
  "kernelspec": {
   "display_name": "Python 3 (ipykernel)",
   "language": "python",
   "name": "python3"
  },
  "language_info": {
   "codemirror_mode": {
    "name": "ipython",
    "version": 3
   },
   "file_extension": ".py",
   "mimetype": "text/x-python",
   "name": "python",
   "nbconvert_exporter": "python",
   "pygments_lexer": "ipython3",
   "version": "3.12.7"
  }
 },
 "nbformat": 4,
 "nbformat_minor": 5
}
